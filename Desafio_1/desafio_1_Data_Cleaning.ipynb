{
 "cells": [
  {
   "cell_type": "markdown",
   "metadata": {},
   "source": [
    "# DESAFIO 1 - GRUPO 5\n",
    "\n",
    "Integrantes: Carolina Villa - Manuel Casella - Joaquin Vera - Guido Delfino - Martín Munoa - Fabricio Neyra\n",
    "\n",
    "Análisis exploratorio de un dataset de precios de propiedades\n",
    "\n",
    "\n",
    "Objetivos:\n",
    "\n",
    "    ● Efectuar una limpieza del dataset provisto. Particularmente, deberá diseñar\n",
    "      estrategias para lidiar con los datos perdidos en ciertas variables.\n",
    "      \n",
    "    ● Realizar un análisis descriptivo de las principales variables.\n",
    "    \n",
    "    ● Crear nuevas columnas a partir de las características dadas que puedan tener valor\n",
    "      predictivo."
   ]
  },
  {
   "cell_type": "markdown",
   "metadata": {},
   "source": [
    "# Índice:\n",
    "\n",
    "[Importación de librerías](#section_librerias)\n",
    "\n",
    "[Importación y exploración inicial del dataset](#section_dataset) \n",
    "\n",
    "[Lineamientos de trabajo](#section_lineamientos)\n",
    "\n",
    "[Filtro de dataset por property_type](#section_apartment)\n",
    "\n",
    "[Depuración de columnas place_name, place_with_parent_names, country_name y state_name](#section_place)\n",
    "\n",
    "[Mapa interactivo de Properati](#section_map)\n",
    "\n",
    "[Analisis exploratorio de la columna \"description\"](#section_description)\n",
    "\n",
    "[Depuración de columnas price, currency, price_aprox_local_currency, price_aprox_usd](#section_price)\n",
    "\n",
    "[Depuración de columnas surface_total_in_m2 y surface_covered_in_m2](#section_m2)\n",
    "\n",
    "[Depuración Price_usd_per_m2](#section_m2price)\n",
    "\n",
    "[Depuración de columna floor](#section_floor)\n",
    "\n",
    "[Depuración de columna expenses](#section_expenses)\n",
    "\n",
    "[Nueva información a partir de la columna description](#section_nuevos_datos)\n",
    "\n",
    "[Análisis final del dataset](#section_analisis_final)\n"
   ]
  },
  {
   "cell_type": "markdown",
   "metadata": {},
   "source": [
    "<a id=\"section_librerias\"></a> \n",
    "\n",
    "# Importación de librerías\n"
   ]
  },
  {
   "cell_type": "code",
   "execution_count": 1,
   "metadata": {},
   "outputs": [
    {
     "name": "stdout",
     "output_type": "stream",
     "text": [
      "Collecting package metadata (current_repodata.json): ...working... done\n",
      "Solving environment: ...working... done\n",
      "\n",
      "# All requested packages already installed.\n",
      "\n",
      "\n",
      "Note: you may need to restart the kernel to use updated packages.\n"
     ]
    },
    {
     "name": "stderr",
     "output_type": "stream",
     "text": [
      "\n",
      "\n",
      "==> WARNING: A newer version of conda exists. <==\n",
      "  current version: 4.8.3\n",
      "  latest version: 4.9.2\n",
      "\n",
      "Please update conda by running\n",
      "\n",
      "    $ conda update -n base -c defaults conda\n",
      "\n",
      "\n"
     ]
    }
   ],
   "source": [
    "conda install folium -c conda-forge"
   ]
  },
  {
   "cell_type": "code",
   "execution_count": 22,
   "metadata": {},
   "outputs": [],
   "source": [
    "import numpy as np\n",
    "import pandas as pd\n",
    "import re\n",
    "import matplotlib.pyplot as plt\n",
    "import seaborn as sns\n",
    "%matplotlib inline\n",
    "import os\n",
    "import folium\n",
    "import warnings\n",
    "warnings.filterwarnings('ignore')\n"
   ]
  },
  {
   "cell_type": "markdown",
   "metadata": {},
   "source": [
    "_________________________________________________________________________________________________________"
   ]
  },
  {
   "cell_type": "markdown",
   "metadata": {},
   "source": [
    "<a id=\"section_dataset\"></a> \n",
    "\n",
    "# Importación y exploración inicial del dataset\n",
    "\n",
    "Importamos el dataset \"properati.csv\". Para eso utilizamos el método read_csv.\n",
    "Luego analizamos la cantidad de filas, las columnas y el tipo de datos de cada una de ellas. Además, visualizamos cantidad de nulos por columna en el gráfico de barras\n",
    "\n",
    "."
   ]
  },
  {
   "cell_type": "code",
   "execution_count": 23,
   "metadata": {},
   "outputs": [
    {
     "name": "stdout",
     "output_type": "stream",
     "text": [
      "<class 'pandas.core.frame.DataFrame'>\n",
      "RangeIndex: 121220 entries, 0 to 121219\n",
      "Data columns (total 26 columns):\n",
      " #   Column                      Non-Null Count   Dtype  \n",
      "---  ------                      --------------   -----  \n",
      " 0   Unnamed: 0                  121220 non-null  int64  \n",
      " 1   operation                   121220 non-null  object \n",
      " 2   property_type               121220 non-null  object \n",
      " 3   place_name                  121197 non-null  object \n",
      " 4   place_with_parent_names     121220 non-null  object \n",
      " 5   country_name                121220 non-null  object \n",
      " 6   state_name                  121220 non-null  object \n",
      " 7   geonames_id                 102503 non-null  float64\n",
      " 8   lat-lon                     69670 non-null   object \n",
      " 9   lat                         69670 non-null   float64\n",
      " 10  lon                         69670 non-null   float64\n",
      " 11  price                       100810 non-null  float64\n",
      " 12  currency                    100809 non-null  object \n",
      " 13  price_aprox_local_currency  100810 non-null  float64\n",
      " 14  price_aprox_usd             100810 non-null  float64\n",
      " 15  surface_total_in_m2         81892 non-null   float64\n",
      " 16  surface_covered_in_m2       101313 non-null  float64\n",
      " 17  price_usd_per_m2            68617 non-null   float64\n",
      " 18  price_per_m2                87658 non-null   float64\n",
      " 19  floor                       7899 non-null    float64\n",
      " 20  rooms                       47390 non-null   float64\n",
      " 21  expenses                    14262 non-null   float64\n",
      " 22  properati_url               121220 non-null  object \n",
      " 23  description                 121218 non-null  object \n",
      " 24  title                       121220 non-null  object \n",
      " 25  image_thumbnail             118108 non-null  object \n",
      "dtypes: float64(13), int64(1), object(12)\n",
      "memory usage: 24.0+ MB\n",
      "None\n"
     ]
    },
    {
     "data": {
      "text/html": [
       "<div>\n",
       "<style scoped>\n",
       "    .dataframe tbody tr th:only-of-type {\n",
       "        vertical-align: middle;\n",
       "    }\n",
       "\n",
       "    .dataframe tbody tr th {\n",
       "        vertical-align: top;\n",
       "    }\n",
       "\n",
       "    .dataframe thead th {\n",
       "        text-align: right;\n",
       "    }\n",
       "</style>\n",
       "<table border=\"1\" class=\"dataframe\">\n",
       "  <thead>\n",
       "    <tr style=\"text-align: right;\">\n",
       "      <th></th>\n",
       "      <th>Unnamed: 0</th>\n",
       "      <th>operation</th>\n",
       "      <th>property_type</th>\n",
       "      <th>place_name</th>\n",
       "      <th>place_with_parent_names</th>\n",
       "      <th>country_name</th>\n",
       "      <th>state_name</th>\n",
       "      <th>geonames_id</th>\n",
       "      <th>lat-lon</th>\n",
       "      <th>lat</th>\n",
       "      <th>...</th>\n",
       "      <th>surface_covered_in_m2</th>\n",
       "      <th>price_usd_per_m2</th>\n",
       "      <th>price_per_m2</th>\n",
       "      <th>floor</th>\n",
       "      <th>rooms</th>\n",
       "      <th>expenses</th>\n",
       "      <th>properati_url</th>\n",
       "      <th>description</th>\n",
       "      <th>title</th>\n",
       "      <th>image_thumbnail</th>\n",
       "    </tr>\n",
       "  </thead>\n",
       "  <tbody>\n",
       "    <tr>\n",
       "      <th>0</th>\n",
       "      <td>0</td>\n",
       "      <td>sell</td>\n",
       "      <td>PH</td>\n",
       "      <td>Mataderos</td>\n",
       "      <td>|Argentina|Capital Federal|Mataderos|</td>\n",
       "      <td>Argentina</td>\n",
       "      <td>Capital Federal</td>\n",
       "      <td>3430787.0</td>\n",
       "      <td>-34.6618237,-58.5088387</td>\n",
       "      <td>-34.661824</td>\n",
       "      <td>...</td>\n",
       "      <td>40.0</td>\n",
       "      <td>1127.272727</td>\n",
       "      <td>1550.000000</td>\n",
       "      <td>NaN</td>\n",
       "      <td>NaN</td>\n",
       "      <td>NaN</td>\n",
       "      <td>http://www.properati.com.ar/15bo8_venta_ph_mat...</td>\n",
       "      <td>2 AMBIENTES TIPO CASA PLANTA BAJA POR PASILLO,...</td>\n",
       "      <td>2 AMB TIPO CASA SIN EXPENSAS EN PB</td>\n",
       "      <td>https://thumbs4.properati.com/8/BluUYiHJLhgIIK...</td>\n",
       "    </tr>\n",
       "    <tr>\n",
       "      <th>1</th>\n",
       "      <td>1</td>\n",
       "      <td>sell</td>\n",
       "      <td>apartment</td>\n",
       "      <td>La Plata</td>\n",
       "      <td>|Argentina|Bs.As. G.B.A. Zona Sur|La Plata|</td>\n",
       "      <td>Argentina</td>\n",
       "      <td>Bs.As. G.B.A. Zona Sur</td>\n",
       "      <td>3432039.0</td>\n",
       "      <td>-34.9038831,-57.9643295</td>\n",
       "      <td>-34.903883</td>\n",
       "      <td>...</td>\n",
       "      <td>NaN</td>\n",
       "      <td>NaN</td>\n",
       "      <td>NaN</td>\n",
       "      <td>NaN</td>\n",
       "      <td>NaN</td>\n",
       "      <td>NaN</td>\n",
       "      <td>http://www.properati.com.ar/15bob_venta_depart...</td>\n",
       "      <td>Venta de departamento en décimo piso al frente...</td>\n",
       "      <td>VENTA Depto 2 dorm. a estrenar 7 e/ 36 y 37   ...</td>\n",
       "      <td>https://thumbs4.properati.com/7/ikpVBu2ztHA7jv...</td>\n",
       "    </tr>\n",
       "    <tr>\n",
       "      <th>2</th>\n",
       "      <td>2</td>\n",
       "      <td>sell</td>\n",
       "      <td>apartment</td>\n",
       "      <td>Mataderos</td>\n",
       "      <td>|Argentina|Capital Federal|Mataderos|</td>\n",
       "      <td>Argentina</td>\n",
       "      <td>Capital Federal</td>\n",
       "      <td>3430787.0</td>\n",
       "      <td>-34.6522615,-58.5229825</td>\n",
       "      <td>-34.652262</td>\n",
       "      <td>...</td>\n",
       "      <td>55.0</td>\n",
       "      <td>1309.090909</td>\n",
       "      <td>1309.090909</td>\n",
       "      <td>NaN</td>\n",
       "      <td>NaN</td>\n",
       "      <td>NaN</td>\n",
       "      <td>http://www.properati.com.ar/15bod_venta_depart...</td>\n",
       "      <td>2 AMBIENTES 3ER PISO LATERAL LIVING COMEDOR AM...</td>\n",
       "      <td>2 AMB 3ER PISO CON ASCENSOR APTO CREDITO</td>\n",
       "      <td>https://thumbs4.properati.com/5/SXKr34F_IwG3W_...</td>\n",
       "    </tr>\n",
       "  </tbody>\n",
       "</table>\n",
       "<p>3 rows × 26 columns</p>\n",
       "</div>"
      ],
      "text/plain": [
       "   Unnamed: 0 operation property_type place_name  \\\n",
       "0           0      sell            PH  Mataderos   \n",
       "1           1      sell     apartment   La Plata   \n",
       "2           2      sell     apartment  Mataderos   \n",
       "\n",
       "                       place_with_parent_names country_name  \\\n",
       "0        |Argentina|Capital Federal|Mataderos|    Argentina   \n",
       "1  |Argentina|Bs.As. G.B.A. Zona Sur|La Plata|    Argentina   \n",
       "2        |Argentina|Capital Federal|Mataderos|    Argentina   \n",
       "\n",
       "               state_name  geonames_id                  lat-lon        lat  \\\n",
       "0         Capital Federal    3430787.0  -34.6618237,-58.5088387 -34.661824   \n",
       "1  Bs.As. G.B.A. Zona Sur    3432039.0  -34.9038831,-57.9643295 -34.903883   \n",
       "2         Capital Federal    3430787.0  -34.6522615,-58.5229825 -34.652262   \n",
       "\n",
       "   ...  surface_covered_in_m2  price_usd_per_m2 price_per_m2  floor  rooms  \\\n",
       "0  ...                   40.0       1127.272727  1550.000000    NaN    NaN   \n",
       "1  ...                    NaN               NaN          NaN    NaN    NaN   \n",
       "2  ...                   55.0       1309.090909  1309.090909    NaN    NaN   \n",
       "\n",
       "   expenses                                      properati_url  \\\n",
       "0       NaN  http://www.properati.com.ar/15bo8_venta_ph_mat...   \n",
       "1       NaN  http://www.properati.com.ar/15bob_venta_depart...   \n",
       "2       NaN  http://www.properati.com.ar/15bod_venta_depart...   \n",
       "\n",
       "                                         description  \\\n",
       "0  2 AMBIENTES TIPO CASA PLANTA BAJA POR PASILLO,...   \n",
       "1  Venta de departamento en décimo piso al frente...   \n",
       "2  2 AMBIENTES 3ER PISO LATERAL LIVING COMEDOR AM...   \n",
       "\n",
       "                                               title  \\\n",
       "0                 2 AMB TIPO CASA SIN EXPENSAS EN PB   \n",
       "1  VENTA Depto 2 dorm. a estrenar 7 e/ 36 y 37   ...   \n",
       "2           2 AMB 3ER PISO CON ASCENSOR APTO CREDITO   \n",
       "\n",
       "                                     image_thumbnail  \n",
       "0  https://thumbs4.properati.com/8/BluUYiHJLhgIIK...  \n",
       "1  https://thumbs4.properati.com/7/ikpVBu2ztHA7jv...  \n",
       "2  https://thumbs4.properati.com/5/SXKr34F_IwG3W_...  \n",
       "\n",
       "[3 rows x 26 columns]"
      ]
     },
     "execution_count": 23,
     "metadata": {},
     "output_type": "execute_result"
    }
   ],
   "source": [
    "data=pd.read_csv(\"..\\Data\\properati.csv\")\n",
    "print (data.info())\n",
    "data.head(3)"
   ]
  },
  {
   "cell_type": "markdown",
   "metadata": {},
   "source": [
    "\n",
    "###  Properati Data Set - Features\n",
    "\n",
    "**0   Unnamed:  0**                 Id de registros de la base de datos de Properati         \n",
    "\n",
    "**1   operation**          Contempla la operación realizada con el inmueble: venta, compra, etc.\n",
    "\n",
    "**2   property_type**               Categorías de propiedades con las que trabaja Properati: casas, departamentos, locales y PH\n",
    "\n",
    "**3   place_name**                  Zona de la ciudad donde se ubica el inmueble \n",
    "\n",
    "**4   place_with_parent_names**     Concatenado de Pais, Zona, Ciudad, Barrio\n",
    "\n",
    "**5   country_name**                Nombre del País donde se ubica el inmueble\n",
    "\n",
    "**6   state_name**                  Ciudad donde se ubica la propiedad\n",
    "\n",
    "**7   geonames_id**                 Id geográfico del inmueble como parte de una base de datos global\n",
    "\n",
    "**8   lat-lon**                     Ubicación por latitud + longitud\n",
    "\n",
    "**9   lat**                         Coordenada geográfica respectiva a la latitud del inmueble\n",
    "\n",
    "**10  lon**                         Coordenada geográfica respectiva a la longitud del inmueble\n",
    "\n",
    "**11  price**                       Precio de tabla del inmueble\n",
    "\n",
    "**12  currency**                    Moneda del Precio de Tabla\n",
    "\n",
    "**13  price_aprox_local_currency**  Precio aproximado según moneda local (ARG)\n",
    "\n",
    "**14  price_aprox_usd**             Precio aproximado en dólares\n",
    "\n",
    "**15  surface_total_in_m2**         Superficie total en m2 -terreno + edificación\n",
    "\n",
    "**16  surface_covered_in_m2**       Superficie cubierta en m2 por el inmueble\n",
    "\n",
    "**17  price_usd_per_m2**            Precio en dólares por m2\n",
    "\n",
    "**18  price_per_m2**                Precio en moneda local por m20\n",
    "\n",
    "**19  floor**                       Piso del inmueble incluyendo planta baja\n",
    "\n",
    "**20  rooms**                       Cantidad de ambientes de la propiedad\n",
    "\n",
    "**21  expenses**                    Valor de expensas según tipo de propiedad\n",
    "\n",
    "**22  properati_url**               Direccion Web de la Propiedad\n",
    "\n",
    "**23  description**                 Descripción de la Publicación\n",
    "\n",
    "**24  title**                       Título de la Publicación\n",
    "\n",
    "**25  image_thumbnail**             Imagen del Inmueble publicada en la Web de Properati"
   ]
  },
  {
   "cell_type": "markdown",
   "metadata": {},
   "source": [
    "* Vamos a ver también si hay filas con datos repetidos en todos los campos entre si, para eliminar duplicados y solo dejar cada fila una vez. Dejamos la última repetición porque aparenta ser la última publicación realizada (Aunque no hay fechas), y entonces refleja mas el valor real con el que la propiedad fue comercializada (Suponiendo que fue vendida luego de la última publicación)"
   ]
  },
  {
   "cell_type": "code",
   "execution_count": 24,
   "metadata": {},
   "outputs": [
    {
     "name": "stdout",
     "output_type": "stream",
     "text": [
      "Verificamos que hay 7944 filas duplicadas\n"
     ]
    }
   ],
   "source": [
    "columnas = [\"place_name\",\n",
    "\"place_with_parent_names\",\n",
    "\"country_name\",\n",
    "\"state_name\",\n",
    "\"geonames_id\",\n",
    "\"lat-lon\",\n",
    "\"lat\",\n",
    "\"lon\",                     \n",
    "\"currency\",                              \n",
    "\"surface_total_in_m2\",        \n",
    "\"surface_covered_in_m2\",         \n",
    "\"floor\",   \n",
    "\"rooms\",  \n",
    "\"expenses\",  \n",
    "\"description\", \n",
    "\"title\"]\n",
    "\n",
    "shape_inicial = data.shape[0]\n",
    "data = data.drop_duplicates(subset = columnas , keep = \"last\")\n",
    "duplicados = shape_inicial - data.shape[0]\n",
    "print(\"Verificamos que hay %s filas duplicadas\" % duplicados)"
   ]
  },
  {
   "cell_type": "markdown",
   "metadata": {},
   "source": [
    "* Explorando en detalle la columna \"property_type\" observamos que tenemos 4 tipo de propiedades distintas."
   ]
  },
  {
   "cell_type": "code",
   "execution_count": 25,
   "metadata": {},
   "outputs": [
    {
     "data": {
      "text/plain": [
       "apartment    63842\n",
       "house        39723\n",
       "PH            5644\n",
       "store         4067\n",
       "Name: property_type, dtype: int64"
      ]
     },
     "execution_count": 25,
     "metadata": {},
     "output_type": "execute_result"
    }
   ],
   "source": [
    "data['property_type'].value_counts()"
   ]
  },
  {
   "cell_type": "markdown",
   "metadata": {},
   "source": [
    "* Explorando en detalle la columna \"operation\" vemos que todas contienen el mismo valor, con lo cual ningún dato aporta valor. Todos los registros son operaciones de venta. Además, la columna \"Unnamed: 0\" refiere a un índice antiguo del dataset y tampoco aporta valor. Por estas razones, decidimos eliminar ambas columnas."
   ]
  },
  {
   "cell_type": "code",
   "execution_count": 26,
   "metadata": {},
   "outputs": [
    {
     "data": {
      "text/plain": [
       "sell    113276\n",
       "Name: operation, dtype: int64"
      ]
     },
     "execution_count": 26,
     "metadata": {},
     "output_type": "execute_result"
    }
   ],
   "source": [
    "data['operation'].value_counts()"
   ]
  },
  {
   "cell_type": "code",
   "execution_count": 27,
   "metadata": {},
   "outputs": [
    {
     "data": {
      "text/html": [
       "<div>\n",
       "<style scoped>\n",
       "    .dataframe tbody tr th:only-of-type {\n",
       "        vertical-align: middle;\n",
       "    }\n",
       "\n",
       "    .dataframe tbody tr th {\n",
       "        vertical-align: top;\n",
       "    }\n",
       "\n",
       "    .dataframe thead th {\n",
       "        text-align: right;\n",
       "    }\n",
       "</style>\n",
       "<table border=\"1\" class=\"dataframe\">\n",
       "  <thead>\n",
       "    <tr style=\"text-align: right;\">\n",
       "      <th></th>\n",
       "      <th>property_type</th>\n",
       "      <th>place_name</th>\n",
       "      <th>place_with_parent_names</th>\n",
       "      <th>country_name</th>\n",
       "      <th>state_name</th>\n",
       "      <th>geonames_id</th>\n",
       "      <th>lat-lon</th>\n",
       "      <th>lat</th>\n",
       "      <th>lon</th>\n",
       "      <th>price</th>\n",
       "      <th>...</th>\n",
       "      <th>surface_covered_in_m2</th>\n",
       "      <th>price_usd_per_m2</th>\n",
       "      <th>price_per_m2</th>\n",
       "      <th>floor</th>\n",
       "      <th>rooms</th>\n",
       "      <th>expenses</th>\n",
       "      <th>properati_url</th>\n",
       "      <th>description</th>\n",
       "      <th>title</th>\n",
       "      <th>image_thumbnail</th>\n",
       "    </tr>\n",
       "  </thead>\n",
       "  <tbody>\n",
       "    <tr>\n",
       "      <th>0</th>\n",
       "      <td>PH</td>\n",
       "      <td>Mataderos</td>\n",
       "      <td>|Argentina|Capital Federal|Mataderos|</td>\n",
       "      <td>Argentina</td>\n",
       "      <td>Capital Federal</td>\n",
       "      <td>3430787.0</td>\n",
       "      <td>-34.6618237,-58.5088387</td>\n",
       "      <td>-34.661824</td>\n",
       "      <td>-58.508839</td>\n",
       "      <td>62000.0</td>\n",
       "      <td>...</td>\n",
       "      <td>40.0</td>\n",
       "      <td>1127.272727</td>\n",
       "      <td>1550.0</td>\n",
       "      <td>NaN</td>\n",
       "      <td>NaN</td>\n",
       "      <td>NaN</td>\n",
       "      <td>http://www.properati.com.ar/15bo8_venta_ph_mat...</td>\n",
       "      <td>2 AMBIENTES TIPO CASA PLANTA BAJA POR PASILLO,...</td>\n",
       "      <td>2 AMB TIPO CASA SIN EXPENSAS EN PB</td>\n",
       "      <td>https://thumbs4.properati.com/8/BluUYiHJLhgIIK...</td>\n",
       "    </tr>\n",
       "    <tr>\n",
       "      <th>1</th>\n",
       "      <td>apartment</td>\n",
       "      <td>La Plata</td>\n",
       "      <td>|Argentina|Bs.As. G.B.A. Zona Sur|La Plata|</td>\n",
       "      <td>Argentina</td>\n",
       "      <td>Bs.As. G.B.A. Zona Sur</td>\n",
       "      <td>3432039.0</td>\n",
       "      <td>-34.9038831,-57.9643295</td>\n",
       "      <td>-34.903883</td>\n",
       "      <td>-57.964330</td>\n",
       "      <td>150000.0</td>\n",
       "      <td>...</td>\n",
       "      <td>NaN</td>\n",
       "      <td>NaN</td>\n",
       "      <td>NaN</td>\n",
       "      <td>NaN</td>\n",
       "      <td>NaN</td>\n",
       "      <td>NaN</td>\n",
       "      <td>http://www.properati.com.ar/15bob_venta_depart...</td>\n",
       "      <td>Venta de departamento en décimo piso al frente...</td>\n",
       "      <td>VENTA Depto 2 dorm. a estrenar 7 e/ 36 y 37   ...</td>\n",
       "      <td>https://thumbs4.properati.com/7/ikpVBu2ztHA7jv...</td>\n",
       "    </tr>\n",
       "  </tbody>\n",
       "</table>\n",
       "<p>2 rows × 24 columns</p>\n",
       "</div>"
      ],
      "text/plain": [
       "  property_type place_name                      place_with_parent_names  \\\n",
       "0            PH  Mataderos        |Argentina|Capital Federal|Mataderos|   \n",
       "1     apartment   La Plata  |Argentina|Bs.As. G.B.A. Zona Sur|La Plata|   \n",
       "\n",
       "  country_name              state_name  geonames_id                  lat-lon  \\\n",
       "0    Argentina         Capital Federal    3430787.0  -34.6618237,-58.5088387   \n",
       "1    Argentina  Bs.As. G.B.A. Zona Sur    3432039.0  -34.9038831,-57.9643295   \n",
       "\n",
       "         lat        lon     price  ... surface_covered_in_m2  \\\n",
       "0 -34.661824 -58.508839   62000.0  ...                  40.0   \n",
       "1 -34.903883 -57.964330  150000.0  ...                   NaN   \n",
       "\n",
       "   price_usd_per_m2  price_per_m2  floor  rooms  expenses  \\\n",
       "0       1127.272727        1550.0    NaN    NaN       NaN   \n",
       "1               NaN           NaN    NaN    NaN       NaN   \n",
       "\n",
       "                                       properati_url  \\\n",
       "0  http://www.properati.com.ar/15bo8_venta_ph_mat...   \n",
       "1  http://www.properati.com.ar/15bob_venta_depart...   \n",
       "\n",
       "                                         description  \\\n",
       "0  2 AMBIENTES TIPO CASA PLANTA BAJA POR PASILLO,...   \n",
       "1  Venta de departamento en décimo piso al frente...   \n",
       "\n",
       "                                               title  \\\n",
       "0                 2 AMB TIPO CASA SIN EXPENSAS EN PB   \n",
       "1  VENTA Depto 2 dorm. a estrenar 7 e/ 36 y 37   ...   \n",
       "\n",
       "                                     image_thumbnail  \n",
       "0  https://thumbs4.properati.com/8/BluUYiHJLhgIIK...  \n",
       "1  https://thumbs4.properati.com/7/ikpVBu2ztHA7jv...  \n",
       "\n",
       "[2 rows x 24 columns]"
      ]
     },
     "execution_count": 27,
     "metadata": {},
     "output_type": "execute_result"
    }
   ],
   "source": [
    "data = data.drop(['operation',\"Unnamed: 0\"], axis = 1)\n",
    "data.head(2)"
   ]
  },
  {
   "cell_type": "markdown",
   "metadata": {},
   "source": [
    "Continuamos evaluando el contenido de las distintas columnas para conocer el dataset"
   ]
  },
  {
   "cell_type": "code",
   "execution_count": 28,
   "metadata": {},
   "outputs": [
    {
     "data": {
      "text/plain": [
       "Capital Federal                 29325\n",
       "Bs.As. G.B.A. Zona Norte        24445\n",
       "Bs.As. G.B.A. Zona Sur          13386\n",
       "Córdoba                         11252\n",
       "Buenos Aires Costa Atlántica     9864\n",
       "Bs.As. G.B.A. Zona Oeste         8966\n",
       "Santa Fe                         8617\n",
       "Buenos Aires Interior            2243\n",
       "Río Negro                         782\n",
       "Tucumán                           631\n",
       "Mendoza                           623\n",
       "Neuquén                           586\n",
       "Corrientes                        563\n",
       "Misiones                          454\n",
       "Entre Ríos                        365\n",
       "Salta                             276\n",
       "Chubut                            259\n",
       "San Luis                          245\n",
       "La Pampa                          153\n",
       "Chaco                              57\n",
       "San Juan                           40\n",
       "Formosa                            32\n",
       "Tierra Del Fuego                   31\n",
       "Catamarca                          27\n",
       "Jujuy                              26\n",
       "Santa Cruz                         20\n",
       "Santiago Del Estero                 4\n",
       "La Rioja                            4\n",
       "Name: state_name, dtype: int64"
      ]
     },
     "execution_count": 28,
     "metadata": {},
     "output_type": "execute_result"
    }
   ],
   "source": [
    "data['state_name'].value_counts()"
   ]
  },
  {
   "cell_type": "code",
   "execution_count": 29,
   "metadata": {},
   "outputs": [
    {
     "data": {
      "text/plain": [
       "USD    84095\n",
       "ARS    11622\n",
       "PEN        2\n",
       "UYU        1\n",
       "Name: currency, dtype: int64"
      ]
     },
     "execution_count": 29,
     "metadata": {},
     "output_type": "execute_result"
    }
   ],
   "source": [
    "data['currency'].value_counts()"
   ]
  },
  {
   "cell_type": "markdown",
   "metadata": {},
   "source": [
    "Al evaluar otras columnas como \"expense\" o \"surface_covered_in_m2\" observamos que hay valores poco realistas "
   ]
  },
  {
   "cell_type": "code",
   "execution_count": 30,
   "metadata": {},
   "outputs": [
    {
     "name": "stdout",
     "output_type": "stream",
     "text": [
      "el mínimo valor de expensas es 1.0 y carece de sentido\n",
      "el máximo valor de expensas es 10001500.0 y carece de sentido\n",
      "el mínimo valor de m2 es 0.0 y carece de sentido \n",
      "\n"
     ]
    }
   ],
   "source": [
    "print(\"el mínimo valor de expensas es %s y carece de sentido\" % data['expenses'].min())\n",
    "print(\"el máximo valor de expensas es %s y carece de sentido\" % data['expenses'].max())\n",
    "print(\"el mínimo valor de m2 es %s y carece de sentido \\n\" % data[data['surface_covered_in_m2'].notnull()]['surface_covered_in_m2'].min())\n"
   ]
  },
  {
   "cell_type": "markdown",
   "metadata": {},
   "source": [
    "_________________________________________________________________________________________________________"
   ]
  },
  {
   "cell_type": "markdown",
   "metadata": {},
   "source": [
    "<a id=\"section_lineamientos\"></a> \n",
    "\n",
    "# Lineamientos de trabajo\n",
    "\n",
    "1) Vamos a trabajar sobre la categoría de `property_type` \"apartment\" y las propiedades de `state_name` \"Capital Federal\".\n",
    "\n",
    "2) Buscaremos imputar registros faltantes a partir de la información existente en otras columnas de las que si se pueda extraer datos.\n",
    "\n",
    "3) Clasificar el inmueble según cantidad de comodidades / amenities a partir de datos obtenidos en el campo \"description\".\n",
    "\n",
    "4) Buscaremos conocer como distribuyen por tamaño (m2) y precio en USD las propiedades del tipo \"apartment\" en las distintos barrios.\n",
    "\n",
    "5) Buscaremos alguna correlación entre amenities y el precio en USD por m2, por barrio.\n",
    "\n",
    "."
   ]
  },
  {
   "cell_type": "markdown",
   "metadata": {},
   "source": [
    "_________________________________________________________________________________________________________"
   ]
  },
  {
   "cell_type": "markdown",
   "metadata": {},
   "source": [
    "<a id=\"section_apartment\"></a> \n",
    "\n",
    "# Filtro de dataset por property_type"
   ]
  },
  {
   "cell_type": "markdown",
   "metadata": {},
   "source": [
    "Acotamos el dataset a aquellos cuyo `property_type` es \"apartment\" y `state_name` es \"Capital Federal\""
   ]
  },
  {
   "cell_type": "code",
   "execution_count": 11,
   "metadata": {},
   "outputs": [
    {
     "name": "stdout",
     "output_type": "stream",
     "text": [
      "<class 'pandas.core.frame.DataFrame'>\n",
      "Int64Index: 24163 entries, 2 to 121219\n",
      "Data columns (total 24 columns):\n",
      " #   Column                      Non-Null Count  Dtype  \n",
      "---  ------                      --------------  -----  \n",
      " 0   property_type               24163 non-null  object \n",
      " 1   place_name                  24163 non-null  object \n",
      " 2   place_with_parent_names     24163 non-null  object \n",
      " 3   country_name                24163 non-null  object \n",
      " 4   state_name                  24163 non-null  object \n",
      " 5   geonames_id                 23165 non-null  float64\n",
      " 6   lat-lon                     18084 non-null  object \n",
      " 7   lat                         18084 non-null  float64\n",
      " 8   lon                         18084 non-null  float64\n",
      " 9   price                       22136 non-null  float64\n",
      " 10  currency                    22136 non-null  object \n",
      " 11  price_aprox_local_currency  22136 non-null  float64\n",
      " 12  price_aprox_usd             22136 non-null  float64\n",
      " 13  surface_total_in_m2         19836 non-null  float64\n",
      " 14  surface_covered_in_m2       22700 non-null  float64\n",
      " 15  price_usd_per_m2            17998 non-null  float64\n",
      " 16  price_per_m2                20970 non-null  float64\n",
      " 17  floor                       2806 non-null   float64\n",
      " 18  rooms                       12788 non-null  float64\n",
      " 19  expenses                    5985 non-null   float64\n",
      " 20  properati_url               24163 non-null  object \n",
      " 21  description                 24163 non-null  object \n",
      " 22  title                       24163 non-null  object \n",
      " 23  image_thumbnail             23845 non-null  object \n",
      "dtypes: float64(13), object(11)\n",
      "memory usage: 4.6+ MB\n",
      "None\n",
      " \n",
      " El dataset reducido a departamentos de CABA contiene 24163 filas\n"
     ]
    }
   ],
   "source": [
    "data_ap = data.loc[(data['property_type'] == \"apartment\")&(data['state_name']=='Capital Federal'),:]\n",
    "print(data_ap.info())\n",
    "print(\" \\n El dataset reducido a departamentos de CABA contiene %s filas\" % data_ap.shape[0])"
   ]
  },
  {
   "cell_type": "code",
   "execution_count": 12,
   "metadata": {},
   "outputs": [
    {
     "data": {
      "text/html": [
       "<div>\n",
       "<style scoped>\n",
       "    .dataframe tbody tr th:only-of-type {\n",
       "        vertical-align: middle;\n",
       "    }\n",
       "\n",
       "    .dataframe tbody tr th {\n",
       "        vertical-align: top;\n",
       "    }\n",
       "\n",
       "    .dataframe thead th {\n",
       "        text-align: right;\n",
       "    }\n",
       "</style>\n",
       "<table border=\"1\" class=\"dataframe\">\n",
       "  <thead>\n",
       "    <tr style=\"text-align: right;\">\n",
       "      <th></th>\n",
       "      <th>property_type</th>\n",
       "      <th>place_name</th>\n",
       "      <th>place_with_parent_names</th>\n",
       "      <th>country_name</th>\n",
       "      <th>state_name</th>\n",
       "      <th>geonames_id</th>\n",
       "      <th>lat-lon</th>\n",
       "      <th>lat</th>\n",
       "      <th>lon</th>\n",
       "      <th>price</th>\n",
       "      <th>...</th>\n",
       "      <th>surface_covered_in_m2</th>\n",
       "      <th>price_usd_per_m2</th>\n",
       "      <th>price_per_m2</th>\n",
       "      <th>floor</th>\n",
       "      <th>rooms</th>\n",
       "      <th>expenses</th>\n",
       "      <th>properati_url</th>\n",
       "      <th>description</th>\n",
       "      <th>title</th>\n",
       "      <th>image_thumbnail</th>\n",
       "    </tr>\n",
       "  </thead>\n",
       "  <tbody>\n",
       "  </tbody>\n",
       "</table>\n",
       "<p>0 rows × 24 columns</p>\n",
       "</div>"
      ],
      "text/plain": [
       "Empty DataFrame\n",
       "Columns: [property_type, place_name, place_with_parent_names, country_name, state_name, geonames_id, lat-lon, lat, lon, price, currency, price_aprox_local_currency, price_aprox_usd, surface_total_in_m2, surface_covered_in_m2, price_usd_per_m2, price_per_m2, floor, rooms, expenses, properati_url, description, title, image_thumbnail]\n",
       "Index: []\n",
       "\n",
       "[0 rows x 24 columns]"
      ]
     },
     "execution_count": 12,
     "metadata": {},
     "output_type": "execute_result"
    }
   ],
   "source": [
    "data_ap[data_ap['place_name'].isnull()]"
   ]
  },
  {
   "cell_type": "markdown",
   "metadata": {},
   "source": [
    "_________________________________________________________________________________________________________"
   ]
  },
  {
   "cell_type": "markdown",
   "metadata": {},
   "source": [
    "<a id=\"section_place\"></a>\n",
    "\n",
    "# Depuración de columnas place_name, place_with_parent_names, country_name y state_name     \n",
    "\n",
    "\n",
    "Creación columnas `Pais`, `Provincia` y `Barrio`"
   ]
  },
  {
   "cell_type": "code",
   "execution_count": 31,
   "metadata": {},
   "outputs": [
    {
     "ename": "KeyError",
     "evalue": "\"['place_name' 'country_name' 'state_name'] not found in axis\"",
     "output_type": "error",
     "traceback": [
      "\u001b[1;31m---------------------------------------------------------------------------\u001b[0m",
      "\u001b[1;31mKeyError\u001b[0m                                  Traceback (most recent call last)",
      "\u001b[1;32m<ipython-input-31-d1f449e9154a>\u001b[0m in \u001b[0;36m<module>\u001b[1;34m\u001b[0m\n\u001b[0;32m      3\u001b[0m \u001b[0mdata_frame_para_unir\u001b[0m \u001b[1;33m=\u001b[0m \u001b[1;33m[\u001b[0m\u001b[0mdata_ap\u001b[0m\u001b[1;33m,\u001b[0m\u001b[0mdivisor\u001b[0m\u001b[1;33m]\u001b[0m\u001b[1;33m\u001b[0m\u001b[1;33m\u001b[0m\u001b[0m\n\u001b[0;32m      4\u001b[0m \u001b[0mdata_ap\u001b[0m \u001b[1;33m=\u001b[0m \u001b[0mpd\u001b[0m\u001b[1;33m.\u001b[0m\u001b[0mconcat\u001b[0m\u001b[1;33m(\u001b[0m\u001b[0mdata_frame_para_unir\u001b[0m\u001b[1;33m,\u001b[0m\u001b[0maxis\u001b[0m\u001b[1;33m=\u001b[0m\u001b[1;36m1\u001b[0m\u001b[1;33m,\u001b[0m \u001b[0msort\u001b[0m\u001b[1;33m=\u001b[0m\u001b[1;32mFalse\u001b[0m\u001b[1;33m)\u001b[0m\u001b[1;33m\u001b[0m\u001b[1;33m\u001b[0m\u001b[0m\n\u001b[1;32m----> 5\u001b[1;33m \u001b[0mdata_ap\u001b[0m \u001b[1;33m=\u001b[0m \u001b[0mdata_ap\u001b[0m\u001b[1;33m.\u001b[0m\u001b[0mdrop\u001b[0m\u001b[1;33m(\u001b[0m\u001b[1;33m[\u001b[0m\u001b[1;34m\"place_name\"\u001b[0m\u001b[1;33m,\u001b[0m\u001b[1;34m\"country_name\"\u001b[0m\u001b[1;33m,\u001b[0m\u001b[1;34m\"state_name\"\u001b[0m\u001b[1;33m]\u001b[0m\u001b[1;33m,\u001b[0m\u001b[0maxis\u001b[0m\u001b[1;33m=\u001b[0m\u001b[1;36m1\u001b[0m\u001b[1;33m)\u001b[0m\u001b[1;33m\u001b[0m\u001b[1;33m\u001b[0m\u001b[0m\n\u001b[0m",
      "\u001b[1;32m~\\Anaconda3\\envs\\dhdsblend\\lib\\site-packages\\pandas\\core\\frame.py\u001b[0m in \u001b[0;36mdrop\u001b[1;34m(self, labels, axis, index, columns, level, inplace, errors)\u001b[0m\n\u001b[0;32m   3995\u001b[0m             \u001b[0mlevel\u001b[0m\u001b[1;33m=\u001b[0m\u001b[0mlevel\u001b[0m\u001b[1;33m,\u001b[0m\u001b[1;33m\u001b[0m\u001b[1;33m\u001b[0m\u001b[0m\n\u001b[0;32m   3996\u001b[0m             \u001b[0minplace\u001b[0m\u001b[1;33m=\u001b[0m\u001b[0minplace\u001b[0m\u001b[1;33m,\u001b[0m\u001b[1;33m\u001b[0m\u001b[1;33m\u001b[0m\u001b[0m\n\u001b[1;32m-> 3997\u001b[1;33m             \u001b[0merrors\u001b[0m\u001b[1;33m=\u001b[0m\u001b[0merrors\u001b[0m\u001b[1;33m,\u001b[0m\u001b[1;33m\u001b[0m\u001b[1;33m\u001b[0m\u001b[0m\n\u001b[0m\u001b[0;32m   3998\u001b[0m         )\n\u001b[0;32m   3999\u001b[0m \u001b[1;33m\u001b[0m\u001b[0m\n",
      "\u001b[1;32m~\\Anaconda3\\envs\\dhdsblend\\lib\\site-packages\\pandas\\core\\generic.py\u001b[0m in \u001b[0;36mdrop\u001b[1;34m(self, labels, axis, index, columns, level, inplace, errors)\u001b[0m\n\u001b[0;32m   3934\u001b[0m         \u001b[1;32mfor\u001b[0m \u001b[0maxis\u001b[0m\u001b[1;33m,\u001b[0m \u001b[0mlabels\u001b[0m \u001b[1;32min\u001b[0m \u001b[0maxes\u001b[0m\u001b[1;33m.\u001b[0m\u001b[0mitems\u001b[0m\u001b[1;33m(\u001b[0m\u001b[1;33m)\u001b[0m\u001b[1;33m:\u001b[0m\u001b[1;33m\u001b[0m\u001b[1;33m\u001b[0m\u001b[0m\n\u001b[0;32m   3935\u001b[0m             \u001b[1;32mif\u001b[0m \u001b[0mlabels\u001b[0m \u001b[1;32mis\u001b[0m \u001b[1;32mnot\u001b[0m \u001b[1;32mNone\u001b[0m\u001b[1;33m:\u001b[0m\u001b[1;33m\u001b[0m\u001b[1;33m\u001b[0m\u001b[0m\n\u001b[1;32m-> 3936\u001b[1;33m                 \u001b[0mobj\u001b[0m \u001b[1;33m=\u001b[0m \u001b[0mobj\u001b[0m\u001b[1;33m.\u001b[0m\u001b[0m_drop_axis\u001b[0m\u001b[1;33m(\u001b[0m\u001b[0mlabels\u001b[0m\u001b[1;33m,\u001b[0m \u001b[0maxis\u001b[0m\u001b[1;33m,\u001b[0m \u001b[0mlevel\u001b[0m\u001b[1;33m=\u001b[0m\u001b[0mlevel\u001b[0m\u001b[1;33m,\u001b[0m \u001b[0merrors\u001b[0m\u001b[1;33m=\u001b[0m\u001b[0merrors\u001b[0m\u001b[1;33m)\u001b[0m\u001b[1;33m\u001b[0m\u001b[1;33m\u001b[0m\u001b[0m\n\u001b[0m\u001b[0;32m   3937\u001b[0m \u001b[1;33m\u001b[0m\u001b[0m\n\u001b[0;32m   3938\u001b[0m         \u001b[1;32mif\u001b[0m \u001b[0minplace\u001b[0m\u001b[1;33m:\u001b[0m\u001b[1;33m\u001b[0m\u001b[1;33m\u001b[0m\u001b[0m\n",
      "\u001b[1;32m~\\Anaconda3\\envs\\dhdsblend\\lib\\site-packages\\pandas\\core\\generic.py\u001b[0m in \u001b[0;36m_drop_axis\u001b[1;34m(self, labels, axis, level, errors)\u001b[0m\n\u001b[0;32m   3987\u001b[0m                 \u001b[0mlabels_missing\u001b[0m \u001b[1;33m=\u001b[0m \u001b[1;33m(\u001b[0m\u001b[0maxis\u001b[0m\u001b[1;33m.\u001b[0m\u001b[0mget_indexer_for\u001b[0m\u001b[1;33m(\u001b[0m\u001b[0mlabels\u001b[0m\u001b[1;33m)\u001b[0m \u001b[1;33m==\u001b[0m \u001b[1;33m-\u001b[0m\u001b[1;36m1\u001b[0m\u001b[1;33m)\u001b[0m\u001b[1;33m.\u001b[0m\u001b[0many\u001b[0m\u001b[1;33m(\u001b[0m\u001b[1;33m)\u001b[0m\u001b[1;33m\u001b[0m\u001b[1;33m\u001b[0m\u001b[0m\n\u001b[0;32m   3988\u001b[0m                 \u001b[1;32mif\u001b[0m \u001b[0merrors\u001b[0m \u001b[1;33m==\u001b[0m \u001b[1;34m\"raise\"\u001b[0m \u001b[1;32mand\u001b[0m \u001b[0mlabels_missing\u001b[0m\u001b[1;33m:\u001b[0m\u001b[1;33m\u001b[0m\u001b[1;33m\u001b[0m\u001b[0m\n\u001b[1;32m-> 3989\u001b[1;33m                     \u001b[1;32mraise\u001b[0m \u001b[0mKeyError\u001b[0m\u001b[1;33m(\u001b[0m\u001b[1;34mf\"{labels} not found in axis\"\u001b[0m\u001b[1;33m)\u001b[0m\u001b[1;33m\u001b[0m\u001b[1;33m\u001b[0m\u001b[0m\n\u001b[0m\u001b[0;32m   3990\u001b[0m \u001b[1;33m\u001b[0m\u001b[0m\n\u001b[0;32m   3991\u001b[0m             \u001b[0mslicer\u001b[0m \u001b[1;33m=\u001b[0m \u001b[1;33m[\u001b[0m\u001b[0mslice\u001b[0m\u001b[1;33m(\u001b[0m\u001b[1;32mNone\u001b[0m\u001b[1;33m)\u001b[0m\u001b[1;33m]\u001b[0m \u001b[1;33m*\u001b[0m \u001b[0mself\u001b[0m\u001b[1;33m.\u001b[0m\u001b[0mndim\u001b[0m\u001b[1;33m\u001b[0m\u001b[1;33m\u001b[0m\u001b[0m\n",
      "\u001b[1;31mKeyError\u001b[0m: \"['place_name' 'country_name' 'state_name'] not found in axis\""
     ]
    }
   ],
   "source": [
    "divisor = data_ap.place_with_parent_names.str.split('|',expand=True).iloc[:,1:4].rename(\n",
    "    columns={1: 'Pais', 2: 'Provincia',3:'Barrio'})\n",
    "data_frame_para_unir = [data_ap,divisor]\n",
    "data_ap = pd.concat(data_frame_para_unir,axis=1, sort=False)\n",
    "data_ap = data_ap.drop([\"place_name\",\"country_name\",\"state_name\"],axis=1)\n"
   ]
  },
  {
   "cell_type": "code",
   "execution_count": null,
   "metadata": {},
   "outputs": [],
   "source": [
    "serie_barrios=data_ap['Barrio'].value_counts()\n",
    "serie_barrios"
   ]
  },
  {
   "cell_type": "markdown",
   "metadata": {},
   "source": [
    "    Vemos que tenemos 482 registros sin barrio asignado, para el análisis no los vamos a tener en cuenta"
   ]
  },
  {
   "cell_type": "markdown",
   "metadata": {},
   "source": [
    "_________________________________________________________________________________________________________"
   ]
  },
  {
   "cell_type": "markdown",
   "metadata": {},
   "source": [
    "<a id=\"section_map\"></a>\n",
    "\n",
    "# Mapa Interactivo de Properati\n",
    "\n",
    "Con el fin de aprovechar los datos de geolocalización presentes en el dataset, generamos el siguiente mapa con algunos de los registros a modo de ejemplo utilizando la librería \"Folium\""
   ]
  },
  {
   "cell_type": "code",
   "execution_count": 15,
   "metadata": {},
   "outputs": [],
   "source": [
    "lat_lon_serie = data_ap['lat-lon']"
   ]
  },
  {
   "cell_type": "code",
   "execution_count": 16,
   "metadata": {},
   "outputs": [
    {
     "data": {
      "text/plain": [
       "2               -34.6522615,-58.5229825\n",
       "7                -34.5598729,-58.443362\n",
       "8                -34.5598729,-58.443362\n",
       "19         -34.580503566,-58.4058744847\n",
       "21               -34.590926,-58.4116653\n",
       "                      ...              \n",
       "121152      -34.623443168,-58.455030181\n",
       "121153    -34.5992135511,-58.4025191971\n",
       "121158     -34.587425443,-58.3973722534\n",
       "121209     -34.563685346,-58.4426825896\n",
       "121217    -34.5706388726,-58.4755963355\n",
       "Name: lat-lon, Length: 18084, dtype: object"
      ]
     },
     "execution_count": 16,
     "metadata": {},
     "output_type": "execute_result"
    }
   ],
   "source": [
    "lat_lon_serie_not_null = lat_lon_serie[lat_lon_serie.notnull()]\n",
    "lat_lon_serie_not_null"
   ]
  },
  {
   "cell_type": "code",
   "execution_count": 17,
   "metadata": {},
   "outputs": [
    {
     "data": {
      "text/plain": [
       "Series([], Name: lat-lon, dtype: object)"
      ]
     },
     "execution_count": 17,
     "metadata": {},
     "output_type": "execute_result"
    }
   ],
   "source": [
    "lat_lon_serie_not_null[lat_lon_serie_not_null==0]"
   ]
  },
  {
   "cell_type": "code",
   "execution_count": 18,
   "metadata": {},
   "outputs": [],
   "source": [
    "#Generamos el mapa\n",
    "\n",
    "map_test = folium.Map(location=[-34.6522615,-58.5229825])\n",
    "tooltip = 'Ver coordenadas'"
   ]
  },
  {
   "cell_type": "code",
   "execution_count": 19,
   "metadata": {},
   "outputs": [],
   "source": [
    "#Generamos una función que asigne las distintas posiciones geográficas en el mapa \n",
    "def mapeo (serie):\n",
    "    for x in serie.index:\n",
    "        mapa=folium.Marker(serie.loc[x].split(\",\"),popup='<i>Properati</i>',tooltip=tooltip).add_to(map_test)\n",
    "    return mapa"
   ]
  },
  {
   "cell_type": "code",
   "execution_count": 20,
   "metadata": {},
   "outputs": [
    {
     "data": {
      "text/plain": [
       "<folium.map.Marker at 0x16f59358088>"
      ]
     },
     "execution_count": 20,
     "metadata": {},
     "output_type": "execute_result"
    }
   ],
   "source": [
    "#Seleccionamos una serie de puntos de coordenadas a modo de ejemplo\n",
    "\n",
    "mapeo(lat_lon_serie_not_null.loc[1:1000])"
   ]
  },
  {
   "cell_type": "code",
   "execution_count": 21,
   "metadata": {
    "scrolled": true
   },
   "outputs": [
    {
     "data": {
      "text/html": [
       "<div style=\"width:100%;\"><div style=\"position:relative;width:100%;height:0;padding-bottom:60%;\"><span style=\"color:#565656\">Make this Notebook Trusted to load map: File -> Trust Notebook</span><iframe src=\"about:blank\" style=\"position:absolute;width:100%;height:100%;left:0;top:0;border:none !important;\" data-html=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 onload=\"this.contentDocument.open();this.contentDocument.write(atob(this.getAttribute('data-html')));this.contentDocument.close();\" allowfullscreen webkitallowfullscreen mozallowfullscreen></iframe></div></div>"
      ],
      "text/plain": [
       "<folium.folium.Map at 0x16f59415f08>"
      ]
     },
     "execution_count": 21,
     "metadata": {},
     "output_type": "execute_result"
    }
   ],
   "source": [
    "map_test"
   ]
  },
  {
   "cell_type": "markdown",
   "metadata": {},
   "source": [
    "El mapa se puede guardar en formato html para abrirlo en un browser"
   ]
  },
  {
   "cell_type": "code",
   "execution_count": 24,
   "metadata": {},
   "outputs": [],
   "source": [
    "map_test.save('map_test.html')"
   ]
  },
  {
   "cell_type": "markdown",
   "metadata": {},
   "source": [
    "_________________________________________________________________________________________________________"
   ]
  },
  {
   "cell_type": "markdown",
   "metadata": {},
   "source": [
    "<a id=\"section_description\"></a>\n",
    "# Analisis exploratorio de la columna \"description\"\n",
    "\n",
    "Vamos a analizar el contenido de las palabras que contienen los resgistros de la columna \"description\". De esta manera tendremos una mejor perspectiva de la información alojada en esta variable."
   ]
  },
  {
   "cell_type": "code",
   "execution_count": 32,
   "metadata": {},
   "outputs": [
    {
     "data": {
      "text/html": [
       "<div>\n",
       "<style scoped>\n",
       "    .dataframe tbody tr th:only-of-type {\n",
       "        vertical-align: middle;\n",
       "    }\n",
       "\n",
       "    .dataframe tbody tr th {\n",
       "        vertical-align: top;\n",
       "    }\n",
       "\n",
       "    .dataframe thead th {\n",
       "        text-align: right;\n",
       "    }\n",
       "</style>\n",
       "<table border=\"1\" class=\"dataframe\">\n",
       "  <thead>\n",
       "    <tr style=\"text-align: right;\">\n",
       "      <th></th>\n",
       "      <th>description</th>\n",
       "      <th>description_sin_tilde</th>\n",
       "    </tr>\n",
       "  </thead>\n",
       "  <tbody>\n",
       "    <tr>\n",
       "      <th>2</th>\n",
       "      <td>2 AMBIENTES 3ER PISO LATERAL LIVING COMEDOR AM...</td>\n",
       "      <td>2 ambientes 3er piso lateral living comedor am...</td>\n",
       "    </tr>\n",
       "    <tr>\n",
       "      <th>7</th>\n",
       "      <td>EXCELENTE MONOAMBIENTE A ESTRENAR AMPLIO SUPER...</td>\n",
       "      <td>excelente monoambiente a estrenar amplio super...</td>\n",
       "    </tr>\n",
       "    <tr>\n",
       "      <th>8</th>\n",
       "      <td>EXCELENTE DOS AMBIENTES  ESTRENAR AMPLIO SUPER...</td>\n",
       "      <td>excelente dos ambientes  estrenar amplio super...</td>\n",
       "    </tr>\n",
       "    <tr>\n",
       "      <th>13</th>\n",
       "      <td>Torre I Mondrian. 3 ambientes con terraza y d...</td>\n",
       "      <td>torre i mondrian. 3 ambientes con terraza y d...</td>\n",
       "    </tr>\n",
       "    <tr>\n",
       "      <th>14</th>\n",
       "      <td>Torre II Dalí. Ambiente unico divisible.Vitrau...</td>\n",
       "      <td>torre ii dali. ambiente unico divisible.vitrau...</td>\n",
       "    </tr>\n",
       "    <tr>\n",
       "      <th>19</th>\n",
       "      <td>Excelente semipiso al contra frente en Bulnes ...</td>\n",
       "      <td>excelente semipiso al contra frente en bulnes ...</td>\n",
       "    </tr>\n",
       "    <tr>\n",
       "      <th>21</th>\n",
       "      <td>EXCELENTE ZONA, MULTIPLES MEDIOS DE TRANSPORTE...</td>\n",
       "      <td>excelente zona, multiples medios de transporte...</td>\n",
       "    </tr>\n",
       "    <tr>\n",
       "      <th>29</th>\n",
       "      <td>Departamento muy luminoso con todos sus ambien...</td>\n",
       "      <td>departamento muy luminoso con todos sus ambien...</td>\n",
       "    </tr>\n",
       "    <tr>\n",
       "      <th>38</th>\n",
       "      <td>Espectacular loft de exclusivo diseño, 210 ms,...</td>\n",
       "      <td>espectacular loft de exclusivo diseno, 210 ms,...</td>\n",
       "    </tr>\n",
       "    <tr>\n",
       "      <th>48</th>\n",
       "      <td>PISO 13, Orientación norte, disposición al fre...</td>\n",
       "      <td>piso 13, orientacion norte, disposicion al fre...</td>\n",
       "    </tr>\n",
       "  </tbody>\n",
       "</table>\n",
       "</div>"
      ],
      "text/plain": [
       "                                          description  \\\n",
       "2   2 AMBIENTES 3ER PISO LATERAL LIVING COMEDOR AM...   \n",
       "7   EXCELENTE MONOAMBIENTE A ESTRENAR AMPLIO SUPER...   \n",
       "8   EXCELENTE DOS AMBIENTES  ESTRENAR AMPLIO SUPER...   \n",
       "13   Torre I Mondrian. 3 ambientes con terraza y d...   \n",
       "14  Torre II Dalí. Ambiente unico divisible.Vitrau...   \n",
       "19  Excelente semipiso al contra frente en Bulnes ...   \n",
       "21  EXCELENTE ZONA, MULTIPLES MEDIOS DE TRANSPORTE...   \n",
       "29  Departamento muy luminoso con todos sus ambien...   \n",
       "38  Espectacular loft de exclusivo diseño, 210 ms,...   \n",
       "48  PISO 13, Orientación norte, disposición al fre...   \n",
       "\n",
       "                                description_sin_tilde  \n",
       "2   2 ambientes 3er piso lateral living comedor am...  \n",
       "7   excelente monoambiente a estrenar amplio super...  \n",
       "8   excelente dos ambientes  estrenar amplio super...  \n",
       "13   torre i mondrian. 3 ambientes con terraza y d...  \n",
       "14  torre ii dali. ambiente unico divisible.vitrau...  \n",
       "19  excelente semipiso al contra frente en bulnes ...  \n",
       "21  excelente zona, multiples medios de transporte...  \n",
       "29  departamento muy luminoso con todos sus ambien...  \n",
       "38  espectacular loft de exclusivo diseno, 210 ms,...  \n",
       "48  piso 13, orientacion norte, disposicion al fre...  "
      ]
     },
     "execution_count": 32,
     "metadata": {},
     "output_type": "execute_result"
    }
   ],
   "source": [
    "### Le eliminamos los tildes de la descripción y pasamos a minusculas\n",
    "data_ap['description_sin_tilde']=data_ap['description'].str.normalize('NFKD').str.encode('ascii', errors='ignore').str.decode('utf-8')\n",
    "data_ap['description_sin_tilde']=data_ap['description_sin_tilde'].str.lower()\n",
    "data_ap[['description','description_sin_tilde']].head(10)"
   ]
  },
  {
   "cell_type": "code",
   "execution_count": 33,
   "metadata": {},
   "outputs": [
    {
     "name": "stdout",
     "output_type": "stream",
     "text": [
      "El recuento de palabras en description es: \n",
      "\n"
     ]
    },
    {
     "data": {
      "text/plain": [
       "cocina         19497\n",
       "ambientes      17349\n",
       "bano           15150\n",
       "balcon         14687\n",
       "edificio       13410\n",
       "comedor        13328\n",
       "pisos          11541\n",
       "living         11210\n",
       "av             10446\n",
       "frente         10358\n",
       "excelente       8537\n",
       "dormitorio      8193\n",
       "expensas        7206\n",
       "m2              7040\n",
       "placard         6587\n",
       "apto            6382\n",
       "luminoso        6300\n",
       "lavadero        6225\n",
       "medidas         6070\n",
       "terraza         5632\n",
       "cochera         5597\n",
       "parrilla        5525\n",
       "servicio        5193\n",
       "ubicacion       5105\n",
       "ubicado         5087\n",
       "solarium        5062\n",
       "subte           5030\n",
       "vista           4940\n",
       "sum             4930\n",
       "aire            4741\n",
       "amenities       4698\n",
       "cucicba         4698\n",
       "suite           4652\n",
       "acceso          4504\n",
       "toilette        4424\n",
       "este            4393\n",
       "esta            4347\n",
       "metros          4237\n",
       "mesada          4191\n",
       "mas             4141\n",
       "b               4120\n",
       "seguridad       4110\n",
       "ambiente        4104\n",
       "profesional     4066\n",
       "15              4039\n",
       "banos           3991\n",
       "hall            3989\n",
       "linea           3963\n",
       "salida          3935\n",
       "piscina         3872\n",
       "Name: 0, dtype: int64"
      ]
     },
     "execution_count": 33,
     "metadata": {},
     "output_type": "execute_result"
    }
   ],
   "source": [
    "patron = re.compile(\"\\w+\")\n",
    "mascara = data_ap[\"description_sin_tilde\"].str.lower().apply(lambda x: x if x is np.NaN else patron.findall(x))\n",
    "listado = [x for l in mascara[mascara.notnull()] for x in l]\n",
    "\n",
    "\n",
    "palabras = pd.DataFrame(listado)\n",
    "\n",
    "#Excluímos conectores y palabras de menor utilidad\n",
    "exclusion_2 = [\"son\",\"c\",\"no\",\"cuenta\", \"sobre\",\"publicado\",\"cuadras\",\"barrio\",\"zona\",\"gran\",\"calidad\",\"principal\",\"propiedades\",\"alta\",\"unidades\",\"todos\",\"no\",\"dormitorios\",\"departamento\",\"piso\",\"completo\",\"uno\",\"diario\",\"agua\",\"planta\",\"casa\", \"lote\", \"estar\", \"tiene\", \"san\", \"bajo\",\"cocheras\",\"u\",\"su\",\"s\", \"es\", \"amplio\",\"venta\", \"x\",\"que\",\"muy\",\"dos\",\"o\",\"se\",\"y\",\"con\",\"de\", \"en\", \"el\", \"la\", \"a\", \"un\", \"del\", \"una\", \"los\", \"las\", \"para\", \"por\", \"al\", \"1\" , \"2\", \"3\", \"4\", \"5\", \"6\", \"7\", \"8\", \"9\"]\n",
    "final = palabras[~palabras.isin(exclusion_2)]\n",
    "print (\"El recuento de palabras en description es: \\n\")\n",
    "final[0].value_counts().head(50)"
   ]
  },
  {
   "cell_type": "markdown",
   "metadata": {},
   "source": [
    "<a id=\"section_price\"></a>\n",
    "\n",
    "# Depuración de columnas price, currency, price_aprox_local_currency, price_aprox_usd"
   ]
  },
  {
   "cell_type": "markdown",
   "metadata": {},
   "source": [
    "En primer lugar buscamos comprender qué feature es la correcta a conservar. Creemos que lo conveniente es utilizar la columna price_aprox_usd como base e intentar imputar los valores nulos de las features \"Titulo\" y/o \"Descripcion\"."
   ]
  },
  {
   "cell_type": "code",
   "execution_count": 35,
   "metadata": {},
   "outputs": [
    {
     "data": {
      "text/html": [
       "<div>\n",
       "<style scoped>\n",
       "    .dataframe tbody tr th:only-of-type {\n",
       "        vertical-align: middle;\n",
       "    }\n",
       "\n",
       "    .dataframe tbody tr th {\n",
       "        vertical-align: top;\n",
       "    }\n",
       "\n",
       "    .dataframe thead th {\n",
       "        text-align: right;\n",
       "    }\n",
       "</style>\n",
       "<table border=\"1\" class=\"dataframe\">\n",
       "  <thead>\n",
       "    <tr style=\"text-align: right;\">\n",
       "      <th></th>\n",
       "      <th>price</th>\n",
       "      <th>price_aprox_local_currency</th>\n",
       "      <th>price_aprox_usd</th>\n",
       "      <th>currency</th>\n",
       "    </tr>\n",
       "  </thead>\n",
       "  <tbody>\n",
       "    <tr>\n",
       "      <th>214</th>\n",
       "      <td>NaN</td>\n",
       "      <td>NaN</td>\n",
       "      <td>NaN</td>\n",
       "      <td>NaN</td>\n",
       "    </tr>\n",
       "    <tr>\n",
       "      <th>217</th>\n",
       "      <td>NaN</td>\n",
       "      <td>NaN</td>\n",
       "      <td>NaN</td>\n",
       "      <td>NaN</td>\n",
       "    </tr>\n",
       "    <tr>\n",
       "      <th>223</th>\n",
       "      <td>NaN</td>\n",
       "      <td>NaN</td>\n",
       "      <td>NaN</td>\n",
       "      <td>NaN</td>\n",
       "    </tr>\n",
       "    <tr>\n",
       "      <th>545</th>\n",
       "      <td>NaN</td>\n",
       "      <td>NaN</td>\n",
       "      <td>NaN</td>\n",
       "      <td>NaN</td>\n",
       "    </tr>\n",
       "    <tr>\n",
       "      <th>546</th>\n",
       "      <td>NaN</td>\n",
       "      <td>NaN</td>\n",
       "      <td>NaN</td>\n",
       "      <td>NaN</td>\n",
       "    </tr>\n",
       "    <tr>\n",
       "      <th>...</th>\n",
       "      <td>...</td>\n",
       "      <td>...</td>\n",
       "      <td>...</td>\n",
       "      <td>...</td>\n",
       "    </tr>\n",
       "    <tr>\n",
       "      <th>121047</th>\n",
       "      <td>NaN</td>\n",
       "      <td>NaN</td>\n",
       "      <td>NaN</td>\n",
       "      <td>NaN</td>\n",
       "    </tr>\n",
       "    <tr>\n",
       "      <th>121049</th>\n",
       "      <td>NaN</td>\n",
       "      <td>NaN</td>\n",
       "      <td>NaN</td>\n",
       "      <td>NaN</td>\n",
       "    </tr>\n",
       "    <tr>\n",
       "      <th>121050</th>\n",
       "      <td>NaN</td>\n",
       "      <td>NaN</td>\n",
       "      <td>NaN</td>\n",
       "      <td>NaN</td>\n",
       "    </tr>\n",
       "    <tr>\n",
       "      <th>121051</th>\n",
       "      <td>NaN</td>\n",
       "      <td>NaN</td>\n",
       "      <td>NaN</td>\n",
       "      <td>NaN</td>\n",
       "    </tr>\n",
       "    <tr>\n",
       "      <th>121052</th>\n",
       "      <td>NaN</td>\n",
       "      <td>NaN</td>\n",
       "      <td>NaN</td>\n",
       "      <td>NaN</td>\n",
       "    </tr>\n",
       "  </tbody>\n",
       "</table>\n",
       "<p>2027 rows × 4 columns</p>\n",
       "</div>"
      ],
      "text/plain": [
       "        price  price_aprox_local_currency  price_aprox_usd currency\n",
       "214       NaN                         NaN              NaN      NaN\n",
       "217       NaN                         NaN              NaN      NaN\n",
       "223       NaN                         NaN              NaN      NaN\n",
       "545       NaN                         NaN              NaN      NaN\n",
       "546       NaN                         NaN              NaN      NaN\n",
       "...       ...                         ...              ...      ...\n",
       "121047    NaN                         NaN              NaN      NaN\n",
       "121049    NaN                         NaN              NaN      NaN\n",
       "121050    NaN                         NaN              NaN      NaN\n",
       "121051    NaN                         NaN              NaN      NaN\n",
       "121052    NaN                         NaN              NaN      NaN\n",
       "\n",
       "[2027 rows x 4 columns]"
      ]
     },
     "execution_count": 35,
     "metadata": {},
     "output_type": "execute_result"
    }
   ],
   "source": [
    "data_price_nulls= data_ap[data_ap.price.isnull()]\n",
    "data_price_nulls[['price','price_aprox_local_currency','price_aprox_usd','currency']]"
   ]
  },
  {
   "cell_type": "markdown",
   "metadata": {},
   "source": [
    "#### Obs: para lo que es la currency existe un valor nulo adicional (20411)"
   ]
  },
  {
   "cell_type": "markdown",
   "metadata": {},
   "source": [
    "### Patrón RegEx para buscar precio en Title / Description "
   ]
  },
  {
   "cell_type": "code",
   "execution_count": 36,
   "metadata": {},
   "outputs": [],
   "source": [
    "#Buscamos en la columna Descripcion inicialmente:\n",
    "patron_null_price = \"USD ?\\d+\\.?\\d+|U\\$D ?\\d+\\.?\\d+|\\$ ?\\d+\\.?\\d+\"\n",
    "regex_null_price = re.compile(patron_null_price,flags=re.I)\n",
    "resultado_price_description = data_ap[\"description_sin_tilde\"].apply(lambda x: x if x is np.NaN else regex_null_price.search(x))"
   ]
  },
  {
   "cell_type": "code",
   "execution_count": 37,
   "metadata": {},
   "outputs": [
    {
     "name": "stdout",
     "output_type": "stream",
     "text": [
      "Se encontraron:  5290 precios en la decripción únicamente\n"
     ]
    }
   ],
   "source": [
    "resultado_price_description_notnull = resultado_price_description.notnull()\n",
    "print('Se encontraron: ',resultado_price_description[resultado_price_description_notnull].shape[0],\n",
    "     'precios en la decripción únicamente')"
   ]
  },
  {
   "cell_type": "code",
   "execution_count": 38,
   "metadata": {},
   "outputs": [],
   "source": [
    "#Agreagamos la columna con los findings:\n",
    "resultado_price_description_notnull = resultado_price_description.notnull()\n",
    "data_ap.loc[resultado_price_description_notnull, \"Description_Prices\"] = resultado_price_description[resultado_price_description_notnull].apply(lambda x: x.group(0))"
   ]
  },
  {
   "cell_type": "code",
   "execution_count": 39,
   "metadata": {},
   "outputs": [],
   "source": [
    "#Ahora lo repetimos pero trabajando con la columna Titulo\n",
    "resultado_price_title =  data_ap[\"title\"].apply(lambda x: x if x is np.NaN else regex_null_price.search(x))"
   ]
  },
  {
   "cell_type": "code",
   "execution_count": 40,
   "metadata": {},
   "outputs": [
    {
     "name": "stdout",
     "output_type": "stream",
     "text": [
      "Se encontraron:  693 precios en los titulos\n"
     ]
    }
   ],
   "source": [
    "resultado_price_title_notnull = resultado_price_title.notnull()\n",
    "print('Se encontraron: ',resultado_price_title[resultado_price_title_notnull].shape[0],\n",
    "     'precios en los titulos')"
   ]
  },
  {
   "cell_type": "code",
   "execution_count": 41,
   "metadata": {},
   "outputs": [],
   "source": [
    "#Nuevamente agreagamos la columna respectiva para el posterior análisis:\n",
    "resultado_price_title_notnull = resultado_price_title.notnull()\n",
    "data_ap.loc[resultado_price_title_notnull, \"title_price\"] = resultado_price_title[resultado_price_title_notnull].apply(lambda x: x.group(0))"
   ]
  },
  {
   "cell_type": "code",
   "execution_count": 42,
   "metadata": {},
   "outputs": [],
   "source": [
    "price_df=data_ap[['price','price_aprox_local_currency','price_aprox_usd','currency','Description_Prices','title_price']]\n",
    "price_df_nulls=price_df[price_df.price_aprox_usd.isnull()]"
   ]
  },
  {
   "cell_type": "code",
   "execution_count": 43,
   "metadata": {},
   "outputs": [
    {
     "data": {
      "text/plain": [
       "price                           0\n",
       "price_aprox_local_currency      0\n",
       "price_aprox_usd                 0\n",
       "currency                        0\n",
       "Description_Prices            147\n",
       "title_price                   164\n",
       "dtype: int64"
      ]
     },
     "execution_count": 43,
     "metadata": {},
     "output_type": "execute_result"
    }
   ],
   "source": [
    "price_df_nulls.notnull().sum()"
   ]
  },
  {
   "cell_type": "markdown",
   "metadata": {},
   "source": [
    "#### Obs: con la sentencia anterior vemos efectivamente la cantidad de precios que se van a poder imputar"
   ]
  },
  {
   "cell_type": "code",
   "execution_count": 44,
   "metadata": {},
   "outputs": [],
   "source": [
    "#Reemplazamos los precios en USD:\n",
    "data_ap.loc[(data_ap['Description_Prices'].notnull()) & (data_ap['Description_Prices'].str.contains('USD')), \n",
    "            'Description_Prices' ] = data_ap[(data_ap['Description_Prices'].notnull()) & \n",
    "                                             (data_ap['Description_Prices'].str.contains('USD'))]\\\n",
    "                                            ['Description_Prices'].apply(lambda x: x.replace('USD','').replace('.','')\n",
    "                                                                        ).astype(float)"
   ]
  },
  {
   "cell_type": "code",
   "execution_count": 45,
   "metadata": {},
   "outputs": [],
   "source": [
    "#Repetimos para U$D:\n",
    "data_ap.loc[(data_ap['Description_Prices'].notnull()) & (data_ap['Description_Prices'].str.contains('U$D')), \n",
    "            'Description_Prices' ] = data_ap[(data_ap['Description_Prices'].notnull()) & \n",
    "                                             (data_ap['Description_Prices'].str.contains('U$D'))]\\\n",
    "                                            ['Description_Prices'].apply(lambda x: x.replace('U$D','').replace('.','')\n",
    "                                                                        ).astype(float)"
   ]
  },
  {
   "cell_type": "code",
   "execution_count": 46,
   "metadata": {},
   "outputs": [],
   "source": [
    "#Repetimos para usd:\n",
    "data_ap.loc[(data_ap['Description_Prices'].notnull()) & (data_ap['Description_Prices'].str.contains('usd')), \n",
    "            'Description_Prices' ] = data_ap[(data_ap['Description_Prices'].notnull()) & \n",
    "                                             (data_ap['Description_Prices'].str.contains('usd'))]\\\n",
    "                                            ['Description_Prices'].apply(lambda x: x.replace('usd','').replace('.','')\n",
    "                                                                        ).astype(float)"
   ]
  },
  {
   "cell_type": "code",
   "execution_count": 47,
   "metadata": {},
   "outputs": [],
   "source": [
    "#Repetimos para u$d:\n",
    "data_ap.loc[(data_ap['Description_Prices'].notnull()) & (data_ap['Description_Prices'].str.contains('u\\$d')), \n",
    "            'Description_Prices' ] = data_ap[(data_ap['Description_Prices'].notnull()) & \n",
    "                                             (data_ap['Description_Prices'].str.contains('u\\$d'))]\\\n",
    "                                            ['Description_Prices'].apply(lambda x: x.replace('u$d','')\n",
    "                                                                         .replace('.','')\n",
    "                                                                        ).astype(float)"
   ]
  },
  {
   "cell_type": "code",
   "execution_count": 48,
   "metadata": {},
   "outputs": [],
   "source": [
    "#Buscamos las columnas con el precio en moneda local (pesos args) y en dolares (usd)\n",
    "tipo_de_cambio = data_ap.loc[data_ap['price_aprox_local_currency'].notnull() & \n",
    "                             data_ap['price_aprox_usd'].notnull(), ['price_aprox_local_currency', 'price_aprox_usd']]"
   ]
  },
  {
   "cell_type": "code",
   "execution_count": 49,
   "metadata": {},
   "outputs": [],
   "source": [
    "# Calculamos el tipo de cambio para cada propiedad que posee su precio en ambas monedas\n",
    "tipo_de_cambio['tipo de cambio'] = tipo_de_cambio['price_aprox_local_currency'] / tipo_de_cambio['price_aprox_usd']"
   ]
  },
  {
   "cell_type": "code",
   "execution_count": 50,
   "metadata": {},
   "outputs": [],
   "source": [
    "#Calculamos el tipo de cambio promedio\n",
    "Promedio_tipo_de_cambio = tipo_de_cambio['tipo de cambio'].mean()\n",
    "# Promedio_tipo_de_cambio.round(2)"
   ]
  },
  {
   "cell_type": "code",
   "execution_count": 51,
   "metadata": {},
   "outputs": [],
   "source": [
    "#Reemplazamos los precios en pesos:\n",
    "data_ap.loc[(data_ap['Description_Prices'].notnull()) & (data_ap['Description_Prices'].str.contains('$')), \n",
    "            'Description_Prices' ] = data_ap[(data_ap['Description_Prices'].notnull()) & \n",
    "                                             (data_ap['Description_Prices'].str.contains('$'))]\\\n",
    "                                            ['Description_Prices'].apply(lambda x: x.replace('$','').replace('.','')\n",
    "                                                                        ).astype(float)/Promedio_tipo_de_cambio"
   ]
  },
  {
   "cell_type": "code",
   "execution_count": 52,
   "metadata": {},
   "outputs": [
    {
     "data": {
      "text/plain": [
       "52        76.5111\n",
       "66          72900\n",
       "98         121900\n",
       "157        136.02\n",
       "166       147.355\n",
       "           ...   \n",
       "120935     113.35\n",
       "121067    8.72793\n",
       "121107    396.724\n",
       "121121    283.374\n",
       "121217      20000\n",
       "Name: Description_Prices, Length: 5290, dtype: object"
      ]
     },
     "execution_count": 52,
     "metadata": {},
     "output_type": "execute_result"
    }
   ],
   "source": [
    "data_ap[data_ap['Description_Prices'].notnull()]['Description_Prices']"
   ]
  },
  {
   "cell_type": "code",
   "execution_count": 53,
   "metadata": {},
   "outputs": [],
   "source": [
    "data_ap['price_aprox_usd_clean'] = data_ap.apply(lambda x: x['price_aprox_usd'] if pd.notnull(x['price_aprox_usd']) \n",
    "                                                 else x['Description_Prices'], axis=1)"
   ]
  },
  {
   "cell_type": "code",
   "execution_count": 54,
   "metadata": {},
   "outputs": [
    {
     "data": {
      "text/plain": [
       "0.07780490833091917"
      ]
     },
     "execution_count": 54,
     "metadata": {},
     "output_type": "execute_result"
    }
   ],
   "source": [
    "data_ap['price_aprox_usd_clean'].isnull().sum()/data_ap.shape[0]"
   ]
  },
  {
   "cell_type": "markdown",
   "metadata": {},
   "source": [
    "Nos queda un 7% sin imputar"
   ]
  },
  {
   "cell_type": "markdown",
   "metadata": {},
   "source": [
    "_________________________________________________________________________________________________________"
   ]
  },
  {
   "cell_type": "markdown",
   "metadata": {},
   "source": [
    "<a id=\"section_m2\"></a>\n",
    "\n",
    "# Depuración de columnas surface_total_in_m2 y surface_covered_in_m2\n"
   ]
  },
  {
   "cell_type": "markdown",
   "metadata": {},
   "source": [
    "Lo primero que haremos es limpiar aquellos datos que no tengan sentido. Para ello, vamos a completar con nulos aquellos valores de m2 inferiores a 15m2, al igual que aquellos departamentos con valores superiores a los 1000m2. Cualquier valor por fuera de los mencionados es poco realista teniendo en cuenta que solo estamos considerando departamentos.\n",
    "\n",
    "."
   ]
  },
  {
   "cell_type": "code",
   "execution_count": 55,
   "metadata": {},
   "outputs": [
    {
     "name": "stdout",
     "output_type": "stream",
     "text": [
      "Hay 2 valores que superan los 1000 m2 totales\n",
      "Hay 28 valores que no superan los 15 m2 totales\n"
     ]
    }
   ],
   "source": [
    "print(\"Hay %s valores que superan los 1000 m2 totales\" % data_ap.loc[data_ap[\"surface_total_in_m2\"]>1000, \"surface_total_in_m2\"].shape[0])\n",
    "print(\"Hay %s valores que no superan los 15 m2 totales\" % data_ap.loc[data_ap[\"surface_total_in_m2\"]<15, \"surface_total_in_m2\"].shape[0])"
   ]
  },
  {
   "cell_type": "code",
   "execution_count": 56,
   "metadata": {},
   "outputs": [
    {
     "name": "stdout",
     "output_type": "stream",
     "text": [
      "Hay 0 valores que superan los 1000 m2 totales\n",
      "Hay 0 valores que no superan los 15 m2 totales\n"
     ]
    }
   ],
   "source": [
    "#Buscamos cuáles serían esos valores a reemplazar y los reemplazamos por nulos\n",
    "\n",
    "valores_a_reemplazar_1000 = data_ap.loc[data_ap[\"surface_total_in_m2\"]>1000 ,\"surface_total_in_m2\"].unique()\n",
    "valores_a_reemplazar_15 = data_ap.loc[data_ap[\"surface_total_in_m2\"]<15 , \"surface_total_in_m2\"].unique()\n",
    "data_ap[\"surface_total_in_m2\"]\n",
    "\n",
    "data_ap['surface_total_in_m2_ok'] = data_ap.apply(lambda x: np.NaN if ((x['surface_total_in_m2']>1000) | (x['surface_total_in_m2']<15) ) else x['surface_total_in_m2'], axis=1)\n",
    "\n",
    "print(\"Hay %s valores que superan los 1000 m2 totales\" % data_ap.loc[data_ap[\"surface_total_in_m2_ok\"]>1000,\"surface_total_in_m2_ok\"].shape[0])\n",
    "print(\"Hay %s valores que no superan los 15 m2 totales\" % data_ap.loc[data_ap[\"surface_total_in_m2_ok\"]<15,\"surface_total_in_m2_ok\"].shape[0])\n"
   ]
  },
  {
   "cell_type": "code",
   "execution_count": 57,
   "metadata": {},
   "outputs": [
    {
     "data": {
      "text/plain": [
       "False    19806\n",
       "True      4357\n",
       "Name: surface_total_in_m2_ok, dtype: int64"
      ]
     },
     "execution_count": 57,
     "metadata": {},
     "output_type": "execute_result"
    }
   ],
   "source": [
    "control_m2=data_ap['surface_total_in_m2_ok'].isnull().value_counts()\n",
    "control_m2"
   ]
  },
  {
   "cell_type": "code",
   "execution_count": 58,
   "metadata": {},
   "outputs": [
    {
     "data": {
      "text/html": [
       "<div>\n",
       "<style scoped>\n",
       "    .dataframe tbody tr th:only-of-type {\n",
       "        vertical-align: middle;\n",
       "    }\n",
       "\n",
       "    .dataframe tbody tr th {\n",
       "        vertical-align: top;\n",
       "    }\n",
       "\n",
       "    .dataframe thead th {\n",
       "        text-align: right;\n",
       "    }\n",
       "</style>\n",
       "<table border=\"1\" class=\"dataframe\">\n",
       "  <thead>\n",
       "    <tr style=\"text-align: right;\">\n",
       "      <th></th>\n",
       "      <th>surface_total_in_m2_ok</th>\n",
       "      <th>filtro_m2</th>\n",
       "    </tr>\n",
       "  </thead>\n",
       "  <tbody>\n",
       "    <tr>\n",
       "      <th>491</th>\n",
       "      <td>NaN</td>\n",
       "      <td>122.0</td>\n",
       "    </tr>\n",
       "    <tr>\n",
       "      <th>869</th>\n",
       "      <td>NaN</td>\n",
       "      <td>84.0</td>\n",
       "    </tr>\n",
       "    <tr>\n",
       "      <th>893</th>\n",
       "      <td>NaN</td>\n",
       "      <td>82.0</td>\n",
       "    </tr>\n",
       "    <tr>\n",
       "      <th>962</th>\n",
       "      <td>NaN</td>\n",
       "      <td>44.0</td>\n",
       "    </tr>\n",
       "    <tr>\n",
       "      <th>982</th>\n",
       "      <td>NaN</td>\n",
       "      <td>47.0</td>\n",
       "    </tr>\n",
       "    <tr>\n",
       "      <th>...</th>\n",
       "      <td>...</td>\n",
       "      <td>...</td>\n",
       "    </tr>\n",
       "    <tr>\n",
       "      <th>119896</th>\n",
       "      <td>NaN</td>\n",
       "      <td>63.0</td>\n",
       "    </tr>\n",
       "    <tr>\n",
       "      <th>119899</th>\n",
       "      <td>NaN</td>\n",
       "      <td>31.0</td>\n",
       "    </tr>\n",
       "    <tr>\n",
       "      <th>119901</th>\n",
       "      <td>NaN</td>\n",
       "      <td>43.0</td>\n",
       "    </tr>\n",
       "    <tr>\n",
       "      <th>119914</th>\n",
       "      <td>NaN</td>\n",
       "      <td>33.0</td>\n",
       "    </tr>\n",
       "    <tr>\n",
       "      <th>119916</th>\n",
       "      <td>NaN</td>\n",
       "      <td>55.0</td>\n",
       "    </tr>\n",
       "  </tbody>\n",
       "</table>\n",
       "<p>888 rows × 2 columns</p>\n",
       "</div>"
      ],
      "text/plain": [
       "        surface_total_in_m2_ok  filtro_m2\n",
       "491                        NaN      122.0\n",
       "869                        NaN       84.0\n",
       "893                        NaN       82.0\n",
       "962                        NaN       44.0\n",
       "982                        NaN       47.0\n",
       "...                        ...        ...\n",
       "119896                     NaN       63.0\n",
       "119899                     NaN       31.0\n",
       "119901                     NaN       43.0\n",
       "119914                     NaN       33.0\n",
       "119916                     NaN       55.0\n",
       "\n",
       "[888 rows x 2 columns]"
      ]
     },
     "execution_count": 58,
     "metadata": {},
     "output_type": "execute_result"
    }
   ],
   "source": [
    "#Ahora vamos a buscar en la columna \"description\" información para completar datos faltantes de superficie en m2.\n",
    "\n",
    "mask_m2_nulos = data_ap[data_ap[\"surface_total_in_m2_ok\"].isnull()]\n",
    "\n",
    "patron_m2 = re.compile(\"(?P<num_m2>\\d+)(?:\\s*m2)\")\n",
    "m2_find = mask_m2_nulos[\"description_sin_tilde\"].apply(lambda x:  x if x is np.NaN else patron_m2.findall(x))\n",
    "\n",
    "#Como muchas listas están vacias, asignamos nulos en lugar de listas vacias\n",
    "m2_find_ok = m2_find.where(m2_find.str.len() > 0, np.nan)\n",
    "\n",
    "#Me quedo con aquellas filas que no son nulas\n",
    "m2_find_ok_no_nulls = m2_find_ok.notnull()\n",
    "\n",
    "#Me voy a quedar ahora con el máximo valor de cada lista, que es el que interpretamos como el que mas probablemente represente\n",
    "#La superficie total de la propiedad\n",
    "max_m2 = m2_find_ok[m2_find_ok_no_nulls].apply(lambda x: max(x))\n",
    "\n",
    "nuevos_m2 = max_m2.astype(\"int64\")\n",
    "\n",
    "mayor = nuevos_m2 > 1000\n",
    "menor = nuevos_m2 < 15\n",
    "\n",
    "#Los valores que hay para asignar entonces son estos:\n",
    "filtro = nuevos_m2[~(mayor|menor)]\n",
    "\n",
    "data_ap[\"filtro_m2\"] = filtro\n",
    "\n",
    "data_ap.loc[data_ap[\"filtro_m2\"].notnull(),[\"surface_total_in_m2_ok\",\"filtro_m2\"]]\n"
   ]
  },
  {
   "cell_type": "code",
   "execution_count": 59,
   "metadata": {},
   "outputs": [],
   "source": [
    "data_ap['m2_total_clean'] = data_ap.apply(lambda x: x['surface_total_in_m2_ok'] if pd.notnull(x['surface_total_in_m2_ok']) \n",
    "                                          else x['filtro_m2'], axis=1)\n"
   ]
  },
  {
   "cell_type": "code",
   "execution_count": 60,
   "metadata": {},
   "outputs": [
    {
     "data": {
      "text/plain": [
       "3469"
      ]
     },
     "execution_count": 60,
     "metadata": {},
     "output_type": "execute_result"
    }
   ],
   "source": [
    "data_ap['m2_total_clean'].isnull().sum()"
   ]
  },
  {
   "cell_type": "code",
   "execution_count": 61,
   "metadata": {},
   "outputs": [],
   "source": [
    "nulos=control_m2[1]-data_ap['m2_total_clean'].isnull().sum()"
   ]
  },
  {
   "cell_type": "code",
   "execution_count": 62,
   "metadata": {},
   "outputs": [
    {
     "name": "stdout",
     "output_type": "stream",
     "text": [
      "Pudimos completar 888 de valores nulos\n"
     ]
    }
   ],
   "source": [
    "print(\"Pudimos completar %s de valores nulos\" %nulos)"
   ]
  },
  {
   "cell_type": "markdown",
   "metadata": {},
   "source": [
    "_________________________________________________________________________________________________________"
   ]
  },
  {
   "cell_type": "markdown",
   "metadata": {},
   "source": [
    "<a id=\"section_m2price\"></a> \n",
    "\n",
    "# Depuración price_usd_per_m2"
   ]
  },
  {
   "cell_type": "markdown",
   "metadata": {},
   "source": [
    "Calculamos el precio en USD por metro cuadrado para completar los registros faltantes."
   ]
  },
  {
   "cell_type": "code",
   "execution_count": 63,
   "metadata": {},
   "outputs": [],
   "source": [
    "data_ap['price_usd_per_m2_calc']=data_ap['price_aprox_usd_clean']/data_ap['m2_total_clean']"
   ]
  },
  {
   "cell_type": "code",
   "execution_count": 64,
   "metadata": {},
   "outputs": [
    {
     "data": {
      "text/plain": [
       "3334.5280088921772"
      ]
     },
     "execution_count": 64,
     "metadata": {},
     "output_type": "execute_result"
    }
   ],
   "source": [
    "data_ap['price_usd_per_m2_calc'].mean()"
   ]
  },
  {
   "cell_type": "code",
   "execution_count": 65,
   "metadata": {},
   "outputs": [],
   "source": [
    "data_ap['price_usd_per_m2_clean'] = data_ap.apply(lambda x: x['price_usd_per_m2'] if pd.notnull(x['price_usd_per_m2']) \n",
    "                                          else x['price_usd_per_m2_calc'], axis=1)\n"
   ]
  },
  {
   "cell_type": "markdown",
   "metadata": {},
   "source": [
    "Analizamos los datos obtenidos"
   ]
  },
  {
   "cell_type": "code",
   "execution_count": 66,
   "metadata": {},
   "outputs": [
    {
     "data": {
      "text/html": [
       "<div>\n",
       "<style scoped>\n",
       "    .dataframe tbody tr th:only-of-type {\n",
       "        vertical-align: middle;\n",
       "    }\n",
       "\n",
       "    .dataframe tbody tr th {\n",
       "        vertical-align: top;\n",
       "    }\n",
       "\n",
       "    .dataframe thead th {\n",
       "        text-align: right;\n",
       "    }\n",
       "</style>\n",
       "<table border=\"1\" class=\"dataframe\">\n",
       "  <thead>\n",
       "    <tr style=\"text-align: right;\">\n",
       "      <th></th>\n",
       "      <th>price_usd_per_m2_clean</th>\n",
       "    </tr>\n",
       "  </thead>\n",
       "  <tbody>\n",
       "    <tr>\n",
       "      <th>count</th>\n",
       "      <td>18965.000000</td>\n",
       "    </tr>\n",
       "    <tr>\n",
       "      <th>mean</th>\n",
       "      <td>3343.288642</td>\n",
       "    </tr>\n",
       "    <tr>\n",
       "      <th>std</th>\n",
       "      <td>4042.127476</td>\n",
       "    </tr>\n",
       "    <tr>\n",
       "      <th>min</th>\n",
       "      <td>0.039358</td>\n",
       "    </tr>\n",
       "    <tr>\n",
       "      <th>25%</th>\n",
       "      <td>2082.191781</td>\n",
       "    </tr>\n",
       "    <tr>\n",
       "      <th>50%</th>\n",
       "      <td>2550.684932</td>\n",
       "    </tr>\n",
       "    <tr>\n",
       "      <th>75%</th>\n",
       "      <td>3184.444444</td>\n",
       "    </tr>\n",
       "    <tr>\n",
       "      <th>max</th>\n",
       "      <td>206333.333333</td>\n",
       "    </tr>\n",
       "  </tbody>\n",
       "</table>\n",
       "</div>"
      ],
      "text/plain": [
       "       price_usd_per_m2_clean\n",
       "count            18965.000000\n",
       "mean              3343.288642\n",
       "std               4042.127476\n",
       "min                  0.039358\n",
       "25%               2082.191781\n",
       "50%               2550.684932\n",
       "75%               3184.444444\n",
       "max             206333.333333"
      ]
     },
     "execution_count": 66,
     "metadata": {},
     "output_type": "execute_result"
    }
   ],
   "source": [
    "estadisticos_m2=pd.DataFrame(data_ap['price_usd_per_m2_clean'].describe())\n",
    "estadisticos_m2"
   ]
  },
  {
   "cell_type": "markdown",
   "metadata": {},
   "source": [
    "* Observamos varios outliers ya que el precio promedio del metro cuadrado es mayor al percentil 75%"
   ]
  },
  {
   "cell_type": "markdown",
   "metadata": {},
   "source": [
    "Calculamos los outliers a partir del conseso estadistico del rango intercuartil"
   ]
  },
  {
   "cell_type": "code",
   "execution_count": 67,
   "metadata": {},
   "outputs": [
    {
     "name": "stdout",
     "output_type": "stream",
     "text": [
      "price_usd_per_m2_clean    4837.8234\n",
      "dtype: float64\n"
     ]
    }
   ],
   "source": [
    "outlier_top=estadisticos_m2.loc['75%']+(estadisticos_m2.loc['75%']-estadisticos_m2.loc['25%'])*1.5\n",
    "print(outlier_top.round(4))"
   ]
  },
  {
   "cell_type": "code",
   "execution_count": 70,
   "metadata": {},
   "outputs": [
    {
     "name": "stdout",
     "output_type": "stream",
     "text": [
      "price_usd_per_m2_clean    1531.0654\n",
      "dtype: float64\n"
     ]
    }
   ],
   "source": [
    "outlier_bottom=estadisticos_m2.loc['75%']-(estadisticos_m2.loc['75%']-estadisticos_m2.loc['25%'])*1.5\n",
    "print(outlier_bottom.round(4))"
   ]
  },
  {
   "cell_type": "markdown",
   "metadata": {},
   "source": [
    "Con los valores obtenidos y el análisis de los datos de la base, decidimos topear los outliers en el percentil 95. Ya que consideramos que es problable según el barrio de la propiedad que el precio por metro cuadrado sea mayor que 4836. A modo de ejemplo analizamos los registros de 'Puerto Madero' y vemos que superan este valor."
   ]
  },
  {
   "cell_type": "code",
   "execution_count": 71,
   "metadata": {},
   "outputs": [
    {
     "ename": "ValueError",
     "evalue": "Cannot index with multidimensional key",
     "output_type": "error",
     "traceback": [
      "\u001b[1;31m---------------------------------------------------------------------------\u001b[0m",
      "\u001b[1;31mValueError\u001b[0m                                Traceback (most recent call last)",
      "\u001b[1;32m<ipython-input-71-c7f596ae29b9>\u001b[0m in \u001b[0;36m<module>\u001b[1;34m\u001b[0m\n\u001b[1;32m----> 1\u001b[1;33m \u001b[0mdata_ap\u001b[0m\u001b[1;33m.\u001b[0m\u001b[0mloc\u001b[0m\u001b[1;33m[\u001b[0m\u001b[0mdata_ap\u001b[0m\u001b[1;33m[\u001b[0m\u001b[1;34m'Barrio'\u001b[0m\u001b[1;33m]\u001b[0m\u001b[1;33m==\u001b[0m\u001b[1;34m'Puerto Madero'\u001b[0m\u001b[1;33m,\u001b[0m\u001b[1;34m'price_usd_per_m2_clean'\u001b[0m\u001b[1;33m]\u001b[0m\u001b[1;33m.\u001b[0m\u001b[0mdescribe\u001b[0m\u001b[1;33m(\u001b[0m\u001b[1;33m)\u001b[0m\u001b[1;33m\u001b[0m\u001b[1;33m\u001b[0m\u001b[0m\n\u001b[0m",
      "\u001b[1;32m~\\Anaconda3\\envs\\dhdsblend\\lib\\site-packages\\pandas\\core\\indexing.py\u001b[0m in \u001b[0;36m__getitem__\u001b[1;34m(self, key)\u001b[0m\n\u001b[0;32m   1760\u001b[0m                 \u001b[1;32mexcept\u001b[0m \u001b[1;33m(\u001b[0m\u001b[0mKeyError\u001b[0m\u001b[1;33m,\u001b[0m \u001b[0mIndexError\u001b[0m\u001b[1;33m,\u001b[0m \u001b[0mAttributeError\u001b[0m\u001b[1;33m)\u001b[0m\u001b[1;33m:\u001b[0m\u001b[1;33m\u001b[0m\u001b[1;33m\u001b[0m\u001b[0m\n\u001b[0;32m   1761\u001b[0m                     \u001b[1;32mpass\u001b[0m\u001b[1;33m\u001b[0m\u001b[1;33m\u001b[0m\u001b[0m\n\u001b[1;32m-> 1762\u001b[1;33m             \u001b[1;32mreturn\u001b[0m \u001b[0mself\u001b[0m\u001b[1;33m.\u001b[0m\u001b[0m_getitem_tuple\u001b[0m\u001b[1;33m(\u001b[0m\u001b[0mkey\u001b[0m\u001b[1;33m)\u001b[0m\u001b[1;33m\u001b[0m\u001b[1;33m\u001b[0m\u001b[0m\n\u001b[0m\u001b[0;32m   1763\u001b[0m         \u001b[1;32melse\u001b[0m\u001b[1;33m:\u001b[0m\u001b[1;33m\u001b[0m\u001b[1;33m\u001b[0m\u001b[0m\n\u001b[0;32m   1764\u001b[0m             \u001b[1;31m# we by definition only have the 0th axis\u001b[0m\u001b[1;33m\u001b[0m\u001b[1;33m\u001b[0m\u001b[1;33m\u001b[0m\u001b[0m\n",
      "\u001b[1;32m~\\Anaconda3\\envs\\dhdsblend\\lib\\site-packages\\pandas\\core\\indexing.py\u001b[0m in \u001b[0;36m_getitem_tuple\u001b[1;34m(self, tup)\u001b[0m\n\u001b[0;32m   1270\u001b[0m     \u001b[1;32mdef\u001b[0m \u001b[0m_getitem_tuple\u001b[0m\u001b[1;33m(\u001b[0m\u001b[0mself\u001b[0m\u001b[1;33m,\u001b[0m \u001b[0mtup\u001b[0m\u001b[1;33m:\u001b[0m \u001b[0mTuple\u001b[0m\u001b[1;33m)\u001b[0m\u001b[1;33m:\u001b[0m\u001b[1;33m\u001b[0m\u001b[1;33m\u001b[0m\u001b[0m\n\u001b[0;32m   1271\u001b[0m         \u001b[1;32mtry\u001b[0m\u001b[1;33m:\u001b[0m\u001b[1;33m\u001b[0m\u001b[1;33m\u001b[0m\u001b[0m\n\u001b[1;32m-> 1272\u001b[1;33m             \u001b[1;32mreturn\u001b[0m \u001b[0mself\u001b[0m\u001b[1;33m.\u001b[0m\u001b[0m_getitem_lowerdim\u001b[0m\u001b[1;33m(\u001b[0m\u001b[0mtup\u001b[0m\u001b[1;33m)\u001b[0m\u001b[1;33m\u001b[0m\u001b[1;33m\u001b[0m\u001b[0m\n\u001b[0m\u001b[0;32m   1273\u001b[0m         \u001b[1;32mexcept\u001b[0m \u001b[0mIndexingError\u001b[0m\u001b[1;33m:\u001b[0m\u001b[1;33m\u001b[0m\u001b[1;33m\u001b[0m\u001b[0m\n\u001b[0;32m   1274\u001b[0m             \u001b[1;32mpass\u001b[0m\u001b[1;33m\u001b[0m\u001b[1;33m\u001b[0m\u001b[0m\n",
      "\u001b[1;32m~\\Anaconda3\\envs\\dhdsblend\\lib\\site-packages\\pandas\\core\\indexing.py\u001b[0m in \u001b[0;36m_getitem_lowerdim\u001b[1;34m(self, tup)\u001b[0m\n\u001b[0;32m   1419\u001b[0m                     \u001b[1;32mreturn\u001b[0m \u001b[0msection\u001b[0m\u001b[1;33m\u001b[0m\u001b[1;33m\u001b[0m\u001b[0m\n\u001b[0;32m   1420\u001b[0m                 \u001b[1;31m# This is an elided recursive call to iloc/loc/etc'\u001b[0m\u001b[1;33m\u001b[0m\u001b[1;33m\u001b[0m\u001b[1;33m\u001b[0m\u001b[0m\n\u001b[1;32m-> 1421\u001b[1;33m                 \u001b[1;32mreturn\u001b[0m \u001b[0mgetattr\u001b[0m\u001b[1;33m(\u001b[0m\u001b[0msection\u001b[0m\u001b[1;33m,\u001b[0m \u001b[0mself\u001b[0m\u001b[1;33m.\u001b[0m\u001b[0mname\u001b[0m\u001b[1;33m)\u001b[0m\u001b[1;33m[\u001b[0m\u001b[0mnew_key\u001b[0m\u001b[1;33m]\u001b[0m\u001b[1;33m\u001b[0m\u001b[1;33m\u001b[0m\u001b[0m\n\u001b[0m\u001b[0;32m   1422\u001b[0m \u001b[1;33m\u001b[0m\u001b[0m\n\u001b[0;32m   1423\u001b[0m         \u001b[1;32mraise\u001b[0m \u001b[0mIndexingError\u001b[0m\u001b[1;33m(\u001b[0m\u001b[1;34m\"not applicable\"\u001b[0m\u001b[1;33m)\u001b[0m\u001b[1;33m\u001b[0m\u001b[1;33m\u001b[0m\u001b[0m\n",
      "\u001b[1;32m~\\Anaconda3\\envs\\dhdsblend\\lib\\site-packages\\pandas\\core\\indexing.py\u001b[0m in \u001b[0;36m__getitem__\u001b[1;34m(self, key)\u001b[0m\n\u001b[0;32m   1766\u001b[0m \u001b[1;33m\u001b[0m\u001b[0m\n\u001b[0;32m   1767\u001b[0m             \u001b[0mmaybe_callable\u001b[0m \u001b[1;33m=\u001b[0m \u001b[0mcom\u001b[0m\u001b[1;33m.\u001b[0m\u001b[0mapply_if_callable\u001b[0m\u001b[1;33m(\u001b[0m\u001b[0mkey\u001b[0m\u001b[1;33m,\u001b[0m \u001b[0mself\u001b[0m\u001b[1;33m.\u001b[0m\u001b[0mobj\u001b[0m\u001b[1;33m)\u001b[0m\u001b[1;33m\u001b[0m\u001b[1;33m\u001b[0m\u001b[0m\n\u001b[1;32m-> 1768\u001b[1;33m             \u001b[1;32mreturn\u001b[0m \u001b[0mself\u001b[0m\u001b[1;33m.\u001b[0m\u001b[0m_getitem_axis\u001b[0m\u001b[1;33m(\u001b[0m\u001b[0mmaybe_callable\u001b[0m\u001b[1;33m,\u001b[0m \u001b[0maxis\u001b[0m\u001b[1;33m=\u001b[0m\u001b[0maxis\u001b[0m\u001b[1;33m)\u001b[0m\u001b[1;33m\u001b[0m\u001b[1;33m\u001b[0m\u001b[0m\n\u001b[0m\u001b[0;32m   1769\u001b[0m \u001b[1;33m\u001b[0m\u001b[0m\n\u001b[0;32m   1770\u001b[0m     \u001b[1;32mdef\u001b[0m \u001b[0m_is_scalar_access\u001b[0m\u001b[1;33m(\u001b[0m\u001b[0mself\u001b[0m\u001b[1;33m,\u001b[0m \u001b[0mkey\u001b[0m\u001b[1;33m:\u001b[0m \u001b[0mTuple\u001b[0m\u001b[1;33m)\u001b[0m\u001b[1;33m:\u001b[0m\u001b[1;33m\u001b[0m\u001b[1;33m\u001b[0m\u001b[0m\n",
      "\u001b[1;32m~\\Anaconda3\\envs\\dhdsblend\\lib\\site-packages\\pandas\\core\\indexing.py\u001b[0m in \u001b[0;36m_getitem_axis\u001b[1;34m(self, key, axis)\u001b[0m\n\u001b[0;32m   1950\u001b[0m \u001b[1;33m\u001b[0m\u001b[0m\n\u001b[0;32m   1951\u001b[0m                 \u001b[1;32mif\u001b[0m \u001b[0mhasattr\u001b[0m\u001b[1;33m(\u001b[0m\u001b[0mkey\u001b[0m\u001b[1;33m,\u001b[0m \u001b[1;34m\"ndim\"\u001b[0m\u001b[1;33m)\u001b[0m \u001b[1;32mand\u001b[0m \u001b[0mkey\u001b[0m\u001b[1;33m.\u001b[0m\u001b[0mndim\u001b[0m \u001b[1;33m>\u001b[0m \u001b[1;36m1\u001b[0m\u001b[1;33m:\u001b[0m\u001b[1;33m\u001b[0m\u001b[1;33m\u001b[0m\u001b[0m\n\u001b[1;32m-> 1952\u001b[1;33m                     \u001b[1;32mraise\u001b[0m \u001b[0mValueError\u001b[0m\u001b[1;33m(\u001b[0m\u001b[1;34m\"Cannot index with multidimensional key\"\u001b[0m\u001b[1;33m)\u001b[0m\u001b[1;33m\u001b[0m\u001b[1;33m\u001b[0m\u001b[0m\n\u001b[0m\u001b[0;32m   1953\u001b[0m \u001b[1;33m\u001b[0m\u001b[0m\n\u001b[0;32m   1954\u001b[0m                 \u001b[1;32mreturn\u001b[0m \u001b[0mself\u001b[0m\u001b[1;33m.\u001b[0m\u001b[0m_getitem_iterable\u001b[0m\u001b[1;33m(\u001b[0m\u001b[0mkey\u001b[0m\u001b[1;33m,\u001b[0m \u001b[0maxis\u001b[0m\u001b[1;33m=\u001b[0m\u001b[0maxis\u001b[0m\u001b[1;33m)\u001b[0m\u001b[1;33m\u001b[0m\u001b[1;33m\u001b[0m\u001b[0m\n",
      "\u001b[1;31mValueError\u001b[0m: Cannot index with multidimensional key"
     ]
    }
   ],
   "source": [
    "data_ap.loc[data_ap['Barrio']=='Puerto Madero','price_usd_per_m2_clean'].describe()"
   ]
  },
  {
   "cell_type": "markdown",
   "metadata": {},
   "source": [
    "#### Vamos a calcular el percentil 95 para topearlo"
   ]
  },
  {
   "cell_type": "code",
   "execution_count": 72,
   "metadata": {},
   "outputs": [
    {
     "data": {
      "text/plain": [
       "6571.4286"
      ]
     },
     "execution_count": 72,
     "metadata": {},
     "output_type": "execute_result"
    }
   ],
   "source": [
    "q_cap_top=data_ap['price_usd_per_m2_clean'].quantile(0.95)\n",
    "q_cap_top.round(4)"
   ]
  },
  {
   "cell_type": "code",
   "execution_count": 73,
   "metadata": {},
   "outputs": [],
   "source": [
    "data_ap['price_usd_per_m2_clean']=np.minimum(data_ap['price_usd_per_m2_clean'],q_cap_top)"
   ]
  },
  {
   "cell_type": "markdown",
   "metadata": {},
   "source": [
    "#### Vamos a calcular el percentil 1 para limitarlo"
   ]
  },
  {
   "cell_type": "code",
   "execution_count": 74,
   "metadata": {},
   "outputs": [
    {
     "data": {
      "text/plain": [
       "691.7772"
      ]
     },
     "execution_count": 74,
     "metadata": {},
     "output_type": "execute_result"
    }
   ],
   "source": [
    "q_cap_bottom=data_ap['price_usd_per_m2_clean'].quantile(0.01)\n",
    "q_cap_bottom.round(4)"
   ]
  },
  {
   "cell_type": "code",
   "execution_count": 75,
   "metadata": {},
   "outputs": [],
   "source": [
    "data_ap['price_usd_per_m2_clean']=np.maximum(data_ap['price_usd_per_m2_clean'],q_cap_bottom)"
   ]
  },
  {
   "cell_type": "code",
   "execution_count": 76,
   "metadata": {},
   "outputs": [
    {
     "data": {
      "text/plain": [
       "count    18965.000000\n",
       "mean      2859.310834\n",
       "std       1274.209398\n",
       "min        691.777217\n",
       "25%       2082.191781\n",
       "50%       2550.684932\n",
       "75%       3184.444444\n",
       "max       6571.428571\n",
       "Name: price_usd_per_m2_clean, dtype: float64"
      ]
     },
     "execution_count": 76,
     "metadata": {},
     "output_type": "execute_result"
    }
   ],
   "source": [
    "data_ap['price_usd_per_m2_clean'].describe()"
   ]
  },
  {
   "cell_type": "markdown",
   "metadata": {},
   "source": [
    "### Calculamos la media nuevamente"
   ]
  },
  {
   "cell_type": "code",
   "execution_count": 77,
   "metadata": {},
   "outputs": [],
   "source": [
    "media_precio_m2=data_ap['price_usd_per_m2_clean'].mean()\n",
    "# media_precio_m2.round(4)"
   ]
  },
  {
   "cell_type": "code",
   "execution_count": 78,
   "metadata": {},
   "outputs": [
    {
     "data": {
      "text/plain": [
       "Text(0.5, 1.0, 'Distribución precio por metro cuadado')"
      ]
     },
     "execution_count": 78,
     "metadata": {},
     "output_type": "execute_result"
    },
    {
     "data": {
      "image/png": "[encoded data removed]",
      "text/plain": [
       "<Figure size 432x288 with 1 Axes>"
      ]
     },
     "metadata": {
      "needs_background": "light"
     },
     "output_type": "display_data"
    }
   ],
   "source": [
    "#Distribución original de precio por m2\n",
    "ax = sns.distplot(data_ap['price_usd_per_m2'], color='g')\n",
    "ax.set_title('Distribución precio por metro cuadado')"
   ]
  },
  {
   "cell_type": "code",
   "execution_count": 79,
   "metadata": {},
   "outputs": [
    {
     "data": {
      "text/plain": [
       "Text(0.5, 1.0, 'Distribución precio por metro cuadado')"
      ]
     },
     "execution_count": 79,
     "metadata": {},
     "output_type": "execute_result"
    },
    {
     "data": {
      "image/png": "[encoded data removed]",
      "text/plain": [
       "<Figure size 432x288 with 1 Axes>"
      ]
     },
     "metadata": {
      "needs_background": "light"
     },
     "output_type": "display_data"
    }
   ],
   "source": [
    "#Distribución nueva de precio por m2\n",
    "ax = sns.distplot(data_ap['price_usd_per_m2_clean'], color='g')\n",
    "ax.set_title('Distribución precio por metro cuadado')"
   ]
  },
  {
   "cell_type": "markdown",
   "metadata": {},
   "source": [
    "<a id=\"section_floor\"></a>\n",
    "# Depuración columna Floor\n",
    "\n",
    "Vamos a buscar en la columna \"description\" todas aquellas líneas que diga \"piso\" para completar nulos en el campo \"floor\". En los casos en que el aviso se refiere a varios pisos (Ej. \"disponibles segundo, tercer y cuarto piso\") tomaremos solo uno de los valores. Procedemos entonces a reemplazar letras por números."
   ]
  },
  {
   "cell_type": "code",
   "execution_count": 70,
   "metadata": {},
   "outputs": [],
   "source": [
    "patron=\"decimo\"\n",
    "regex_patron=re.compile(patron)\n",
    "data_ap['description_sin_tilde']=data_ap['description_sin_tilde'].apply(lambda x: x if x is np.NaN else regex_patron.sub(\"10\",x))\n",
    "\n",
    "patron=\"noveno\"\n",
    "regex_patron=re.compile(patron)\n",
    "data_ap['description_sin_tilde']=data_ap['description_sin_tilde'].apply(lambda x: x if x is np.NaN else regex_patron.sub(\"9\",x))\n",
    "\n",
    "patron=\"octavo\"\n",
    "regex_patron=re.compile(patron)\n",
    "data_ap['description_sin_tilde']=data_ap['description_sin_tilde'].apply(lambda x: x if x is np.NaN else regex_patron.sub(\"8\",x))\n",
    "\n",
    "patron=\"septimo\"\n",
    "regex_patron=re.compile(patron)\n",
    "data_ap['description_sin_tilde']=data_ap['description_sin_tilde'].apply(lambda x: x if x is np.NaN else regex_patron.sub(\"7\",x))\n",
    "\n",
    "patron=\"sexto\"\n",
    "regex_patron=re.compile(patron)\n",
    "data_ap['description_sin_tilde']=data_ap['description_sin_tilde'].apply(lambda x: x if x is np.NaN else regex_patron.sub(\"6\",x))\n",
    "\n",
    "patron=\"quinto\"\n",
    "regex_patron=re.compile(patron)\n",
    "data_ap['description_sin_tilde']=data_ap['description_sin_tilde'].apply(lambda x: x if x is np.NaN else regex_patron.sub(\"5\",x))\n",
    "\n",
    "patron=\"cuarto\"\n",
    "regex_patron=re.compile(patron)\n",
    "data_ap['description_sin_tilde']=data_ap['description_sin_tilde'].apply(lambda x: x if x is np.NaN else regex_patron.sub(\"4\",x))\n",
    "\n",
    "patron=\"tercero\"\n",
    "regex_patron=re.compile(patron)\n",
    "data_ap['description_sin_tilde']=data_ap['description_sin_tilde'].apply(lambda x: x if x is np.NaN else regex_patron.sub(\"3\",x))\n",
    "\n",
    "patron=\"segundo\"\n",
    "regex_patron=re.compile(patron)\n",
    "data_ap['description_sin_tilde']=data_ap['description_sin_tilde'].apply(lambda x: x if x is np.NaN else regex_patron.sub(\"2\",x))\n",
    "\n",
    "patron=\"primero\"\n",
    "regex_patron=re.compile(patron)\n",
    "data_ap['description_sin_tilde']=data_ap['description_sin_tilde'].apply(lambda x: x if x is np.NaN else regex_patron.sub(\"1\",x))\n",
    "\n",
    "#Buscamos también los registros que hagan referencia a la planta baja\n",
    "patron_pisos_PB=\"(\\splanta\\sbaja)\"\n",
    "regex_pisos_PB=re.compile(patron_pisos_PB)\n",
    "match_PB=data_ap['description_sin_tilde'].apply(lambda x: x if x is np.NaN else regex_pisos_PB.search(x))"
   ]
  },
  {
   "cell_type": "code",
   "execution_count": 71,
   "metadata": {},
   "outputs": [
    {
     "name": "stdout",
     "output_type": "stream",
     "text": [
      "1964\n"
     ]
    },
    {
     "data": {
      "text/plain": [
       "2         NaN\n",
       "7         NaN\n",
       "8         NaN\n",
       "13        NaN\n",
       "14        NaN\n",
       "         ... \n",
       "121158    NaN\n",
       "121209    NaN\n",
       "121215    NaN\n",
       "121217    NaN\n",
       "121219    NaN\n",
       "Name: piso_clean, Length: 24163, dtype: object"
      ]
     },
     "execution_count": 71,
     "metadata": {},
     "output_type": "execute_result"
    }
   ],
   "source": [
    "# Creamos la variable piso_clean indicando como 0 aquellos registros que hagan referencia a una planta baja.\n",
    "\n",
    "data_ap.loc[match_PB.notnull(),'piso_clean']=\"0\"\n",
    "\n",
    "print(data_ap['piso_clean'].notnull().sum())\n",
    "data_ap['piso_clean']"
   ]
  },
  {
   "cell_type": "code",
   "execution_count": 72,
   "metadata": {},
   "outputs": [
    {
     "name": "stdout",
     "output_type": "stream",
     "text": [
      "(2988, 1)\n",
      "(5777, 1)\n",
      "(6661, 1)\n"
     ]
    },
    {
     "data": {
      "text/html": [
       "<div>\n",
       "<style scoped>\n",
       "    .dataframe tbody tr th:only-of-type {\n",
       "        vertical-align: middle;\n",
       "    }\n",
       "\n",
       "    .dataframe tbody tr th {\n",
       "        vertical-align: top;\n",
       "    }\n",
       "\n",
       "    .dataframe thead th {\n",
       "        text-align: right;\n",
       "    }\n",
       "</style>\n",
       "<table border=\"1\" class=\"dataframe\">\n",
       "  <thead>\n",
       "    <tr style=\"text-align: right;\">\n",
       "      <th></th>\n",
       "      <th>piso_clean</th>\n",
       "      <th>floor</th>\n",
       "    </tr>\n",
       "  </thead>\n",
       "  <tbody>\n",
       "    <tr>\n",
       "      <th>2</th>\n",
       "      <td>3</td>\n",
       "      <td>NaN</td>\n",
       "    </tr>\n",
       "    <tr>\n",
       "      <th>48</th>\n",
       "      <td>13</td>\n",
       "      <td>NaN</td>\n",
       "    </tr>\n",
       "    <tr>\n",
       "      <th>52</th>\n",
       "      <td>10</td>\n",
       "      <td>NaN</td>\n",
       "    </tr>\n",
       "    <tr>\n",
       "      <th>97</th>\n",
       "      <td>15</td>\n",
       "      <td>NaN</td>\n",
       "    </tr>\n",
       "    <tr>\n",
       "      <th>120</th>\n",
       "      <td>12</td>\n",
       "      <td>12.0</td>\n",
       "    </tr>\n",
       "    <tr>\n",
       "      <th>...</th>\n",
       "      <td>...</td>\n",
       "      <td>...</td>\n",
       "    </tr>\n",
       "    <tr>\n",
       "      <th>121136</th>\n",
       "      <td>0</td>\n",
       "      <td>NaN</td>\n",
       "    </tr>\n",
       "    <tr>\n",
       "      <th>121137</th>\n",
       "      <td>0</td>\n",
       "      <td>NaN</td>\n",
       "    </tr>\n",
       "    <tr>\n",
       "      <th>121152</th>\n",
       "      <td>3</td>\n",
       "      <td>NaN</td>\n",
       "    </tr>\n",
       "    <tr>\n",
       "      <th>121157</th>\n",
       "      <td>16</td>\n",
       "      <td>NaN</td>\n",
       "    </tr>\n",
       "    <tr>\n",
       "      <th>121209</th>\n",
       "      <td>1</td>\n",
       "      <td>NaN</td>\n",
       "    </tr>\n",
       "  </tbody>\n",
       "</table>\n",
       "<p>6661 rows × 2 columns</p>\n",
       "</div>"
      ],
      "text/plain": [
       "       piso_clean  floor\n",
       "2               3    NaN\n",
       "48             13    NaN\n",
       "52             10    NaN\n",
       "97             15    NaN\n",
       "120            12   12.0\n",
       "...           ...    ...\n",
       "121136          0    NaN\n",
       "121137          0    NaN\n",
       "121152          3    NaN\n",
       "121157         16    NaN\n",
       "121209          1    NaN\n",
       "\n",
       "[6661 rows x 2 columns]"
      ]
     },
     "execution_count": 72,
     "metadata": {},
     "output_type": "execute_result"
    }
   ],
   "source": [
    "#Buscamos los registros que hagan referencia a 4to piso\n",
    "\n",
    "patron_pisos_1=\"(\\s(?P<piso>\\d{1,2})[a-z]{1,2} piso)\"\n",
    "regex_pisos_1=re.compile(patron_pisos_1)\n",
    "\n",
    "#Completamos la variable piso_clean con la data encontrada\n",
    "\n",
    "match_1=data_ap['description_sin_tilde'].apply(lambda x: x if x is np.NaN else regex_pisos_1.search(x))\n",
    "\n",
    "data_ap.loc[match_1.notnull(),'piso_clean']=match_1[match_1.notnull()].apply(lambda x: x.group(\"piso\"))\n",
    "pisos=data_ap[data_ap['piso_clean'].notnull()][['piso_clean']]\n",
    "print(pisos.shape)\n",
    "\n",
    "#Buscamos los registros que hagan referencia a 3 piso\n",
    "\n",
    "patron_pisos_2=\"(\\s(?P<piso>\\d{1,2})\\spiso)\"\n",
    "regex_pisos_2=re.compile(patron_pisos_2)\n",
    "\n",
    "#Completamos la variable piso_clean con la data encontrada\n",
    "\n",
    "match_2=data_ap['description_sin_tilde'].apply(lambda x: x if x is np.NaN else regex_pisos_2.search(x))\n",
    "\n",
    "data_ap.loc[match_2.notnull(),'piso_clean']=match_2[match_2.notnull()].apply(lambda x: x.group(\"piso\"))\n",
    "pisos=data_ap[data_ap['piso_clean'].notnull()][['piso_clean']]\n",
    "print(pisos.shape)\n",
    "\n",
    "# Buscamos los registros que hagan referencia a piso 3\n",
    "\n",
    "patron_pisos_3=\"(\\spiso\\s(?P<piso>\\d{1,2}))\"\n",
    "regex_pisos_3=re.compile(patron_pisos_3)\n",
    "\n",
    "#Completamos la variable piso_clean con la data encontrada\n",
    "\n",
    "match_3=data_ap['description_sin_tilde'].apply(lambda x: x if x is np.NaN else regex_pisos_3.search(x))\n",
    "\n",
    "data_ap.loc[match_3.notnull(),'piso_clean']=match_3[match_3.notnull()].apply(lambda x: x.group(\"piso\"))\n",
    "pisos=data_ap[data_ap['piso_clean'].notnull()][['piso_clean']]\n",
    "print(pisos.shape)\n",
    "\n",
    "data_ap.loc[data_ap['piso_clean'].notnull(),['piso_clean','floor']]\n"
   ]
  },
  {
   "cell_type": "code",
   "execution_count": 73,
   "metadata": {},
   "outputs": [
    {
     "data": {
      "text/html": [
       "<div>\n",
       "<style scoped>\n",
       "    .dataframe tbody tr th:only-of-type {\n",
       "        vertical-align: middle;\n",
       "    }\n",
       "\n",
       "    .dataframe tbody tr th {\n",
       "        vertical-align: top;\n",
       "    }\n",
       "\n",
       "    .dataframe thead th {\n",
       "        text-align: right;\n",
       "    }\n",
       "</style>\n",
       "<table border=\"1\" class=\"dataframe\">\n",
       "  <thead>\n",
       "    <tr style=\"text-align: right;\">\n",
       "      <th></th>\n",
       "      <th>floor</th>\n",
       "      <th>piso_clean</th>\n",
       "      <th>floor_clean</th>\n",
       "    </tr>\n",
       "  </thead>\n",
       "  <tbody>\n",
       "    <tr>\n",
       "      <th>120</th>\n",
       "      <td>12.0</td>\n",
       "      <td>12</td>\n",
       "      <td>12</td>\n",
       "    </tr>\n",
       "    <tr>\n",
       "      <th>166</th>\n",
       "      <td>6.0</td>\n",
       "      <td>20</td>\n",
       "      <td>6</td>\n",
       "    </tr>\n",
       "    <tr>\n",
       "      <th>341</th>\n",
       "      <td>2.0</td>\n",
       "      <td>NaN</td>\n",
       "      <td>2</td>\n",
       "    </tr>\n",
       "    <tr>\n",
       "      <th>355</th>\n",
       "      <td>7.0</td>\n",
       "      <td>NaN</td>\n",
       "      <td>7</td>\n",
       "    </tr>\n",
       "    <tr>\n",
       "      <th>356</th>\n",
       "      <td>8.0</td>\n",
       "      <td>NaN</td>\n",
       "      <td>8</td>\n",
       "    </tr>\n",
       "  </tbody>\n",
       "</table>\n",
       "</div>"
      ],
      "text/plain": [
       "     floor piso_clean floor_clean\n",
       "120   12.0         12          12\n",
       "166    6.0         20           6\n",
       "341    2.0        NaN           2\n",
       "355    7.0        NaN           7\n",
       "356    8.0        NaN           8"
      ]
     },
     "execution_count": 73,
     "metadata": {},
     "output_type": "execute_result"
    }
   ],
   "source": [
    "# Unimos la informacion de floor. Si en floor hay datos lo mantenemos, sino completamos con la variable calculada de piso_clean\n",
    "\n",
    "data_ap['floor_clean'] = data_ap.apply(lambda x: x['floor'] if pd.notnull(x['floor']) else x['piso_clean'], axis=1)\n",
    "\n",
    "# Chequeamos si en los casos donde había datos en floor se completó correctamente\n",
    "\n",
    "data_ap.loc[data_ap['floor'].notnull(),['floor','piso_clean','floor_clean']].head()"
   ]
  },
  {
   "cell_type": "code",
   "execution_count": 74,
   "metadata": {},
   "outputs": [
    {
     "data": {
      "text/html": [
       "<div>\n",
       "<style scoped>\n",
       "    .dataframe tbody tr th:only-of-type {\n",
       "        vertical-align: middle;\n",
       "    }\n",
       "\n",
       "    .dataframe tbody tr th {\n",
       "        vertical-align: top;\n",
       "    }\n",
       "\n",
       "    .dataframe thead th {\n",
       "        text-align: right;\n",
       "    }\n",
       "</style>\n",
       "<table border=\"1\" class=\"dataframe\">\n",
       "  <thead>\n",
       "    <tr style=\"text-align: right;\">\n",
       "      <th></th>\n",
       "      <th>floor</th>\n",
       "      <th>piso_clean</th>\n",
       "      <th>floor_clean</th>\n",
       "    </tr>\n",
       "  </thead>\n",
       "  <tbody>\n",
       "    <tr>\n",
       "      <th>2</th>\n",
       "      <td>NaN</td>\n",
       "      <td>3</td>\n",
       "      <td>3</td>\n",
       "    </tr>\n",
       "    <tr>\n",
       "      <th>7</th>\n",
       "      <td>NaN</td>\n",
       "      <td>NaN</td>\n",
       "      <td>NaN</td>\n",
       "    </tr>\n",
       "    <tr>\n",
       "      <th>8</th>\n",
       "      <td>NaN</td>\n",
       "      <td>NaN</td>\n",
       "      <td>NaN</td>\n",
       "    </tr>\n",
       "    <tr>\n",
       "      <th>13</th>\n",
       "      <td>NaN</td>\n",
       "      <td>NaN</td>\n",
       "      <td>NaN</td>\n",
       "    </tr>\n",
       "    <tr>\n",
       "      <th>14</th>\n",
       "      <td>NaN</td>\n",
       "      <td>NaN</td>\n",
       "      <td>NaN</td>\n",
       "    </tr>\n",
       "  </tbody>\n",
       "</table>\n",
       "</div>"
      ],
      "text/plain": [
       "    floor piso_clean floor_clean\n",
       "2     NaN          3           3\n",
       "7     NaN        NaN         NaN\n",
       "8     NaN        NaN         NaN\n",
       "13    NaN        NaN         NaN\n",
       "14    NaN        NaN         NaN"
      ]
     },
     "execution_count": 74,
     "metadata": {},
     "output_type": "execute_result"
    }
   ],
   "source": [
    "#Chequeamos si en los casos donde NO había datos en floor se completó correctamente con la informacion nueva.\n",
    "\n",
    "data_ap.loc[data_ap['floor'].isnull(),['floor','piso_clean','floor_clean']].head()"
   ]
  },
  {
   "cell_type": "code",
   "execution_count": 75,
   "metadata": {},
   "outputs": [
    {
     "name": "stdout",
     "output_type": "stream",
     "text": [
      "2806\n",
      "8613\n",
      "\n",
      "Pudimos completar 5807 nulos ! \n",
      "\n"
     ]
    }
   ],
   "source": [
    "\n",
    "print(data_ap['floor'].notnull().sum())\n",
    "print(data_ap['floor_clean'].notnull().sum())\n",
    "\n",
    "nulos_con_valor = data_ap['floor_clean'].notnull().sum() - data_ap['floor'].notnull().sum()\n",
    "\n",
    "print(\"\\nPudimos completar %s nulos ! \\n\" % nulos_con_valor)"
   ]
  },
  {
   "cell_type": "markdown",
   "metadata": {},
   "source": [
    "_________________________________________________________________________________________________________"
   ]
  },
  {
   "cell_type": "markdown",
   "metadata": {},
   "source": [
    "<a id=\"section_expense\"></a>\n",
    "# Depuración columna expenses\n",
    "\n",
    "Vamos a buscar el termino \"expensas\" en la description para poder imputar valores a la columna \"expenses\" del dataset que tiene un gran porcentaje de nulos."
   ]
  },
  {
   "cell_type": "code",
   "execution_count": 76,
   "metadata": {},
   "outputs": [
    {
     "name": "stdout",
     "output_type": "stream",
     "text": [
      "el mínimo valor de expensas es 1.0 y carece de sentido\n",
      "el máximo valor de expensas es 10001500.0 y carece de sentido\n"
     ]
    }
   ],
   "source": [
    "# En el análisis exploratorio inicial vimos que había datos con poco sentido:\n",
    "\n",
    "print(\"el mínimo valor de expensas es %s y carece de sentido\" % data['expenses'].min())\n",
    "print(\"el máximo valor de expensas es %s y carece de sentido\" % data['expenses'].max())"
   ]
  },
  {
   "cell_type": "code",
   "execution_count": 77,
   "metadata": {},
   "outputs": [
    {
     "name": "stdout",
     "output_type": "stream",
     "text": [
      "Hay 2 valores que superan los $300000\n",
      "Hay 434 valores que no superan los $100\n"
     ]
    }
   ],
   "source": [
    "print(\"Hay %s valores que superan los $300000\" % data_ap.loc[data_ap[\"expenses\"]>300000, \"expenses\"].shape[0])\n",
    "print(\"Hay %s valores que no superan los $100\" % data_ap.loc[data_ap[\"expenses\"]<100, \"expenses\"].shape[0])"
   ]
  },
  {
   "cell_type": "code",
   "execution_count": 78,
   "metadata": {},
   "outputs": [],
   "source": [
    "data_ap['expenses_ok'] = data_ap.apply(lambda x: np.NaN if ((x['expenses']>300000) | (x['expenses']<100) ) \n",
    "                                       else x['expenses'], axis=1)\n",
    "\n"
   ]
  },
  {
   "cell_type": "code",
   "execution_count": 79,
   "metadata": {},
   "outputs": [
    {
     "name": "stdout",
     "output_type": "stream",
     "text": [
      "Hay 0 valores que superan los $300.000\n",
      "Hay 0 valores que no superan los $100\n"
     ]
    }
   ],
   "source": [
    "#Vemos ahora el resultado de la operación anterior\n",
    "\n",
    "print(\"Hay %s valores que superan los $300.000\" % data_ap.loc[data_ap[\"expenses_ok\"]>300000,\"expenses_ok\"].shape[0])\n",
    "print(\"Hay %s valores que no superan los $100\" % data_ap.loc[data_ap[\"expenses_ok\"]<100,\"expenses_ok\"].shape[0])\n",
    "\n"
   ]
  },
  {
   "cell_type": "code",
   "execution_count": 81,
   "metadata": {},
   "outputs": [
    {
     "data": {
      "text/plain": [
       "False    24018\n",
       "True       145\n",
       "dtype: int64"
      ]
     },
     "execution_count": 81,
     "metadata": {},
     "output_type": "execute_result"
    }
   ],
   "source": [
    "# Busco \"sin expensas\" para asignar valor 0\n",
    "\n",
    "regex_expensa= re.compile (\"sin expensas\")\n",
    "\n",
    "match_expensa=data_ap['description_sin_tilde'].apply(lambda x: x if x is np.NaN else regex_expensa.search(x))\n",
    "\n",
    "sin_expensa=match_expensa[match_expensa.notnull()].apply(lambda x: x.group(0))\n",
    "\n",
    "# Transformo todos los \"sin expensas\" a \"0\"\n",
    "sin_expensa_0 = sin_expensa.apply(lambda x: x.replace(\"sin expensas\", \"0\"))\n",
    "\n",
    "### Busco los valores que son nulos en \"expenses\" y no son nulos en \"sin_expensa_0\"\n",
    "\n",
    "mask = (sin_expensa_0.notnull()) & (data_ap[\"expenses\"].isnull())\n",
    "mask.value_counts()\n",
    "\n"
   ]
  },
  {
   "cell_type": "code",
   "execution_count": 82,
   "metadata": {},
   "outputs": [
    {
     "data": {
      "text/plain": [
       "True     18469\n",
       "False     5694\n",
       "Name: expenses_ok, dtype: int64"
      ]
     },
     "execution_count": 82,
     "metadata": {},
     "output_type": "execute_result"
    }
   ],
   "source": [
    "### Imputo a una la columna \"nueva_expensa\" los valores de \"expenses\" y luego los valores encontrados para filas de \"expenses\" que eran nulas\n",
    "\n",
    "data_ap.loc[mask, \"expenses_ok\"] = sin_expensa_0\n",
    "\n",
    "data_ap['expenses_ok'].isnull().value_counts()\n"
   ]
  },
  {
   "cell_type": "markdown",
   "metadata": {},
   "source": [
    "A pesar de imputar algunos valores, la columna sigue teniendo muchos valores nulos"
   ]
  },
  {
   "cell_type": "markdown",
   "metadata": {},
   "source": [
    "_________________________________________________________________________________________________________"
   ]
  },
  {
   "cell_type": "markdown",
   "metadata": {},
   "source": [
    "<a id=\"section_nuevos_datos\"></a>\n",
    "# Nueva información a partir de la columna description"
   ]
  },
  {
   "cell_type": "markdown",
   "metadata": {},
   "source": [
    "### Estacionamiento\n",
    "\n",
    "A partir de verificar en el análisis exploratorio inicial del campo description identificamos que la presencia o no de estacionamiento es una cualidad importante. Generamos entonces una nueva columna en la que figure si la propiedad cuenta o no con estacionamiento. Asumimos que siempre que se mencione la palabra cochera, estacionamiento o garage es porque la propiedad cuenta con al menos uno."
   ]
  },
  {
   "cell_type": "code",
   "execution_count": 83,
   "metadata": {},
   "outputs": [
    {
     "name": "stdout",
     "output_type": "stream",
     "text": [
      "no    19164\n",
      "si     4999\n",
      "Name: estacionamiento, dtype: int64\n"
     ]
    },
    {
     "data": {
      "text/html": [
       "<div>\n",
       "<style scoped>\n",
       "    .dataframe tbody tr th:only-of-type {\n",
       "        vertical-align: middle;\n",
       "    }\n",
       "\n",
       "    .dataframe tbody tr th {\n",
       "        vertical-align: top;\n",
       "    }\n",
       "\n",
       "    .dataframe thead th {\n",
       "        text-align: right;\n",
       "    }\n",
       "</style>\n",
       "<table border=\"1\" class=\"dataframe\">\n",
       "  <thead>\n",
       "    <tr style=\"text-align: right;\">\n",
       "      <th></th>\n",
       "      <th>property_type</th>\n",
       "      <th>place_with_parent_names</th>\n",
       "      <th>geonames_id</th>\n",
       "      <th>lat-lon</th>\n",
       "      <th>lat</th>\n",
       "      <th>lon</th>\n",
       "      <th>price</th>\n",
       "      <th>currency</th>\n",
       "      <th>price_aprox_local_currency</th>\n",
       "      <th>price_aprox_usd</th>\n",
       "      <th>...</th>\n",
       "      <th>price_aprox_usd_clean</th>\n",
       "      <th>surface_total_in_m2_ok</th>\n",
       "      <th>filtro_m2</th>\n",
       "      <th>m2_total_clean</th>\n",
       "      <th>price_usd_per_m2_calc</th>\n",
       "      <th>price_usd_per_m2_clean</th>\n",
       "      <th>piso_clean</th>\n",
       "      <th>floor_clean</th>\n",
       "      <th>expenses_ok</th>\n",
       "      <th>estacionamiento</th>\n",
       "    </tr>\n",
       "  </thead>\n",
       "  <tbody>\n",
       "    <tr>\n",
       "      <th>2</th>\n",
       "      <td>apartment</td>\n",
       "      <td>|Argentina|Capital Federal|Mataderos|</td>\n",
       "      <td>3430787.0</td>\n",
       "      <td>-34.6522615,-58.5229825</td>\n",
       "      <td>-34.652262</td>\n",
       "      <td>-58.522982</td>\n",
       "      <td>72000.0</td>\n",
       "      <td>USD</td>\n",
       "      <td>1270404.00</td>\n",
       "      <td>72000.0</td>\n",
       "      <td>...</td>\n",
       "      <td>72000.0</td>\n",
       "      <td>55.0</td>\n",
       "      <td>NaN</td>\n",
       "      <td>55.0</td>\n",
       "      <td>1309.090909</td>\n",
       "      <td>1309.090909</td>\n",
       "      <td>3</td>\n",
       "      <td>3</td>\n",
       "      <td>NaN</td>\n",
       "      <td>no</td>\n",
       "    </tr>\n",
       "    <tr>\n",
       "      <th>7</th>\n",
       "      <td>apartment</td>\n",
       "      <td>|Argentina|Capital Federal|Belgrano|</td>\n",
       "      <td>3436077.0</td>\n",
       "      <td>-34.5598729,-58.443362</td>\n",
       "      <td>-34.559873</td>\n",
       "      <td>-58.443362</td>\n",
       "      <td>138000.0</td>\n",
       "      <td>USD</td>\n",
       "      <td>2434941.00</td>\n",
       "      <td>138000.0</td>\n",
       "      <td>...</td>\n",
       "      <td>138000.0</td>\n",
       "      <td>45.0</td>\n",
       "      <td>NaN</td>\n",
       "      <td>45.0</td>\n",
       "      <td>3066.666667</td>\n",
       "      <td>3066.666667</td>\n",
       "      <td>NaN</td>\n",
       "      <td>NaN</td>\n",
       "      <td>NaN</td>\n",
       "      <td>no</td>\n",
       "    </tr>\n",
       "    <tr>\n",
       "      <th>8</th>\n",
       "      <td>apartment</td>\n",
       "      <td>|Argentina|Capital Federal|Belgrano|</td>\n",
       "      <td>3436077.0</td>\n",
       "      <td>-34.5598729,-58.443362</td>\n",
       "      <td>-34.559873</td>\n",
       "      <td>-58.443362</td>\n",
       "      <td>195000.0</td>\n",
       "      <td>USD</td>\n",
       "      <td>3440677.50</td>\n",
       "      <td>195000.0</td>\n",
       "      <td>...</td>\n",
       "      <td>195000.0</td>\n",
       "      <td>65.0</td>\n",
       "      <td>NaN</td>\n",
       "      <td>65.0</td>\n",
       "      <td>3000.000000</td>\n",
       "      <td>3000.000000</td>\n",
       "      <td>NaN</td>\n",
       "      <td>NaN</td>\n",
       "      <td>NaN</td>\n",
       "      <td>no</td>\n",
       "    </tr>\n",
       "    <tr>\n",
       "      <th>13</th>\n",
       "      <td>apartment</td>\n",
       "      <td>|Argentina|Capital Federal|Palermo|Palermo Soho|</td>\n",
       "      <td>3430234.0</td>\n",
       "      <td>NaN</td>\n",
       "      <td>NaN</td>\n",
       "      <td>NaN</td>\n",
       "      <td>111700.0</td>\n",
       "      <td>USD</td>\n",
       "      <td>1970890.65</td>\n",
       "      <td>111700.0</td>\n",
       "      <td>...</td>\n",
       "      <td>111700.0</td>\n",
       "      <td>50.0</td>\n",
       "      <td>NaN</td>\n",
       "      <td>50.0</td>\n",
       "      <td>2234.000000</td>\n",
       "      <td>2234.000000</td>\n",
       "      <td>NaN</td>\n",
       "      <td>NaN</td>\n",
       "      <td>NaN</td>\n",
       "      <td>no</td>\n",
       "    </tr>\n",
       "  </tbody>\n",
       "</table>\n",
       "<p>4 rows × 37 columns</p>\n",
       "</div>"
      ],
      "text/plain": [
       "   property_type                           place_with_parent_names  \\\n",
       "2      apartment             |Argentina|Capital Federal|Mataderos|   \n",
       "7      apartment              |Argentina|Capital Federal|Belgrano|   \n",
       "8      apartment              |Argentina|Capital Federal|Belgrano|   \n",
       "13     apartment  |Argentina|Capital Federal|Palermo|Palermo Soho|   \n",
       "\n",
       "    geonames_id                  lat-lon        lat        lon     price  \\\n",
       "2     3430787.0  -34.6522615,-58.5229825 -34.652262 -58.522982   72000.0   \n",
       "7     3436077.0   -34.5598729,-58.443362 -34.559873 -58.443362  138000.0   \n",
       "8     3436077.0   -34.5598729,-58.443362 -34.559873 -58.443362  195000.0   \n",
       "13    3430234.0                      NaN        NaN        NaN  111700.0   \n",
       "\n",
       "   currency  price_aprox_local_currency  price_aprox_usd  ...  \\\n",
       "2       USD                  1270404.00          72000.0  ...   \n",
       "7       USD                  2434941.00         138000.0  ...   \n",
       "8       USD                  3440677.50         195000.0  ...   \n",
       "13      USD                  1970890.65         111700.0  ...   \n",
       "\n",
       "    price_aprox_usd_clean  surface_total_in_m2_ok  filtro_m2  m2_total_clean  \\\n",
       "2                 72000.0                    55.0        NaN            55.0   \n",
       "7                138000.0                    45.0        NaN            45.0   \n",
       "8                195000.0                    65.0        NaN            65.0   \n",
       "13               111700.0                    50.0        NaN            50.0   \n",
       "\n",
       "    price_usd_per_m2_calc  price_usd_per_m2_clean  piso_clean floor_clean  \\\n",
       "2             1309.090909             1309.090909           3           3   \n",
       "7             3066.666667             3066.666667         NaN         NaN   \n",
       "8             3000.000000             3000.000000         NaN         NaN   \n",
       "13            2234.000000             2234.000000         NaN         NaN   \n",
       "\n",
       "   expenses_ok estacionamiento  \n",
       "2          NaN              no  \n",
       "7          NaN              no  \n",
       "8          NaN              no  \n",
       "13         NaN              no  \n",
       "\n",
       "[4 rows x 37 columns]"
      ]
     },
     "execution_count": 83,
     "metadata": {},
     "output_type": "execute_result"
    }
   ],
   "source": [
    "patron_cochera = re.compile(r'(?P<cochera>\\bcochera\\b) | (?P<garage>\\bgarage\\b) | (?P<estacionamiento>\\bestacionamiento\\b)', flags=re.I | re.X)\n",
    "cochera_match = data_ap[\"description_sin_tilde\"].apply(lambda x: None if x is np.NaN else patron_cochera.search(x))\n",
    "\n",
    "#Si hizo match en la nueva columna \"estacionamiento\" colocamos \"si\", sino \"no\"\n",
    "data_ap[\"estacionamiento\"] = cochera_match.apply(lambda x: \"no\" if x is None else \"si\")\n",
    "\n",
    "print (data_ap[\"estacionamiento\"].value_counts())\n",
    "\n",
    "data_ap.head(4)"
   ]
  },
  {
   "cell_type": "code",
   "execution_count": 84,
   "metadata": {},
   "outputs": [
    {
     "name": "stdout",
     "output_type": "stream",
     "text": [
      "El 20.69 porciento de los departamentos posee estacionamiento\n"
     ]
    }
   ],
   "source": [
    "# data[data_ap['estacionamiento']=='si'].shape[0]\n",
    "porcentaje_estacionamiento=data_ap[data_ap['estacionamiento']=='si'].shape[0]/data_ap.shape[0]\n",
    "print(\"El %s porciento de los departamentos posee estacionamiento\"% (round(porcentaje_estacionamiento*100,2)))"
   ]
  },
  {
   "cell_type": "markdown",
   "metadata": {},
   "source": [
    "### Espacio exterior\n",
    "\n",
    "A partir de verificar en el análisis exploratorio inicial del campo description identificamos que la presencia o no de balcón / patio / terraza es también una cualidad importante. Generamos entonces una nueva columna en la que figure si la propiedad cuenta o no con espacio exterior. Asumimos que siempre que se mencione alguno de los términos es porque la propiedad cuenta con al menos uno de ellos."
   ]
  },
  {
   "cell_type": "code",
   "execution_count": 85,
   "metadata": {},
   "outputs": [
    {
     "data": {
      "text/plain": [
       "(5590, 1)"
      ]
     },
     "execution_count": 85,
     "metadata": {},
     "output_type": "execute_result"
    }
   ],
   "source": [
    "patron_terraza=\"terraza\"\n",
    "regex_terraza=re.compile(patron_terraza)\n",
    "\n",
    "match_terraza=data_ap['description_sin_tilde'].apply(lambda x: x if x is np.NaN else regex_terraza.search(x))\n",
    "\n",
    "data_ap.loc[match_terraza.notnull(),'esp_exterior']=match_terraza[match_terraza.notnull()].apply(lambda x: x.group(0))\n",
    "data_ap[data_ap['esp_exterior'].notnull()][['esp_exterior']].shape"
   ]
  },
  {
   "cell_type": "code",
   "execution_count": 86,
   "metadata": {},
   "outputs": [
    {
     "data": {
      "text/plain": [
       "2             NaN\n",
       "7             NaN\n",
       "8             NaN\n",
       "13        terraza\n",
       "14            NaN\n",
       "           ...   \n",
       "121158        NaN\n",
       "121209        NaN\n",
       "121215    terraza\n",
       "121217    terraza\n",
       "121219        NaN\n",
       "Name: esp_exterior, Length: 24163, dtype: object"
      ]
     },
     "execution_count": 86,
     "metadata": {},
     "output_type": "execute_result"
    }
   ],
   "source": [
    "data_ap['esp_exterior']"
   ]
  },
  {
   "cell_type": "markdown",
   "metadata": {},
   "source": [
    "Ponemos como segundo patrón el balcon para que reemplace a la terraza, porque terraza puede ser \"terraza de uso comun\""
   ]
  },
  {
   "cell_type": "code",
   "execution_count": 87,
   "metadata": {},
   "outputs": [
    {
     "data": {
      "text/plain": [
       "(14261, 1)"
      ]
     },
     "execution_count": 87,
     "metadata": {},
     "output_type": "execute_result"
    }
   ],
   "source": [
    "patron_balcon=\"balcon\"\n",
    "regex_balcon=re.compile(patron_balcon)\n",
    "\n",
    "match_balcon=data_ap['description_sin_tilde'].apply(lambda x: x if x is np.NaN else regex_balcon.search(x))\n",
    "\n",
    "data_ap.loc[match_balcon.notnull(),'esp_exterior']=match_balcon[match_balcon.notnull()].apply(lambda x: x.group(0))\n",
    "data_ap[data_ap['esp_exterior'].notnull()][['esp_exterior']].shape"
   ]
  },
  {
   "cell_type": "code",
   "execution_count": 88,
   "metadata": {},
   "outputs": [
    {
     "data": {
      "text/plain": [
       "balcon     12726\n",
       "terraza     1535\n",
       "Name: esp_exterior, dtype: int64"
      ]
     },
     "execution_count": 88,
     "metadata": {},
     "output_type": "execute_result"
    }
   ],
   "source": [
    "data_ap['esp_exterior'].value_counts()"
   ]
  },
  {
   "cell_type": "markdown",
   "metadata": {},
   "source": [
    "Seguimos ahora con el patrón \"patio\""
   ]
  },
  {
   "cell_type": "code",
   "execution_count": 89,
   "metadata": {},
   "outputs": [
    {
     "data": {
      "text/plain": [
       "(15269, 1)"
      ]
     },
     "execution_count": 89,
     "metadata": {},
     "output_type": "execute_result"
    }
   ],
   "source": [
    "patron_patio=\"patio\"\n",
    "regex_patio=re.compile(patron_patio)\n",
    "\n",
    "match_patio=data_ap['description_sin_tilde'].apply(lambda x: x if x is np.NaN else regex_patio.search(x))\n",
    "\n",
    "data_ap.loc[match_patio.notnull(),'esp_exterior']=match_patio[match_patio.notnull()].apply(lambda x: x.group(0))\n",
    "data_ap[data_ap['esp_exterior'].notnull()][['esp_exterior']].shape"
   ]
  },
  {
   "cell_type": "code",
   "execution_count": 90,
   "metadata": {},
   "outputs": [
    {
     "data": {
      "text/plain": [
       "balcon     11850\n",
       "patio       2089\n",
       "terraza     1330\n",
       "Name: esp_exterior, dtype: int64"
      ]
     },
     "execution_count": 90,
     "metadata": {},
     "output_type": "execute_result"
    }
   ],
   "source": [
    "data_ap['esp_exterior'].value_counts()"
   ]
  },
  {
   "cell_type": "code",
   "execution_count": 91,
   "metadata": {},
   "outputs": [
    {
     "name": "stdout",
     "output_type": "stream",
     "text": [
      "El 63.19 porciento de los departamentos posee algún expacio exterior\n"
     ]
    }
   ],
   "source": [
    "porcentaje_esp_exterior=data_ap['esp_exterior'].notnull().sum()/data_ap.shape[0]\n",
    "print(\"El %s porciento de los departamentos posee algún expacio exterior\"% (round(porcentaje_esp_exterior*100,2)))"
   ]
  },
  {
   "cell_type": "markdown",
   "metadata": {},
   "source": [
    "### Amenities / comodidades\n",
    "\n",
    "A partir de verificar en el análisis exploratorio inicial del campo description identificamos que la presencia o no de algunas características denominadas comunmente \"amenities\" es también una cualidad importante que posiblemente influya en el precio de las propiedades. Generamos entonces una nueva columna en la que figure si la propiedad cuenta o no con amenities. Asumimos que siempre que se mencione alguno de los términos es porque la propiedad cuenta con al menos uno de ellos.\n",
    "\n",
    "Los términos de búsqueda a partir del análisis exploratorio realizado serán: lavadero, sum, parrilla, solarium, seguridad y piscina."
   ]
  },
  {
   "cell_type": "code",
   "execution_count": 92,
   "metadata": {},
   "outputs": [],
   "source": [
    "#buscamos las palabras identificadas como amenities\n",
    "patron_ameniti = re.compile(r'(?P<sum>\\bsum\\b)', flags=re.I | re.X)\n",
    "mascara_ameniti = data_ap[\"description_sin_tilde\"].str.lower().apply(lambda x: x if x is np.NaN else patron_ameniti.search(x))\n",
    "data_ap.loc[mascara_ameniti.notnull(),'ameniti_sum']=1\n",
    "data_ap.loc[mascara_ameniti.isnull(),'ameniti_sum']=0"
   ]
  },
  {
   "cell_type": "code",
   "execution_count": 93,
   "metadata": {},
   "outputs": [],
   "source": [
    "patron_ameniti = re.compile(r'(?P<seguridad>\\bseguridad\\b)', flags=re.I | re.X)\n",
    "mascara_ameniti = data_ap[\"description_sin_tilde\"].str.lower().apply(lambda x: x if x is np.NaN else patron_ameniti.search(x))\n",
    "data_ap.loc[mascara_ameniti.notnull(),'ameniti_seguridad']=1\n",
    "data_ap.loc[mascara_ameniti.isnull(),'ameniti_seguridad']=0"
   ]
  },
  {
   "cell_type": "code",
   "execution_count": 94,
   "metadata": {},
   "outputs": [],
   "source": [
    "patron_ameniti = re.compile(r'(?P<laundry>\\blaundry\\b)|(?P<lavadero>\\blavadero\\b)', flags=re.I | re.X)\n",
    "mascara_ameniti = data_ap[\"description_sin_tilde\"].str.lower().apply(lambda x: x if x is np.NaN else patron_ameniti.search(x))\n",
    "data_ap.loc[mascara_ameniti.notnull(),'ameniti_laundry']=1\n",
    "data_ap.loc[mascara_ameniti.isnull(),'ameniti_laundry']=0"
   ]
  },
  {
   "cell_type": "code",
   "execution_count": 95,
   "metadata": {},
   "outputs": [],
   "source": [
    "patron_ameniti = re.compile(r'(?P<gimnasio>\\bgimnasio\\b)|(?P<gim>\\bgim\\b)|(?P<gym>\\bgym\\b)', flags=re.I | re.X)\n",
    "mascara_ameniti = data_ap[\"description_sin_tilde\"].str.lower().apply(lambda x: x if x is np.NaN else patron_ameniti.search(x))\n",
    "data_ap.loc[mascara_ameniti.notnull(),'ameniti_gimnasio']=1\n",
    "data_ap.loc[mascara_ameniti.isnull(),'ameniti_gimnasio']=0"
   ]
  },
  {
   "cell_type": "code",
   "execution_count": 96,
   "metadata": {},
   "outputs": [],
   "source": [
    "patron_ameniti = re.compile(r'(?P<parrilla>\\bparrilla\\b)', flags=re.I | re.X)\n",
    "mascara_ameniti = data_ap[\"description_sin_tilde\"].str.lower().apply(lambda x: x if x is np.NaN else patron_ameniti.search(x))\n",
    "data_ap.loc[mascara_ameniti.notnull(),'ameniti_parrilla']=1\n",
    "data_ap.loc[mascara_ameniti.isnull(),'ameniti_parrilla']=0"
   ]
  },
  {
   "cell_type": "code",
   "execution_count": 97,
   "metadata": {},
   "outputs": [],
   "source": [
    "patron_ameniti = re.compile(r'(?P<piscina>\\bpiscina\\b)|(?P<pileta>\\bpileta\\b)', flags=re.I | re.X)\n",
    "mascara_ameniti = data_ap[\"description_sin_tilde\"].str.lower().apply(lambda x: x if x is np.NaN else patron_ameniti.search(x))\n",
    "data_ap.loc[mascara_ameniti.notnull(),'ameniti_piscina']=1\n",
    "data_ap.loc[mascara_ameniti.isnull(),'ameniti_piscina']=0"
   ]
  },
  {
   "cell_type": "code",
   "execution_count": 98,
   "metadata": {},
   "outputs": [],
   "source": [
    "patron_ameniti = re.compile(r'(?P<solarium>\\bsolarium\\b)', flags=re.I | re.X)\n",
    "mascara_ameniti = data_ap[\"description_sin_tilde\"].str.lower().apply(lambda x: x if x is np.NaN else patron_ameniti.search(x))\n",
    "data_ap.loc[mascara_ameniti.notnull(),'ameniti_solarium']=1\n",
    "data_ap.loc[mascara_ameniti.isnull(),'ameniti_solarium']=0"
   ]
  },
  {
   "cell_type": "code",
   "execution_count": 99,
   "metadata": {},
   "outputs": [],
   "source": [
    "data_ap['amenities']=(data_ap['ameniti_sum'] + data_ap['ameniti_laundry'] + data_ap['ameniti_parrilla'] +\n",
    "                      data_ap['ameniti_solarium'] + data_ap['ameniti_seguridad'] + data_ap['ameniti_piscina'] + \n",
    "                      data_ap['ameniti_gimnasio'])\n"
   ]
  },
  {
   "cell_type": "code",
   "execution_count": 100,
   "metadata": {},
   "outputs": [
    {
     "data": {
      "text/plain": [
       "0.0    9710\n",
       "1.0    5763\n",
       "2.0    2796\n",
       "3.0    2183\n",
       "4.0    1900\n",
       "5.0    1258\n",
       "6.0     483\n",
       "7.0      70\n",
       "Name: amenities, dtype: int64"
      ]
     },
     "execution_count": 100,
     "metadata": {},
     "output_type": "execute_result"
    }
   ],
   "source": [
    "data_ap['amenities'].value_counts()"
   ]
  },
  {
   "cell_type": "code",
   "execution_count": null,
   "metadata": {},
   "outputs": [],
   "source": []
  },
  {
   "cell_type": "markdown",
   "metadata": {},
   "source": [
    "_________________________________________________________________________________________________________"
   ]
  },
  {
   "cell_type": "markdown",
   "metadata": {},
   "source": [
    "<a id=\"section_analisis_final\"></a>\n",
    "# Análisis final del dataset\n",
    "\n",
    "Luego de depurar e imputar datos, procedemos a hacer una limpieza final del dataset y realizar un análisis exploratorio para ver:\n",
    "\n",
    "* Cómo se distribuyen por tamaño (m2) y precio en usd los departamentos en los distintos barrios.\n",
    "* Cómo varían en cuanto a su superficie en función de los distintos barrios.\n",
    "* Ver si realmente las categorías identificadas como amenities son factores que elevan el precio de la propiedad, o al menos son características de propiedades mas caras."
   ]
  },
  {
   "cell_type": "code",
   "execution_count": 101,
   "metadata": {},
   "outputs": [
    {
     "data": {
      "text/plain": [
       "Index(['property_type', 'place_with_parent_names', 'geonames_id', 'lat-lon',\n",
       "       'lat', 'lon', 'price', 'currency', 'price_aprox_local_currency',\n",
       "       'price_aprox_usd', 'surface_total_in_m2', 'surface_covered_in_m2',\n",
       "       'price_usd_per_m2', 'price_per_m2', 'floor', 'rooms', 'expenses',\n",
       "       'properati_url', 'description', 'title', 'image_thumbnail', 'Pais',\n",
       "       'Provincia', 'Barrio', 'description_sin_tilde', 'Description_Prices',\n",
       "       'title_price', 'price_aprox_usd_clean', 'surface_total_in_m2_ok',\n",
       "       'filtro_m2', 'm2_total_clean', 'price_usd_per_m2_calc',\n",
       "       'price_usd_per_m2_clean', 'piso_clean', 'floor_clean', 'expenses_ok',\n",
       "       'estacionamiento', 'esp_exterior', 'ameniti_sum', 'ameniti_seguridad',\n",
       "       'ameniti_laundry', 'ameniti_gimnasio', 'ameniti_parrilla',\n",
       "       'ameniti_piscina', 'ameniti_solarium', 'amenities'],\n",
       "      dtype='object')"
      ]
     },
     "execution_count": 101,
     "metadata": {},
     "output_type": "execute_result"
    }
   ],
   "source": [
    "# Quitamos de \"data_ap\" todas aquellas columnas auxiliares que se generaron en el proceso de limpieza de datos\n",
    "# O aquellas columnas originales que fueron reemplazadas por otras con mas información\n",
    "# Dejamos solo aquellas que nos van a servir para el análisis posterior\n",
    "data_ap.columns"
   ]
  },
  {
   "cell_type": "code",
   "execution_count": 102,
   "metadata": {},
   "outputs": [
    {
     "data": {
      "text/html": [
       "<div>\n",
       "<style scoped>\n",
       "    .dataframe tbody tr th:only-of-type {\n",
       "        vertical-align: middle;\n",
       "    }\n",
       "\n",
       "    .dataframe tbody tr th {\n",
       "        vertical-align: top;\n",
       "    }\n",
       "\n",
       "    .dataframe thead th {\n",
       "        text-align: right;\n",
       "    }\n",
       "</style>\n",
       "<table border=\"1\" class=\"dataframe\">\n",
       "  <thead>\n",
       "    <tr style=\"text-align: right;\">\n",
       "      <th></th>\n",
       "      <th>Barrio</th>\n",
       "      <th>price_aprox_usd_clean</th>\n",
       "      <th>m2_total_clean</th>\n",
       "      <th>price_usd_per_m2_clean</th>\n",
       "      <th>amenities</th>\n",
       "    </tr>\n",
       "  </thead>\n",
       "  <tbody>\n",
       "    <tr>\n",
       "      <th>2</th>\n",
       "      <td>Mataderos</td>\n",
       "      <td>72000.0</td>\n",
       "      <td>55.0</td>\n",
       "      <td>1309.090909</td>\n",
       "      <td>1.0</td>\n",
       "    </tr>\n",
       "    <tr>\n",
       "      <th>7</th>\n",
       "      <td>Belgrano</td>\n",
       "      <td>138000.0</td>\n",
       "      <td>45.0</td>\n",
       "      <td>3066.666667</td>\n",
       "      <td>3.0</td>\n",
       "    </tr>\n",
       "  </tbody>\n",
       "</table>\n",
       "</div>"
      ],
      "text/plain": [
       "      Barrio  price_aprox_usd_clean  m2_total_clean  price_usd_per_m2_clean  \\\n",
       "2  Mataderos                72000.0            55.0             1309.090909   \n",
       "7   Belgrano               138000.0            45.0             3066.666667   \n",
       "\n",
       "   amenities  \n",
       "2        1.0  \n",
       "7        3.0  "
      ]
     },
     "execution_count": 102,
     "metadata": {},
     "output_type": "execute_result"
    }
   ],
   "source": [
    "# ESTO HAY QUE AJUSTARLO AL FINAL DE TODO CUANDO PODAMOS COMPLETAR TODO LO INCOMPLETO Y VER QUE QUEDA Y QUE NO\n",
    "columnas_a_quitar = ['property_type', 'place_with_parent_names', 'geonames_id', 'lat-lon',\n",
    "                       'lat', 'lon', 'price', 'currency', 'price_aprox_local_currency',\n",
    "                       'price_aprox_usd', 'surface_total_in_m2', 'surface_covered_in_m2',\n",
    "                       'price_usd_per_m2', 'price_per_m2', 'floor', 'rooms', 'expenses',\n",
    "                       'properati_url', 'description', 'title', 'image_thumbnail', 'Pais',\n",
    "                       'Provincia', 'description_sin_tilde', 'Description_Prices',\n",
    "                       'title_price', 'surface_total_in_m2_ok', 'filtro_m2', 'price_usd_per_m2_calc',\n",
    "                       'piso_clean', 'floor_clean', 'expenses_ok',\n",
    "                       'estacionamiento', 'esp_exterior', 'ameniti_sum', 'ameniti_seguridad',\n",
    "                       'ameniti_laundry', 'ameniti_gimnasio', 'ameniti_parrilla',\n",
    "                       'ameniti_piscina', 'ameniti_solarium']\n",
    "apartments = data_ap.drop(columnas_a_quitar, axis = 1)\n",
    "apartments.head(2)"
   ]
  },
  {
   "cell_type": "code",
   "execution_count": 103,
   "metadata": {},
   "outputs": [
    {
     "name": "stdout",
     "output_type": "stream",
     "text": [
      "<class 'pandas.core.frame.DataFrame'>\n",
      "Int64Index: 24163 entries, 2 to 121219\n",
      "Data columns (total 5 columns):\n",
      " #   Column                  Non-Null Count  Dtype  \n",
      "---  ------                  --------------  -----  \n",
      " 0   Barrio                  24163 non-null  object \n",
      " 1   price_aprox_usd_clean   22283 non-null  float64\n",
      " 2   m2_total_clean          20694 non-null  float64\n",
      " 3   price_usd_per_m2_clean  18965 non-null  float64\n",
      " 4   amenities               24163 non-null  float64\n",
      "dtypes: float64(4), object(1)\n",
      "memory usage: 1.7+ MB\n"
     ]
    }
   ],
   "source": [
    "apartments.info()"
   ]
  },
  {
   "cell_type": "markdown",
   "metadata": {},
   "source": [
    "### Valor de m2 por Barrio\n",
    "Veamos cuáles son los barrios con el m2 mas caro, y cuáles con el mas económico"
   ]
  },
  {
   "cell_type": "code",
   "execution_count": 104,
   "metadata": {},
   "outputs": [
    {
     "name": "stdout",
     "output_type": "stream",
     "text": [
      "\n",
      "Top 5 mas caras:\n",
      "               price_usd_per_m2_clean\n",
      "Barrio                               \n",
      "Puerto Madero                 5662.51\n",
      "Boedo                         4403.77\n",
      "San Cristobal                 4077.31\n",
      "Las Cañitas                   3447.84\n",
      "Palermo                       3373.81\n",
      "\n",
      "Top 5 mas baratas:\n",
      "                   price_usd_per_m2_clean\n",
      "Barrio                                   \n",
      "Villa Soldati                     1096.06\n",
      "Pompeya                           1296.71\n",
      "Villa Lugano                      1298.87\n",
      "Villa Real                        1675.06\n",
      "Parque Avellaneda                 1694.56\n"
     ]
    }
   ],
   "source": [
    "#Promedio de precio por m2 en dólares por barrio\n",
    "precio_m2_barrio_desc = apartments.pivot_table(index='Barrio', values='price_usd_per_m2_clean'\n",
    "                                                  , aggfunc=np.mean).round(2).sort_values(\n",
    "                                                ascending=False, by='price_usd_per_m2_clean')\n",
    "precio_m2_barrio_asc = apartments.pivot_table(index='Barrio', values='price_usd_per_m2_clean'\n",
    "                                                 , aggfunc=np.mean).round(2).sort_values(ascending=True, by='price_usd_per_m2_clean')\n",
    "\n",
    "print(\"\\nTop 5 mas caras:\")\n",
    "print(precio_m2_barrio_desc.head(5))\n",
    "print(\"\\nTop 5 mas baratas:\")\n",
    "print(precio_m2_barrio_asc.head(5))"
   ]
  },
  {
   "cell_type": "markdown",
   "metadata": {},
   "source": [
    "###  Media de m2 por barrio\n",
    "Veamos cuáles son los barrios con mas superficie de media por departamento.\n"
   ]
  },
  {
   "cell_type": "code",
   "execution_count": 105,
   "metadata": {},
   "outputs": [
    {
     "name": "stdout",
     "output_type": "stream",
     "text": [
      "\n",
      "Top 5 mas superficie:\n",
      "               m2_total_clean\n",
      "Barrio                       \n",
      "Puerto Madero           120.0\n",
      "Recoleta                102.0\n",
      "Villa Real               91.0\n",
      "Retiro                   89.0\n",
      "Villa Soldati            88.0\n",
      "\n",
      "Top 5 menos superficie:\n",
      "                  m2_total_clean\n",
      "Barrio                          \n",
      "Boedo                       30.0\n",
      "San Cristobal               40.0\n",
      "Velez Sarsfield             44.0\n",
      "Villa Santa Rita            44.0\n",
      "Paternal                    45.0\n"
     ]
    }
   ],
   "source": [
    "#Superficie por propiedad en venta para ver en qué provincia son mas grandes\n",
    "mediana_superficie_desc = apartments.pivot_table(index='Barrio', values='m2_total_clean', aggfunc=np.median\n",
    "                                                ).round(2).sort_values(ascending=False, by='m2_total_clean')\n",
    "mediana_superficie_asc = apartments.pivot_table(index='Barrio', values='m2_total_clean', aggfunc=np.median\n",
    "                                               ).round(2).sort_values(ascending=True, by='m2_total_clean')\n",
    "\n",
    "print(\"\\nTop 5 mas superficie:\")\n",
    "print(mediana_superficie_desc.head(5))\n",
    "print(\"\\nTop 5 menos superficie:\")\n",
    "print(mediana_superficie_asc.head(5))"
   ]
  },
  {
   "cell_type": "markdown",
   "metadata": {},
   "source": [
    "Al comparar el top 5 de mayor precio por metro cuadrado y el top 5 de menor superficie, vemos algo que nos llama la atención: Los barrios de 'Boedo' y 'San Cristobal' estan en el top 5 de mayor precio por metro cuadrado pero en el top 5 de la menor superficie, lo cual no nos parece lógico. "
   ]
  },
  {
   "cell_type": "markdown",
   "metadata": {},
   "source": [
    "###  Cantidad de amenities por Barrio\n",
    "Veamos cuáles son los barrios con mas cantidad de amenities por departamento.\n"
   ]
  },
  {
   "cell_type": "code",
   "execution_count": 106,
   "metadata": {},
   "outputs": [
    {
     "data": {
      "text/plain": [
       "Palermo          3375\n",
       "Belgrano         2457\n",
       "Caballito        1857\n",
       "Recoleta         1365\n",
       "Villa Urquiza    1163\n",
       "Barrio Norte     1036\n",
       "Flores            946\n",
       "Villa Crespo      936\n",
       "Almagro           912\n",
       "San Telmo         865\n",
       "Name: Barrio, dtype: int64"
      ]
     },
     "execution_count": 106,
     "metadata": {},
     "output_type": "execute_result"
    }
   ],
   "source": [
    "data_ap['Barrio'].value_counts().head(10)"
   ]
  },
  {
   "cell_type": "code",
   "execution_count": null,
   "metadata": {},
   "outputs": [],
   "source": []
  },
  {
   "cell_type": "markdown",
   "metadata": {},
   "source": [
    "### Barrio='Boedo'"
   ]
  },
  {
   "cell_type": "code",
   "execution_count": 107,
   "metadata": {},
   "outputs": [
    {
     "data": {
      "text/html": [
       "<div>\n",
       "<style scoped>\n",
       "    .dataframe tbody tr th:only-of-type {\n",
       "        vertical-align: middle;\n",
       "    }\n",
       "\n",
       "    .dataframe tbody tr th {\n",
       "        vertical-align: top;\n",
       "    }\n",
       "\n",
       "    .dataframe thead th {\n",
       "        text-align: right;\n",
       "    }\n",
       "</style>\n",
       "<table border=\"1\" class=\"dataframe\">\n",
       "  <thead>\n",
       "    <tr style=\"text-align: right;\">\n",
       "      <th></th>\n",
       "      <th>property_type</th>\n",
       "      <th>place_with_parent_names</th>\n",
       "      <th>geonames_id</th>\n",
       "      <th>lat-lon</th>\n",
       "      <th>lat</th>\n",
       "      <th>lon</th>\n",
       "      <th>price</th>\n",
       "      <th>currency</th>\n",
       "      <th>price_aprox_local_currency</th>\n",
       "      <th>price_aprox_usd</th>\n",
       "      <th>...</th>\n",
       "      <th>estacionamiento</th>\n",
       "      <th>esp_exterior</th>\n",
       "      <th>ameniti_sum</th>\n",
       "      <th>ameniti_seguridad</th>\n",
       "      <th>ameniti_laundry</th>\n",
       "      <th>ameniti_gimnasio</th>\n",
       "      <th>ameniti_parrilla</th>\n",
       "      <th>ameniti_piscina</th>\n",
       "      <th>ameniti_solarium</th>\n",
       "      <th>amenities</th>\n",
       "    </tr>\n",
       "  </thead>\n",
       "  <tbody>\n",
       "    <tr>\n",
       "      <th>66</th>\n",
       "      <td>apartment</td>\n",
       "      <td>|Argentina|Capital Federal|Boedo|</td>\n",
       "      <td>3436003.0</td>\n",
       "      <td>-34.6187769485,-58.4026450688</td>\n",
       "      <td>-34.618777</td>\n",
       "      <td>-58.402645</td>\n",
       "      <td>72900.0</td>\n",
       "      <td>USD</td>\n",
       "      <td>1286284.05</td>\n",
       "      <td>72900.0</td>\n",
       "      <td>...</td>\n",
       "      <td>no</td>\n",
       "      <td>balcon</td>\n",
       "      <td>0.0</td>\n",
       "      <td>0.0</td>\n",
       "      <td>0.0</td>\n",
       "      <td>0.0</td>\n",
       "      <td>0.0</td>\n",
       "      <td>0.0</td>\n",
       "      <td>0.0</td>\n",
       "      <td>0.0</td>\n",
       "    </tr>\n",
       "    <tr>\n",
       "      <th>244</th>\n",
       "      <td>apartment</td>\n",
       "      <td>|Argentina|Capital Federal|Puerto Madero|</td>\n",
       "      <td>3429760.0</td>\n",
       "      <td>-34.6114635369,-58.3627451275</td>\n",
       "      <td>-34.611464</td>\n",
       "      <td>-58.362745</td>\n",
       "      <td>550000.0</td>\n",
       "      <td>USD</td>\n",
       "      <td>9704475.00</td>\n",
       "      <td>550000.0</td>\n",
       "      <td>...</td>\n",
       "      <td>si</td>\n",
       "      <td>balcon</td>\n",
       "      <td>1.0</td>\n",
       "      <td>0.0</td>\n",
       "      <td>1.0</td>\n",
       "      <td>1.0</td>\n",
       "      <td>0.0</td>\n",
       "      <td>1.0</td>\n",
       "      <td>0.0</td>\n",
       "      <td>4.0</td>\n",
       "    </tr>\n",
       "    <tr>\n",
       "      <th>252</th>\n",
       "      <td>apartment</td>\n",
       "      <td>|Argentina|Capital Federal|Puerto Madero|</td>\n",
       "      <td>3429760.0</td>\n",
       "      <td>-34.6194333916,-58.3613734778</td>\n",
       "      <td>-34.619433</td>\n",
       "      <td>-58.361373</td>\n",
       "      <td>1195000.0</td>\n",
       "      <td>USD</td>\n",
       "      <td>21085177.50</td>\n",
       "      <td>1195000.0</td>\n",
       "      <td>...</td>\n",
       "      <td>no</td>\n",
       "      <td>balcon</td>\n",
       "      <td>0.0</td>\n",
       "      <td>1.0</td>\n",
       "      <td>1.0</td>\n",
       "      <td>1.0</td>\n",
       "      <td>1.0</td>\n",
       "      <td>1.0</td>\n",
       "      <td>1.0</td>\n",
       "      <td>6.0</td>\n",
       "    </tr>\n",
       "  </tbody>\n",
       "</table>\n",
       "<p>3 rows × 46 columns</p>\n",
       "</div>"
      ],
      "text/plain": [
       "    property_type                    place_with_parent_names  geonames_id  \\\n",
       "66      apartment          |Argentina|Capital Federal|Boedo|    3436003.0   \n",
       "244     apartment  |Argentina|Capital Federal|Puerto Madero|    3429760.0   \n",
       "252     apartment  |Argentina|Capital Federal|Puerto Madero|    3429760.0   \n",
       "\n",
       "                           lat-lon        lat        lon      price currency  \\\n",
       "66   -34.6187769485,-58.4026450688 -34.618777 -58.402645    72900.0      USD   \n",
       "244  -34.6114635369,-58.3627451275 -34.611464 -58.362745   550000.0      USD   \n",
       "252  -34.6194333916,-58.3613734778 -34.619433 -58.361373  1195000.0      USD   \n",
       "\n",
       "     price_aprox_local_currency  price_aprox_usd  ...  estacionamiento  \\\n",
       "66                   1286284.05          72900.0  ...               no   \n",
       "244                  9704475.00         550000.0  ...               si   \n",
       "252                 21085177.50        1195000.0  ...               no   \n",
       "\n",
       "     esp_exterior  ameniti_sum  ameniti_seguridad  ameniti_laundry  \\\n",
       "66         balcon          0.0                0.0              0.0   \n",
       "244        balcon          1.0                0.0              1.0   \n",
       "252        balcon          0.0                1.0              1.0   \n",
       "\n",
       "     ameniti_gimnasio  ameniti_parrilla ameniti_piscina ameniti_solarium  \\\n",
       "66                0.0               0.0             0.0              0.0   \n",
       "244               1.0               0.0             1.0              0.0   \n",
       "252               1.0               1.0             1.0              1.0   \n",
       "\n",
       "    amenities  \n",
       "66        0.0  \n",
       "244       4.0  \n",
       "252       6.0  \n",
       "\n",
       "[3 rows x 46 columns]"
      ]
     },
     "execution_count": 107,
     "metadata": {},
     "output_type": "execute_result"
    }
   ],
   "source": [
    "data_boedo=data_ap[(data_ap['Barrio']=='Puerto Madero')|(data_ap['Barrio']=='Boedo')]\n",
    "data_boedo.head(3)"
   ]
  },
  {
   "cell_type": "code",
   "execution_count": 108,
   "metadata": {},
   "outputs": [
    {
     "data": {
      "image/png": "[encoded data removed]",
      "text/plain": [
       "<Figure size 432x288 with 1 Axes>"
      ]
     },
     "metadata": {
      "needs_background": "light"
     },
     "output_type": "display_data"
    }
   ],
   "source": [
    "fig=plt.figure()\n",
    "ax=fig.add_axes([0,0,1,1])\n",
    "ax.scatter(data_ap.loc[data_ap['Barrio']=='Boedo','amenities'], \n",
    "           data_ap.loc[data_ap['Barrio']=='Boedo','price_usd_per_m2_clean'], color='g',alpha=0.5,label='Boedo')\n",
    "ax.scatter(data_ap.loc[data_ap['Barrio']=='Puerto Madero','amenities'], \n",
    "           data_ap.loc[data_ap['Barrio']=='Puerto Madero','price_usd_per_m2_clean'], color='b',alpha=0.5,label='Puerto Madero')\n",
    "ax.set_xlabel('Amenities')\n",
    "ax.set_ylabel('Precio_m2')\n",
    "ax.set_title('Boedo/Puerto Madero')\n",
    "ax.legend(loc='lower right')\n",
    "plt.show()"
   ]
  },
  {
   "cell_type": "markdown",
   "metadata": {},
   "source": [
    "    A partir de este gráfico notamos que la cantidad de amenities no parece ser relevante en el precio del metro cuadrado de la propiedad. Y por otro lado, vemos que otras variables como la ubicación tiene mayor ponderación."
   ]
  },
  {
   "cell_type": "code",
   "execution_count": 109,
   "metadata": {},
   "outputs": [
    {
     "data": {
      "image/png": "[encoded data removed]",
      "text/plain": [
       "<Figure size 432x288 with 1 Axes>"
      ]
     },
     "metadata": {
      "needs_background": "light"
     },
     "output_type": "display_data"
    }
   ],
   "source": [
    "fig=plt.figure()\n",
    "ax=fig.add_axes([0,0,1,1])\n",
    "ax.scatter(data_ap.loc[data_ap['Barrio']=='Caballito','amenities'], \n",
    "           data_ap.loc[data_ap['Barrio']=='Caballito','price_usd_per_m2_clean'], color='r',alpha=0.5)\n",
    "# ax.scatter(data_ap.loc[data_ap['Barrio']=='Nuñez','amenities'], \n",
    "#            data_ap.loc[data_ap['Barrio']=='Nuñez','price_usd_per_m2_clean'], color='b',alpha=0.5)\n",
    "ax.set_xlabel('Amenities')\n",
    "ax.set_ylabel('Precio_m2')\n",
    "ax.set_title('Caballito')\n",
    "plt.show()"
   ]
  },
  {
   "cell_type": "code",
   "execution_count": 110,
   "metadata": {},
   "outputs": [
    {
     "data": {
      "image/png": "[encoded data removed]",
      "text/plain": [
       "<Figure size 432x288 with 1 Axes>"
      ]
     },
     "metadata": {
      "needs_background": "light"
     },
     "output_type": "display_data"
    }
   ],
   "source": [
    "fig=plt.figure()\n",
    "ax=fig.add_axes([0,0,1,1])\n",
    "ax.scatter(data_ap.loc[data_ap['Barrio']=='Colegiales','amenities'], \n",
    "           data_ap.loc[data_ap['Barrio']=='Colegiales','price_usd_per_m2_clean'], color='r',alpha=0.5)\n",
    "# ax.scatter(data_ap.loc[data_ap['Barrio']=='Nuñez','amenities'], \n",
    "#            data_ap.loc[data_ap['Barrio']=='Nuñez','price_usd_per_m2_clean'], color='b',alpha=0.5)\n",
    "\n",
    "ax.set_xlabel('Amenities')\n",
    "ax.set_ylabel('Precio_m2')\n",
    "ax.set_title('Colegiales')\n",
    "plt.show()"
   ]
  },
  {
   "cell_type": "code",
   "execution_count": 111,
   "metadata": {},
   "outputs": [
    {
     "data": {
      "image/png": "[encoded data removed]",
      "text/plain": [
       "<Figure size 432x288 with 1 Axes>"
      ]
     },
     "metadata": {
      "needs_background": "light"
     },
     "output_type": "display_data"
    }
   ],
   "source": [
    "fig=plt.figure()\n",
    "ax=fig.add_axes([0,0,1,1])\n",
    "ax.scatter(data_ap.loc[data_ap['Barrio']=='Barracas','amenities'], \n",
    "           data_ap.loc[data_ap['Barrio']=='Barracas','price_usd_per_m2_clean'], color='r',alpha=0.5)\n",
    "# ax.scatter(data_ap.loc[data_ap['Barrio']=='Nuñez','amenities'], \n",
    "#            data_ap.loc[data_ap['Barrio']=='Nuñez','price_usd_per_m2_clean'], color='b',alpha=0.5)\n",
    "ax.set_xlabel('Amenities')\n",
    "ax.set_ylabel('Precio_m2')\n",
    "ax.set_title('Barracas')\n",
    "plt.show()"
   ]
  },
  {
   "cell_type": "markdown",
   "metadata": {},
   "source": [
    "Analizando un barrio de gama mas baja podemos observar que no parece haber una relación positiva entre el precio del metro cuadrado y la cantidad de amenities."
   ]
  },
  {
   "cell_type": "markdown",
   "metadata": {},
   "source": [
    "Por otro lado, hay que tener en cuenta que la variable `aminities` es una agrupación de carácteristicas sin distinción de importancia entre si. Quizas si analizamos la relación entre una característica en particular, por ejemplo piscina, y el precio por metro cuadrado podria presentarse una relación diferente a la graficada previamente. "
   ]
  },
  {
   "cell_type": "code",
   "execution_count": null,
   "metadata": {},
   "outputs": [],
   "source": []
  },
  {
   "cell_type": "code",
   "execution_count": null,
   "metadata": {},
   "outputs": [],
   "source": []
  },
  {
   "cell_type": "code",
   "execution_count": null,
   "metadata": {},
   "outputs": [],
   "source": []
  },
  {
   "cell_type": "code",
   "execution_count": null,
   "metadata": {},
   "outputs": [],
   "source": []
  },
  {
   "cell_type": "code",
   "execution_count": 112,
   "metadata": {
    "scrolled": true
   },
   "outputs": [
    {
     "data": {
      "text/html": [
       "<div>\n",
       "<style scoped>\n",
       "    .dataframe tbody tr th:only-of-type {\n",
       "        vertical-align: middle;\n",
       "    }\n",
       "\n",
       "    .dataframe tbody tr th {\n",
       "        vertical-align: top;\n",
       "    }\n",
       "\n",
       "    .dataframe thead th {\n",
       "        text-align: right;\n",
       "    }\n",
       "</style>\n",
       "<table border=\"1\" class=\"dataframe\">\n",
       "  <thead>\n",
       "    <tr style=\"text-align: right;\">\n",
       "      <th></th>\n",
       "      <th>price_usd_per_m2_clean</th>\n",
       "    </tr>\n",
       "    <tr>\n",
       "      <th>Barrio</th>\n",
       "      <th></th>\n",
       "    </tr>\n",
       "  </thead>\n",
       "  <tbody>\n",
       "    <tr>\n",
       "      <th>Villa Soldati</th>\n",
       "      <td>1096.06</td>\n",
       "    </tr>\n",
       "    <tr>\n",
       "      <th>Pompeya</th>\n",
       "      <td>1296.71</td>\n",
       "    </tr>\n",
       "    <tr>\n",
       "      <th>Villa Lugano</th>\n",
       "      <td>1298.87</td>\n",
       "    </tr>\n",
       "    <tr>\n",
       "      <th>Villa Real</th>\n",
       "      <td>1675.06</td>\n",
       "    </tr>\n",
       "    <tr>\n",
       "      <th>Parque Avellaneda</th>\n",
       "      <td>1694.56</td>\n",
       "    </tr>\n",
       "    <tr>\n",
       "      <th>Constitución</th>\n",
       "      <td>1781.68</td>\n",
       "    </tr>\n",
       "    <tr>\n",
       "      <th>Catalinas</th>\n",
       "      <td>1833.33</td>\n",
       "    </tr>\n",
       "    <tr>\n",
       "      <th>Boca</th>\n",
       "      <td>1868.29</td>\n",
       "    </tr>\n",
       "    <tr>\n",
       "      <th>Mataderos</th>\n",
       "      <td>1903.57</td>\n",
       "    </tr>\n",
       "    <tr>\n",
       "      <th>Once</th>\n",
       "      <td>1920.59</td>\n",
       "    </tr>\n",
       "    <tr>\n",
       "      <th>Floresta</th>\n",
       "      <td>1928.62</td>\n",
       "    </tr>\n",
       "    <tr>\n",
       "      <th>Parque Patricios</th>\n",
       "      <td>1930.91</td>\n",
       "    </tr>\n",
       "    <tr>\n",
       "      <th>Versalles</th>\n",
       "      <td>1978.75</td>\n",
       "    </tr>\n",
       "    <tr>\n",
       "      <th>Monte Castro</th>\n",
       "      <td>1987.55</td>\n",
       "    </tr>\n",
       "    <tr>\n",
       "      <th>Liniers</th>\n",
       "      <td>1990.13</td>\n",
       "    </tr>\n",
       "    <tr>\n",
       "      <th>Balvanera</th>\n",
       "      <td>1991.51</td>\n",
       "    </tr>\n",
       "    <tr>\n",
       "      <th>Villa General Mitre</th>\n",
       "      <td>1994.11</td>\n",
       "    </tr>\n",
       "    <tr>\n",
       "      <th>Paternal</th>\n",
       "      <td>2052.42</td>\n",
       "    </tr>\n",
       "    <tr>\n",
       "      <th>Parque Chacabuco</th>\n",
       "      <td>2087.42</td>\n",
       "    </tr>\n",
       "    <tr>\n",
       "      <th>Congreso</th>\n",
       "      <td>2087.86</td>\n",
       "    </tr>\n",
       "    <tr>\n",
       "      <th>Flores</th>\n",
       "      <td>2093.34</td>\n",
       "    </tr>\n",
       "    <tr>\n",
       "      <th>Monserrat</th>\n",
       "      <td>2097.95</td>\n",
       "    </tr>\n",
       "    <tr>\n",
       "      <th>Velez Sarsfield</th>\n",
       "      <td>2099.64</td>\n",
       "    </tr>\n",
       "    <tr>\n",
       "      <th>Barracas</th>\n",
       "      <td>2104.50</td>\n",
       "    </tr>\n",
       "    <tr>\n",
       "      <th>Parque Chas</th>\n",
       "      <td>2126.08</td>\n",
       "    </tr>\n",
       "    <tr>\n",
       "      <th>San Nicolás</th>\n",
       "      <td>2148.38</td>\n",
       "    </tr>\n",
       "    <tr>\n",
       "      <th>Villa Luro</th>\n",
       "      <td>2194.79</td>\n",
       "    </tr>\n",
       "    <tr>\n",
       "      <th>Tribunales</th>\n",
       "      <td>2196.37</td>\n",
       "    </tr>\n",
       "    <tr>\n",
       "      <th>Chacarita</th>\n",
       "      <td>2225.51</td>\n",
       "    </tr>\n",
       "    <tr>\n",
       "      <th>Abasto</th>\n",
       "      <td>2226.27</td>\n",
       "    </tr>\n",
       "    <tr>\n",
       "      <th>Villa Santa Rita</th>\n",
       "      <td>2236.37</td>\n",
       "    </tr>\n",
       "    <tr>\n",
       "      <th>Villa del Parque</th>\n",
       "      <td>2268.78</td>\n",
       "    </tr>\n",
       "    <tr>\n",
       "      <th>Agronomía</th>\n",
       "      <td>2272.17</td>\n",
       "    </tr>\n",
       "    <tr>\n",
       "      <th>Parque Centenario</th>\n",
       "      <td>2278.48</td>\n",
       "    </tr>\n",
       "    <tr>\n",
       "      <th>San Telmo</th>\n",
       "      <td>2310.99</td>\n",
       "    </tr>\n",
       "    <tr>\n",
       "      <th>Centro / Microcentro</th>\n",
       "      <td>2333.32</td>\n",
       "    </tr>\n",
       "    <tr>\n",
       "      <th>Villa Devoto</th>\n",
       "      <td>2333.97</td>\n",
       "    </tr>\n",
       "    <tr>\n",
       "      <th>Almagro</th>\n",
       "      <td>2363.25</td>\n",
       "    </tr>\n",
       "    <tr>\n",
       "      <th>Saavedra</th>\n",
       "      <td>2434.96</td>\n",
       "    </tr>\n",
       "    <tr>\n",
       "      <th>Villa Pueyrredón</th>\n",
       "      <td>2442.91</td>\n",
       "    </tr>\n",
       "    <tr>\n",
       "      <th>Villa Ortuzar</th>\n",
       "      <td>2489.85</td>\n",
       "    </tr>\n",
       "    <tr>\n",
       "      <th>Caballito</th>\n",
       "      <td>2500.44</td>\n",
       "    </tr>\n",
       "    <tr>\n",
       "      <th>Villa Crespo</th>\n",
       "      <td>2523.14</td>\n",
       "    </tr>\n",
       "    <tr>\n",
       "      <th>Villa Urquiza</th>\n",
       "      <td>2548.14</td>\n",
       "    </tr>\n",
       "    <tr>\n",
       "      <th>Coghlan</th>\n",
       "      <td>2573.75</td>\n",
       "    </tr>\n",
       "    <tr>\n",
       "      <th></th>\n",
       "      <td>2607.16</td>\n",
       "    </tr>\n",
       "    <tr>\n",
       "      <th>Colegiales</th>\n",
       "      <td>2626.64</td>\n",
       "    </tr>\n",
       "    <tr>\n",
       "      <th>Retiro</th>\n",
       "      <td>2981.30</td>\n",
       "    </tr>\n",
       "    <tr>\n",
       "      <th>Barrio Norte</th>\n",
       "      <td>3022.04</td>\n",
       "    </tr>\n",
       "    <tr>\n",
       "      <th>Belgrano</th>\n",
       "      <td>3166.98</td>\n",
       "    </tr>\n",
       "    <tr>\n",
       "      <th>Nuñez</th>\n",
       "      <td>3215.07</td>\n",
       "    </tr>\n",
       "    <tr>\n",
       "      <th>Recoleta</th>\n",
       "      <td>3272.12</td>\n",
       "    </tr>\n",
       "    <tr>\n",
       "      <th>Palermo</th>\n",
       "      <td>3373.81</td>\n",
       "    </tr>\n",
       "    <tr>\n",
       "      <th>Las Cañitas</th>\n",
       "      <td>3447.84</td>\n",
       "    </tr>\n",
       "    <tr>\n",
       "      <th>San Cristobal</th>\n",
       "      <td>4077.31</td>\n",
       "    </tr>\n",
       "    <tr>\n",
       "      <th>Boedo</th>\n",
       "      <td>4403.77</td>\n",
       "    </tr>\n",
       "    <tr>\n",
       "      <th>Puerto Madero</th>\n",
       "      <td>5662.51</td>\n",
       "    </tr>\n",
       "  </tbody>\n",
       "</table>\n",
       "</div>"
      ],
      "text/plain": [
       "                      price_usd_per_m2_clean\n",
       "Barrio                                      \n",
       "Villa Soldati                        1096.06\n",
       "Pompeya                              1296.71\n",
       "Villa Lugano                         1298.87\n",
       "Villa Real                           1675.06\n",
       "Parque Avellaneda                    1694.56\n",
       "Constitución                         1781.68\n",
       "Catalinas                            1833.33\n",
       "Boca                                 1868.29\n",
       "Mataderos                            1903.57\n",
       "Once                                 1920.59\n",
       "Floresta                             1928.62\n",
       "Parque Patricios                     1930.91\n",
       "Versalles                            1978.75\n",
       "Monte Castro                         1987.55\n",
       "Liniers                              1990.13\n",
       "Balvanera                            1991.51\n",
       "Villa General Mitre                  1994.11\n",
       "Paternal                             2052.42\n",
       "Parque Chacabuco                     2087.42\n",
       "Congreso                             2087.86\n",
       "Flores                               2093.34\n",
       "Monserrat                            2097.95\n",
       "Velez Sarsfield                      2099.64\n",
       "Barracas                             2104.50\n",
       "Parque Chas                          2126.08\n",
       "San Nicolás                          2148.38\n",
       "Villa Luro                           2194.79\n",
       "Tribunales                           2196.37\n",
       "Chacarita                            2225.51\n",
       "Abasto                               2226.27\n",
       "Villa Santa Rita                     2236.37\n",
       "Villa del Parque                     2268.78\n",
       "Agronomía                            2272.17\n",
       "Parque Centenario                    2278.48\n",
       "San Telmo                            2310.99\n",
       "Centro / Microcentro                 2333.32\n",
       "Villa Devoto                         2333.97\n",
       "Almagro                              2363.25\n",
       "Saavedra                             2434.96\n",
       "Villa Pueyrredón                     2442.91\n",
       "Villa Ortuzar                        2489.85\n",
       "Caballito                            2500.44\n",
       "Villa Crespo                         2523.14\n",
       "Villa Urquiza                        2548.14\n",
       "Coghlan                              2573.75\n",
       "                                     2607.16\n",
       "Colegiales                           2626.64\n",
       "Retiro                               2981.30\n",
       "Barrio Norte                         3022.04\n",
       "Belgrano                             3166.98\n",
       "Nuñez                                3215.07\n",
       "Recoleta                             3272.12\n",
       "Palermo                              3373.81\n",
       "Las Cañitas                          3447.84\n",
       "San Cristobal                        4077.31\n",
       "Boedo                                4403.77\n",
       "Puerto Madero                        5662.51"
      ]
     },
     "execution_count": 112,
     "metadata": {},
     "output_type": "execute_result"
    }
   ],
   "source": [
    "tabla_resumen = data_ap.pivot_table(index={'Barrio'}, values=['price_usd_per_m2_clean'],\\\n",
    "    aggfunc=np.mean).round(2).sort_values(by='price_usd_per_m2_clean')\n",
    "tabla_resumen"
   ]
  },
  {
   "cell_type": "code",
   "execution_count": 113,
   "metadata": {},
   "outputs": [
    {
     "data": {
      "text/html": [
       "<div>\n",
       "<style scoped>\n",
       "    .dataframe tbody tr th:only-of-type {\n",
       "        vertical-align: middle;\n",
       "    }\n",
       "\n",
       "    .dataframe tbody tr th {\n",
       "        vertical-align: top;\n",
       "    }\n",
       "\n",
       "    .dataframe thead th {\n",
       "        text-align: right;\n",
       "    }\n",
       "</style>\n",
       "<table border=\"1\" class=\"dataframe\">\n",
       "  <thead>\n",
       "    <tr style=\"text-align: right;\">\n",
       "      <th></th>\n",
       "      <th>price_usd_per_m2_clean</th>\n",
       "    </tr>\n",
       "  </thead>\n",
       "  <tbody>\n",
       "    <tr>\n",
       "      <th>count</th>\n",
       "      <td>18965.000000</td>\n",
       "    </tr>\n",
       "    <tr>\n",
       "      <th>mean</th>\n",
       "      <td>2859.310834</td>\n",
       "    </tr>\n",
       "    <tr>\n",
       "      <th>std</th>\n",
       "      <td>1274.209398</td>\n",
       "    </tr>\n",
       "    <tr>\n",
       "      <th>min</th>\n",
       "      <td>691.777217</td>\n",
       "    </tr>\n",
       "    <tr>\n",
       "      <th>25%</th>\n",
       "      <td>2082.191781</td>\n",
       "    </tr>\n",
       "    <tr>\n",
       "      <th>50%</th>\n",
       "      <td>2550.684932</td>\n",
       "    </tr>\n",
       "    <tr>\n",
       "      <th>75%</th>\n",
       "      <td>3184.444444</td>\n",
       "    </tr>\n",
       "    <tr>\n",
       "      <th>max</th>\n",
       "      <td>6571.428571</td>\n",
       "    </tr>\n",
       "  </tbody>\n",
       "</table>\n",
       "</div>"
      ],
      "text/plain": [
       "       price_usd_per_m2_clean\n",
       "count            18965.000000\n",
       "mean              2859.310834\n",
       "std               1274.209398\n",
       "min                691.777217\n",
       "25%               2082.191781\n",
       "50%               2550.684932\n",
       "75%               3184.444444\n",
       "max               6571.428571"
      ]
     },
     "execution_count": 113,
     "metadata": {},
     "output_type": "execute_result"
    }
   ],
   "source": [
    "cuartiles=pd.DataFrame(data_ap.price_usd_per_m2_clean.describe())\n",
    "cuartiles"
   ]
  },
  {
   "cell_type": "markdown",
   "metadata": {},
   "source": [
    "Vamos a separar los barrios en 4 grupos segun el precio por metro cuadrado"
   ]
  },
  {
   "cell_type": "code",
   "execution_count": 114,
   "metadata": {},
   "outputs": [
    {
     "data": {
      "text/html": [
       "<div>\n",
       "<style scoped>\n",
       "    .dataframe tbody tr th:only-of-type {\n",
       "        vertical-align: middle;\n",
       "    }\n",
       "\n",
       "    .dataframe tbody tr th {\n",
       "        vertical-align: top;\n",
       "    }\n",
       "\n",
       "    .dataframe thead th {\n",
       "        text-align: right;\n",
       "    }\n",
       "</style>\n",
       "<table border=\"1\" class=\"dataframe\">\n",
       "  <thead>\n",
       "    <tr style=\"text-align: right;\">\n",
       "      <th></th>\n",
       "      <th>price_usd_per_m2_clean</th>\n",
       "      <th>grupo_barrio</th>\n",
       "    </tr>\n",
       "    <tr>\n",
       "      <th>Barrio</th>\n",
       "      <th></th>\n",
       "      <th></th>\n",
       "    </tr>\n",
       "  </thead>\n",
       "  <tbody>\n",
       "    <tr>\n",
       "      <th>Villa Soldati</th>\n",
       "      <td>1096.06</td>\n",
       "      <td>grupo_0</td>\n",
       "    </tr>\n",
       "    <tr>\n",
       "      <th>Pompeya</th>\n",
       "      <td>1296.71</td>\n",
       "      <td>grupo_0</td>\n",
       "    </tr>\n",
       "    <tr>\n",
       "      <th>Villa Lugano</th>\n",
       "      <td>1298.87</td>\n",
       "      <td>grupo_0</td>\n",
       "    </tr>\n",
       "    <tr>\n",
       "      <th>Villa Real</th>\n",
       "      <td>1675.06</td>\n",
       "      <td>grupo_0</td>\n",
       "    </tr>\n",
       "    <tr>\n",
       "      <th>Parque Avellaneda</th>\n",
       "      <td>1694.56</td>\n",
       "      <td>grupo_0</td>\n",
       "    </tr>\n",
       "    <tr>\n",
       "      <th>Constitución</th>\n",
       "      <td>1781.68</td>\n",
       "      <td>grupo_0</td>\n",
       "    </tr>\n",
       "    <tr>\n",
       "      <th>Catalinas</th>\n",
       "      <td>1833.33</td>\n",
       "      <td>grupo_0</td>\n",
       "    </tr>\n",
       "    <tr>\n",
       "      <th>Boca</th>\n",
       "      <td>1868.29</td>\n",
       "      <td>grupo_0</td>\n",
       "    </tr>\n",
       "    <tr>\n",
       "      <th>Mataderos</th>\n",
       "      <td>1903.57</td>\n",
       "      <td>grupo_0</td>\n",
       "    </tr>\n",
       "    <tr>\n",
       "      <th>Once</th>\n",
       "      <td>1920.59</td>\n",
       "      <td>grupo_0</td>\n",
       "    </tr>\n",
       "    <tr>\n",
       "      <th>Floresta</th>\n",
       "      <td>1928.62</td>\n",
       "      <td>grupo_0</td>\n",
       "    </tr>\n",
       "    <tr>\n",
       "      <th>Parque Patricios</th>\n",
       "      <td>1930.91</td>\n",
       "      <td>grupo_0</td>\n",
       "    </tr>\n",
       "    <tr>\n",
       "      <th>Versalles</th>\n",
       "      <td>1978.75</td>\n",
       "      <td>grupo_0</td>\n",
       "    </tr>\n",
       "    <tr>\n",
       "      <th>Monte Castro</th>\n",
       "      <td>1987.55</td>\n",
       "      <td>grupo_0</td>\n",
       "    </tr>\n",
       "    <tr>\n",
       "      <th>Liniers</th>\n",
       "      <td>1990.13</td>\n",
       "      <td>grupo_0</td>\n",
       "    </tr>\n",
       "    <tr>\n",
       "      <th>Balvanera</th>\n",
       "      <td>1991.51</td>\n",
       "      <td>grupo_0</td>\n",
       "    </tr>\n",
       "    <tr>\n",
       "      <th>Villa General Mitre</th>\n",
       "      <td>1994.11</td>\n",
       "      <td>grupo_0</td>\n",
       "    </tr>\n",
       "    <tr>\n",
       "      <th>Paternal</th>\n",
       "      <td>2052.42</td>\n",
       "      <td>grupo_0</td>\n",
       "    </tr>\n",
       "    <tr>\n",
       "      <th>Parque Chacabuco</th>\n",
       "      <td>2087.42</td>\n",
       "      <td>grupo_25</td>\n",
       "    </tr>\n",
       "    <tr>\n",
       "      <th>Congreso</th>\n",
       "      <td>2087.86</td>\n",
       "      <td>grupo_25</td>\n",
       "    </tr>\n",
       "    <tr>\n",
       "      <th>Flores</th>\n",
       "      <td>2093.34</td>\n",
       "      <td>grupo_25</td>\n",
       "    </tr>\n",
       "    <tr>\n",
       "      <th>Monserrat</th>\n",
       "      <td>2097.95</td>\n",
       "      <td>grupo_25</td>\n",
       "    </tr>\n",
       "    <tr>\n",
       "      <th>Velez Sarsfield</th>\n",
       "      <td>2099.64</td>\n",
       "      <td>grupo_25</td>\n",
       "    </tr>\n",
       "    <tr>\n",
       "      <th>Barracas</th>\n",
       "      <td>2104.50</td>\n",
       "      <td>grupo_25</td>\n",
       "    </tr>\n",
       "    <tr>\n",
       "      <th>Parque Chas</th>\n",
       "      <td>2126.08</td>\n",
       "      <td>grupo_25</td>\n",
       "    </tr>\n",
       "    <tr>\n",
       "      <th>San Nicolás</th>\n",
       "      <td>2148.38</td>\n",
       "      <td>grupo_25</td>\n",
       "    </tr>\n",
       "    <tr>\n",
       "      <th>Villa Luro</th>\n",
       "      <td>2194.79</td>\n",
       "      <td>grupo_25</td>\n",
       "    </tr>\n",
       "    <tr>\n",
       "      <th>Tribunales</th>\n",
       "      <td>2196.37</td>\n",
       "      <td>grupo_25</td>\n",
       "    </tr>\n",
       "    <tr>\n",
       "      <th>Chacarita</th>\n",
       "      <td>2225.51</td>\n",
       "      <td>grupo_25</td>\n",
       "    </tr>\n",
       "    <tr>\n",
       "      <th>Abasto</th>\n",
       "      <td>2226.27</td>\n",
       "      <td>grupo_25</td>\n",
       "    </tr>\n",
       "    <tr>\n",
       "      <th>Villa Santa Rita</th>\n",
       "      <td>2236.37</td>\n",
       "      <td>grupo_25</td>\n",
       "    </tr>\n",
       "    <tr>\n",
       "      <th>Villa del Parque</th>\n",
       "      <td>2268.78</td>\n",
       "      <td>grupo_25</td>\n",
       "    </tr>\n",
       "    <tr>\n",
       "      <th>Agronomía</th>\n",
       "      <td>2272.17</td>\n",
       "      <td>grupo_25</td>\n",
       "    </tr>\n",
       "    <tr>\n",
       "      <th>Parque Centenario</th>\n",
       "      <td>2278.48</td>\n",
       "      <td>grupo_25</td>\n",
       "    </tr>\n",
       "    <tr>\n",
       "      <th>San Telmo</th>\n",
       "      <td>2310.99</td>\n",
       "      <td>grupo_25</td>\n",
       "    </tr>\n",
       "    <tr>\n",
       "      <th>Centro / Microcentro</th>\n",
       "      <td>2333.32</td>\n",
       "      <td>grupo_25</td>\n",
       "    </tr>\n",
       "    <tr>\n",
       "      <th>Villa Devoto</th>\n",
       "      <td>2333.97</td>\n",
       "      <td>grupo_25</td>\n",
       "    </tr>\n",
       "    <tr>\n",
       "      <th>Almagro</th>\n",
       "      <td>2363.25</td>\n",
       "      <td>grupo_25</td>\n",
       "    </tr>\n",
       "    <tr>\n",
       "      <th>Saavedra</th>\n",
       "      <td>2434.96</td>\n",
       "      <td>grupo_25</td>\n",
       "    </tr>\n",
       "    <tr>\n",
       "      <th>Villa Pueyrredón</th>\n",
       "      <td>2442.91</td>\n",
       "      <td>grupo_25</td>\n",
       "    </tr>\n",
       "    <tr>\n",
       "      <th>Villa Ortuzar</th>\n",
       "      <td>2489.85</td>\n",
       "      <td>grupo_25</td>\n",
       "    </tr>\n",
       "    <tr>\n",
       "      <th>Caballito</th>\n",
       "      <td>2500.44</td>\n",
       "      <td>grupo_25</td>\n",
       "    </tr>\n",
       "    <tr>\n",
       "      <th>Villa Crespo</th>\n",
       "      <td>2523.14</td>\n",
       "      <td>grupo_25</td>\n",
       "    </tr>\n",
       "    <tr>\n",
       "      <th>Villa Urquiza</th>\n",
       "      <td>2548.14</td>\n",
       "      <td>grupo_25</td>\n",
       "    </tr>\n",
       "    <tr>\n",
       "      <th>Coghlan</th>\n",
       "      <td>2573.75</td>\n",
       "      <td>grupo_50</td>\n",
       "    </tr>\n",
       "    <tr>\n",
       "      <th></th>\n",
       "      <td>2607.16</td>\n",
       "      <td>grupo_50</td>\n",
       "    </tr>\n",
       "    <tr>\n",
       "      <th>Colegiales</th>\n",
       "      <td>2626.64</td>\n",
       "      <td>grupo_50</td>\n",
       "    </tr>\n",
       "    <tr>\n",
       "      <th>Retiro</th>\n",
       "      <td>2981.30</td>\n",
       "      <td>grupo_50</td>\n",
       "    </tr>\n",
       "    <tr>\n",
       "      <th>Barrio Norte</th>\n",
       "      <td>3022.04</td>\n",
       "      <td>grupo_50</td>\n",
       "    </tr>\n",
       "    <tr>\n",
       "      <th>Belgrano</th>\n",
       "      <td>3166.98</td>\n",
       "      <td>grupo_50</td>\n",
       "    </tr>\n",
       "    <tr>\n",
       "      <th>Nuñez</th>\n",
       "      <td>3215.07</td>\n",
       "      <td>grupo_75</td>\n",
       "    </tr>\n",
       "    <tr>\n",
       "      <th>Recoleta</th>\n",
       "      <td>3272.12</td>\n",
       "      <td>grupo_75</td>\n",
       "    </tr>\n",
       "    <tr>\n",
       "      <th>Palermo</th>\n",
       "      <td>3373.81</td>\n",
       "      <td>grupo_75</td>\n",
       "    </tr>\n",
       "    <tr>\n",
       "      <th>Las Cañitas</th>\n",
       "      <td>3447.84</td>\n",
       "      <td>grupo_75</td>\n",
       "    </tr>\n",
       "    <tr>\n",
       "      <th>San Cristobal</th>\n",
       "      <td>4077.31</td>\n",
       "      <td>grupo_75</td>\n",
       "    </tr>\n",
       "    <tr>\n",
       "      <th>Boedo</th>\n",
       "      <td>4403.77</td>\n",
       "      <td>grupo_75</td>\n",
       "    </tr>\n",
       "    <tr>\n",
       "      <th>Puerto Madero</th>\n",
       "      <td>5662.51</td>\n",
       "      <td>grupo_75</td>\n",
       "    </tr>\n",
       "  </tbody>\n",
       "</table>\n",
       "</div>"
      ],
      "text/plain": [
       "                      price_usd_per_m2_clean grupo_barrio\n",
       "Barrio                                                   \n",
       "Villa Soldati                        1096.06      grupo_0\n",
       "Pompeya                              1296.71      grupo_0\n",
       "Villa Lugano                         1298.87      grupo_0\n",
       "Villa Real                           1675.06      grupo_0\n",
       "Parque Avellaneda                    1694.56      grupo_0\n",
       "Constitución                         1781.68      grupo_0\n",
       "Catalinas                            1833.33      grupo_0\n",
       "Boca                                 1868.29      grupo_0\n",
       "Mataderos                            1903.57      grupo_0\n",
       "Once                                 1920.59      grupo_0\n",
       "Floresta                             1928.62      grupo_0\n",
       "Parque Patricios                     1930.91      grupo_0\n",
       "Versalles                            1978.75      grupo_0\n",
       "Monte Castro                         1987.55      grupo_0\n",
       "Liniers                              1990.13      grupo_0\n",
       "Balvanera                            1991.51      grupo_0\n",
       "Villa General Mitre                  1994.11      grupo_0\n",
       "Paternal                             2052.42      grupo_0\n",
       "Parque Chacabuco                     2087.42     grupo_25\n",
       "Congreso                             2087.86     grupo_25\n",
       "Flores                               2093.34     grupo_25\n",
       "Monserrat                            2097.95     grupo_25\n",
       "Velez Sarsfield                      2099.64     grupo_25\n",
       "Barracas                             2104.50     grupo_25\n",
       "Parque Chas                          2126.08     grupo_25\n",
       "San Nicolás                          2148.38     grupo_25\n",
       "Villa Luro                           2194.79     grupo_25\n",
       "Tribunales                           2196.37     grupo_25\n",
       "Chacarita                            2225.51     grupo_25\n",
       "Abasto                               2226.27     grupo_25\n",
       "Villa Santa Rita                     2236.37     grupo_25\n",
       "Villa del Parque                     2268.78     grupo_25\n",
       "Agronomía                            2272.17     grupo_25\n",
       "Parque Centenario                    2278.48     grupo_25\n",
       "San Telmo                            2310.99     grupo_25\n",
       "Centro / Microcentro                 2333.32     grupo_25\n",
       "Villa Devoto                         2333.97     grupo_25\n",
       "Almagro                              2363.25     grupo_25\n",
       "Saavedra                             2434.96     grupo_25\n",
       "Villa Pueyrredón                     2442.91     grupo_25\n",
       "Villa Ortuzar                        2489.85     grupo_25\n",
       "Caballito                            2500.44     grupo_25\n",
       "Villa Crespo                         2523.14     grupo_25\n",
       "Villa Urquiza                        2548.14     grupo_25\n",
       "Coghlan                              2573.75     grupo_50\n",
       "                                     2607.16     grupo_50\n",
       "Colegiales                           2626.64     grupo_50\n",
       "Retiro                               2981.30     grupo_50\n",
       "Barrio Norte                         3022.04     grupo_50\n",
       "Belgrano                             3166.98     grupo_50\n",
       "Nuñez                                3215.07     grupo_75\n",
       "Recoleta                             3272.12     grupo_75\n",
       "Palermo                              3373.81     grupo_75\n",
       "Las Cañitas                          3447.84     grupo_75\n",
       "San Cristobal                        4077.31     grupo_75\n",
       "Boedo                                4403.77     grupo_75\n",
       "Puerto Madero                        5662.51     grupo_75"
      ]
     },
     "execution_count": 114,
     "metadata": {},
     "output_type": "execute_result"
    }
   ],
   "source": [
    "tabla_resumen['grupo_barrio']=tabla_resumen.apply(lambda x: 'grupo_75' if x['price_usd_per_m2_clean']>cuartiles.loc['75%','price_usd_per_m2_clean'] else \n",
    "                                      ('grupo_50' if x['price_usd_per_m2_clean']>cuartiles.loc['50%','price_usd_per_m2_clean'] else\n",
    "                                       ('grupo_25' if x['price_usd_per_m2_clean']>cuartiles.loc['25%','price_usd_per_m2_clean'] else 'grupo_0')), axis=1)\n",
    "tabla_resumen"
   ]
  },
  {
   "cell_type": "code",
   "execution_count": null,
   "metadata": {},
   "outputs": [],
   "source": []
  },
  {
   "cell_type": "markdown",
   "metadata": {},
   "source": [
    "### Análisis pendiente:\n",
    "- Evaluar la correlacion entre el precio por m2 y amenitis por los grupos de cuartiles\n",
    "- Evaluar la correlación entre el precio por m2 y las otras características nuevas que imputamos a partir de la columna description relacionadas con el espacio de estacionamiento y el espacio exterior al aire libre (Terraza, patio, etc.) o inclusive otros como Floor (Para evaluar si por ej. Planta baja es mas barato que otros pisos)\n",
    "\n",
    "- Realizar el análisis de amenities pero de manera individualizada (Ej. aquellos que tengan pileta respecto de los que no la tengan, aquellos que tengan seguridad respecto de los que no, etc)."
   ]
  },
  {
   "cell_type": "code",
   "execution_count": null,
   "metadata": {},
   "outputs": [],
   "source": []
  },
  {
   "cell_type": "code",
   "execution_count": 115,
   "metadata": {},
   "outputs": [],
   "source": [
    "data_ap.to_csv('properati_desafio_final.csv', index=False)\n"
   ]
  },
  {
   "cell_type": "code",
   "execution_count": null,
   "metadata": {},
   "outputs": [],
   "source": []
  },
  {
   "cell_type": "code",
   "execution_count": null,
   "metadata": {},
   "outputs": [],
   "source": []
  }
 ],
 "metadata": {
  "kernelspec": {
   "display_name": "Python 3",
   "language": "python",
   "name": "python3"
  },
  "language_info": {
   "codemirror_mode": {
    "name": "ipython",
    "version": 3
   },
   "file_extension": ".py",
   "mimetype": "text/x-python",
   "name": "python",
   "nbconvert_exporter": "python",
   "pygments_lexer": "ipython3",
   "version": "3.7.9"
  }
 },
 "nbformat": 4,
 "nbformat_minor": 4
}
