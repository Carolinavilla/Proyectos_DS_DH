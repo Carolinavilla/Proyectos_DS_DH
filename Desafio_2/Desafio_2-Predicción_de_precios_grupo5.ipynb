{
 "cells": [
  {
   "cell_type": "markdown",
   "metadata": {},
   "source": [
    "# Desafio 2 - Predicción de Precios por m2 de Propiedades de Properati\n",
    "# Grupo 5\n",
    "\n",
    "**Integrantes:** Carolina Villa - Manuel Casella - Joaquin Vera - Guido Delfino - Martín Munoa - Fabricio Neyra"
   ]
  },
  {
   "cell_type": "markdown",
   "metadata": {},
   "source": [
    "### Introducción\n",
    "Como parte del Desafío 1 del curso trabajamos en la limpieza del dataset de propiedades de Properati. \n",
    "Parte de la estrategia inicial fue acotar el scope a departamentos ubicados en Capital Federal, para luego continuar con el Data Cleansing y el posterior análisis. \n",
    "\n",
    "En ésta oportunidad, retomamos el uso del dataset obtenido para encarar un nuevo **objetivo:**\n",
    "\n",
    "**Predecir el precio por m2 de los departamentos ubicados en Capital Federal**"
   ]
  },
  {
   "cell_type": "markdown",
   "metadata": {},
   "source": [
    "### Indice\n",
    "[1- Importación de Librerías](#section_librerias)\n",
    "\n",
    "[2- Importación del Dataset resultante del Desafio 1](#section_dataset)\n",
    "\n",
    "..."
   ]
  },
  {
   "cell_type": "markdown",
   "metadata": {},
   "source": [
    "<a id=\"section_librerias\"></a> \n",
    "## 1- Importación de Librerías"
   ]
  },
  {
   "cell_type": "code",
   "execution_count": 16,
   "metadata": {},
   "outputs": [],
   "source": [
    "#Librerías de Data Management\n",
    "\n",
    "import numpy as np\n",
    "import pandas as pd\n",
    "import re\n",
    "\n",
    "#Librerías de Machine Learning\n",
    "from sklearn.model_selection import train_test_split\n",
    "import statsmodels.api as sm\n",
    "from sklearn import linear_model\n",
    "from sklearn.metrics import mean_squared_error, r2_score\n",
    "from sklearn.model_selection import train_test_split\n",
    "from sklearn.preprocessing import OneHotEncoder\n",
    "\n",
    "\n",
    "\n",
    "#Librerias de Visuaización\n",
    "import seaborn as sns\n",
    "import matplotlib.pyplot as plt\n",
    "# %%matplotlib inline"
   ]
  },
  {
   "cell_type": "markdown",
   "metadata": {},
   "source": [
    "<a id=\"section_dataset\"></a>\n",
    "# 2- Importación del Dataset resultante del Desafio 1"
   ]
  },
  {
   "cell_type": "code",
   "execution_count": 17,
   "metadata": {},
   "outputs": [
    {
     "name": "stdout",
     "output_type": "stream",
     "text": [
      "<class 'pandas.core.frame.DataFrame'>\n",
      "RangeIndex: 24163 entries, 0 to 24162\n",
      "Data columns (total 46 columns):\n",
      " #   Column                      Non-Null Count  Dtype  \n",
      "---  ------                      --------------  -----  \n",
      " 0   property_type               24163 non-null  object \n",
      " 1   place_with_parent_names     24163 non-null  object \n",
      " 2   geonames_id                 23165 non-null  float64\n",
      " 3   lat-lon                     18084 non-null  object \n",
      " 4   lat                         18084 non-null  float64\n",
      " 5   lon                         18084 non-null  float64\n",
      " 6   price                       22136 non-null  float64\n",
      " 7   currency                    22136 non-null  object \n",
      " 8   price_aprox_local_currency  22136 non-null  float64\n",
      " 9   price_aprox_usd             22136 non-null  float64\n",
      " 10  surface_total_in_m2         19836 non-null  float64\n",
      " 11  surface_covered_in_m2       22700 non-null  float64\n",
      " 12  price_usd_per_m2            17998 non-null  float64\n",
      " 13  price_per_m2                20970 non-null  float64\n",
      " 14  floor                       2806 non-null   float64\n",
      " 15  rooms                       12788 non-null  float64\n",
      " 16  expenses                    5985 non-null   float64\n",
      " 17  properati_url               24163 non-null  object \n",
      " 18  description                 24163 non-null  object \n",
      " 19  title                       24163 non-null  object \n",
      " 20  image_thumbnail             23845 non-null  object \n",
      " 21  Pais                        24163 non-null  object \n",
      " 22  Provincia                   24163 non-null  object \n",
      " 23  Barrio                      23681 non-null  object \n",
      " 24  description_sin_tilde       24163 non-null  object \n",
      " 25  Description_Prices          5290 non-null   float64\n",
      " 26  title_price                 693 non-null    object \n",
      " 27  price_aprox_usd_clean       22283 non-null  float64\n",
      " 28  surface_total_in_m2_ok      19806 non-null  float64\n",
      " 29  filtro_m2                   888 non-null    float64\n",
      " 30  m2_total_clean              20694 non-null  float64\n",
      " 31  price_usd_per_m2_calc       18951 non-null  float64\n",
      " 32  price_usd_per_m2_clean      18965 non-null  float64\n",
      " 33  piso_clean                  6661 non-null   float64\n",
      " 34  floor_clean                 8613 non-null   float64\n",
      " 35  expenses_ok                 5694 non-null   float64\n",
      " 36  estacionamiento             24163 non-null  object \n",
      " 37  esp_exterior                15269 non-null  object \n",
      " 38  ameniti_sum                 24163 non-null  float64\n",
      " 39  ameniti_seguridad           24163 non-null  float64\n",
      " 40  ameniti_laundry             24163 non-null  float64\n",
      " 41  ameniti_gimnasio            24163 non-null  float64\n",
      " 42  ameniti_parrilla            24163 non-null  float64\n",
      " 43  ameniti_piscina             24163 non-null  float64\n",
      " 44  ameniti_solarium            24163 non-null  float64\n",
      " 45  amenities                   24163 non-null  float64\n",
      "dtypes: float64(31), object(15)\n",
      "memory usage: 8.5+ MB\n",
      "None\n"
     ]
    },
    {
     "data": {
      "text/html": [
       "<div>\n",
       "<style scoped>\n",
       "    .dataframe tbody tr th:only-of-type {\n",
       "        vertical-align: middle;\n",
       "    }\n",
       "\n",
       "    .dataframe tbody tr th {\n",
       "        vertical-align: top;\n",
       "    }\n",
       "\n",
       "    .dataframe thead th {\n",
       "        text-align: right;\n",
       "    }\n",
       "</style>\n",
       "<table border=\"1\" class=\"dataframe\">\n",
       "  <thead>\n",
       "    <tr style=\"text-align: right;\">\n",
       "      <th></th>\n",
       "      <th>property_type</th>\n",
       "      <th>place_with_parent_names</th>\n",
       "      <th>geonames_id</th>\n",
       "      <th>lat-lon</th>\n",
       "      <th>lat</th>\n",
       "      <th>lon</th>\n",
       "      <th>price</th>\n",
       "      <th>currency</th>\n",
       "      <th>price_aprox_local_currency</th>\n",
       "      <th>price_aprox_usd</th>\n",
       "      <th>...</th>\n",
       "      <th>estacionamiento</th>\n",
       "      <th>esp_exterior</th>\n",
       "      <th>ameniti_sum</th>\n",
       "      <th>ameniti_seguridad</th>\n",
       "      <th>ameniti_laundry</th>\n",
       "      <th>ameniti_gimnasio</th>\n",
       "      <th>ameniti_parrilla</th>\n",
       "      <th>ameniti_piscina</th>\n",
       "      <th>ameniti_solarium</th>\n",
       "      <th>amenities</th>\n",
       "    </tr>\n",
       "  </thead>\n",
       "  <tbody>\n",
       "    <tr>\n",
       "      <th>0</th>\n",
       "      <td>apartment</td>\n",
       "      <td>|Argentina|Capital Federal|Mataderos|</td>\n",
       "      <td>3430787.0</td>\n",
       "      <td>-34.6522615,-58.5229825</td>\n",
       "      <td>-34.652262</td>\n",
       "      <td>-58.522982</td>\n",
       "      <td>72000.0</td>\n",
       "      <td>USD</td>\n",
       "      <td>1270404.0</td>\n",
       "      <td>72000.0</td>\n",
       "      <td>...</td>\n",
       "      <td>no</td>\n",
       "      <td>NaN</td>\n",
       "      <td>0.0</td>\n",
       "      <td>0.0</td>\n",
       "      <td>1.0</td>\n",
       "      <td>0.0</td>\n",
       "      <td>0.0</td>\n",
       "      <td>0.0</td>\n",
       "      <td>0.0</td>\n",
       "      <td>1.0</td>\n",
       "    </tr>\n",
       "    <tr>\n",
       "      <th>1</th>\n",
       "      <td>apartment</td>\n",
       "      <td>|Argentina|Capital Federal|Belgrano|</td>\n",
       "      <td>3436077.0</td>\n",
       "      <td>-34.5598729,-58.443362</td>\n",
       "      <td>-34.559873</td>\n",
       "      <td>-58.443362</td>\n",
       "      <td>138000.0</td>\n",
       "      <td>USD</td>\n",
       "      <td>2434941.0</td>\n",
       "      <td>138000.0</td>\n",
       "      <td>...</td>\n",
       "      <td>no</td>\n",
       "      <td>NaN</td>\n",
       "      <td>0.0</td>\n",
       "      <td>0.0</td>\n",
       "      <td>1.0</td>\n",
       "      <td>0.0</td>\n",
       "      <td>0.0</td>\n",
       "      <td>1.0</td>\n",
       "      <td>1.0</td>\n",
       "      <td>3.0</td>\n",
       "    </tr>\n",
       "    <tr>\n",
       "      <th>2</th>\n",
       "      <td>apartment</td>\n",
       "      <td>|Argentina|Capital Federal|Belgrano|</td>\n",
       "      <td>3436077.0</td>\n",
       "      <td>-34.5598729,-58.443362</td>\n",
       "      <td>-34.559873</td>\n",
       "      <td>-58.443362</td>\n",
       "      <td>195000.0</td>\n",
       "      <td>USD</td>\n",
       "      <td>3440677.5</td>\n",
       "      <td>195000.0</td>\n",
       "      <td>...</td>\n",
       "      <td>no</td>\n",
       "      <td>NaN</td>\n",
       "      <td>0.0</td>\n",
       "      <td>0.0</td>\n",
       "      <td>1.0</td>\n",
       "      <td>0.0</td>\n",
       "      <td>0.0</td>\n",
       "      <td>1.0</td>\n",
       "      <td>1.0</td>\n",
       "      <td>3.0</td>\n",
       "    </tr>\n",
       "  </tbody>\n",
       "</table>\n",
       "<p>3 rows × 46 columns</p>\n",
       "</div>"
      ],
      "text/plain": [
       "  property_type                place_with_parent_names  geonames_id  \\\n",
       "0     apartment  |Argentina|Capital Federal|Mataderos|    3430787.0   \n",
       "1     apartment   |Argentina|Capital Federal|Belgrano|    3436077.0   \n",
       "2     apartment   |Argentina|Capital Federal|Belgrano|    3436077.0   \n",
       "\n",
       "                   lat-lon        lat        lon     price currency  \\\n",
       "0  -34.6522615,-58.5229825 -34.652262 -58.522982   72000.0      USD   \n",
       "1   -34.5598729,-58.443362 -34.559873 -58.443362  138000.0      USD   \n",
       "2   -34.5598729,-58.443362 -34.559873 -58.443362  195000.0      USD   \n",
       "\n",
       "   price_aprox_local_currency  price_aprox_usd  ...  estacionamiento  \\\n",
       "0                   1270404.0          72000.0  ...               no   \n",
       "1                   2434941.0         138000.0  ...               no   \n",
       "2                   3440677.5         195000.0  ...               no   \n",
       "\n",
       "   esp_exterior  ameniti_sum  ameniti_seguridad  ameniti_laundry  \\\n",
       "0           NaN          0.0                0.0              1.0   \n",
       "1           NaN          0.0                0.0              1.0   \n",
       "2           NaN          0.0                0.0              1.0   \n",
       "\n",
       "   ameniti_gimnasio  ameniti_parrilla ameniti_piscina ameniti_solarium  \\\n",
       "0               0.0               0.0             0.0              0.0   \n",
       "1               0.0               0.0             1.0              1.0   \n",
       "2               0.0               0.0             1.0              1.0   \n",
       "\n",
       "  amenities  \n",
       "0       1.0  \n",
       "1       3.0  \n",
       "2       3.0  \n",
       "\n",
       "[3 rows x 46 columns]"
      ]
     },
     "execution_count": 17,
     "metadata": {},
     "output_type": "execute_result"
    }
   ],
   "source": [
    "data=pd.read_csv(\"../Desafio_1/properati_desafio_final.csv\")\n",
    "print (data.info())\n",
    "data.head(3)"
   ]
  },
  {
   "cell_type": "code",
   "execution_count": null,
   "metadata": {},
   "outputs": [],
   "source": []
  },
  {
   "cell_type": "code",
   "execution_count": null,
   "metadata": {},
   "outputs": [],
   "source": []
  },
  {
   "cell_type": "code",
   "execution_count": null,
   "metadata": {},
   "outputs": [],
   "source": []
  },
  {
   "cell_type": "code",
   "execution_count": null,
   "metadata": {},
   "outputs": [],
   "source": []
  },
  {
   "cell_type": "code",
   "execution_count": 18,
   "metadata": {},
   "outputs": [],
   "source": [
    "data_ap=data"
   ]
  },
  {
   "cell_type": "markdown",
   "metadata": {},
   "source": [
    "## Correcciones de la base para tenes datos completos"
   ]
  },
  {
   "cell_type": "markdown",
   "metadata": {},
   "source": [
    "### Buscamos los registros que son 'apto profesional'"
   ]
  },
  {
   "cell_type": "code",
   "execution_count": 19,
   "metadata": {},
   "outputs": [
    {
     "data": {
      "text/plain": [
       "1        <re.Match object; span=(127, 143), match='apto...\n",
       "2        <re.Match object; span=(127, 143), match='apto...\n",
       "3        <re.Match object; span=(158, 173), match='uso ...\n",
       "4        <re.Match object; span=(133, 148), match='uso ...\n",
       "22       <re.Match object; span=(692, 708), match='apto...\n",
       "                               ...                        \n",
       "24085    <re.Match object; span=(81, 98), match='apto p...\n",
       "24088    <re.Match object; span=(406, 422), match='apto...\n",
       "24089    <re.Match object; span=(128, 145), match='apto...\n",
       "24090    <re.Match object; span=(57, 74), match='apto p...\n",
       "24162    <re.Match object; span=(22, 38), match='apto p...\n",
       "Name: description_sin_tilde, Length: 3586, dtype: object"
      ]
     },
     "execution_count": 19,
     "metadata": {},
     "output_type": "execute_result"
    }
   ],
   "source": [
    "#Buscamos los registros que hagan referencia a 4to piso\n",
    "\n",
    "patron_amb=\"(apto|uso)(\\s?profesional\\s?)\"\n",
    "regex_amb=re.compile(patron_amb)\n",
    "\n",
    "#Completamos la variable piso_clean con la data encontrada\n",
    "\n",
    "match_1=data_ap['description_sin_tilde'].apply(lambda x: x if x is np.NaN else regex_amb.search(x))\n",
    "\n",
    "data_ap.loc[match_1.notnull(),'apto_profesional']=1\n",
    "match_1[match_1.notnull()]"
   ]
  },
  {
   "cell_type": "code",
   "execution_count": 20,
   "metadata": {},
   "outputs": [
    {
     "data": {
      "text/plain": [
       "3586.0"
      ]
     },
     "execution_count": 20,
     "metadata": {},
     "output_type": "execute_result"
    }
   ],
   "source": [
    "data_ap['apto_profesional']=data_ap['apto_profesional'].fillna(0)\n",
    "data_ap['apto_profesional'].sum()"
   ]
  },
  {
   "cell_type": "markdown",
   "metadata": {},
   "source": [
    "### Depuración columna Rooms\n",
    "\n",
    "Vamos a buscar en la columna \"description\" todas aquellas líneas que diga \"ambientes\" para completar nulos en el campo \"rooms\". "
   ]
  },
  {
   "cell_type": "code",
   "execution_count": 21,
   "metadata": {},
   "outputs": [
    {
     "name": "stdout",
     "output_type": "stream",
     "text": [
      "(11306, 1)\n"
     ]
    }
   ],
   "source": [
    "\n",
    "\n",
    "patron_amb=\"(?P<amb>\\d)\\s(ambiente)\"\n",
    "regex_amb=re.compile(patron_amb)\n",
    "\n",
    "#Completamos la variable piso_clean con la data encontrada\n",
    "\n",
    "match_1=data_ap['description_sin_tilde'].apply(lambda x: x if x is np.NaN else regex_amb.search(x))\n",
    "\n",
    "data_ap.loc[match_1.notnull(),'rooms_clean']=match_1[match_1.notnull()].apply(lambda x: x.group(\"amb\"))\n",
    "pisos=data_ap[data_ap['rooms_clean'].notnull()][['rooms_clean']]\n",
    "print(pisos.shape)\n"
   ]
  },
  {
   "cell_type": "code",
   "execution_count": 22,
   "metadata": {},
   "outputs": [
    {
     "name": "stdout",
     "output_type": "stream",
     "text": [
      "(12120, 1)\n"
     ]
    }
   ],
   "source": [
    "\n",
    "\n",
    "patron_amb=\"(dos)\\s(ambientes)\"\n",
    "regex_amb=re.compile(patron_amb)\n",
    "\n",
    "#Completamos la variable piso_clean con la data encontrada\n",
    "\n",
    "match_1=data_ap['description_sin_tilde'].apply(lambda x: x if x is np.NaN else regex_amb.search(x))\n",
    "\n",
    "data_ap.loc[match_1.notnull(),'rooms_clean']=2\n",
    "pisos=data_ap[data_ap['rooms_clean'].notnull()][['rooms_clean']]\n",
    "print(pisos.shape)\n",
    "\n"
   ]
  },
  {
   "cell_type": "code",
   "execution_count": 23,
   "metadata": {},
   "outputs": [
    {
     "name": "stdout",
     "output_type": "stream",
     "text": [
      "(12455, 1)\n"
     ]
    }
   ],
   "source": [
    "\n",
    "patron_amb=\"(tres)\\s(ambientes)\"\n",
    "regex_amb=re.compile(patron_amb)\n",
    "\n",
    "#Completamos la variable piso_clean con la data encontrada\n",
    "\n",
    "match_1=data_ap['description_sin_tilde'].apply(lambda x: x if x is np.NaN else regex_amb.search(x))\n",
    "\n",
    "data_ap.loc[match_1.notnull(),'rooms_clean']=3\n",
    "pisos=data_ap[data_ap['rooms_clean'].notnull()][['rooms_clean']]\n",
    "print(pisos.shape)\n",
    "\n"
   ]
  },
  {
   "cell_type": "code",
   "execution_count": 24,
   "metadata": {},
   "outputs": [
    {
     "name": "stdout",
     "output_type": "stream",
     "text": [
      "(12780, 1)\n"
     ]
    }
   ],
   "source": [
    "\n",
    "patron_amb=\"(un)\\s(ambiente)\"\n",
    "regex_amb=re.compile(patron_amb)\n",
    "\n",
    "#Completamos la variable piso_clean con la data encontrada\n",
    "\n",
    "match_1=data_ap['description_sin_tilde'].apply(lambda x: x if x is np.NaN else regex_amb.search(x))\n",
    "\n",
    "data_ap.loc[match_1.notnull(),'rooms_clean']=1\n",
    "pisos=data_ap[data_ap['rooms_clean'].notnull()][['rooms_clean']]\n",
    "print(pisos.shape)\n",
    "\n"
   ]
  },
  {
   "cell_type": "code",
   "execution_count": 25,
   "metadata": {},
   "outputs": [
    {
     "name": "stdout",
     "output_type": "stream",
     "text": [
      "(14246, 1)\n"
     ]
    }
   ],
   "source": [
    "\n",
    "patron_amb=\"(?P<amb>\\d)\\s?(amb)\"\n",
    "regex_amb=re.compile(patron_amb)\n",
    "\n",
    "#Completamos la variable piso_clean con la data encontrada\n",
    "\n",
    "match_1=data_ap['description_sin_tilde'].apply(lambda x: x if x is np.NaN else regex_amb.search(x))\n",
    "\n",
    "data_ap.loc[match_1.notnull(),'rooms_clean']=match_1[match_1.notnull()].apply(lambda x: x.group(\"amb\"))\n",
    "pisos=data_ap[data_ap['rooms_clean'].notnull()][['rooms_clean']]\n",
    "print(pisos.shape)\n",
    "\n"
   ]
  },
  {
   "cell_type": "code",
   "execution_count": 26,
   "metadata": {},
   "outputs": [
    {
     "name": "stdout",
     "output_type": "stream",
     "text": [
      "(16578, 1)\n"
     ]
    }
   ],
   "source": [
    "\n",
    "patron_amb=\"(mono)\\s?(ambiente)\"\n",
    "regex_amb=re.compile(patron_amb)\n",
    "\n",
    "#Completamos la variable piso_clean con la data encontrada\n",
    "\n",
    "match_1=data_ap['description_sin_tilde'].apply(lambda x: x if x is np.NaN else regex_amb.search(x))\n",
    "\n",
    "data_ap.loc[match_1.notnull(),'rooms_clean']=1\n",
    "pisos=data_ap[data_ap['rooms_clean'].notnull()][['rooms_clean']]\n",
    "print(pisos.shape)\n",
    "\n"
   ]
  },
  {
   "cell_type": "code",
   "execution_count": 27,
   "metadata": {},
   "outputs": [
    {
     "data": {
      "text/html": [
       "<div>\n",
       "<style scoped>\n",
       "    .dataframe tbody tr th:only-of-type {\n",
       "        vertical-align: middle;\n",
       "    }\n",
       "\n",
       "    .dataframe tbody tr th {\n",
       "        vertical-align: top;\n",
       "    }\n",
       "\n",
       "    .dataframe thead th {\n",
       "        text-align: right;\n",
       "    }\n",
       "</style>\n",
       "<table border=\"1\" class=\"dataframe\">\n",
       "  <thead>\n",
       "    <tr style=\"text-align: right;\">\n",
       "      <th></th>\n",
       "      <th>rooms</th>\n",
       "      <th>rooms_clean</th>\n",
       "    </tr>\n",
       "  </thead>\n",
       "  <tbody>\n",
       "    <tr>\n",
       "      <th>96</th>\n",
       "      <td>NaN</td>\n",
       "      <td>NaN</td>\n",
       "    </tr>\n",
       "    <tr>\n",
       "      <th>120</th>\n",
       "      <td>NaN</td>\n",
       "      <td>NaN</td>\n",
       "    </tr>\n",
       "    <tr>\n",
       "      <th>176</th>\n",
       "      <td>NaN</td>\n",
       "      <td>NaN</td>\n",
       "    </tr>\n",
       "    <tr>\n",
       "      <th>183</th>\n",
       "      <td>NaN</td>\n",
       "      <td>NaN</td>\n",
       "    </tr>\n",
       "    <tr>\n",
       "      <th>184</th>\n",
       "      <td>NaN</td>\n",
       "      <td>NaN</td>\n",
       "    </tr>\n",
       "    <tr>\n",
       "      <th>...</th>\n",
       "      <td>...</td>\n",
       "      <td>...</td>\n",
       "    </tr>\n",
       "    <tr>\n",
       "      <th>24156</th>\n",
       "      <td>NaN</td>\n",
       "      <td>NaN</td>\n",
       "    </tr>\n",
       "    <tr>\n",
       "      <th>24157</th>\n",
       "      <td>NaN</td>\n",
       "      <td>NaN</td>\n",
       "    </tr>\n",
       "    <tr>\n",
       "      <th>24159</th>\n",
       "      <td>NaN</td>\n",
       "      <td>NaN</td>\n",
       "    </tr>\n",
       "    <tr>\n",
       "      <th>24160</th>\n",
       "      <td>NaN</td>\n",
       "      <td>NaN</td>\n",
       "    </tr>\n",
       "    <tr>\n",
       "      <th>24162</th>\n",
       "      <td>NaN</td>\n",
       "      <td>NaN</td>\n",
       "    </tr>\n",
       "  </tbody>\n",
       "</table>\n",
       "<p>3672 rows × 2 columns</p>\n",
       "</div>"
      ],
      "text/plain": [
       "       rooms rooms_clean\n",
       "96       NaN         NaN\n",
       "120      NaN         NaN\n",
       "176      NaN         NaN\n",
       "183      NaN         NaN\n",
       "184      NaN         NaN\n",
       "...      ...         ...\n",
       "24156    NaN         NaN\n",
       "24157    NaN         NaN\n",
       "24159    NaN         NaN\n",
       "24160    NaN         NaN\n",
       "24162    NaN         NaN\n",
       "\n",
       "[3672 rows x 2 columns]"
      ]
     },
     "execution_count": 27,
     "metadata": {},
     "output_type": "execute_result"
    }
   ],
   "source": [
    "data_ap[['rooms','rooms_clean']][(\n",
    "    data_ap['rooms'].isnull())&(data_ap['rooms_clean'].isnull())]"
   ]
  },
  {
   "cell_type": "code",
   "execution_count": 28,
   "metadata": {},
   "outputs": [
    {
     "data": {
      "text/html": [
       "<div>\n",
       "<style scoped>\n",
       "    .dataframe tbody tr th:only-of-type {\n",
       "        vertical-align: middle;\n",
       "    }\n",
       "\n",
       "    .dataframe tbody tr th {\n",
       "        vertical-align: top;\n",
       "    }\n",
       "\n",
       "    .dataframe thead th {\n",
       "        text-align: right;\n",
       "    }\n",
       "</style>\n",
       "<table border=\"1\" class=\"dataframe\">\n",
       "  <thead>\n",
       "    <tr style=\"text-align: right;\">\n",
       "      <th></th>\n",
       "      <th>rooms</th>\n",
       "      <th>rooms_clean</th>\n",
       "      <th>amb_clean</th>\n",
       "    </tr>\n",
       "  </thead>\n",
       "  <tbody>\n",
       "    <tr>\n",
       "      <th>3</th>\n",
       "      <td>1.0</td>\n",
       "      <td>3</td>\n",
       "      <td>1</td>\n",
       "    </tr>\n",
       "    <tr>\n",
       "      <th>4</th>\n",
       "      <td>1.0</td>\n",
       "      <td>NaN</td>\n",
       "      <td>1</td>\n",
       "    </tr>\n",
       "    <tr>\n",
       "      <th>5</th>\n",
       "      <td>3.0</td>\n",
       "      <td>NaN</td>\n",
       "      <td>3</td>\n",
       "    </tr>\n",
       "    <tr>\n",
       "      <th>6</th>\n",
       "      <td>4.0</td>\n",
       "      <td>NaN</td>\n",
       "      <td>4</td>\n",
       "    </tr>\n",
       "    <tr>\n",
       "      <th>7</th>\n",
       "      <td>2.0</td>\n",
       "      <td>NaN</td>\n",
       "      <td>2</td>\n",
       "    </tr>\n",
       "    <tr>\n",
       "      <th>8</th>\n",
       "      <td>3.0</td>\n",
       "      <td>NaN</td>\n",
       "      <td>3</td>\n",
       "    </tr>\n",
       "    <tr>\n",
       "      <th>9</th>\n",
       "      <td>5.0</td>\n",
       "      <td>NaN</td>\n",
       "      <td>5</td>\n",
       "    </tr>\n",
       "    <tr>\n",
       "      <th>10</th>\n",
       "      <td>3.0</td>\n",
       "      <td>3</td>\n",
       "      <td>3</td>\n",
       "    </tr>\n",
       "    <tr>\n",
       "      <th>11</th>\n",
       "      <td>2.0</td>\n",
       "      <td>NaN</td>\n",
       "      <td>2</td>\n",
       "    </tr>\n",
       "    <tr>\n",
       "      <th>12</th>\n",
       "      <td>3.0</td>\n",
       "      <td>NaN</td>\n",
       "      <td>3</td>\n",
       "    </tr>\n",
       "    <tr>\n",
       "      <th>13</th>\n",
       "      <td>3.0</td>\n",
       "      <td>NaN</td>\n",
       "      <td>3</td>\n",
       "    </tr>\n",
       "    <tr>\n",
       "      <th>14</th>\n",
       "      <td>2.0</td>\n",
       "      <td>2</td>\n",
       "      <td>2</td>\n",
       "    </tr>\n",
       "    <tr>\n",
       "      <th>16</th>\n",
       "      <td>1.0</td>\n",
       "      <td>2</td>\n",
       "      <td>1</td>\n",
       "    </tr>\n",
       "    <tr>\n",
       "      <th>17</th>\n",
       "      <td>2.0</td>\n",
       "      <td>2</td>\n",
       "      <td>2</td>\n",
       "    </tr>\n",
       "    <tr>\n",
       "      <th>19</th>\n",
       "      <td>4.0</td>\n",
       "      <td>4</td>\n",
       "      <td>4</td>\n",
       "    </tr>\n",
       "  </tbody>\n",
       "</table>\n",
       "</div>"
      ],
      "text/plain": [
       "    rooms rooms_clean amb_clean\n",
       "3     1.0           3         1\n",
       "4     1.0         NaN         1\n",
       "5     3.0         NaN         3\n",
       "6     4.0         NaN         4\n",
       "7     2.0         NaN         2\n",
       "8     3.0         NaN         3\n",
       "9     5.0         NaN         5\n",
       "10    3.0           3         3\n",
       "11    2.0         NaN         2\n",
       "12    3.0         NaN         3\n",
       "13    3.0         NaN         3\n",
       "14    2.0           2         2\n",
       "16    1.0           2         1\n",
       "17    2.0           2         2\n",
       "19    4.0           4         4"
      ]
     },
     "execution_count": 28,
     "metadata": {},
     "output_type": "execute_result"
    }
   ],
   "source": [
    "# Unimos la informacion de floor. Si en floor hay datos lo mantenemos, sino completamos con la variable calculada de piso_clean\n",
    "\n",
    "data_ap['amb_clean'] = data_ap.apply(lambda x: x['rooms'] if pd.notnull(x['rooms']) else x['rooms_clean'], axis=1)\n",
    "\n",
    "# Chequeamos si en los casos donde había datos en floor se completó correctamente\n",
    "\n",
    "data_ap.loc[data_ap['rooms'].notnull(),['rooms','rooms_clean','amb_clean']].head(15)"
   ]
  },
  {
   "cell_type": "markdown",
   "metadata": {},
   "source": [
    "#### Vamos a depurar los precios por m2 de los barrios san cristobal y boedo"
   ]
  },
  {
   "cell_type": "markdown",
   "metadata": {},
   "source": [
    "Como vimos que los precios por m2 de los barrios San Cristobal y Boedo no eran lógicos, lo topeamos en valores mas lógicos según el negocio. \n",
    "* Siendo para Boedo un precio promedio por metro cuadrado USD2388 y un precio por metro cuadrado máximo de USD5000.\n",
    "* Siendo para San Cristobal un precio promedio por metro cuadrado USD2343 y un precio por metro cuadrado máximo de USD5000.\n",
    "\n",
    "*Fuente:*\n",
    "\n",
    "https://www.lanacion.com.ar/economia/dolar/barracas-devoto-colegiales-barrios-mas-se-encarecieron-nid2203920"
   ]
  },
  {
   "cell_type": "code",
   "execution_count": 30,
   "metadata": {},
   "outputs": [],
   "source": [
    "# Agregar gráfico con el tope de 5000"
   ]
  },
  {
   "cell_type": "code",
   "execution_count": 31,
   "metadata": {},
   "outputs": [],
   "source": [
    "data_ap['price_usd_per_m2_clean_2']=data_ap.apply(lambda x: 2388 if (x['Barrio']=='Boedo')&(x['price_usd_per_m2_clean']>5000)\n",
    "                                                  else (2343 if (x['Barrio']=='San Cristobal')&(x['price_usd_per_m2_clean']>5000)\n",
    "                                                   else  x['price_usd_per_m2_clean']), axis=1)"
   ]
  },
  {
   "cell_type": "markdown",
   "metadata": {},
   "source": [
    "#### Vamos a completar los nulos con la media segun el barrio"
   ]
  },
  {
   "cell_type": "code",
   "execution_count": 32,
   "metadata": {},
   "outputs": [],
   "source": [
    "data_ap['Barrio']=data_ap['Barrio'].fillna('')"
   ]
  },
  {
   "cell_type": "code",
   "execution_count": 33,
   "metadata": {},
   "outputs": [],
   "source": [
    "def imputar_nulos(data,listado_barrios,variable_a_imputar):\n",
    "    df=data.copy()\n",
    "    for i in listado_barrios:\n",
    "        mean=df[df['Barrio']==i][variable_a_imputar].mean()\n",
    "        df[variable_a_imputar+'_3']=df.apply(\n",
    "            lambda x: x[variable_a_imputar] if pd.notnull(x[variable_a_imputar]) else mean, axis=1)\n",
    "    return df"
   ]
  },
  {
   "cell_type": "code",
   "execution_count": 34,
   "metadata": {},
   "outputs": [],
   "source": [
    "list_barrios=data_ap['Barrio'].drop_duplicates().sort_values().to_list()\n",
    "# list_barrios"
   ]
  },
  {
   "cell_type": "markdown",
   "metadata": {},
   "source": [
    "* Imputamos los precios faltantes por m2 según la media del barrio"
   ]
  },
  {
   "cell_type": "code",
   "execution_count": null,
   "metadata": {},
   "outputs": [],
   "source": []
  },
  {
   "cell_type": "code",
   "execution_count": 35,
   "metadata": {},
   "outputs": [
    {
     "data": {
      "text/html": [
       "<div>\n",
       "<style scoped>\n",
       "    .dataframe tbody tr th:only-of-type {\n",
       "        vertical-align: middle;\n",
       "    }\n",
       "\n",
       "    .dataframe tbody tr th {\n",
       "        vertical-align: top;\n",
       "    }\n",
       "\n",
       "    .dataframe thead th {\n",
       "        text-align: right;\n",
       "    }\n",
       "</style>\n",
       "<table border=\"1\" class=\"dataframe\">\n",
       "  <thead>\n",
       "    <tr style=\"text-align: right;\">\n",
       "      <th></th>\n",
       "      <th>property_type</th>\n",
       "      <th>place_with_parent_names</th>\n",
       "      <th>geonames_id</th>\n",
       "      <th>lat-lon</th>\n",
       "      <th>lat</th>\n",
       "      <th>lon</th>\n",
       "      <th>price</th>\n",
       "      <th>currency</th>\n",
       "      <th>price_aprox_local_currency</th>\n",
       "      <th>price_aprox_usd</th>\n",
       "      <th>...</th>\n",
       "      <th>ameniti_gimnasio</th>\n",
       "      <th>ameniti_parrilla</th>\n",
       "      <th>ameniti_piscina</th>\n",
       "      <th>ameniti_solarium</th>\n",
       "      <th>amenities</th>\n",
       "      <th>apto_profesional</th>\n",
       "      <th>rooms_clean</th>\n",
       "      <th>amb_clean</th>\n",
       "      <th>price_usd_per_m2_clean_2</th>\n",
       "      <th>price_usd_per_m2_clean_2_3</th>\n",
       "    </tr>\n",
       "  </thead>\n",
       "  <tbody>\n",
       "    <tr>\n",
       "      <th>0</th>\n",
       "      <td>apartment</td>\n",
       "      <td>|Argentina|Capital Federal|Mataderos|</td>\n",
       "      <td>3430787.0</td>\n",
       "      <td>-34.6522615,-58.5229825</td>\n",
       "      <td>-34.652262</td>\n",
       "      <td>-58.522982</td>\n",
       "      <td>72000.0</td>\n",
       "      <td>USD</td>\n",
       "      <td>1270404.00</td>\n",
       "      <td>72000.0</td>\n",
       "      <td>...</td>\n",
       "      <td>0.0</td>\n",
       "      <td>0.0</td>\n",
       "      <td>0.0</td>\n",
       "      <td>0.0</td>\n",
       "      <td>1.0</td>\n",
       "      <td>0.0</td>\n",
       "      <td>2</td>\n",
       "      <td>2</td>\n",
       "      <td>1309.090909</td>\n",
       "      <td>1309.090909</td>\n",
       "    </tr>\n",
       "    <tr>\n",
       "      <th>1</th>\n",
       "      <td>apartment</td>\n",
       "      <td>|Argentina|Capital Federal|Belgrano|</td>\n",
       "      <td>3436077.0</td>\n",
       "      <td>-34.5598729,-58.443362</td>\n",
       "      <td>-34.559873</td>\n",
       "      <td>-58.443362</td>\n",
       "      <td>138000.0</td>\n",
       "      <td>USD</td>\n",
       "      <td>2434941.00</td>\n",
       "      <td>138000.0</td>\n",
       "      <td>...</td>\n",
       "      <td>0.0</td>\n",
       "      <td>0.0</td>\n",
       "      <td>1.0</td>\n",
       "      <td>1.0</td>\n",
       "      <td>3.0</td>\n",
       "      <td>1.0</td>\n",
       "      <td>1</td>\n",
       "      <td>1</td>\n",
       "      <td>3066.666667</td>\n",
       "      <td>3066.666667</td>\n",
       "    </tr>\n",
       "    <tr>\n",
       "      <th>2</th>\n",
       "      <td>apartment</td>\n",
       "      <td>|Argentina|Capital Federal|Belgrano|</td>\n",
       "      <td>3436077.0</td>\n",
       "      <td>-34.5598729,-58.443362</td>\n",
       "      <td>-34.559873</td>\n",
       "      <td>-58.443362</td>\n",
       "      <td>195000.0</td>\n",
       "      <td>USD</td>\n",
       "      <td>3440677.50</td>\n",
       "      <td>195000.0</td>\n",
       "      <td>...</td>\n",
       "      <td>0.0</td>\n",
       "      <td>0.0</td>\n",
       "      <td>1.0</td>\n",
       "      <td>1.0</td>\n",
       "      <td>3.0</td>\n",
       "      <td>1.0</td>\n",
       "      <td>2</td>\n",
       "      <td>2</td>\n",
       "      <td>3000.000000</td>\n",
       "      <td>3000.000000</td>\n",
       "    </tr>\n",
       "    <tr>\n",
       "      <th>3</th>\n",
       "      <td>apartment</td>\n",
       "      <td>|Argentina|Capital Federal|Palermo|Palermo Soho|</td>\n",
       "      <td>3430234.0</td>\n",
       "      <td>NaN</td>\n",
       "      <td>NaN</td>\n",
       "      <td>NaN</td>\n",
       "      <td>111700.0</td>\n",
       "      <td>USD</td>\n",
       "      <td>1970890.65</td>\n",
       "      <td>111700.0</td>\n",
       "      <td>...</td>\n",
       "      <td>1.0</td>\n",
       "      <td>0.0</td>\n",
       "      <td>1.0</td>\n",
       "      <td>1.0</td>\n",
       "      <td>3.0</td>\n",
       "      <td>1.0</td>\n",
       "      <td>3</td>\n",
       "      <td>1</td>\n",
       "      <td>2234.000000</td>\n",
       "      <td>2234.000000</td>\n",
       "    </tr>\n",
       "    <tr>\n",
       "      <th>4</th>\n",
       "      <td>apartment</td>\n",
       "      <td>|Argentina|Capital Federal|Palermo|Palermo Soho|</td>\n",
       "      <td>3430234.0</td>\n",
       "      <td>NaN</td>\n",
       "      <td>NaN</td>\n",
       "      <td>NaN</td>\n",
       "      <td>147900.0</td>\n",
       "      <td>USD</td>\n",
       "      <td>2609621.55</td>\n",
       "      <td>147900.0</td>\n",
       "      <td>...</td>\n",
       "      <td>1.0</td>\n",
       "      <td>0.0</td>\n",
       "      <td>1.0</td>\n",
       "      <td>1.0</td>\n",
       "      <td>3.0</td>\n",
       "      <td>1.0</td>\n",
       "      <td>NaN</td>\n",
       "      <td>1</td>\n",
       "      <td>3521.428571</td>\n",
       "      <td>3521.428571</td>\n",
       "    </tr>\n",
       "  </tbody>\n",
       "</table>\n",
       "<p>5 rows × 51 columns</p>\n",
       "</div>"
      ],
      "text/plain": [
       "  property_type                           place_with_parent_names  \\\n",
       "0     apartment             |Argentina|Capital Federal|Mataderos|   \n",
       "1     apartment              |Argentina|Capital Federal|Belgrano|   \n",
       "2     apartment              |Argentina|Capital Federal|Belgrano|   \n",
       "3     apartment  |Argentina|Capital Federal|Palermo|Palermo Soho|   \n",
       "4     apartment  |Argentina|Capital Federal|Palermo|Palermo Soho|   \n",
       "\n",
       "   geonames_id                  lat-lon        lat        lon     price  \\\n",
       "0    3430787.0  -34.6522615,-58.5229825 -34.652262 -58.522982   72000.0   \n",
       "1    3436077.0   -34.5598729,-58.443362 -34.559873 -58.443362  138000.0   \n",
       "2    3436077.0   -34.5598729,-58.443362 -34.559873 -58.443362  195000.0   \n",
       "3    3430234.0                      NaN        NaN        NaN  111700.0   \n",
       "4    3430234.0                      NaN        NaN        NaN  147900.0   \n",
       "\n",
       "  currency  price_aprox_local_currency  price_aprox_usd  ...  \\\n",
       "0      USD                  1270404.00          72000.0  ...   \n",
       "1      USD                  2434941.00         138000.0  ...   \n",
       "2      USD                  3440677.50         195000.0  ...   \n",
       "3      USD                  1970890.65         111700.0  ...   \n",
       "4      USD                  2609621.55         147900.0  ...   \n",
       "\n",
       "   ameniti_gimnasio  ameniti_parrilla  ameniti_piscina  ameniti_solarium  \\\n",
       "0               0.0               0.0              0.0               0.0   \n",
       "1               0.0               0.0              1.0               1.0   \n",
       "2               0.0               0.0              1.0               1.0   \n",
       "3               1.0               0.0              1.0               1.0   \n",
       "4               1.0               0.0              1.0               1.0   \n",
       "\n",
       "   amenities  apto_profesional  rooms_clean amb_clean  \\\n",
       "0        1.0               0.0            2         2   \n",
       "1        3.0               1.0            1         1   \n",
       "2        3.0               1.0            2         2   \n",
       "3        3.0               1.0            3         1   \n",
       "4        3.0               1.0          NaN         1   \n",
       "\n",
       "  price_usd_per_m2_clean_2 price_usd_per_m2_clean_2_3  \n",
       "0              1309.090909                1309.090909  \n",
       "1              3066.666667                3066.666667  \n",
       "2              3000.000000                3000.000000  \n",
       "3              2234.000000                2234.000000  \n",
       "4              3521.428571                3521.428571  \n",
       "\n",
       "[5 rows x 51 columns]"
      ]
     },
     "execution_count": 35,
     "metadata": {},
     "output_type": "execute_result"
    }
   ],
   "source": [
    "data_base=imputar_nulos(data_ap,list_barrios,'price_usd_per_m2_clean_2')\n",
    "data_base.head()"
   ]
  },
  {
   "cell_type": "code",
   "execution_count": 36,
   "metadata": {},
   "outputs": [
    {
     "data": {
      "text/plain": [
       "0"
      ]
     },
     "execution_count": 36,
     "metadata": {},
     "output_type": "execute_result"
    }
   ],
   "source": [
    "# data_base[data_base['price_usd_per_m2_clean_2_3'].isnull()]['Barrio']\n",
    "data_base['price_usd_per_m2_clean_2_3'].isnull().sum()"
   ]
  },
  {
   "cell_type": "markdown",
   "metadata": {},
   "source": [
    "* Imputamos los m2 faltantes según la media del barrio"
   ]
  },
  {
   "cell_type": "code",
   "execution_count": 37,
   "metadata": {},
   "outputs": [
    {
     "data": {
      "text/html": [
       "<div>\n",
       "<style scoped>\n",
       "    .dataframe tbody tr th:only-of-type {\n",
       "        vertical-align: middle;\n",
       "    }\n",
       "\n",
       "    .dataframe tbody tr th {\n",
       "        vertical-align: top;\n",
       "    }\n",
       "\n",
       "    .dataframe thead th {\n",
       "        text-align: right;\n",
       "    }\n",
       "</style>\n",
       "<table border=\"1\" class=\"dataframe\">\n",
       "  <thead>\n",
       "    <tr style=\"text-align: right;\">\n",
       "      <th></th>\n",
       "      <th>property_type</th>\n",
       "      <th>place_with_parent_names</th>\n",
       "      <th>geonames_id</th>\n",
       "      <th>lat-lon</th>\n",
       "      <th>lat</th>\n",
       "      <th>lon</th>\n",
       "      <th>price</th>\n",
       "      <th>currency</th>\n",
       "      <th>price_aprox_local_currency</th>\n",
       "      <th>price_aprox_usd</th>\n",
       "      <th>...</th>\n",
       "      <th>ameniti_parrilla</th>\n",
       "      <th>ameniti_piscina</th>\n",
       "      <th>ameniti_solarium</th>\n",
       "      <th>amenities</th>\n",
       "      <th>apto_profesional</th>\n",
       "      <th>rooms_clean</th>\n",
       "      <th>amb_clean</th>\n",
       "      <th>price_usd_per_m2_clean_2</th>\n",
       "      <th>price_usd_per_m2_clean_2_3</th>\n",
       "      <th>m2_total_clean_3</th>\n",
       "    </tr>\n",
       "  </thead>\n",
       "  <tbody>\n",
       "    <tr>\n",
       "      <th>0</th>\n",
       "      <td>apartment</td>\n",
       "      <td>|Argentina|Capital Federal|Mataderos|</td>\n",
       "      <td>3430787.0</td>\n",
       "      <td>-34.6522615,-58.5229825</td>\n",
       "      <td>-34.652262</td>\n",
       "      <td>-58.522982</td>\n",
       "      <td>72000.0</td>\n",
       "      <td>USD</td>\n",
       "      <td>1270404.00</td>\n",
       "      <td>72000.0</td>\n",
       "      <td>...</td>\n",
       "      <td>0.0</td>\n",
       "      <td>0.0</td>\n",
       "      <td>0.0</td>\n",
       "      <td>1.0</td>\n",
       "      <td>0.0</td>\n",
       "      <td>2</td>\n",
       "      <td>2</td>\n",
       "      <td>1309.090909</td>\n",
       "      <td>1309.090909</td>\n",
       "      <td>55.0</td>\n",
       "    </tr>\n",
       "    <tr>\n",
       "      <th>1</th>\n",
       "      <td>apartment</td>\n",
       "      <td>|Argentina|Capital Federal|Belgrano|</td>\n",
       "      <td>3436077.0</td>\n",
       "      <td>-34.5598729,-58.443362</td>\n",
       "      <td>-34.559873</td>\n",
       "      <td>-58.443362</td>\n",
       "      <td>138000.0</td>\n",
       "      <td>USD</td>\n",
       "      <td>2434941.00</td>\n",
       "      <td>138000.0</td>\n",
       "      <td>...</td>\n",
       "      <td>0.0</td>\n",
       "      <td>1.0</td>\n",
       "      <td>1.0</td>\n",
       "      <td>3.0</td>\n",
       "      <td>1.0</td>\n",
       "      <td>1</td>\n",
       "      <td>1</td>\n",
       "      <td>3066.666667</td>\n",
       "      <td>3066.666667</td>\n",
       "      <td>45.0</td>\n",
       "    </tr>\n",
       "    <tr>\n",
       "      <th>2</th>\n",
       "      <td>apartment</td>\n",
       "      <td>|Argentina|Capital Federal|Belgrano|</td>\n",
       "      <td>3436077.0</td>\n",
       "      <td>-34.5598729,-58.443362</td>\n",
       "      <td>-34.559873</td>\n",
       "      <td>-58.443362</td>\n",
       "      <td>195000.0</td>\n",
       "      <td>USD</td>\n",
       "      <td>3440677.50</td>\n",
       "      <td>195000.0</td>\n",
       "      <td>...</td>\n",
       "      <td>0.0</td>\n",
       "      <td>1.0</td>\n",
       "      <td>1.0</td>\n",
       "      <td>3.0</td>\n",
       "      <td>1.0</td>\n",
       "      <td>2</td>\n",
       "      <td>2</td>\n",
       "      <td>3000.000000</td>\n",
       "      <td>3000.000000</td>\n",
       "      <td>65.0</td>\n",
       "    </tr>\n",
       "    <tr>\n",
       "      <th>3</th>\n",
       "      <td>apartment</td>\n",
       "      <td>|Argentina|Capital Federal|Palermo|Palermo Soho|</td>\n",
       "      <td>3430234.0</td>\n",
       "      <td>NaN</td>\n",
       "      <td>NaN</td>\n",
       "      <td>NaN</td>\n",
       "      <td>111700.0</td>\n",
       "      <td>USD</td>\n",
       "      <td>1970890.65</td>\n",
       "      <td>111700.0</td>\n",
       "      <td>...</td>\n",
       "      <td>0.0</td>\n",
       "      <td>1.0</td>\n",
       "      <td>1.0</td>\n",
       "      <td>3.0</td>\n",
       "      <td>1.0</td>\n",
       "      <td>3</td>\n",
       "      <td>1</td>\n",
       "      <td>2234.000000</td>\n",
       "      <td>2234.000000</td>\n",
       "      <td>50.0</td>\n",
       "    </tr>\n",
       "    <tr>\n",
       "      <th>4</th>\n",
       "      <td>apartment</td>\n",
       "      <td>|Argentina|Capital Federal|Palermo|Palermo Soho|</td>\n",
       "      <td>3430234.0</td>\n",
       "      <td>NaN</td>\n",
       "      <td>NaN</td>\n",
       "      <td>NaN</td>\n",
       "      <td>147900.0</td>\n",
       "      <td>USD</td>\n",
       "      <td>2609621.55</td>\n",
       "      <td>147900.0</td>\n",
       "      <td>...</td>\n",
       "      <td>0.0</td>\n",
       "      <td>1.0</td>\n",
       "      <td>1.0</td>\n",
       "      <td>3.0</td>\n",
       "      <td>1.0</td>\n",
       "      <td>NaN</td>\n",
       "      <td>1</td>\n",
       "      <td>3521.428571</td>\n",
       "      <td>3521.428571</td>\n",
       "      <td>42.0</td>\n",
       "    </tr>\n",
       "  </tbody>\n",
       "</table>\n",
       "<p>5 rows × 52 columns</p>\n",
       "</div>"
      ],
      "text/plain": [
       "  property_type                           place_with_parent_names  \\\n",
       "0     apartment             |Argentina|Capital Federal|Mataderos|   \n",
       "1     apartment              |Argentina|Capital Federal|Belgrano|   \n",
       "2     apartment              |Argentina|Capital Federal|Belgrano|   \n",
       "3     apartment  |Argentina|Capital Federal|Palermo|Palermo Soho|   \n",
       "4     apartment  |Argentina|Capital Federal|Palermo|Palermo Soho|   \n",
       "\n",
       "   geonames_id                  lat-lon        lat        lon     price  \\\n",
       "0    3430787.0  -34.6522615,-58.5229825 -34.652262 -58.522982   72000.0   \n",
       "1    3436077.0   -34.5598729,-58.443362 -34.559873 -58.443362  138000.0   \n",
       "2    3436077.0   -34.5598729,-58.443362 -34.559873 -58.443362  195000.0   \n",
       "3    3430234.0                      NaN        NaN        NaN  111700.0   \n",
       "4    3430234.0                      NaN        NaN        NaN  147900.0   \n",
       "\n",
       "  currency  price_aprox_local_currency  price_aprox_usd  ...  \\\n",
       "0      USD                  1270404.00          72000.0  ...   \n",
       "1      USD                  2434941.00         138000.0  ...   \n",
       "2      USD                  3440677.50         195000.0  ...   \n",
       "3      USD                  1970890.65         111700.0  ...   \n",
       "4      USD                  2609621.55         147900.0  ...   \n",
       "\n",
       "   ameniti_parrilla  ameniti_piscina  ameniti_solarium  amenities  \\\n",
       "0               0.0              0.0               0.0        1.0   \n",
       "1               0.0              1.0               1.0        3.0   \n",
       "2               0.0              1.0               1.0        3.0   \n",
       "3               0.0              1.0               1.0        3.0   \n",
       "4               0.0              1.0               1.0        3.0   \n",
       "\n",
       "   apto_profesional  rooms_clean  amb_clean price_usd_per_m2_clean_2  \\\n",
       "0               0.0            2          2              1309.090909   \n",
       "1               1.0            1          1              3066.666667   \n",
       "2               1.0            2          2              3000.000000   \n",
       "3               1.0            3          1              2234.000000   \n",
       "4               1.0          NaN          1              3521.428571   \n",
       "\n",
       "  price_usd_per_m2_clean_2_3 m2_total_clean_3  \n",
       "0                1309.090909             55.0  \n",
       "1                3066.666667             45.0  \n",
       "2                3000.000000             65.0  \n",
       "3                2234.000000             50.0  \n",
       "4                3521.428571             42.0  \n",
       "\n",
       "[5 rows x 52 columns]"
      ]
     },
     "execution_count": 37,
     "metadata": {},
     "output_type": "execute_result"
    }
   ],
   "source": [
    "data_base=imputar_nulos(data_base,list_barrios,'m2_total_clean')\n",
    "data_base.head()"
   ]
  },
  {
   "cell_type": "code",
   "execution_count": 38,
   "metadata": {},
   "outputs": [
    {
     "data": {
      "text/plain": [
       "0"
      ]
     },
     "execution_count": 38,
     "metadata": {},
     "output_type": "execute_result"
    }
   ],
   "source": [
    "data_base['m2_total_clean_3'].isnull().sum()"
   ]
  },
  {
   "cell_type": "markdown",
   "metadata": {},
   "source": [
    "* Vamos a buscar una relacion entre los m2 y la cantidad de ambientes, para completar los registros con ambientes faltantes."
   ]
  },
  {
   "cell_type": "code",
   "execution_count": 39,
   "metadata": {},
   "outputs": [
    {
     "name": "stdout",
     "output_type": "stream",
     "text": [
      "Obtuvimos una relacion de (m2 * 0.0363 ) = cantidad de ambientes\n"
     ]
    }
   ],
   "source": [
    "data_base['m2xamb']=(data_base['amb_clean'].astype(float)/data_base['m2_total_clean_3']).round(2)\n",
    "lista=data_base['m2xamb']\n",
    "avg_m2xamb=np.mean(lista[np.isfinite(lista)])\n",
    "print('Obtuvimos una relacion de (m2 * ' + str(avg_m2xamb.round(4)),') = cantidad de ambientes')"
   ]
  },
  {
   "cell_type": "markdown",
   "metadata": {},
   "source": [
    "Con esta información vamos a calcular la cantidad de ambientes faltantes"
   ]
  },
  {
   "cell_type": "code",
   "execution_count": 40,
   "metadata": {},
   "outputs": [],
   "source": [
    "data_base['amb_clean_final']=data_base.apply(\n",
    "    lambda x: x['amb_clean'] if pd.notnull(x['amb_clean']) else (x['m2_total_clean_3']*avg_m2xamb).round(0),axis=1)"
   ]
  },
  {
   "cell_type": "code",
   "execution_count": 41,
   "metadata": {},
   "outputs": [
    {
     "data": {
      "text/html": [
       "<div>\n",
       "<style scoped>\n",
       "    .dataframe tbody tr th:only-of-type {\n",
       "        vertical-align: middle;\n",
       "    }\n",
       "\n",
       "    .dataframe tbody tr th {\n",
       "        vertical-align: top;\n",
       "    }\n",
       "\n",
       "    .dataframe thead th {\n",
       "        text-align: right;\n",
       "    }\n",
       "</style>\n",
       "<table border=\"1\" class=\"dataframe\">\n",
       "  <thead>\n",
       "    <tr style=\"text-align: right;\">\n",
       "      <th></th>\n",
       "      <th>m2_total_clean_3</th>\n",
       "      <th>amb_clean</th>\n",
       "      <th>amb_clean_final</th>\n",
       "    </tr>\n",
       "  </thead>\n",
       "  <tbody>\n",
       "    <tr>\n",
       "      <th>96</th>\n",
       "      <td>122.000000</td>\n",
       "      <td>NaN</td>\n",
       "      <td>4</td>\n",
       "    </tr>\n",
       "    <tr>\n",
       "      <th>120</th>\n",
       "      <td>147.000000</td>\n",
       "      <td>NaN</td>\n",
       "      <td>5</td>\n",
       "    </tr>\n",
       "    <tr>\n",
       "      <th>176</th>\n",
       "      <td>67.571429</td>\n",
       "      <td>NaN</td>\n",
       "      <td>2</td>\n",
       "    </tr>\n",
       "    <tr>\n",
       "      <th>183</th>\n",
       "      <td>77.000000</td>\n",
       "      <td>NaN</td>\n",
       "      <td>3</td>\n",
       "    </tr>\n",
       "    <tr>\n",
       "      <th>184</th>\n",
       "      <td>101.000000</td>\n",
       "      <td>NaN</td>\n",
       "      <td>4</td>\n",
       "    </tr>\n",
       "    <tr>\n",
       "      <th>...</th>\n",
       "      <td>...</td>\n",
       "      <td>...</td>\n",
       "      <td>...</td>\n",
       "    </tr>\n",
       "    <tr>\n",
       "      <th>24156</th>\n",
       "      <td>91.000000</td>\n",
       "      <td>NaN</td>\n",
       "      <td>3</td>\n",
       "    </tr>\n",
       "    <tr>\n",
       "      <th>24157</th>\n",
       "      <td>38.000000</td>\n",
       "      <td>NaN</td>\n",
       "      <td>1</td>\n",
       "    </tr>\n",
       "    <tr>\n",
       "      <th>24159</th>\n",
       "      <td>157.000000</td>\n",
       "      <td>NaN</td>\n",
       "      <td>6</td>\n",
       "    </tr>\n",
       "    <tr>\n",
       "      <th>24160</th>\n",
       "      <td>113.000000</td>\n",
       "      <td>NaN</td>\n",
       "      <td>4</td>\n",
       "    </tr>\n",
       "    <tr>\n",
       "      <th>24162</th>\n",
       "      <td>77.000000</td>\n",
       "      <td>NaN</td>\n",
       "      <td>3</td>\n",
       "    </tr>\n",
       "  </tbody>\n",
       "</table>\n",
       "<p>3672 rows × 3 columns</p>\n",
       "</div>"
      ],
      "text/plain": [
       "       m2_total_clean_3 amb_clean amb_clean_final\n",
       "96           122.000000       NaN               4\n",
       "120          147.000000       NaN               5\n",
       "176           67.571429       NaN               2\n",
       "183           77.000000       NaN               3\n",
       "184          101.000000       NaN               4\n",
       "...                 ...       ...             ...\n",
       "24156         91.000000       NaN               3\n",
       "24157         38.000000       NaN               1\n",
       "24159        157.000000       NaN               6\n",
       "24160        113.000000       NaN               4\n",
       "24162         77.000000       NaN               3\n",
       "\n",
       "[3672 rows x 3 columns]"
      ]
     },
     "execution_count": 41,
     "metadata": {},
     "output_type": "execute_result"
    }
   ],
   "source": [
    "data_base[data_base['amb_clean'].isnull()][['m2_total_clean_3','amb_clean','amb_clean_final']]"
   ]
  },
  {
   "cell_type": "code",
   "execution_count": 42,
   "metadata": {},
   "outputs": [
    {
     "name": "stdout",
     "output_type": "stream",
     "text": [
      "<class 'pandas.core.frame.DataFrame'>\n",
      "RangeIndex: 24163 entries, 0 to 24162\n",
      "Data columns (total 54 columns):\n",
      " #   Column                      Non-Null Count  Dtype  \n",
      "---  ------                      --------------  -----  \n",
      " 0   property_type               24163 non-null  object \n",
      " 1   place_with_parent_names     24163 non-null  object \n",
      " 2   geonames_id                 23165 non-null  float64\n",
      " 3   lat-lon                     18084 non-null  object \n",
      " 4   lat                         18084 non-null  float64\n",
      " 5   lon                         18084 non-null  float64\n",
      " 6   price                       22136 non-null  float64\n",
      " 7   currency                    22136 non-null  object \n",
      " 8   price_aprox_local_currency  22136 non-null  float64\n",
      " 9   price_aprox_usd             22136 non-null  float64\n",
      " 10  surface_total_in_m2         19836 non-null  float64\n",
      " 11  surface_covered_in_m2       22700 non-null  float64\n",
      " 12  price_usd_per_m2            17998 non-null  float64\n",
      " 13  price_per_m2                20970 non-null  float64\n",
      " 14  floor                       2806 non-null   float64\n",
      " 15  rooms                       12788 non-null  float64\n",
      " 16  expenses                    5985 non-null   float64\n",
      " 17  properati_url               24163 non-null  object \n",
      " 18  description                 24163 non-null  object \n",
      " 19  title                       24163 non-null  object \n",
      " 20  image_thumbnail             23845 non-null  object \n",
      " 21  Pais                        24163 non-null  object \n",
      " 22  Provincia                   24163 non-null  object \n",
      " 23  Barrio                      24163 non-null  object \n",
      " 24  description_sin_tilde       24163 non-null  object \n",
      " 25  Description_Prices          5290 non-null   float64\n",
      " 26  title_price                 693 non-null    object \n",
      " 27  price_aprox_usd_clean       22283 non-null  float64\n",
      " 28  surface_total_in_m2_ok      19806 non-null  float64\n",
      " 29  filtro_m2                   888 non-null    float64\n",
      " 30  m2_total_clean              20694 non-null  float64\n",
      " 31  price_usd_per_m2_calc       18951 non-null  float64\n",
      " 32  price_usd_per_m2_clean      18965 non-null  float64\n",
      " 33  piso_clean                  6661 non-null   float64\n",
      " 34  floor_clean                 8613 non-null   float64\n",
      " 35  expenses_ok                 5694 non-null   float64\n",
      " 36  estacionamiento             24163 non-null  object \n",
      " 37  esp_exterior                15269 non-null  object \n",
      " 38  ameniti_sum                 24163 non-null  float64\n",
      " 39  ameniti_seguridad           24163 non-null  float64\n",
      " 40  ameniti_laundry             24163 non-null  float64\n",
      " 41  ameniti_gimnasio            24163 non-null  float64\n",
      " 42  ameniti_parrilla            24163 non-null  float64\n",
      " 43  ameniti_piscina             24163 non-null  float64\n",
      " 44  ameniti_solarium            24163 non-null  float64\n",
      " 45  amenities                   24163 non-null  float64\n",
      " 46  apto_profesional            24163 non-null  float64\n",
      " 47  rooms_clean                 16578 non-null  object \n",
      " 48  amb_clean                   20491 non-null  object \n",
      " 49  price_usd_per_m2_clean_2    18965 non-null  float64\n",
      " 50  price_usd_per_m2_clean_2_3  24163 non-null  float64\n",
      " 51  m2_total_clean_3            24163 non-null  float64\n",
      " 52  m2xamb                      20491 non-null  float64\n",
      " 53  amb_clean_final             24163 non-null  object \n",
      "dtypes: float64(36), object(18)\n",
      "memory usage: 10.0+ MB\n"
     ]
    }
   ],
   "source": [
    "data_base.info()"
   ]
  },
  {
   "cell_type": "code",
   "execution_count": 43,
   "metadata": {},
   "outputs": [
    {
     "data": {
      "text/plain": [
       "balcon     11850\n",
       "patio       2089\n",
       "terraza     1330\n",
       "Name: esp_exterior, dtype: int64"
      ]
     },
     "execution_count": 43,
     "metadata": {},
     "output_type": "execute_result"
    }
   ],
   "source": [
    "data_base['esp_exterior'].value_counts()"
   ]
  },
  {
   "cell_type": "code",
   "execution_count": 44,
   "metadata": {},
   "outputs": [],
   "source": [
    "def media_barrios(data,listado_barrios,variable_a_imputar):\n",
    "    df=data.copy()\n",
    "    barrios_medias=pd.DataFrame()\n",
    "    for i in range(len(listado_barrios)):\n",
    "        mean=df[df['Barrio']==listado_barrios[i]][variable_a_imputar].mean()\n",
    "#         barrios_medias=barrios_medias.append(str(i))\n",
    "        barrios_medias.loc[i,'Barrios']=listado_barrios[i]\n",
    "        barrios_medias.loc[i,'media']=mean\n",
    "    return barrios_medias"
   ]
  },
  {
   "cell_type": "code",
   "execution_count": 45,
   "metadata": {},
   "outputs": [],
   "source": [
    "medias=media_barrios(data_base,list_barrios,'price_usd_per_m2_clean_2_3')"
   ]
  },
  {
   "cell_type": "code",
   "execution_count": 46,
   "metadata": {},
   "outputs": [
    {
     "data": {
      "text/html": [
       "<div>\n",
       "<style scoped>\n",
       "    .dataframe tbody tr th:only-of-type {\n",
       "        vertical-align: middle;\n",
       "    }\n",
       "\n",
       "    .dataframe tbody tr th {\n",
       "        vertical-align: top;\n",
       "    }\n",
       "\n",
       "    .dataframe thead th {\n",
       "        text-align: right;\n",
       "    }\n",
       "</style>\n",
       "<table border=\"1\" class=\"dataframe\">\n",
       "  <thead>\n",
       "    <tr style=\"text-align: right;\">\n",
       "      <th></th>\n",
       "      <th>Barrios</th>\n",
       "      <th>media</th>\n",
       "    </tr>\n",
       "  </thead>\n",
       "  <tbody>\n",
       "    <tr>\n",
       "      <th>35</th>\n",
       "      <td>Puerto Madero</td>\n",
       "      <td>4934.016628</td>\n",
       "    </tr>\n",
       "    <tr>\n",
       "      <th>20</th>\n",
       "      <td>Las Cañitas</td>\n",
       "      <td>3343.031454</td>\n",
       "    </tr>\n",
       "    <tr>\n",
       "      <th>27</th>\n",
       "      <td>Palermo</td>\n",
       "      <td>3122.024243</td>\n",
       "    </tr>\n",
       "    <tr>\n",
       "      <th>36</th>\n",
       "      <td>Recoleta</td>\n",
       "      <td>3089.097140</td>\n",
       "    </tr>\n",
       "    <tr>\n",
       "      <th>25</th>\n",
       "      <td>Nuñez</td>\n",
       "      <td>3002.315018</td>\n",
       "    </tr>\n",
       "    <tr>\n",
       "      <th>7</th>\n",
       "      <td>Belgrano</td>\n",
       "      <td>2961.166513</td>\n",
       "    </tr>\n",
       "    <tr>\n",
       "      <th>6</th>\n",
       "      <td>Barrio Norte</td>\n",
       "      <td>2876.624229</td>\n",
       "    </tr>\n",
       "    <tr>\n",
       "      <th>37</th>\n",
       "      <td>Retiro</td>\n",
       "      <td>2820.099329</td>\n",
       "    </tr>\n",
       "    <tr>\n",
       "      <th>15</th>\n",
       "      <td>Colegiales</td>\n",
       "      <td>2546.249079</td>\n",
       "    </tr>\n",
       "    <tr>\n",
       "      <th>14</th>\n",
       "      <td>Coghlan</td>\n",
       "      <td>2514.575986</td>\n",
       "    </tr>\n",
       "    <tr>\n",
       "      <th>0</th>\n",
       "      <td></td>\n",
       "      <td>2513.792837</td>\n",
       "    </tr>\n",
       "    <tr>\n",
       "      <th>50</th>\n",
       "      <td>Villa Ortuzar</td>\n",
       "      <td>2482.829878</td>\n",
       "    </tr>\n",
       "    <tr>\n",
       "      <th>45</th>\n",
       "      <td>Villa Crespo</td>\n",
       "      <td>2479.935917</td>\n",
       "    </tr>\n",
       "    <tr>\n",
       "      <th>56</th>\n",
       "      <td>Villa Urquiza</td>\n",
       "      <td>2474.394654</td>\n",
       "    </tr>\n",
       "    <tr>\n",
       "      <th>10</th>\n",
       "      <td>Caballito</td>\n",
       "      <td>2451.417113</td>\n",
       "    </tr>\n",
       "    <tr>\n",
       "      <th>38</th>\n",
       "      <td>Saavedra</td>\n",
       "      <td>2405.284716</td>\n",
       "    </tr>\n",
       "    <tr>\n",
       "      <th>51</th>\n",
       "      <td>Villa Pueyrredón</td>\n",
       "      <td>2400.344438</td>\n",
       "    </tr>\n",
       "    <tr>\n",
       "      <th>3</th>\n",
       "      <td>Almagro</td>\n",
       "      <td>2340.774074</td>\n",
       "    </tr>\n",
       "    <tr>\n",
       "      <th>12</th>\n",
       "      <td>Centro / Microcentro</td>\n",
       "      <td>2328.802371</td>\n",
       "    </tr>\n",
       "    <tr>\n",
       "      <th>46</th>\n",
       "      <td>Villa Devoto</td>\n",
       "      <td>2315.875405</td>\n",
       "    </tr>\n",
       "    <tr>\n",
       "      <th>41</th>\n",
       "      <td>San Telmo</td>\n",
       "      <td>2303.621152</td>\n",
       "    </tr>\n",
       "    <tr>\n",
       "      <th>29</th>\n",
       "      <td>Parque Centenario</td>\n",
       "      <td>2277.657767</td>\n",
       "    </tr>\n",
       "    <tr>\n",
       "      <th>2</th>\n",
       "      <td>Agronomía</td>\n",
       "      <td>2271.120632</td>\n",
       "    </tr>\n",
       "    <tr>\n",
       "      <th>57</th>\n",
       "      <td>Villa del Parque</td>\n",
       "      <td>2268.782575</td>\n",
       "    </tr>\n",
       "    <tr>\n",
       "      <th>53</th>\n",
       "      <td>Villa Riachuelo</td>\n",
       "      <td>2268.782575</td>\n",
       "    </tr>\n",
       "    <tr>\n",
       "      <th>54</th>\n",
       "      <td>Villa Santa Rita</td>\n",
       "      <td>2248.525388</td>\n",
       "    </tr>\n",
       "    <tr>\n",
       "      <th>1</th>\n",
       "      <td>Abasto</td>\n",
       "      <td>2232.985249</td>\n",
       "    </tr>\n",
       "    <tr>\n",
       "      <th>13</th>\n",
       "      <td>Chacarita</td>\n",
       "      <td>2232.056220</td>\n",
       "    </tr>\n",
       "    <tr>\n",
       "      <th>31</th>\n",
       "      <td>Parque Chas</td>\n",
       "      <td>2225.538005</td>\n",
       "    </tr>\n",
       "    <tr>\n",
       "      <th>49</th>\n",
       "      <td>Villa Luro</td>\n",
       "      <td>2214.523436</td>\n",
       "    </tr>\n",
       "    <tr>\n",
       "      <th>42</th>\n",
       "      <td>Tribunales</td>\n",
       "      <td>2202.762904</td>\n",
       "    </tr>\n",
       "    <tr>\n",
       "      <th>40</th>\n",
       "      <td>San Nicolás</td>\n",
       "      <td>2178.291375</td>\n",
       "    </tr>\n",
       "    <tr>\n",
       "      <th>39</th>\n",
       "      <td>San Cristobal</td>\n",
       "      <td>2168.479132</td>\n",
       "    </tr>\n",
       "    <tr>\n",
       "      <th>23</th>\n",
       "      <td>Monserrat</td>\n",
       "      <td>2150.357201</td>\n",
       "    </tr>\n",
       "    <tr>\n",
       "      <th>9</th>\n",
       "      <td>Boedo</td>\n",
       "      <td>2146.209758</td>\n",
       "    </tr>\n",
       "    <tr>\n",
       "      <th>30</th>\n",
       "      <td>Parque Chacabuco</td>\n",
       "      <td>2141.395832</td>\n",
       "    </tr>\n",
       "    <tr>\n",
       "      <th>18</th>\n",
       "      <td>Flores</td>\n",
       "      <td>2129.136312</td>\n",
       "    </tr>\n",
       "    <tr>\n",
       "      <th>11</th>\n",
       "      <td>Catalinas</td>\n",
       "      <td>2123.632828</td>\n",
       "    </tr>\n",
       "    <tr>\n",
       "      <th>16</th>\n",
       "      <td>Congreso</td>\n",
       "      <td>2122.983656</td>\n",
       "    </tr>\n",
       "    <tr>\n",
       "      <th>5</th>\n",
       "      <td>Barracas</td>\n",
       "      <td>2121.984528</td>\n",
       "    </tr>\n",
       "    <tr>\n",
       "      <th>44</th>\n",
       "      <td>Versalles</td>\n",
       "      <td>2116.861749</td>\n",
       "    </tr>\n",
       "    <tr>\n",
       "      <th>43</th>\n",
       "      <td>Velez Sarsfield</td>\n",
       "      <td>2099.641341</td>\n",
       "    </tr>\n",
       "    <tr>\n",
       "      <th>33</th>\n",
       "      <td>Paternal</td>\n",
       "      <td>2098.948846</td>\n",
       "    </tr>\n",
       "    <tr>\n",
       "      <th>21</th>\n",
       "      <td>Liniers</td>\n",
       "      <td>2087.306148</td>\n",
       "    </tr>\n",
       "    <tr>\n",
       "      <th>24</th>\n",
       "      <td>Monte Castro</td>\n",
       "      <td>2066.036664</td>\n",
       "    </tr>\n",
       "    <tr>\n",
       "      <th>4</th>\n",
       "      <td>Balvanera</td>\n",
       "      <td>2054.215546</td>\n",
       "    </tr>\n",
       "    <tr>\n",
       "      <th>47</th>\n",
       "      <td>Villa General Mitre</td>\n",
       "      <td>2050.936269</td>\n",
       "    </tr>\n",
       "    <tr>\n",
       "      <th>19</th>\n",
       "      <td>Floresta</td>\n",
       "      <td>2046.792301</td>\n",
       "    </tr>\n",
       "    <tr>\n",
       "      <th>26</th>\n",
       "      <td>Once</td>\n",
       "      <td>2035.159137</td>\n",
       "    </tr>\n",
       "    <tr>\n",
       "      <th>32</th>\n",
       "      <td>Parque Patricios</td>\n",
       "      <td>2032.804661</td>\n",
       "    </tr>\n",
       "    <tr>\n",
       "      <th>22</th>\n",
       "      <td>Mataderos</td>\n",
       "      <td>2007.554971</td>\n",
       "    </tr>\n",
       "    <tr>\n",
       "      <th>52</th>\n",
       "      <td>Villa Real</td>\n",
       "      <td>1971.921568</td>\n",
       "    </tr>\n",
       "    <tr>\n",
       "      <th>8</th>\n",
       "      <td>Boca</td>\n",
       "      <td>1933.868585</td>\n",
       "    </tr>\n",
       "    <tr>\n",
       "      <th>28</th>\n",
       "      <td>Parque Avellaneda</td>\n",
       "      <td>1919.257702</td>\n",
       "    </tr>\n",
       "    <tr>\n",
       "      <th>17</th>\n",
       "      <td>Constitución</td>\n",
       "      <td>1875.737941</td>\n",
       "    </tr>\n",
       "    <tr>\n",
       "      <th>55</th>\n",
       "      <td>Villa Soldati</td>\n",
       "      <td>1829.011837</td>\n",
       "    </tr>\n",
       "    <tr>\n",
       "      <th>34</th>\n",
       "      <td>Pompeya</td>\n",
       "      <td>1674.738256</td>\n",
       "    </tr>\n",
       "    <tr>\n",
       "      <th>48</th>\n",
       "      <td>Villa Lugano</td>\n",
       "      <td>1595.549936</td>\n",
       "    </tr>\n",
       "  </tbody>\n",
       "</table>\n",
       "</div>"
      ],
      "text/plain": [
       "                 Barrios        media\n",
       "35         Puerto Madero  4934.016628\n",
       "20           Las Cañitas  3343.031454\n",
       "27               Palermo  3122.024243\n",
       "36              Recoleta  3089.097140\n",
       "25                 Nuñez  3002.315018\n",
       "7               Belgrano  2961.166513\n",
       "6           Barrio Norte  2876.624229\n",
       "37                Retiro  2820.099329\n",
       "15            Colegiales  2546.249079\n",
       "14               Coghlan  2514.575986\n",
       "0                         2513.792837\n",
       "50         Villa Ortuzar  2482.829878\n",
       "45          Villa Crespo  2479.935917\n",
       "56         Villa Urquiza  2474.394654\n",
       "10             Caballito  2451.417113\n",
       "38              Saavedra  2405.284716\n",
       "51      Villa Pueyrredón  2400.344438\n",
       "3                Almagro  2340.774074\n",
       "12  Centro / Microcentro  2328.802371\n",
       "46          Villa Devoto  2315.875405\n",
       "41             San Telmo  2303.621152\n",
       "29     Parque Centenario  2277.657767\n",
       "2              Agronomía  2271.120632\n",
       "57      Villa del Parque  2268.782575\n",
       "53       Villa Riachuelo  2268.782575\n",
       "54      Villa Santa Rita  2248.525388\n",
       "1                 Abasto  2232.985249\n",
       "13             Chacarita  2232.056220\n",
       "31           Parque Chas  2225.538005\n",
       "49            Villa Luro  2214.523436\n",
       "42            Tribunales  2202.762904\n",
       "40           San Nicolás  2178.291375\n",
       "39         San Cristobal  2168.479132\n",
       "23             Monserrat  2150.357201\n",
       "9                  Boedo  2146.209758\n",
       "30      Parque Chacabuco  2141.395832\n",
       "18                Flores  2129.136312\n",
       "11             Catalinas  2123.632828\n",
       "16              Congreso  2122.983656\n",
       "5               Barracas  2121.984528\n",
       "44             Versalles  2116.861749\n",
       "43       Velez Sarsfield  2099.641341\n",
       "33              Paternal  2098.948846\n",
       "21               Liniers  2087.306148\n",
       "24          Monte Castro  2066.036664\n",
       "4              Balvanera  2054.215546\n",
       "47   Villa General Mitre  2050.936269\n",
       "19              Floresta  2046.792301\n",
       "26                  Once  2035.159137\n",
       "32      Parque Patricios  2032.804661\n",
       "22             Mataderos  2007.554971\n",
       "52            Villa Real  1971.921568\n",
       "8                   Boca  1933.868585\n",
       "28     Parque Avellaneda  1919.257702\n",
       "17          Constitución  1875.737941\n",
       "55         Villa Soldati  1829.011837\n",
       "34               Pompeya  1674.738256\n",
       "48          Villa Lugano  1595.549936"
      ]
     },
     "execution_count": 46,
     "metadata": {},
     "output_type": "execute_result"
    }
   ],
   "source": [
    "medias.sort_values(by='media', ascending=False)"
   ]
  },
  {
   "cell_type": "markdown",
   "metadata": {},
   "source": [
    "Tenemos tres variables categoricas:\n",
    "   * estacionamiento\n",
    "   * esp_exterior\n",
    "   * Barrio\n",
    "   "
   ]
  },
  {
   "cell_type": "code",
   "execution_count": 48,
   "metadata": {},
   "outputs": [
    {
     "data": {
      "text/plain": [
       "no    19164\n",
       "si     4999\n",
       "Name: estacionamiento, dtype: int64"
      ]
     },
     "execution_count": 48,
     "metadata": {},
     "output_type": "execute_result"
    }
   ],
   "source": [
    "data_base['estacionamiento'].value_counts()"
   ]
  },
  {
   "cell_type": "code",
   "execution_count": 49,
   "metadata": {},
   "outputs": [
    {
     "data": {
      "text/plain": [
       "balcon     11850\n",
       "patio       2089\n",
       "terraza     1330\n",
       "Name: esp_exterior, dtype: int64"
      ]
     },
     "execution_count": 49,
     "metadata": {},
     "output_type": "execute_result"
    }
   ],
   "source": [
    "data_base['esp_exterior'].value_counts()"
   ]
  },
  {
   "cell_type": "code",
   "execution_count": 56,
   "metadata": {},
   "outputs": [],
   "source": [
    "data_base['amb_clean_final']=data_base['amb_clean_final'].astype(int)"
   ]
  },
  {
   "cell_type": "markdown",
   "metadata": {},
   "source": [
    "* Vamos a topear los precios para no tener tanta amplitud de los precios, lo vamos a topear a la mediana +/- 1 desvío"
   ]
  },
  {
   "cell_type": "code",
   "execution_count": 339,
   "metadata": {},
   "outputs": [],
   "source": [
    "def mediana_barrios(data,listado_barrios,variable_a_imputar):\n",
    "    df=data.copy()\n",
    "    barrios_medianas=pd.DataFrame()\n",
    "    for i in range(len(listado_barrios)):\n",
    "        mediana=df[df['Barrio']==listado_barrios[i]][variable_a_imputar].median()\n",
    "        desvio=df[df['Barrio']==listado_barrios[i]][variable_a_imputar].std()\n",
    "        barrios_medianas.loc[i,'Barrio']=listado_barrios[i]\n",
    "        barrios_medianas.loc[i,'mediana+desvio']=mediana+desvio\n",
    "        barrios_medianas.loc[i,'mediana-desvio']=mediana-desvio\n",
    "    return barrios_medianas"
   ]
  },
  {
   "cell_type": "code",
   "execution_count": 472,
   "metadata": {},
   "outputs": [],
   "source": [
    "list_barrios=data_base['Barrio'].drop_duplicates().sort_values().to_list()"
   ]
  },
  {
   "cell_type": "code",
   "execution_count": 473,
   "metadata": {},
   "outputs": [
    {
     "data": {
      "text/html": [
       "<div>\n",
       "<style scoped>\n",
       "    .dataframe tbody tr th:only-of-type {\n",
       "        vertical-align: middle;\n",
       "    }\n",
       "\n",
       "    .dataframe tbody tr th {\n",
       "        vertical-align: top;\n",
       "    }\n",
       "\n",
       "    .dataframe thead th {\n",
       "        text-align: right;\n",
       "    }\n",
       "</style>\n",
       "<table border=\"1\" class=\"dataframe\">\n",
       "  <thead>\n",
       "    <tr style=\"text-align: right;\">\n",
       "      <th></th>\n",
       "      <th>property_type</th>\n",
       "      <th>place_with_parent_names</th>\n",
       "      <th>geonames_id</th>\n",
       "      <th>lat-lon</th>\n",
       "      <th>lat</th>\n",
       "      <th>lon</th>\n",
       "      <th>price</th>\n",
       "      <th>currency</th>\n",
       "      <th>price_aprox_local_currency</th>\n",
       "      <th>price_aprox_usd</th>\n",
       "      <th>...</th>\n",
       "      <th>m2xamb</th>\n",
       "      <th>amb_clean_final</th>\n",
       "      <th>categoria_barrio</th>\n",
       "      <th>esp_exterior_dummy</th>\n",
       "      <th>estacionamiento_dummy</th>\n",
       "      <th>barrio_alto</th>\n",
       "      <th>barrio_medio_bajo</th>\n",
       "      <th>barrio_bajo</th>\n",
       "      <th>mediana+desvio</th>\n",
       "      <th>mediana-desvio</th>\n",
       "    </tr>\n",
       "  </thead>\n",
       "  <tbody>\n",
       "    <tr>\n",
       "      <th>0</th>\n",
       "      <td>apartment</td>\n",
       "      <td>|Argentina|Capital Federal|Mataderos|</td>\n",
       "      <td>3430787.0</td>\n",
       "      <td>-34.6522615,-58.5229825</td>\n",
       "      <td>-34.652262</td>\n",
       "      <td>-58.522982</td>\n",
       "      <td>72000.0</td>\n",
       "      <td>USD</td>\n",
       "      <td>1270404.0</td>\n",
       "      <td>72000.0</td>\n",
       "      <td>...</td>\n",
       "      <td>0.04</td>\n",
       "      <td>2</td>\n",
       "      <td>bajo</td>\n",
       "      <td>0</td>\n",
       "      <td>0</td>\n",
       "      <td>0</td>\n",
       "      <td>0</td>\n",
       "      <td>1</td>\n",
       "      <td>2772.485261</td>\n",
       "      <td>1443.889008</td>\n",
       "    </tr>\n",
       "    <tr>\n",
       "      <th>1</th>\n",
       "      <td>apartment</td>\n",
       "      <td>|Argentina|Capital Federal|Mataderos|</td>\n",
       "      <td>3430787.0</td>\n",
       "      <td>-34.6632395,-58.5056703</td>\n",
       "      <td>-34.663240</td>\n",
       "      <td>-58.505670</td>\n",
       "      <td>67000.0</td>\n",
       "      <td>USD</td>\n",
       "      <td>1182181.5</td>\n",
       "      <td>67000.0</td>\n",
       "      <td>...</td>\n",
       "      <td>NaN</td>\n",
       "      <td>1</td>\n",
       "      <td>bajo</td>\n",
       "      <td>1</td>\n",
       "      <td>0</td>\n",
       "      <td>0</td>\n",
       "      <td>0</td>\n",
       "      <td>1</td>\n",
       "      <td>2772.485261</td>\n",
       "      <td>1443.889008</td>\n",
       "    </tr>\n",
       "    <tr>\n",
       "      <th>2</th>\n",
       "      <td>apartment</td>\n",
       "      <td>|Argentina|Capital Federal|Mataderos|</td>\n",
       "      <td>3430787.0</td>\n",
       "      <td>-34.6453868897,-58.4944637661</td>\n",
       "      <td>-34.645387</td>\n",
       "      <td>-58.494464</td>\n",
       "      <td>NaN</td>\n",
       "      <td>NaN</td>\n",
       "      <td>NaN</td>\n",
       "      <td>NaN</td>\n",
       "      <td>...</td>\n",
       "      <td>0.02</td>\n",
       "      <td>1</td>\n",
       "      <td>medio</td>\n",
       "      <td>1</td>\n",
       "      <td>0</td>\n",
       "      <td>0</td>\n",
       "      <td>0</td>\n",
       "      <td>0</td>\n",
       "      <td>2772.485261</td>\n",
       "      <td>1443.889008</td>\n",
       "    </tr>\n",
       "    <tr>\n",
       "      <th>3</th>\n",
       "      <td>apartment</td>\n",
       "      <td>|Argentina|Capital Federal|Mataderos|</td>\n",
       "      <td>3430787.0</td>\n",
       "      <td>-34.6511836146,-58.514746928</td>\n",
       "      <td>-34.651184</td>\n",
       "      <td>-58.514747</td>\n",
       "      <td>90000.0</td>\n",
       "      <td>USD</td>\n",
       "      <td>1588005.0</td>\n",
       "      <td>90000.0</td>\n",
       "      <td>...</td>\n",
       "      <td>0.04</td>\n",
       "      <td>2</td>\n",
       "      <td>bajo</td>\n",
       "      <td>0</td>\n",
       "      <td>0</td>\n",
       "      <td>0</td>\n",
       "      <td>0</td>\n",
       "      <td>1</td>\n",
       "      <td>2772.485261</td>\n",
       "      <td>1443.889008</td>\n",
       "    </tr>\n",
       "    <tr>\n",
       "      <th>4</th>\n",
       "      <td>apartment</td>\n",
       "      <td>|Argentina|Capital Federal|Mataderos|</td>\n",
       "      <td>3430787.0</td>\n",
       "      <td>-34.6469252,-58.4926716</td>\n",
       "      <td>-34.646925</td>\n",
       "      <td>-58.492672</td>\n",
       "      <td>NaN</td>\n",
       "      <td>NaN</td>\n",
       "      <td>NaN</td>\n",
       "      <td>NaN</td>\n",
       "      <td>...</td>\n",
       "      <td>0.03</td>\n",
       "      <td>2</td>\n",
       "      <td>medio</td>\n",
       "      <td>0</td>\n",
       "      <td>0</td>\n",
       "      <td>0</td>\n",
       "      <td>0</td>\n",
       "      <td>0</td>\n",
       "      <td>2772.485261</td>\n",
       "      <td>1443.889008</td>\n",
       "    </tr>\n",
       "  </tbody>\n",
       "</table>\n",
       "<p>5 rows × 62 columns</p>\n",
       "</div>"
      ],
      "text/plain": [
       "  property_type                place_with_parent_names  geonames_id  \\\n",
       "0     apartment  |Argentina|Capital Federal|Mataderos|    3430787.0   \n",
       "1     apartment  |Argentina|Capital Federal|Mataderos|    3430787.0   \n",
       "2     apartment  |Argentina|Capital Federal|Mataderos|    3430787.0   \n",
       "3     apartment  |Argentina|Capital Federal|Mataderos|    3430787.0   \n",
       "4     apartment  |Argentina|Capital Federal|Mataderos|    3430787.0   \n",
       "\n",
       "                         lat-lon        lat        lon    price currency  \\\n",
       "0        -34.6522615,-58.5229825 -34.652262 -58.522982  72000.0      USD   \n",
       "1        -34.6632395,-58.5056703 -34.663240 -58.505670  67000.0      USD   \n",
       "2  -34.6453868897,-58.4944637661 -34.645387 -58.494464      NaN      NaN   \n",
       "3   -34.6511836146,-58.514746928 -34.651184 -58.514747  90000.0      USD   \n",
       "4        -34.6469252,-58.4926716 -34.646925 -58.492672      NaN      NaN   \n",
       "\n",
       "   price_aprox_local_currency  price_aprox_usd  ...  m2xamb  amb_clean_final  \\\n",
       "0                   1270404.0          72000.0  ...    0.04                2   \n",
       "1                   1182181.5          67000.0  ...     NaN                1   \n",
       "2                         NaN              NaN  ...    0.02                1   \n",
       "3                   1588005.0          90000.0  ...    0.04                2   \n",
       "4                         NaN              NaN  ...    0.03                2   \n",
       "\n",
       "   categoria_barrio  esp_exterior_dummy  estacionamiento_dummy  barrio_alto  \\\n",
       "0              bajo                   0                      0            0   \n",
       "1              bajo                   1                      0            0   \n",
       "2             medio                   1                      0            0   \n",
       "3              bajo                   0                      0            0   \n",
       "4             medio                   0                      0            0   \n",
       "\n",
       "   barrio_medio_bajo barrio_bajo mediana+desvio mediana-desvio  \n",
       "0                  0           1    2772.485261    1443.889008  \n",
       "1                  0           1    2772.485261    1443.889008  \n",
       "2                  0           0    2772.485261    1443.889008  \n",
       "3                  0           1    2772.485261    1443.889008  \n",
       "4                  0           0    2772.485261    1443.889008  \n",
       "\n",
       "[5 rows x 62 columns]"
      ]
     },
     "execution_count": 473,
     "metadata": {},
     "output_type": "execute_result"
    }
   ],
   "source": [
    "medianas=mediana_barrios(data_base,list_barrios,'price_usd_per_m2_clean_2_3')\n",
    "# medianas\n",
    "data_base2=pd.merge(data_base, medianas, on=\"Barrio\")\n",
    "data_base2.head()"
   ]
  },
  {
   "cell_type": "code",
   "execution_count": 474,
   "metadata": {},
   "outputs": [],
   "source": [
    "data_base2['price']=data_base2.apply(lambda x: \n",
    "                                     x['mediana+desvio'] if x['price_usd_per_m2_clean_2_3']>x['mediana+desvio'] else\n",
    "                                    (x['mediana-desvio'] if x['price_usd_per_m2_clean_2_3']<x['mediana-desvio'] else\n",
    "                                    x['price_usd_per_m2_clean_2_3']),axis=1)"
   ]
  },
  {
   "cell_type": "code",
   "execution_count": 475,
   "metadata": {},
   "outputs": [],
   "source": [
    "data=data_base2[['price', 'amb_clean_final', 'm2_total_clean_3', 'amenities', \n",
    "               'expenses_ok', 'estacionamiento','apto_profesional',\n",
    "                'esp_exterior',  'Barrio']]"
   ]
  },
  {
   "cell_type": "code",
   "execution_count": 476,
   "metadata": {},
   "outputs": [
    {
     "name": "stdout",
     "output_type": "stream",
     "text": [
      "<class 'pandas.core.frame.DataFrame'>\n",
      "Int64Index: 24163 entries, 0 to 24162\n",
      "Data columns (total 9 columns):\n",
      " #   Column            Non-Null Count  Dtype  \n",
      "---  ------            --------------  -----  \n",
      " 0   price             24163 non-null  float64\n",
      " 1   amb_clean_final   24163 non-null  int32  \n",
      " 2   m2_total_clean_3  24163 non-null  float64\n",
      " 3   amenities         24163 non-null  float64\n",
      " 4   expenses_ok       5694 non-null   float64\n",
      " 5   estacionamiento   24163 non-null  object \n",
      " 6   apto_profesional  24163 non-null  float64\n",
      " 7   esp_exterior      15269 non-null  object \n",
      " 8   Barrio            24163 non-null  object \n",
      "dtypes: float64(5), int32(1), object(3)\n",
      "memory usage: 1.8+ MB\n"
     ]
    }
   ],
   "source": [
    "data.info()"
   ]
  },
  {
   "cell_type": "markdown",
   "metadata": {},
   "source": [
    "* Para poder generar las variables dummies vamos a corregir los NA"
   ]
  },
  {
   "cell_type": "code",
   "execution_count": 477,
   "metadata": {},
   "outputs": [
    {
     "name": "stderr",
     "output_type": "stream",
     "text": [
      "C:\\Users\\Administrator\\anaconda3\\envs\\dhdsblend\\lib\\site-packages\\pandas\\core\\generic.py:6245: SettingWithCopyWarning: \n",
      "A value is trying to be set on a copy of a slice from a DataFrame\n",
      "\n",
      "See the caveats in the documentation: https://pandas.pydata.org/pandas-docs/stable/user_guide/indexing.html#returning-a-view-versus-a-copy\n",
      "  self._update_inplace(new_data)\n"
     ]
    }
   ],
   "source": [
    "data['expenses_ok'].fillna(0,inplace=True)"
   ]
  },
  {
   "cell_type": "code",
   "execution_count": 478,
   "metadata": {},
   "outputs": [],
   "source": [
    "data['esp_exterior'].fillna(\"\",inplace=True)"
   ]
  },
  {
   "cell_type": "code",
   "execution_count": 479,
   "metadata": {},
   "outputs": [
    {
     "name": "stdout",
     "output_type": "stream",
     "text": [
      "<class 'pandas.core.frame.DataFrame'>\n",
      "Int64Index: 24163 entries, 0 to 24162\n",
      "Data columns (total 9 columns):\n",
      " #   Column            Non-Null Count  Dtype  \n",
      "---  ------            --------------  -----  \n",
      " 0   price             24163 non-null  float64\n",
      " 1   amb_clean_final   24163 non-null  int32  \n",
      " 2   m2_total_clean_3  24163 non-null  float64\n",
      " 3   amenities         24163 non-null  float64\n",
      " 4   expenses_ok       24163 non-null  float64\n",
      " 5   estacionamiento   24163 non-null  object \n",
      " 6   apto_profesional  24163 non-null  float64\n",
      " 7   esp_exterior      24163 non-null  object \n",
      " 8   Barrio            24163 non-null  object \n",
      "dtypes: float64(5), int32(1), object(3)\n",
      "memory usage: 1.8+ MB\n"
     ]
    }
   ],
   "source": [
    "data.info()"
   ]
  },
  {
   "cell_type": "markdown",
   "metadata": {},
   "source": [
    "# Vamos a analizar la correlación entre las variables"
   ]
  },
  {
   "cell_type": "code",
   "execution_count": 480,
   "metadata": {},
   "outputs": [],
   "source": [
    "# Importing matplotlib and seaborn\n",
    "import matplotlib.pyplot as plt\n",
    "import seaborn as sns\n",
    "%matplotlib inline"
   ]
  },
  {
   "cell_type": "code",
   "execution_count": 548,
   "metadata": {},
   "outputs": [
    {
     "data": {
      "text/plain": [
       "<AxesSubplot:>"
      ]
     },
     "execution_count": 548,
     "metadata": {},
     "output_type": "execute_result"
    },
    {
     "data": {
      "image/png": "[encoded data removed]",
      "text/plain": [
       "<Figure size 1152x720 with 2 Axes>"
      ]
     },
     "metadata": {
      "needs_background": "light"
     },
     "output_type": "display_data"
    }
   ],
   "source": [
    "# Visualizamos la matriz de correlación entre variables\n",
    "plt.figure(figsize = (16,10))     # Size of the figure\n",
    "sns.heatmap(data.corr(),annot = True)"
   ]
  },
  {
   "cell_type": "markdown",
   "metadata": {},
   "source": [
    "Notamos la presencia de las correlaciones más fuertes se dan en 'barrio_alto' con la variable \"price\", m2_total_clean_3 y  amb_clean_final,  y en y 'expenses_ok' con \"amb_clean_final\""
   ]
  },
  {
   "cell_type": "markdown",
   "metadata": {},
   "source": [
    "### Data Preparation"
   ]
  },
  {
   "cell_type": "markdown",
   "metadata": {},
   "source": [
    "* Como nuestro objetivo es precedir el precio por metro cuadrado para los departamentos ubicados en la Capital Federal, nuestra variable target (y) será \"price\". Utilizaremos un cojunto de parametros (X) que se presume que poseen relación con dicha variable, para poder estimar con mayor precisión su valor."
   ]
  },
  {
   "cell_type": "code",
   "execution_count": 482,
   "metadata": {},
   "outputs": [],
   "source": [
    "y = data[\"price\"]\n",
    "X = data[[x for x in data.columns if x != \"price\"]]\n"
   ]
  },
  {
   "cell_type": "code",
   "execution_count": 483,
   "metadata": {},
   "outputs": [],
   "source": [
    "from sklearn.model_selection import train_test_split\n",
    "X_train, X_test, y_train, y_test = train_test_split(X, y, train_size=0.7, test_size=0.3, random_state=100)"
   ]
  },
  {
   "cell_type": "code",
   "execution_count": null,
   "metadata": {},
   "outputs": [],
   "source": []
  },
  {
   "cell_type": "code",
   "execution_count": 484,
   "metadata": {},
   "outputs": [],
   "source": [
    "y_train.reset_index(drop=True,inplace=True)\n",
    "X_train.reset_index(drop=True,inplace=True)"
   ]
  },
  {
   "cell_type": "code",
   "execution_count": 485,
   "metadata": {},
   "outputs": [],
   "source": [
    "y_test.reset_index(drop=True,inplace=True)\n",
    "X_test.reset_index(drop=True,inplace=True)"
   ]
  },
  {
   "cell_type": "code",
   "execution_count": 486,
   "metadata": {},
   "outputs": [
    {
     "data": {
      "text/plain": [
       "['estacionamiento', 'esp_exterior', 'Barrio']"
      ]
     },
     "execution_count": 486,
     "metadata": {},
     "output_type": "execute_result"
    }
   ],
   "source": [
    "cat_cols = [x for x in X.select_dtypes(include=['object']).columns]\n",
    "cat_cols"
   ]
  },
  {
   "cell_type": "code",
   "execution_count": 487,
   "metadata": {},
   "outputs": [
    {
     "data": {
      "text/plain": [
       "['amb_clean_final',\n",
       " 'm2_total_clean_3',\n",
       " 'amenities',\n",
       " 'expenses_ok',\n",
       " 'apto_profesional']"
      ]
     },
     "execution_count": 487,
     "metadata": {},
     "output_type": "execute_result"
    }
   ],
   "source": [
    "num_cols = [x for x in X.columns if x not in cat_cols]\n",
    "num_cols"
   ]
  },
  {
   "cell_type": "code",
   "execution_count": 488,
   "metadata": {},
   "outputs": [
    {
     "data": {
      "text/html": [
       "<div>\n",
       "<style scoped>\n",
       "    .dataframe tbody tr th:only-of-type {\n",
       "        vertical-align: middle;\n",
       "    }\n",
       "\n",
       "    .dataframe tbody tr th {\n",
       "        vertical-align: top;\n",
       "    }\n",
       "\n",
       "    .dataframe thead th {\n",
       "        text-align: right;\n",
       "    }\n",
       "</style>\n",
       "<table border=\"1\" class=\"dataframe\">\n",
       "  <thead>\n",
       "    <tr style=\"text-align: right;\">\n",
       "      <th></th>\n",
       "      <th>x0_si</th>\n",
       "      <th>x1_balcon</th>\n",
       "      <th>x1_patio</th>\n",
       "      <th>x1_terraza</th>\n",
       "      <th>x2_Abasto</th>\n",
       "      <th>x2_Agronomía</th>\n",
       "      <th>x2_Almagro</th>\n",
       "      <th>x2_Balvanera</th>\n",
       "      <th>x2_Barracas</th>\n",
       "      <th>x2_Barrio Norte</th>\n",
       "      <th>...</th>\n",
       "      <th>x2_Villa Lugano</th>\n",
       "      <th>x2_Villa Luro</th>\n",
       "      <th>x2_Villa Ortuzar</th>\n",
       "      <th>x2_Villa Pueyrredón</th>\n",
       "      <th>x2_Villa Real</th>\n",
       "      <th>x2_Villa Riachuelo</th>\n",
       "      <th>x2_Villa Santa Rita</th>\n",
       "      <th>x2_Villa Soldati</th>\n",
       "      <th>x2_Villa Urquiza</th>\n",
       "      <th>x2_Villa del Parque</th>\n",
       "    </tr>\n",
       "  </thead>\n",
       "  <tbody>\n",
       "    <tr>\n",
       "      <th>0</th>\n",
       "      <td>0.0</td>\n",
       "      <td>1.0</td>\n",
       "      <td>0.0</td>\n",
       "      <td>0.0</td>\n",
       "      <td>0.0</td>\n",
       "      <td>0.0</td>\n",
       "      <td>0.0</td>\n",
       "      <td>0.0</td>\n",
       "      <td>0.0</td>\n",
       "      <td>0.0</td>\n",
       "      <td>...</td>\n",
       "      <td>0.0</td>\n",
       "      <td>0.0</td>\n",
       "      <td>0.0</td>\n",
       "      <td>0.0</td>\n",
       "      <td>0.0</td>\n",
       "      <td>0.0</td>\n",
       "      <td>0.0</td>\n",
       "      <td>0.0</td>\n",
       "      <td>0.0</td>\n",
       "      <td>0.0</td>\n",
       "    </tr>\n",
       "    <tr>\n",
       "      <th>1</th>\n",
       "      <td>0.0</td>\n",
       "      <td>1.0</td>\n",
       "      <td>0.0</td>\n",
       "      <td>0.0</td>\n",
       "      <td>0.0</td>\n",
       "      <td>0.0</td>\n",
       "      <td>0.0</td>\n",
       "      <td>0.0</td>\n",
       "      <td>0.0</td>\n",
       "      <td>0.0</td>\n",
       "      <td>...</td>\n",
       "      <td>0.0</td>\n",
       "      <td>0.0</td>\n",
       "      <td>0.0</td>\n",
       "      <td>0.0</td>\n",
       "      <td>0.0</td>\n",
       "      <td>0.0</td>\n",
       "      <td>0.0</td>\n",
       "      <td>0.0</td>\n",
       "      <td>0.0</td>\n",
       "      <td>0.0</td>\n",
       "    </tr>\n",
       "    <tr>\n",
       "      <th>2</th>\n",
       "      <td>1.0</td>\n",
       "      <td>1.0</td>\n",
       "      <td>0.0</td>\n",
       "      <td>0.0</td>\n",
       "      <td>0.0</td>\n",
       "      <td>0.0</td>\n",
       "      <td>0.0</td>\n",
       "      <td>0.0</td>\n",
       "      <td>0.0</td>\n",
       "      <td>0.0</td>\n",
       "      <td>...</td>\n",
       "      <td>0.0</td>\n",
       "      <td>0.0</td>\n",
       "      <td>0.0</td>\n",
       "      <td>0.0</td>\n",
       "      <td>0.0</td>\n",
       "      <td>0.0</td>\n",
       "      <td>0.0</td>\n",
       "      <td>0.0</td>\n",
       "      <td>0.0</td>\n",
       "      <td>0.0</td>\n",
       "    </tr>\n",
       "    <tr>\n",
       "      <th>3</th>\n",
       "      <td>0.0</td>\n",
       "      <td>1.0</td>\n",
       "      <td>0.0</td>\n",
       "      <td>0.0</td>\n",
       "      <td>0.0</td>\n",
       "      <td>0.0</td>\n",
       "      <td>0.0</td>\n",
       "      <td>0.0</td>\n",
       "      <td>0.0</td>\n",
       "      <td>0.0</td>\n",
       "      <td>...</td>\n",
       "      <td>0.0</td>\n",
       "      <td>0.0</td>\n",
       "      <td>0.0</td>\n",
       "      <td>0.0</td>\n",
       "      <td>0.0</td>\n",
       "      <td>0.0</td>\n",
       "      <td>0.0</td>\n",
       "      <td>0.0</td>\n",
       "      <td>0.0</td>\n",
       "      <td>0.0</td>\n",
       "    </tr>\n",
       "    <tr>\n",
       "      <th>4</th>\n",
       "      <td>1.0</td>\n",
       "      <td>1.0</td>\n",
       "      <td>0.0</td>\n",
       "      <td>0.0</td>\n",
       "      <td>0.0</td>\n",
       "      <td>0.0</td>\n",
       "      <td>0.0</td>\n",
       "      <td>0.0</td>\n",
       "      <td>0.0</td>\n",
       "      <td>0.0</td>\n",
       "      <td>...</td>\n",
       "      <td>0.0</td>\n",
       "      <td>0.0</td>\n",
       "      <td>0.0</td>\n",
       "      <td>0.0</td>\n",
       "      <td>0.0</td>\n",
       "      <td>0.0</td>\n",
       "      <td>0.0</td>\n",
       "      <td>0.0</td>\n",
       "      <td>0.0</td>\n",
       "      <td>0.0</td>\n",
       "    </tr>\n",
       "  </tbody>\n",
       "</table>\n",
       "<p>5 rows × 61 columns</p>\n",
       "</div>"
      ],
      "text/plain": [
       "   x0_si  x1_balcon  x1_patio  x1_terraza  x2_Abasto  x2_Agronomía  \\\n",
       "0    0.0        1.0       0.0         0.0        0.0           0.0   \n",
       "1    0.0        1.0       0.0         0.0        0.0           0.0   \n",
       "2    1.0        1.0       0.0         0.0        0.0           0.0   \n",
       "3    0.0        1.0       0.0         0.0        0.0           0.0   \n",
       "4    1.0        1.0       0.0         0.0        0.0           0.0   \n",
       "\n",
       "   x2_Almagro  x2_Balvanera  x2_Barracas  x2_Barrio Norte  ...  \\\n",
       "0         0.0           0.0          0.0              0.0  ...   \n",
       "1         0.0           0.0          0.0              0.0  ...   \n",
       "2         0.0           0.0          0.0              0.0  ...   \n",
       "3         0.0           0.0          0.0              0.0  ...   \n",
       "4         0.0           0.0          0.0              0.0  ...   \n",
       "\n",
       "   x2_Villa Lugano  x2_Villa Luro  x2_Villa Ortuzar  x2_Villa Pueyrredón  \\\n",
       "0              0.0            0.0               0.0                  0.0   \n",
       "1              0.0            0.0               0.0                  0.0   \n",
       "2              0.0            0.0               0.0                  0.0   \n",
       "3              0.0            0.0               0.0                  0.0   \n",
       "4              0.0            0.0               0.0                  0.0   \n",
       "\n",
       "   x2_Villa Real  x2_Villa Riachuelo  x2_Villa Santa Rita  x2_Villa Soldati  \\\n",
       "0            0.0                 0.0                  0.0               0.0   \n",
       "1            0.0                 0.0                  0.0               0.0   \n",
       "2            0.0                 0.0                  0.0               0.0   \n",
       "3            0.0                 0.0                  0.0               0.0   \n",
       "4            0.0                 0.0                  0.0               0.0   \n",
       "\n",
       "   x2_Villa Urquiza  x2_Villa del Parque  \n",
       "0               0.0                  0.0  \n",
       "1               0.0                  0.0  \n",
       "2               0.0                  0.0  \n",
       "3               0.0                  0.0  \n",
       "4               0.0                  0.0  \n",
       "\n",
       "[5 rows x 61 columns]"
      ]
     },
     "execution_count": 488,
     "metadata": {},
     "output_type": "execute_result"
    }
   ],
   "source": [
    "onehot_encoder = OneHotEncoder(sparse=False,drop='first',handle_unknown='error')\n",
    "X_one_hot_train = onehot_encoder.fit_transform(X_train[cat_cols])\n",
    "X_one_hot_train = pd.DataFrame(X_one_hot_train, columns = onehot_encoder.get_feature_names())\n",
    "X_one_hot_train.head()"
   ]
  },
  {
   "cell_type": "code",
   "execution_count": 489,
   "metadata": {},
   "outputs": [],
   "source": [
    "X_proc_train = pd.concat([X_train[num_cols],X_one_hot_train],axis=1)\n",
    "X_proc_train[['amb_clean_final','amenities','expenses_ok','apto_profesional'\n",
    "             ]] = X_proc_train[['amb_clean_final','amenities','expenses_ok','apto_profesional']].fillna(0)"
   ]
  },
  {
   "cell_type": "code",
   "execution_count": 490,
   "metadata": {},
   "outputs": [
    {
     "name": "stdout",
     "output_type": "stream",
     "text": [
      "X_proc_train shape (16914, 66)\n",
      "y_train shape (16914,)\n",
      "X_test shape (7249, 8)\n",
      "y_test shape (7249,)\n"
     ]
    }
   ],
   "source": [
    "#Analizamos la forma de los conjuntos de datos de prueba y test\n",
    "print(\"X_proc_train shape\", X_proc_train.shape)\n",
    "print(\"y_train shape\", y_train.shape)\n",
    "print(\"X_test shape\", X_test.shape)\n",
    "print(\"y_test shape\", y_test.shape)"
   ]
  },
  {
   "cell_type": "markdown",
   "metadata": {},
   "source": [
    "### Construcción del Modelo con Statsmodels"
   ]
  },
  {
   "cell_type": "markdown",
   "metadata": {},
   "source": [
    "Vamos a construir nuestro modelo de Machine Learning utilizando una Regresión Lineal Multiple. Comenzaremos aplicando la librería de \"Statsmodels\" para entrenar y evaluar posteriormente la precisión de las predicciones."
   ]
  },
  {
   "cell_type": "raw",
   "metadata": {},
   "source": [
    "Normalizamos"
   ]
  },
  {
   "cell_type": "code",
   "execution_count": 491,
   "metadata": {},
   "outputs": [],
   "source": [
    "from sklearn.preprocessing import StandardScaler\n",
    "scaled_features = X_proc_train.copy()\n",
    "col_names = X_proc_train.columns.to_list()\n",
    "features = scaled_features[col_names]\n",
    "scaler = StandardScaler().fit(features.values)\n",
    "features = scaler.transform(features.values)\n",
    "scaled_features[col_names] = features\n",
    "# print(scaled_features)"
   ]
  },
  {
   "cell_type": "markdown",
   "metadata": {},
   "source": [
    "Agregamos el intercepto"
   ]
  },
  {
   "cell_type": "code",
   "execution_count": 492,
   "metadata": {},
   "outputs": [],
   "source": [
    "X_proc_esc_train = sm.add_constant(scaled_features)"
   ]
  },
  {
   "cell_type": "markdown",
   "metadata": {},
   "source": [
    "### Entrenamos el modelo"
   ]
  },
  {
   "cell_type": "code",
   "execution_count": 493,
   "metadata": {},
   "outputs": [],
   "source": [
    "lm = sm.OLS(y_train,X_proc_esc_train).fit()"
   ]
  },
  {
   "cell_type": "markdown",
   "metadata": {},
   "source": [
    "Analizamos los principales parámetros para medir la efectividad del modelo"
   ]
  },
  {
   "cell_type": "code",
   "execution_count": 494,
   "metadata": {},
   "outputs": [
    {
     "name": "stdout",
     "output_type": "stream",
     "text": [
      "                            OLS Regression Results                            \n",
      "==============================================================================\n",
      "Dep. Variable:                  price   R-squared:                       0.578\n",
      "Model:                            OLS   Adj. R-squared:                  0.576\n",
      "Method:                 Least Squares   F-statistic:                     349.3\n",
      "Date:                Thu, 14 Jan 2021   Prob (F-statistic):               0.00\n",
      "Time:                        15:02:24   Log-Likelihood:            -1.2840e+05\n",
      "No. Observations:               16914   AIC:                         2.569e+05\n",
      "Df Residuals:                   16847   BIC:                         2.575e+05\n",
      "Df Model:                          66                                         \n",
      "Covariance Type:            nonrobust                                         \n",
      "===========================================================================================\n",
      "                              coef    std err          t      P>|t|      [0.025      0.975]\n",
      "-------------------------------------------------------------------------------------------\n",
      "const                    2566.3396      3.694    694.730      0.000    2559.099    2573.580\n",
      "amb_clean_final            24.0914      5.748      4.192      0.000      12.826      35.357\n",
      "m2_total_clean_3          -36.8760      5.755     -6.408      0.000     -48.156     -25.596\n",
      "amenities                  97.6495      4.007     24.368      0.000      89.795     105.504\n",
      "expenses_ok                32.6453      4.038      8.084      0.000      24.730      40.560\n",
      "apto_profesional          -19.0298      3.816     -4.987      0.000     -26.510     -11.550\n",
      "x0_si                      54.2093      3.925     13.812      0.000      46.516      61.902\n",
      "x1_balcon                  -7.6487      4.232     -1.807      0.071     -15.944       0.647\n",
      "x1_patio                  -69.1568      3.999    -17.291      0.000     -76.996     -61.317\n",
      "x1_terraza                -19.8561      3.918     -5.068      0.000     -27.536     -12.176\n",
      "x2_Abasto                  -6.3797      3.969     -1.607      0.108     -14.160       1.401\n",
      "x2_Agronomía               -2.0908      3.781     -0.553      0.580      -9.502       5.321\n",
      "x2_Almagro                 -7.3674      6.202     -1.188      0.235     -19.524       4.789\n",
      "x2_Balvanera              -33.6415      5.325     -6.318      0.000     -44.078     -23.204\n",
      "x2_Barracas               -23.0226      4.702     -4.896      0.000     -32.239     -13.806\n",
      "x2_Barrio Norte            88.8944      6.465     13.751      0.000      76.223     101.566\n",
      "x2_Belgrano               143.7240      8.658     16.600      0.000     126.753     160.695\n",
      "x2_Boca                   -39.9540      4.261     -9.377      0.000     -48.306     -31.602\n",
      "x2_Boedo                  -24.9336      5.919     -4.212      0.000     -36.536     -13.332\n",
      "x2_Caballito               15.7264      7.762      2.026      0.043       0.512      30.941\n",
      "x2_Catalinas                0.3490      3.700      0.094      0.925      -6.903       7.601\n",
      "x2_Centro / Microcentro    -3.2593      4.234     -0.770      0.441     -11.557       5.039\n",
      "x2_Chacarita               -7.4085      4.166     -1.778      0.075     -15.574       0.757\n",
      "x2_Coghlan                 10.5296      4.397      2.394      0.017       1.910      19.149\n",
      "x2_Colegiales              12.4476      4.620      2.694      0.007       3.392      21.503\n",
      "x2_Congreso               -27.0440      4.645     -5.822      0.000     -36.148     -17.939\n",
      "x2_Constitución           -28.1917      4.209     -6.698      0.000     -36.441     -19.942\n",
      "x2_Flores                 -33.3720      6.179     -5.401      0.000     -45.483     -21.261\n",
      "x2_Floresta               -18.1241      4.658     -3.891      0.000     -27.254      -8.995\n",
      "x2_Las Cañitas             63.4723      4.151     15.291      0.000      55.336      71.609\n",
      "x2_Liniers                -16.6439      4.495     -3.703      0.000     -25.454      -7.834\n",
      "x2_Mataderos              -16.7437      4.192     -3.994      0.000     -24.961      -8.527\n",
      "x2_Monserrat              -20.6562      4.996     -4.134      0.000     -30.450     -10.863\n",
      "x2_Monte Castro            -5.6513      3.816     -1.481      0.139     -13.131       1.829\n",
      "x2_Nuñez                   72.9280      5.465     13.344      0.000      62.216      83.640\n",
      "x2_Once                   -16.4273      4.224     -3.889      0.000     -24.706      -8.148\n",
      "x2_Palermo                210.0845      9.730     21.592      0.000     191.014     229.155\n",
      "x2_Parque Avellaneda       -5.5705      3.785     -1.472      0.141     -12.990       1.849\n",
      "x2_Parque Centenario       -2.1912      3.934     -0.557      0.578      -9.903       5.520\n",
      "x2_Parque Chacabuco       -10.4378      4.014     -2.601      0.009     -18.305      -2.571\n",
      "x2_Parque Chas             -4.2735      3.804     -1.123      0.261     -11.731       3.184\n",
      "x2_Parque Patricios       -26.0875      4.372     -5.967      0.000     -34.657     -17.518\n",
      "x2_Paternal                -9.8327      4.027     -2.442      0.015     -17.726      -1.940\n",
      "x2_Pompeya                -13.3012      3.764     -3.534      0.000     -20.679      -5.923\n",
      "x2_Puerto Madero          440.8787      5.523     79.821      0.000     430.052     451.705\n",
      "x2_Recoleta               146.4691      7.030     20.835      0.000     132.690     160.249\n",
      "x2_Retiro                  33.1479      4.457      7.437      0.000      24.411      41.885\n",
      "x2_Saavedra                 1.4603      4.952      0.295      0.768      -8.247      11.168\n",
      "x2_San Cristobal          -21.4390      5.267     -4.071      0.000     -31.762     -11.116\n",
      "x2_San Nicolás             -1.4808      4.189     -0.354      0.724      -9.691       6.729\n",
      "x2_San Telmo              -12.5963      6.081     -2.072      0.038     -24.515      -0.678\n",
      "x2_Tribunales              -7.0945      3.961     -1.791      0.073     -14.859       0.670\n",
      "x2_Velez Sarsfield         -5.3202      3.743     -1.421      0.155     -12.657       2.016\n",
      "x2_Versalles               -3.6411      3.760     -0.968      0.333     -11.011       3.728\n",
      "x2_Villa Crespo            28.6042      6.239      4.585      0.000      16.375      40.833\n",
      "x2_Villa Devoto            -1.2629      4.578     -0.276      0.783     -10.236       7.710\n",
      "x2_Villa General Mitre     -7.2963      3.776     -1.932      0.053     -14.698       0.105\n",
      "x2_Villa Lugano           -40.4679      3.985    -10.155      0.000     -48.279     -32.657\n",
      "x2_Villa Luro              -9.8639      4.681     -2.107      0.035     -19.039      -0.689\n",
      "x2_Villa Ortuzar            3.8541      3.927      0.982      0.326      -3.842      11.551\n",
      "x2_Villa Pueyrredón        -0.2527      4.027     -0.063      0.950      -8.146       7.640\n",
      "x2_Villa Real              -3.6149      3.732     -0.969      0.333     -10.930       3.700\n",
      "x2_Villa Riachuelo         -1.1102      3.700     -0.300      0.764      -8.362       6.142\n",
      "x2_Villa Santa Rita        -3.2113      3.821     -0.840      0.401     -10.702       4.279\n",
      "x2_Villa Soldati           -3.9574      3.727     -1.062      0.288     -11.263       3.348\n",
      "x2_Villa Urquiza           22.5351      6.637      3.395      0.001       9.526      35.544\n",
      "x2_Villa del Parque        -7.6814      4.705     -1.633      0.103     -16.903       1.540\n",
      "==============================================================================\n",
      "Omnibus:                       72.920   Durbin-Watson:                   1.988\n",
      "Prob(Omnibus):                  0.000   Jarque-Bera (JB):               83.837\n",
      "Skew:                           0.108   Prob(JB):                     6.24e-19\n",
      "Kurtosis:                       3.269   Cond. No.                         10.3\n",
      "==============================================================================\n",
      "\n",
      "Warnings:\n",
      "[1] Standard Errors assume that the covariance matrix of the errors is correctly specified.\n"
     ]
    }
   ],
   "source": [
    "print(lm.summary())"
   ]
  },
  {
   "cell_type": "markdown",
   "metadata": {},
   "source": [
    "Realizamos la codificación a variables dummies de la variable Barrio, pero como tenemos un 40% de las variables de barrio con un p value mayor a 0.05 vamos a generar categorías por barrios.\n",
    "Para esto vamos a calcula el precio medio por metro cuadrado por barrio para definir las categorías."
   ]
  },
  {
   "cell_type": "code",
   "execution_count": 495,
   "metadata": {},
   "outputs": [],
   "source": [
    "def media_barrios(data,listado_barrios,variable_a_imputar):\n",
    "    df=data.copy()\n",
    "    barrios_medias=pd.DataFrame()\n",
    "    for i in range(len(listado_barrios)):\n",
    "        mean=df[df['Barrio']==listado_barrios[i]][variable_a_imputar].mean()\n",
    "#         barrios_medias=barrios_medias.append(str(i))\n",
    "        barrios_medias.loc[i,'Barrios']=listado_barrios[i]\n",
    "        barrios_medias.loc[i,'media']=mean\n",
    "    return barrios_medias"
   ]
  },
  {
   "cell_type": "code",
   "execution_count": 496,
   "metadata": {},
   "outputs": [
    {
     "data": {
      "text/html": [
       "<div>\n",
       "<style scoped>\n",
       "    .dataframe tbody tr th:only-of-type {\n",
       "        vertical-align: middle;\n",
       "    }\n",
       "\n",
       "    .dataframe tbody tr th {\n",
       "        vertical-align: top;\n",
       "    }\n",
       "\n",
       "    .dataframe thead th {\n",
       "        text-align: right;\n",
       "    }\n",
       "</style>\n",
       "<table border=\"1\" class=\"dataframe\">\n",
       "  <thead>\n",
       "    <tr style=\"text-align: right;\">\n",
       "      <th></th>\n",
       "      <th>Barrios</th>\n",
       "      <th>media</th>\n",
       "    </tr>\n",
       "  </thead>\n",
       "  <tbody>\n",
       "    <tr>\n",
       "      <th>35</th>\n",
       "      <td>Puerto Madero</td>\n",
       "      <td>5266.742599</td>\n",
       "    </tr>\n",
       "    <tr>\n",
       "      <th>20</th>\n",
       "      <td>Las Cañitas</td>\n",
       "      <td>3248.343882</td>\n",
       "    </tr>\n",
       "    <tr>\n",
       "      <th>36</th>\n",
       "      <td>Recoleta</td>\n",
       "      <td>2946.015877</td>\n",
       "    </tr>\n",
       "    <tr>\n",
       "      <th>27</th>\n",
       "      <td>Palermo</td>\n",
       "      <td>2945.104275</td>\n",
       "    </tr>\n",
       "    <tr>\n",
       "      <th>7</th>\n",
       "      <td>Belgrano</td>\n",
       "      <td>2831.447172</td>\n",
       "    </tr>\n",
       "    <tr>\n",
       "      <th>25</th>\n",
       "      <td>Nuñez</td>\n",
       "      <td>2798.541365</td>\n",
       "    </tr>\n",
       "    <tr>\n",
       "      <th>6</th>\n",
       "      <td>Barrio Norte</td>\n",
       "      <td>2723.274206</td>\n",
       "    </tr>\n",
       "    <tr>\n",
       "      <th>37</th>\n",
       "      <td>Retiro</td>\n",
       "      <td>2637.189000</td>\n",
       "    </tr>\n",
       "    <tr>\n",
       "      <th>14</th>\n",
       "      <td>Coghlan</td>\n",
       "      <td>2482.443458</td>\n",
       "    </tr>\n",
       "    <tr>\n",
       "      <th>15</th>\n",
       "      <td>Colegiales</td>\n",
       "      <td>2466.456393</td>\n",
       "    </tr>\n",
       "    <tr>\n",
       "      <th>45</th>\n",
       "      <td>Villa Crespo</td>\n",
       "      <td>2439.832157</td>\n",
       "    </tr>\n",
       "    <tr>\n",
       "      <th>56</th>\n",
       "      <td>Villa Urquiza</td>\n",
       "      <td>2432.244302</td>\n",
       "    </tr>\n",
       "    <tr>\n",
       "      <th>50</th>\n",
       "      <td>Villa Ortuzar</td>\n",
       "      <td>2408.689909</td>\n",
       "    </tr>\n",
       "    <tr>\n",
       "      <th>10</th>\n",
       "      <td>Caballito</td>\n",
       "      <td>2381.120826</td>\n",
       "    </tr>\n",
       "    <tr>\n",
       "      <th>38</th>\n",
       "      <td>Saavedra</td>\n",
       "      <td>2348.916998</td>\n",
       "    </tr>\n",
       "    <tr>\n",
       "      <th>0</th>\n",
       "      <td></td>\n",
       "      <td>2306.647226</td>\n",
       "    </tr>\n",
       "    <tr>\n",
       "      <th>51</th>\n",
       "      <td>Villa Pueyrredón</td>\n",
       "      <td>2296.045569</td>\n",
       "    </tr>\n",
       "    <tr>\n",
       "      <th>41</th>\n",
       "      <td>San Telmo</td>\n",
       "      <td>2295.098024</td>\n",
       "    </tr>\n",
       "    <tr>\n",
       "      <th>2</th>\n",
       "      <td>Agronomía</td>\n",
       "      <td>2274.310301</td>\n",
       "    </tr>\n",
       "    <tr>\n",
       "      <th>53</th>\n",
       "      <td>Villa Riachuelo</td>\n",
       "      <td>2268.782575</td>\n",
       "    </tr>\n",
       "    <tr>\n",
       "      <th>46</th>\n",
       "      <td>Villa Devoto</td>\n",
       "      <td>2268.583188</td>\n",
       "    </tr>\n",
       "    <tr>\n",
       "      <th>29</th>\n",
       "      <td>Parque Centenario</td>\n",
       "      <td>2264.701371</td>\n",
       "    </tr>\n",
       "    <tr>\n",
       "      <th>31</th>\n",
       "      <td>Parque Chas</td>\n",
       "      <td>2249.265925</td>\n",
       "    </tr>\n",
       "    <tr>\n",
       "      <th>3</th>\n",
       "      <td>Almagro</td>\n",
       "      <td>2243.583940</td>\n",
       "    </tr>\n",
       "    <tr>\n",
       "      <th>9</th>\n",
       "      <td>Boedo</td>\n",
       "      <td>2237.759410</td>\n",
       "    </tr>\n",
       "    <tr>\n",
       "      <th>57</th>\n",
       "      <td>Villa del Parque</td>\n",
       "      <td>2237.304490</td>\n",
       "    </tr>\n",
       "    <tr>\n",
       "      <th>12</th>\n",
       "      <td>Centro / Microcentro</td>\n",
       "      <td>2233.994703</td>\n",
       "    </tr>\n",
       "    <tr>\n",
       "      <th>1</th>\n",
       "      <td>Abasto</td>\n",
       "      <td>2223.914186</td>\n",
       "    </tr>\n",
       "    <tr>\n",
       "      <th>13</th>\n",
       "      <td>Chacarita</td>\n",
       "      <td>2218.104359</td>\n",
       "    </tr>\n",
       "    <tr>\n",
       "      <th>40</th>\n",
       "      <td>San Nicolás</td>\n",
       "      <td>2196.509120</td>\n",
       "    </tr>\n",
       "    <tr>\n",
       "      <th>44</th>\n",
       "      <td>Versalles</td>\n",
       "      <td>2192.070769</td>\n",
       "    </tr>\n",
       "    <tr>\n",
       "      <th>54</th>\n",
       "      <td>Villa Santa Rita</td>\n",
       "      <td>2186.308842</td>\n",
       "    </tr>\n",
       "    <tr>\n",
       "      <th>11</th>\n",
       "      <td>Catalinas</td>\n",
       "      <td>2184.980329</td>\n",
       "    </tr>\n",
       "    <tr>\n",
       "      <th>49</th>\n",
       "      <td>Villa Luro</td>\n",
       "      <td>2176.877779</td>\n",
       "    </tr>\n",
       "    <tr>\n",
       "      <th>39</th>\n",
       "      <td>San Cristobal</td>\n",
       "      <td>2170.825387</td>\n",
       "    </tr>\n",
       "    <tr>\n",
       "      <th>33</th>\n",
       "      <td>Paternal</td>\n",
       "      <td>2164.820598</td>\n",
       "    </tr>\n",
       "    <tr>\n",
       "      <th>23</th>\n",
       "      <td>Monserrat</td>\n",
       "      <td>2155.829756</td>\n",
       "    </tr>\n",
       "    <tr>\n",
       "      <th>18</th>\n",
       "      <td>Flores</td>\n",
       "      <td>2144.802448</td>\n",
       "    </tr>\n",
       "    <tr>\n",
       "      <th>30</th>\n",
       "      <td>Parque Chacabuco</td>\n",
       "      <td>2135.963054</td>\n",
       "    </tr>\n",
       "    <tr>\n",
       "      <th>24</th>\n",
       "      <td>Monte Castro</td>\n",
       "      <td>2108.395859</td>\n",
       "    </tr>\n",
       "    <tr>\n",
       "      <th>21</th>\n",
       "      <td>Liniers</td>\n",
       "      <td>2103.995065</td>\n",
       "    </tr>\n",
       "    <tr>\n",
       "      <th>19</th>\n",
       "      <td>Floresta</td>\n",
       "      <td>2103.957380</td>\n",
       "    </tr>\n",
       "    <tr>\n",
       "      <th>42</th>\n",
       "      <td>Tribunales</td>\n",
       "      <td>2102.651460</td>\n",
       "    </tr>\n",
       "    <tr>\n",
       "      <th>5</th>\n",
       "      <td>Barracas</td>\n",
       "      <td>2072.322171</td>\n",
       "    </tr>\n",
       "    <tr>\n",
       "      <th>47</th>\n",
       "      <td>Villa General Mitre</td>\n",
       "      <td>2068.017122</td>\n",
       "    </tr>\n",
       "    <tr>\n",
       "      <th>26</th>\n",
       "      <td>Once</td>\n",
       "      <td>2058.470796</td>\n",
       "    </tr>\n",
       "    <tr>\n",
       "      <th>28</th>\n",
       "      <td>Parque Avellaneda</td>\n",
       "      <td>2054.871739</td>\n",
       "    </tr>\n",
       "    <tr>\n",
       "      <th>52</th>\n",
       "      <td>Villa Real</td>\n",
       "      <td>2048.691258</td>\n",
       "    </tr>\n",
       "    <tr>\n",
       "      <th>43</th>\n",
       "      <td>Velez Sarsfield</td>\n",
       "      <td>2038.562646</td>\n",
       "    </tr>\n",
       "    <tr>\n",
       "      <th>55</th>\n",
       "      <td>Villa Soldati</td>\n",
       "      <td>2032.144723</td>\n",
       "    </tr>\n",
       "    <tr>\n",
       "      <th>32</th>\n",
       "      <td>Parque Patricios</td>\n",
       "      <td>2026.140680</td>\n",
       "    </tr>\n",
       "    <tr>\n",
       "      <th>4</th>\n",
       "      <td>Balvanera</td>\n",
       "      <td>2025.259587</td>\n",
       "    </tr>\n",
       "    <tr>\n",
       "      <th>22</th>\n",
       "      <td>Mataderos</td>\n",
       "      <td>2014.999123</td>\n",
       "    </tr>\n",
       "    <tr>\n",
       "      <th>16</th>\n",
       "      <td>Congreso</td>\n",
       "      <td>2008.687028</td>\n",
       "    </tr>\n",
       "    <tr>\n",
       "      <th>17</th>\n",
       "      <td>Constitución</td>\n",
       "      <td>1930.771260</td>\n",
       "    </tr>\n",
       "    <tr>\n",
       "      <th>8</th>\n",
       "      <td>Boca</td>\n",
       "      <td>1826.707491</td>\n",
       "    </tr>\n",
       "    <tr>\n",
       "      <th>34</th>\n",
       "      <td>Pompeya</td>\n",
       "      <td>1780.227032</td>\n",
       "    </tr>\n",
       "    <tr>\n",
       "      <th>48</th>\n",
       "      <td>Villa Lugano</td>\n",
       "      <td>1563.234756</td>\n",
       "    </tr>\n",
       "  </tbody>\n",
       "</table>\n",
       "</div>"
      ],
      "text/plain": [
       "                 Barrios        media\n",
       "35         Puerto Madero  5266.742599\n",
       "20           Las Cañitas  3248.343882\n",
       "36              Recoleta  2946.015877\n",
       "27               Palermo  2945.104275\n",
       "7               Belgrano  2831.447172\n",
       "25                 Nuñez  2798.541365\n",
       "6           Barrio Norte  2723.274206\n",
       "37                Retiro  2637.189000\n",
       "14               Coghlan  2482.443458\n",
       "15            Colegiales  2466.456393\n",
       "45          Villa Crespo  2439.832157\n",
       "56         Villa Urquiza  2432.244302\n",
       "50         Villa Ortuzar  2408.689909\n",
       "10             Caballito  2381.120826\n",
       "38              Saavedra  2348.916998\n",
       "0                         2306.647226\n",
       "51      Villa Pueyrredón  2296.045569\n",
       "41             San Telmo  2295.098024\n",
       "2              Agronomía  2274.310301\n",
       "53       Villa Riachuelo  2268.782575\n",
       "46          Villa Devoto  2268.583188\n",
       "29     Parque Centenario  2264.701371\n",
       "31           Parque Chas  2249.265925\n",
       "3                Almagro  2243.583940\n",
       "9                  Boedo  2237.759410\n",
       "57      Villa del Parque  2237.304490\n",
       "12  Centro / Microcentro  2233.994703\n",
       "1                 Abasto  2223.914186\n",
       "13             Chacarita  2218.104359\n",
       "40           San Nicolás  2196.509120\n",
       "44             Versalles  2192.070769\n",
       "54      Villa Santa Rita  2186.308842\n",
       "11             Catalinas  2184.980329\n",
       "49            Villa Luro  2176.877779\n",
       "39         San Cristobal  2170.825387\n",
       "33              Paternal  2164.820598\n",
       "23             Monserrat  2155.829756\n",
       "18                Flores  2144.802448\n",
       "30      Parque Chacabuco  2135.963054\n",
       "24          Monte Castro  2108.395859\n",
       "21               Liniers  2103.995065\n",
       "19              Floresta  2103.957380\n",
       "42            Tribunales  2102.651460\n",
       "5               Barracas  2072.322171\n",
       "47   Villa General Mitre  2068.017122\n",
       "26                  Once  2058.470796\n",
       "28     Parque Avellaneda  2054.871739\n",
       "52            Villa Real  2048.691258\n",
       "43       Velez Sarsfield  2038.562646\n",
       "55         Villa Soldati  2032.144723\n",
       "32      Parque Patricios  2026.140680\n",
       "4              Balvanera  2025.259587\n",
       "22             Mataderos  2014.999123\n",
       "16              Congreso  2008.687028\n",
       "17          Constitución  1930.771260\n",
       "8                   Boca  1826.707491\n",
       "34               Pompeya  1780.227032\n",
       "48          Villa Lugano  1563.234756"
      ]
     },
     "execution_count": 496,
     "metadata": {},
     "output_type": "execute_result"
    }
   ],
   "source": [
    "medias=media_barrios(data,list_barrios,'price')\n",
    "medias.sort_values(by='media', ascending=False)"
   ]
  },
  {
   "cell_type": "code",
   "execution_count": 497,
   "metadata": {},
   "outputs": [
    {
     "name": "stderr",
     "output_type": "stream",
     "text": [
      "C:\\Users\\Administrator\\anaconda3\\envs\\dhdsblend\\lib\\site-packages\\ipykernel_launcher.py:4: SettingWithCopyWarning: \n",
      "A value is trying to be set on a copy of a slice from a DataFrame.\n",
      "Try using .loc[row_indexer,col_indexer] = value instead\n",
      "\n",
      "See the caveats in the documentation: https://pandas.pydata.org/pandas-docs/stable/user_guide/indexing.html#returning-a-view-versus-a-copy\n",
      "  after removing the cwd from sys.path.\n"
     ]
    }
   ],
   "source": [
    "data['categoria_barrio']=data.apply(\n",
    "    lambda x: 'alto' if x['price']>2500 else\n",
    "              ('medio' if x['price']>2200  else\n",
    "              ('medio_bajo' if x['price']>2050 else 'bajo')),axis=1)"
   ]
  },
  {
   "cell_type": "code",
   "execution_count": 498,
   "metadata": {},
   "outputs": [
    {
     "data": {
      "text/plain": [
       "alto          9416\n",
       "medio         8798\n",
       "bajo          4415\n",
       "medio_bajo    1534\n",
       "Name: categoria_barrio, dtype: int64"
      ]
     },
     "execution_count": 498,
     "metadata": {},
     "output_type": "execute_result"
    }
   ],
   "source": [
    "data['categoria_barrio'].value_counts()"
   ]
  },
  {
   "cell_type": "code",
   "execution_count": 499,
   "metadata": {},
   "outputs": [
    {
     "name": "stdout",
     "output_type": "stream",
     "text": [
      "<class 'pandas.core.frame.DataFrame'>\n",
      "Int64Index: 24163 entries, 0 to 24162\n",
      "Data columns (total 9 columns):\n",
      " #   Column            Non-Null Count  Dtype  \n",
      "---  ------            --------------  -----  \n",
      " 0   price             24163 non-null  float64\n",
      " 1   amb_clean_final   24163 non-null  int32  \n",
      " 2   m2_total_clean_3  24163 non-null  float64\n",
      " 3   amenities         24163 non-null  float64\n",
      " 4   expenses_ok       24163 non-null  float64\n",
      " 5   estacionamiento   24163 non-null  object \n",
      " 6   apto_profesional  24163 non-null  float64\n",
      " 7   esp_exterior      24163 non-null  object \n",
      " 8   categoria_barrio  24163 non-null  object \n",
      "dtypes: float64(5), int32(1), object(3)\n",
      "memory usage: 1.8+ MB\n"
     ]
    }
   ],
   "source": [
    "data=data[['price', 'amb_clean_final', 'm2_total_clean_3', 'amenities',\n",
    "       'expenses_ok', 'estacionamiento', 'apto_profesional', 'esp_exterior',\n",
    "       'categoria_barrio']]\n",
    "data.info()"
   ]
  },
  {
   "cell_type": "code",
   "execution_count": 500,
   "metadata": {},
   "outputs": [],
   "source": [
    "y = data[\"price\"]\n",
    "X = data[[x for x in data.columns if x != \"price\"]]\n"
   ]
  },
  {
   "cell_type": "code",
   "execution_count": 501,
   "metadata": {},
   "outputs": [],
   "source": [
    "from sklearn.model_selection import train_test_split\n",
    "X_train, X_test, y_train, y_test = train_test_split(X, y, train_size=0.7, test_size=0.3, random_state=100)\n",
    "y_train.reset_index(drop=True,inplace=True)\n",
    "X_train.reset_index(drop=True,inplace=True)\n",
    "y_test.reset_index(drop=True,inplace=True)\n",
    "X_test.reset_index(drop=True,inplace=True)\n",
    "cat_cols = [x for x in X.select_dtypes(include=['object']).columns]\n",
    "num_cols = [x for x in X.columns if x not in cat_cols]\n",
    "onehot_encoder = OneHotEncoder(sparse=False,drop='first',handle_unknown='error')\n",
    "X_one_hot_train = onehot_encoder.fit_transform(X_train[cat_cols])\n",
    "X_one_hot_train = pd.DataFrame(X_one_hot_train, columns = onehot_encoder.get_feature_names())\n",
    "X_one_hot_train.head()\n",
    "X_proc_train = pd.concat([X_train[num_cols],X_one_hot_train],axis=1)\n",
    "X_proc_train[['amb_clean_final','amenities','expenses_ok','apto_profesional'\n",
    "             ]] = X_proc_train[['amb_clean_final','amenities','expenses_ok','apto_profesional']].fillna(0)"
   ]
  },
  {
   "cell_type": "markdown",
   "metadata": {},
   "source": [
    "### Cargamos fórmulas para metricas y errores"
   ]
  },
  {
   "cell_type": "code",
   "execution_count": 502,
   "metadata": {},
   "outputs": [],
   "source": [
    "#Definimos la funicón para calcular Variance Inflation Factor\n",
    "def vif_cal(input_data, dependent_col):\n",
    "    vif_df = pd.DataFrame( columns = ['Var', 'Vif'])\n",
    "    x_vars=input_data.drop([dependent_col], axis=1)\n",
    "    xvar_names=x_vars.columns\n",
    "    for i in range(0,xvar_names.shape[0]):\n",
    "        y=x_vars[xvar_names[i]] \n",
    "        x=x_vars[xvar_names.drop(xvar_names[i])]\n",
    "        rsq=sm.OLS(y,x).fit().rsquared  \n",
    "        vif=round(1/(1-rsq),2)\n",
    "        vif_df.loc[i] = [xvar_names[i], vif]\n",
    "    return vif_df.sort_values(by = 'Vif', axis=0, ascending=False, inplace=False)"
   ]
  },
  {
   "cell_type": "code",
   "execution_count": 503,
   "metadata": {},
   "outputs": [],
   "source": [
    "import sklearn.metrics as metrics\n",
    "def regression_results(y_true, y_pred):\n",
    "\n",
    "    # Regression metrics\n",
    "    explained_variance=metrics.explained_variance_score(y_true, y_pred)\n",
    "    mean_absolute_error=metrics.mean_absolute_error(y_true, y_pred) \n",
    "    mse=metrics.mean_squared_error(y_true, y_pred) \n",
    "    mean_squared_log_error=metrics.mean_squared_log_error(y_true, y_pred)\n",
    "    median_absolute_error=metrics.median_absolute_error(y_true, y_pred)\n",
    "    r2=metrics.r2_score(y_true, y_pred)\n",
    "\n",
    "    print('explained_variance: ', round(explained_variance,4))    \n",
    "    print('mean_squared_log_error: ', round(mean_squared_log_error,4))\n",
    "    print('r2: ', round(r2,4))\n",
    "    print('MAE: ', round(mean_absolute_error,4))\n",
    "    print('MSE: ', round(mse,4))\n",
    "    print('RMSE: ', round(np.sqrt(mse),4))"
   ]
  },
  {
   "cell_type": "markdown",
   "metadata": {},
   "source": [
    "### Aplicamos modelo de Stats"
   ]
  },
  {
   "cell_type": "code",
   "execution_count": 504,
   "metadata": {},
   "outputs": [],
   "source": [
    "from sklearn.model_selection import train_test_split\n",
    "X_train, X_test, y_train, y_test = train_test_split(X, y, train_size=0.7, test_size=0.3, random_state=100)\n",
    "y_train.reset_index(drop=True,inplace=True)\n",
    "X_train.reset_index(drop=True,inplace=True)\n",
    "y_test.reset_index(drop=True,inplace=True)\n",
    "X_test.reset_index(drop=True,inplace=True)\n",
    "cat_cols = [x for x in X.select_dtypes(include=['object']).columns]\n",
    "num_cols = [x for x in X.columns if x not in cat_cols]\n",
    "onehot_encoder = OneHotEncoder(sparse=False,drop='first',handle_unknown='error')\n",
    "X_one_hot_train = onehot_encoder.fit_transform(X_train[cat_cols])\n",
    "X_one_hot_train = pd.DataFrame(X_one_hot_train, columns = onehot_encoder.get_feature_names())\n",
    "X_one_hot_train.head()\n",
    "X_proc_train = pd.concat([X_train[num_cols],X_one_hot_train],axis=1)\n",
    "X_proc_train[['amb_clean_final','amenities','expenses_ok','apto_profesional'\n",
    "             ]] = X_proc_train[['amb_clean_final','amenities','expenses_ok','apto_profesional']].fillna(0)"
   ]
  },
  {
   "cell_type": "code",
   "execution_count": 505,
   "metadata": {},
   "outputs": [],
   "source": [
    "onehot_encoder = OneHotEncoder(sparse=False,drop='first',handle_unknown='error')\n",
    "X_one_hot_test = onehot_encoder.fit_transform(X_test[cat_cols])\n",
    "X_one_hot_test = pd.DataFrame(X_one_hot_test, columns = onehot_encoder.get_feature_names())\n",
    "X_one_hot_test.head()\n",
    "X_proc_test = pd.concat([X_test[num_cols],X_one_hot_test],axis=1)\n",
    "X_proc_test[['amb_clean_final','amenities','expenses_ok','apto_profesional'\n",
    "             ]] = X_proc_test[['amb_clean_final','amenities','expenses_ok','apto_profesional']].fillna(0)"
   ]
  },
  {
   "cell_type": "markdown",
   "metadata": {},
   "source": [
    "* Normalizamos el data set de train"
   ]
  },
  {
   "cell_type": "code",
   "execution_count": 506,
   "metadata": {},
   "outputs": [],
   "source": [
    "from sklearn.preprocessing import StandardScaler\n",
    "scaled_features = X_proc_train.copy()\n",
    "col_names = X_proc_train.columns.to_list()\n",
    "features = scaled_features[col_names]\n",
    "scaler = StandardScaler().fit(features.values)\n",
    "features = scaler.transform(features.values)\n",
    "scaled_features[col_names] = features\n",
    "# print(scaled_features)"
   ]
  },
  {
   "cell_type": "markdown",
   "metadata": {},
   "source": [
    "* Normalizamos el data set de test"
   ]
  },
  {
   "cell_type": "code",
   "execution_count": 507,
   "metadata": {},
   "outputs": [],
   "source": [
    "from sklearn.preprocessing import StandardScaler\n",
    "scaled_features_test = X_proc_test.copy()\n",
    "col_names = X_proc_test.columns.to_list()\n",
    "features_test = scaled_features_test[col_names]\n",
    "scaler = StandardScaler().fit(features_test.values)\n",
    "features_test = scaler.transform(features_test.values)\n",
    "scaled_features_test[col_names] = features_test\n",
    "# print(scaled_features)"
   ]
  },
  {
   "cell_type": "code",
   "execution_count": 508,
   "metadata": {},
   "outputs": [
    {
     "name": "stdout",
     "output_type": "stream",
     "text": [
      "(16914, 13)\n",
      "(7249, 13)\n"
     ]
    }
   ],
   "source": [
    "#Construimos el modelo con Statsmodel\n",
    "X_proc_esc_train = sm.add_constant(scaled_features)\n",
    "X_proc_esc_test = sm.add_constant(scaled_features_test)\n",
    "print(X_proc_esc_train.shape)\n",
    "print(X_proc_esc_test.shape)\n",
    "#entrenamos el modelo\n",
    "lm = sm.OLS(y_train,X_proc_esc_train).fit()"
   ]
  },
  {
   "cell_type": "code",
   "execution_count": 509,
   "metadata": {},
   "outputs": [
    {
     "name": "stdout",
     "output_type": "stream",
     "text": [
      "                            OLS Regression Results                            \n",
      "==============================================================================\n",
      "Dep. Variable:                  price   R-squared:                       0.620\n",
      "Model:                            OLS   Adj. R-squared:                  0.620\n",
      "Method:                 Least Squares   F-statistic:                     2302.\n",
      "Date:                Thu, 14 Jan 2021   Prob (F-statistic):               0.00\n",
      "Time:                        15:02:26   Log-Likelihood:            -1.2751e+05\n",
      "No. Observations:               16914   AIC:                         2.550e+05\n",
      "Df Residuals:                   16901   BIC:                         2.551e+05\n",
      "Df Model:                          12                                         \n",
      "Covariance Type:            nonrobust                                         \n",
      "====================================================================================\n",
      "                       coef    std err          t      P>|t|      [0.025      0.975]\n",
      "------------------------------------------------------------------------------------\n",
      "const             2566.3396      3.497    733.847      0.000    2559.485    2573.194\n",
      "amb_clean_final    -27.5501      5.389     -5.112      0.000     -38.113     -16.987\n",
      "m2_total_clean_3   102.0403      5.363     19.026      0.000      91.528     112.552\n",
      "amenities           49.4550      3.690     13.403      0.000      42.223      56.687\n",
      "expenses_ok          3.3125      3.814      0.868      0.385      -4.164      10.789\n",
      "apto_profesional    -9.9662      3.543     -2.813      0.005     -16.911      -3.021\n",
      "x0_si               50.0770      3.676     13.621      0.000      42.871      57.283\n",
      "x1_balcon          -33.7057      3.900     -8.642      0.000     -41.350     -26.061\n",
      "x1_patio           -38.7138      3.767    -10.278      0.000     -46.097     -31.331\n",
      "x1_terraza          -1.6583      3.693     -0.449      0.653      -8.896       5.580\n",
      "x2_bajo           -538.2983      3.971   -135.573      0.000    -546.081    -530.516\n",
      "x2_medio          -418.1477      3.982   -105.011      0.000    -425.953    -410.343\n",
      "x2_medio_bajo     -248.9719      3.693    -67.425      0.000    -256.210    -241.734\n",
      "==============================================================================\n",
      "Omnibus:                    12462.369   Durbin-Watson:                   1.993\n",
      "Prob(Omnibus):                  0.000   Jarque-Bera (JB):           304821.603\n",
      "Skew:                           3.312   Prob(JB):                         0.00\n",
      "Kurtosis:                      22.714   Cond. No.                         2.95\n",
      "==============================================================================\n",
      "\n",
      "Warnings:\n",
      "[1] Standard Errors assume that the covariance matrix of the errors is correctly specified.\n"
     ]
    }
   ],
   "source": [
    "print(lm.summary())"
   ]
  },
  {
   "cell_type": "code",
   "execution_count": 510,
   "metadata": {},
   "outputs": [
    {
     "name": "stdout",
     "output_type": "stream",
     "text": [
      "explained_variance:  0.6291\n",
      "mean_squared_log_error:  0.017\n",
      "r2:  0.6277\n",
      "MAE:  255.6569\n",
      "MSE:  190116.8939\n",
      "RMSE:  436.024\n"
     ]
    }
   ],
   "source": [
    "y_pred = lm.predict(X_proc_esc_test)\n",
    "regression_results(y_test, y_pred)"
   ]
  },
  {
   "cell_type": "code",
   "execution_count": 511,
   "metadata": {},
   "outputs": [
    {
     "data": {
      "text/html": [
       "<div>\n",
       "<style scoped>\n",
       "    .dataframe tbody tr th:only-of-type {\n",
       "        vertical-align: middle;\n",
       "    }\n",
       "\n",
       "    .dataframe tbody tr th {\n",
       "        vertical-align: top;\n",
       "    }\n",
       "\n",
       "    .dataframe thead th {\n",
       "        text-align: right;\n",
       "    }\n",
       "</style>\n",
       "<table border=\"1\" class=\"dataframe\">\n",
       "  <thead>\n",
       "    <tr style=\"text-align: right;\">\n",
       "      <th></th>\n",
       "      <th>Var</th>\n",
       "      <th>Vif</th>\n",
       "    </tr>\n",
       "  </thead>\n",
       "  <tbody>\n",
       "    <tr>\n",
       "      <th>0</th>\n",
       "      <td>amb_clean_final</td>\n",
       "      <td>2.37</td>\n",
       "    </tr>\n",
       "    <tr>\n",
       "      <th>1</th>\n",
       "      <td>m2_total_clean_3</td>\n",
       "      <td>2.35</td>\n",
       "    </tr>\n",
       "    <tr>\n",
       "      <th>10</th>\n",
       "      <td>x2_medio</td>\n",
       "      <td>1.30</td>\n",
       "    </tr>\n",
       "    <tr>\n",
       "      <th>9</th>\n",
       "      <td>x2_bajo</td>\n",
       "      <td>1.29</td>\n",
       "    </tr>\n",
       "    <tr>\n",
       "      <th>6</th>\n",
       "      <td>x1_balcon</td>\n",
       "      <td>1.24</td>\n",
       "    </tr>\n",
       "    <tr>\n",
       "      <th>3</th>\n",
       "      <td>expenses_ok</td>\n",
       "      <td>1.19</td>\n",
       "    </tr>\n",
       "    <tr>\n",
       "      <th>7</th>\n",
       "      <td>x1_patio</td>\n",
       "      <td>1.16</td>\n",
       "    </tr>\n",
       "    <tr>\n",
       "      <th>2</th>\n",
       "      <td>amenities</td>\n",
       "      <td>1.11</td>\n",
       "    </tr>\n",
       "    <tr>\n",
       "      <th>5</th>\n",
       "      <td>x0_si</td>\n",
       "      <td>1.11</td>\n",
       "    </tr>\n",
       "    <tr>\n",
       "      <th>8</th>\n",
       "      <td>x1_terraza</td>\n",
       "      <td>1.11</td>\n",
       "    </tr>\n",
       "    <tr>\n",
       "      <th>11</th>\n",
       "      <td>x2_medio_bajo</td>\n",
       "      <td>1.11</td>\n",
       "    </tr>\n",
       "    <tr>\n",
       "      <th>4</th>\n",
       "      <td>apto_profesional</td>\n",
       "      <td>1.03</td>\n",
       "    </tr>\n",
       "  </tbody>\n",
       "</table>\n",
       "</div>"
      ],
      "text/plain": [
       "                 Var   Vif\n",
       "0    amb_clean_final  2.37\n",
       "1   m2_total_clean_3  2.35\n",
       "10          x2_medio  1.30\n",
       "9            x2_bajo  1.29\n",
       "6          x1_balcon  1.24\n",
       "3        expenses_ok  1.19\n",
       "7           x1_patio  1.16\n",
       "2          amenities  1.11\n",
       "5              x0_si  1.11\n",
       "8         x1_terraza  1.11\n",
       "11     x2_medio_bajo  1.11\n",
       "4   apto_profesional  1.03"
      ]
     },
     "execution_count": 511,
     "metadata": {},
     "output_type": "execute_result"
    }
   ],
   "source": [
    "vif_cal(X_proc_esc_train,\"const\")"
   ]
  },
  {
   "cell_type": "markdown",
   "metadata": {},
   "source": [
    "* Como vemos que la variable `x1_terraza` tiene un p value mayor a 0.05 vamos a eliminar esta variable y volver a entrenar el modelo"
   ]
  },
  {
   "cell_type": "code",
   "execution_count": 512,
   "metadata": {},
   "outputs": [],
   "source": [
    "X_proc_esc_train.drop(['x1_terraza'], axis=1,inplace=True)\n",
    "X_proc_esc_test.drop(['x1_terraza'], axis=1,inplace=True)"
   ]
  },
  {
   "cell_type": "code",
   "execution_count": 513,
   "metadata": {},
   "outputs": [],
   "source": [
    "lm = sm.OLS(y_train,X_proc_esc_train).fit()"
   ]
  },
  {
   "cell_type": "code",
   "execution_count": 514,
   "metadata": {},
   "outputs": [
    {
     "name": "stdout",
     "output_type": "stream",
     "text": [
      "                            OLS Regression Results                            \n",
      "==============================================================================\n",
      "Dep. Variable:                  price   R-squared:                       0.620\n",
      "Model:                            OLS   Adj. R-squared:                  0.620\n",
      "Method:                 Least Squares   F-statistic:                     2511.\n",
      "Date:                Thu, 14 Jan 2021   Prob (F-statistic):               0.00\n",
      "Time:                        15:02:26   Log-Likelihood:            -1.2751e+05\n",
      "No. Observations:               16914   AIC:                         2.550e+05\n",
      "Df Residuals:                   16902   BIC:                         2.551e+05\n",
      "Df Model:                          11                                         \n",
      "Covariance Type:            nonrobust                                         \n",
      "====================================================================================\n",
      "                       coef    std err          t      P>|t|      [0.025      0.975]\n",
      "------------------------------------------------------------------------------------\n",
      "const             2566.3396      3.497    733.864      0.000    2559.485    2573.194\n",
      "amb_clean_final    -27.5251      5.389     -5.108      0.000     -38.088     -16.963\n",
      "m2_total_clean_3   101.9020      5.354     19.033      0.000      91.407     112.397\n",
      "amenities           49.2318      3.656     13.466      0.000      42.065      56.398\n",
      "expenses_ok          3.3467      3.813      0.878      0.380      -4.128      10.821\n",
      "apto_profesional    -9.9665      3.543     -2.813      0.005     -16.912      -3.021\n",
      "x0_si               50.0267      3.675     13.614      0.000      42.824      57.229\n",
      "x1_balcon          -33.2004      3.734     -8.891      0.000     -40.520     -25.881\n",
      "x1_patio           -38.4312      3.714    -10.349      0.000     -45.710     -31.152\n",
      "x2_bajo           -538.3476      3.969   -135.641      0.000    -546.127    -530.568\n",
      "x2_medio          -418.1976      3.980   -105.067      0.000    -425.999    -410.396\n",
      "x2_medio_bajo     -248.9877      3.692    -67.434      0.000    -256.225    -241.750\n",
      "==============================================================================\n",
      "Omnibus:                    12459.242   Durbin-Watson:                   1.993\n",
      "Prob(Omnibus):                  0.000   Jarque-Bera (JB):           304489.314\n",
      "Skew:                           3.311   Prob(JB):                         0.00\n",
      "Kurtosis:                      22.703   Cond. No.                         2.95\n",
      "==============================================================================\n",
      "\n",
      "Warnings:\n",
      "[1] Standard Errors assume that the covariance matrix of the errors is correctly specified.\n"
     ]
    }
   ],
   "source": [
    "print(lm.summary())"
   ]
  },
  {
   "cell_type": "code",
   "execution_count": 515,
   "metadata": {},
   "outputs": [
    {
     "name": "stdout",
     "output_type": "stream",
     "text": [
      "explained_variance:  0.6291\n",
      "mean_squared_log_error:  0.017\n",
      "r2:  0.6276\n",
      "MAE:  255.6606\n",
      "MSE:  190135.463\n",
      "RMSE:  436.0453\n"
     ]
    }
   ],
   "source": [
    "y_pred = lm.predict(X_proc_esc_test)\n",
    "regression_results(y_test, y_pred)"
   ]
  },
  {
   "cell_type": "code",
   "execution_count": 516,
   "metadata": {},
   "outputs": [
    {
     "data": {
      "text/html": [
       "<div>\n",
       "<style scoped>\n",
       "    .dataframe tbody tr th:only-of-type {\n",
       "        vertical-align: middle;\n",
       "    }\n",
       "\n",
       "    .dataframe tbody tr th {\n",
       "        vertical-align: top;\n",
       "    }\n",
       "\n",
       "    .dataframe thead th {\n",
       "        text-align: right;\n",
       "    }\n",
       "</style>\n",
       "<table border=\"1\" class=\"dataframe\">\n",
       "  <thead>\n",
       "    <tr style=\"text-align: right;\">\n",
       "      <th></th>\n",
       "      <th>Var</th>\n",
       "      <th>Vif</th>\n",
       "    </tr>\n",
       "  </thead>\n",
       "  <tbody>\n",
       "    <tr>\n",
       "      <th>0</th>\n",
       "      <td>amb_clean_final</td>\n",
       "      <td>2.37</td>\n",
       "    </tr>\n",
       "    <tr>\n",
       "      <th>1</th>\n",
       "      <td>m2_total_clean_3</td>\n",
       "      <td>2.34</td>\n",
       "    </tr>\n",
       "    <tr>\n",
       "      <th>9</th>\n",
       "      <td>x2_medio</td>\n",
       "      <td>1.30</td>\n",
       "    </tr>\n",
       "    <tr>\n",
       "      <th>8</th>\n",
       "      <td>x2_bajo</td>\n",
       "      <td>1.29</td>\n",
       "    </tr>\n",
       "    <tr>\n",
       "      <th>3</th>\n",
       "      <td>expenses_ok</td>\n",
       "      <td>1.19</td>\n",
       "    </tr>\n",
       "    <tr>\n",
       "      <th>6</th>\n",
       "      <td>x1_balcon</td>\n",
       "      <td>1.14</td>\n",
       "    </tr>\n",
       "    <tr>\n",
       "      <th>7</th>\n",
       "      <td>x1_patio</td>\n",
       "      <td>1.13</td>\n",
       "    </tr>\n",
       "    <tr>\n",
       "      <th>10</th>\n",
       "      <td>x2_medio_bajo</td>\n",
       "      <td>1.11</td>\n",
       "    </tr>\n",
       "    <tr>\n",
       "      <th>5</th>\n",
       "      <td>x0_si</td>\n",
       "      <td>1.10</td>\n",
       "    </tr>\n",
       "    <tr>\n",
       "      <th>2</th>\n",
       "      <td>amenities</td>\n",
       "      <td>1.09</td>\n",
       "    </tr>\n",
       "    <tr>\n",
       "      <th>4</th>\n",
       "      <td>apto_profesional</td>\n",
       "      <td>1.03</td>\n",
       "    </tr>\n",
       "  </tbody>\n",
       "</table>\n",
       "</div>"
      ],
      "text/plain": [
       "                 Var   Vif\n",
       "0    amb_clean_final  2.37\n",
       "1   m2_total_clean_3  2.34\n",
       "9           x2_medio  1.30\n",
       "8            x2_bajo  1.29\n",
       "3        expenses_ok  1.19\n",
       "6          x1_balcon  1.14\n",
       "7           x1_patio  1.13\n",
       "10     x2_medio_bajo  1.11\n",
       "5              x0_si  1.10\n",
       "2          amenities  1.09\n",
       "4   apto_profesional  1.03"
      ]
     },
     "execution_count": 516,
     "metadata": {},
     "output_type": "execute_result"
    }
   ],
   "source": [
    "vif_cal(X_proc_esc_train,\"const\")"
   ]
  },
  {
   "cell_type": "markdown",
   "metadata": {},
   "source": [
    "* Como vemos que la variable `expenses_ok` tiene un p value mayor a 0.05 vamos a eliminar esta variable y volver a entrenar el modelo"
   ]
  },
  {
   "cell_type": "code",
   "execution_count": 517,
   "metadata": {},
   "outputs": [],
   "source": [
    "X_proc_esc_train.drop(['expenses_ok'], axis=1,inplace=True)\n",
    "X_proc_esc_test.drop(['expenses_ok'], axis=1,inplace=True)"
   ]
  },
  {
   "cell_type": "code",
   "execution_count": 518,
   "metadata": {},
   "outputs": [],
   "source": [
    "lm = sm.OLS(y_train,X_proc_esc_train).fit()"
   ]
  },
  {
   "cell_type": "code",
   "execution_count": 519,
   "metadata": {},
   "outputs": [
    {
     "name": "stdout",
     "output_type": "stream",
     "text": [
      "                            OLS Regression Results                            \n",
      "==============================================================================\n",
      "Dep. Variable:                  price   R-squared:                       0.620\n",
      "Model:                            OLS   Adj. R-squared:                  0.620\n",
      "Method:                 Least Squares   F-statistic:                     2762.\n",
      "Date:                Thu, 14 Jan 2021   Prob (F-statistic):               0.00\n",
      "Time:                        15:02:27   Log-Likelihood:            -1.2751e+05\n",
      "No. Observations:               16914   AIC:                         2.550e+05\n",
      "Df Residuals:                   16903   BIC:                         2.551e+05\n",
      "Df Model:                          10                                         \n",
      "Covariance Type:            nonrobust                                         \n",
      "====================================================================================\n",
      "                       coef    std err          t      P>|t|      [0.025      0.975]\n",
      "------------------------------------------------------------------------------------\n",
      "const             2566.3396      3.497    733.869      0.000    2559.485    2573.194\n",
      "amb_clean_final    -26.6631      5.298     -5.032      0.000     -37.048     -16.278\n",
      "m2_total_clean_3   102.3484      5.330     19.203      0.000      91.901     112.795\n",
      "amenities           49.2034      3.656     13.459      0.000      42.037      56.369\n",
      "apto_profesional    -9.9353      3.543     -2.804      0.005     -16.880      -2.991\n",
      "x0_si               50.0959      3.674     13.636      0.000      42.895      57.297\n",
      "x1_balcon          -33.0456      3.730     -8.859      0.000     -40.357     -25.734\n",
      "x1_patio           -38.4153      3.713    -10.345      0.000     -45.694     -31.137\n",
      "x2_bajo           -538.5895      3.959   -136.031      0.000    -546.350    -530.829\n",
      "x2_medio          -418.5441      3.961   -105.676      0.000    -426.307    -410.781\n",
      "x2_medio_bajo     -249.0859      3.691    -67.492      0.000    -256.320    -241.852\n",
      "==============================================================================\n",
      "Omnibus:                    12447.012   Durbin-Watson:                   1.994\n",
      "Prob(Omnibus):                  0.000   Jarque-Bera (JB):           303526.570\n",
      "Skew:                           3.307   Prob(JB):                         0.00\n",
      "Kurtosis:                      22.671   Cond. No.                         2.78\n",
      "==============================================================================\n",
      "\n",
      "Warnings:\n",
      "[1] Standard Errors assume that the covariance matrix of the errors is correctly specified.\n"
     ]
    }
   ],
   "source": [
    "print(lm.summary())"
   ]
  },
  {
   "cell_type": "code",
   "execution_count": 520,
   "metadata": {},
   "outputs": [
    {
     "name": "stdout",
     "output_type": "stream",
     "text": [
      "explained_variance:  0.6292\n",
      "mean_squared_log_error:  0.017\n",
      "r2:  0.6277\n",
      "MAE:  255.6675\n",
      "MSE:  190095.9738\n",
      "RMSE:  436.0\n"
     ]
    }
   ],
   "source": [
    "y_pred = lm.predict(X_proc_esc_test)\n",
    "regression_results(y_test, y_pred)"
   ]
  },
  {
   "cell_type": "code",
   "execution_count": 521,
   "metadata": {},
   "outputs": [
    {
     "data": {
      "text/html": [
       "<div>\n",
       "<style scoped>\n",
       "    .dataframe tbody tr th:only-of-type {\n",
       "        vertical-align: middle;\n",
       "    }\n",
       "\n",
       "    .dataframe tbody tr th {\n",
       "        vertical-align: top;\n",
       "    }\n",
       "\n",
       "    .dataframe thead th {\n",
       "        text-align: right;\n",
       "    }\n",
       "</style>\n",
       "<table border=\"1\" class=\"dataframe\">\n",
       "  <thead>\n",
       "    <tr style=\"text-align: right;\">\n",
       "      <th></th>\n",
       "      <th>Var</th>\n",
       "      <th>Vif</th>\n",
       "    </tr>\n",
       "  </thead>\n",
       "  <tbody>\n",
       "    <tr>\n",
       "      <th>1</th>\n",
       "      <td>m2_total_clean_3</td>\n",
       "      <td>2.32</td>\n",
       "    </tr>\n",
       "    <tr>\n",
       "      <th>0</th>\n",
       "      <td>amb_clean_final</td>\n",
       "      <td>2.30</td>\n",
       "    </tr>\n",
       "    <tr>\n",
       "      <th>7</th>\n",
       "      <td>x2_bajo</td>\n",
       "      <td>1.28</td>\n",
       "    </tr>\n",
       "    <tr>\n",
       "      <th>8</th>\n",
       "      <td>x2_medio</td>\n",
       "      <td>1.28</td>\n",
       "    </tr>\n",
       "    <tr>\n",
       "      <th>5</th>\n",
       "      <td>x1_balcon</td>\n",
       "      <td>1.14</td>\n",
       "    </tr>\n",
       "    <tr>\n",
       "      <th>6</th>\n",
       "      <td>x1_patio</td>\n",
       "      <td>1.13</td>\n",
       "    </tr>\n",
       "    <tr>\n",
       "      <th>9</th>\n",
       "      <td>x2_medio_bajo</td>\n",
       "      <td>1.11</td>\n",
       "    </tr>\n",
       "    <tr>\n",
       "      <th>4</th>\n",
       "      <td>x0_si</td>\n",
       "      <td>1.10</td>\n",
       "    </tr>\n",
       "    <tr>\n",
       "      <th>2</th>\n",
       "      <td>amenities</td>\n",
       "      <td>1.09</td>\n",
       "    </tr>\n",
       "    <tr>\n",
       "      <th>3</th>\n",
       "      <td>apto_profesional</td>\n",
       "      <td>1.03</td>\n",
       "    </tr>\n",
       "  </tbody>\n",
       "</table>\n",
       "</div>"
      ],
      "text/plain": [
       "                Var   Vif\n",
       "1  m2_total_clean_3  2.32\n",
       "0   amb_clean_final  2.30\n",
       "7           x2_bajo  1.28\n",
       "8          x2_medio  1.28\n",
       "5         x1_balcon  1.14\n",
       "6          x1_patio  1.13\n",
       "9     x2_medio_bajo  1.11\n",
       "4             x0_si  1.10\n",
       "2         amenities  1.09\n",
       "3  apto_profesional  1.03"
      ]
     },
     "execution_count": 521,
     "metadata": {},
     "output_type": "execute_result"
    }
   ],
   "source": [
    "vif_cal(X_proc_esc_train,\"const\")"
   ]
  },
  {
   "cell_type": "markdown",
   "metadata": {},
   "source": [
    "* En el summary vemos que la variable `amb_clean_final` tiene relación negativa con el precio, lo cual no creemos lógico, por esto vamos a eliminar esta variable y volver a entrenar nuestro modelo"
   ]
  },
  {
   "cell_type": "code",
   "execution_count": 522,
   "metadata": {},
   "outputs": [],
   "source": [
    "X_proc_esc_train.drop(['amb_clean_final'], axis=1,inplace=True)\n",
    "X_proc_esc_test.drop(['amb_clean_final'], axis=1,inplace=True)"
   ]
  },
  {
   "cell_type": "code",
   "execution_count": 523,
   "metadata": {},
   "outputs": [],
   "source": [
    "lm = sm.OLS(y_train,X_proc_esc_train).fit()"
   ]
  },
  {
   "cell_type": "code",
   "execution_count": 524,
   "metadata": {},
   "outputs": [
    {
     "name": "stdout",
     "output_type": "stream",
     "text": [
      "                            OLS Regression Results                            \n",
      "==============================================================================\n",
      "Dep. Variable:                  price   R-squared:                       0.620\n",
      "Model:                            OLS   Adj. R-squared:                  0.620\n",
      "Method:                 Least Squares   F-statistic:                     3062.\n",
      "Date:                Thu, 14 Jan 2021   Prob (F-statistic):               0.00\n",
      "Time:                        15:02:27   Log-Likelihood:            -1.2752e+05\n",
      "No. Observations:               16914   AIC:                         2.551e+05\n",
      "Df Residuals:                   16904   BIC:                         2.551e+05\n",
      "Df Model:                           9                                         \n",
      "Covariance Type:            nonrobust                                         \n",
      "====================================================================================\n",
      "                       coef    std err          t      P>|t|      [0.025      0.975]\n",
      "------------------------------------------------------------------------------------\n",
      "const             2566.3396      3.500    733.341      0.000    2559.480    2573.199\n",
      "m2_total_clean_3    82.7006      3.631     22.778      0.000      75.584      89.817\n",
      "amenities           51.2587      3.636     14.099      0.000      44.132      58.385\n",
      "apto_profesional    -8.7398      3.538     -2.471      0.013     -15.674      -1.806\n",
      "x0_si               49.4663      3.674     13.463      0.000      42.264      56.668\n",
      "x1_balcon          -33.2291      3.733     -8.903      0.000     -40.545     -25.913\n",
      "x1_patio           -38.4490      3.716    -10.347      0.000     -45.733     -31.165\n",
      "x2_bajo           -537.7363      3.959   -135.843      0.000    -545.495    -529.977\n",
      "x2_medio          -417.8080      3.961   -105.486      0.000    -425.572    -410.044\n",
      "x2_medio_bajo     -248.7235      3.693    -67.358      0.000    -255.961    -241.486\n",
      "==============================================================================\n",
      "Omnibus:                    12507.496   Durbin-Watson:                   1.995\n",
      "Prob(Omnibus):                  0.000   Jarque-Bera (JB):           307412.227\n",
      "Skew:                           3.328   Prob(JB):                         0.00\n",
      "Kurtosis:                      22.796   Cond. No.                         1.80\n",
      "==============================================================================\n",
      "\n",
      "Warnings:\n",
      "[1] Standard Errors assume that the covariance matrix of the errors is correctly specified.\n"
     ]
    }
   ],
   "source": [
    "print(lm.summary())"
   ]
  },
  {
   "cell_type": "code",
   "execution_count": 525,
   "metadata": {},
   "outputs": [
    {
     "name": "stdout",
     "output_type": "stream",
     "text": [
      "explained_variance:  0.6287\n",
      "mean_squared_log_error:  0.017\n",
      "r2:  0.6273\n",
      "MAE:  255.5448\n",
      "MSE:  190321.8511\n",
      "RMSE:  436.2589\n"
     ]
    }
   ],
   "source": [
    "y_pred = lm.predict(X_proc_esc_test)\n",
    "regression_results(y_test, y_pred)"
   ]
  },
  {
   "cell_type": "code",
   "execution_count": 526,
   "metadata": {},
   "outputs": [
    {
     "data": {
      "text/html": [
       "<div>\n",
       "<style scoped>\n",
       "    .dataframe tbody tr th:only-of-type {\n",
       "        vertical-align: middle;\n",
       "    }\n",
       "\n",
       "    .dataframe tbody tr th {\n",
       "        vertical-align: top;\n",
       "    }\n",
       "\n",
       "    .dataframe thead th {\n",
       "        text-align: right;\n",
       "    }\n",
       "</style>\n",
       "<table border=\"1\" class=\"dataframe\">\n",
       "  <thead>\n",
       "    <tr style=\"text-align: right;\">\n",
       "      <th></th>\n",
       "      <th>Var</th>\n",
       "      <th>Vif</th>\n",
       "    </tr>\n",
       "  </thead>\n",
       "  <tbody>\n",
       "    <tr>\n",
       "      <th>6</th>\n",
       "      <td>x2_bajo</td>\n",
       "      <td>1.28</td>\n",
       "    </tr>\n",
       "    <tr>\n",
       "      <th>7</th>\n",
       "      <td>x2_medio</td>\n",
       "      <td>1.28</td>\n",
       "    </tr>\n",
       "    <tr>\n",
       "      <th>4</th>\n",
       "      <td>x1_balcon</td>\n",
       "      <td>1.14</td>\n",
       "    </tr>\n",
       "    <tr>\n",
       "      <th>5</th>\n",
       "      <td>x1_patio</td>\n",
       "      <td>1.13</td>\n",
       "    </tr>\n",
       "    <tr>\n",
       "      <th>8</th>\n",
       "      <td>x2_medio_bajo</td>\n",
       "      <td>1.11</td>\n",
       "    </tr>\n",
       "    <tr>\n",
       "      <th>3</th>\n",
       "      <td>x0_si</td>\n",
       "      <td>1.10</td>\n",
       "    </tr>\n",
       "    <tr>\n",
       "      <th>0</th>\n",
       "      <td>m2_total_clean_3</td>\n",
       "      <td>1.08</td>\n",
       "    </tr>\n",
       "    <tr>\n",
       "      <th>1</th>\n",
       "      <td>amenities</td>\n",
       "      <td>1.08</td>\n",
       "    </tr>\n",
       "    <tr>\n",
       "      <th>2</th>\n",
       "      <td>apto_profesional</td>\n",
       "      <td>1.02</td>\n",
       "    </tr>\n",
       "  </tbody>\n",
       "</table>\n",
       "</div>"
      ],
      "text/plain": [
       "                Var   Vif\n",
       "6           x2_bajo  1.28\n",
       "7          x2_medio  1.28\n",
       "4         x1_balcon  1.14\n",
       "5          x1_patio  1.13\n",
       "8     x2_medio_bajo  1.11\n",
       "3             x0_si  1.10\n",
       "0  m2_total_clean_3  1.08\n",
       "1         amenities  1.08\n",
       "2  apto_profesional  1.02"
      ]
     },
     "execution_count": 526,
     "metadata": {},
     "output_type": "execute_result"
    }
   ],
   "source": [
    "vif_cal(X_proc_esc_train,\"const\")"
   ]
  },
  {
   "cell_type": "markdown",
   "metadata": {},
   "source": [
    "* En el summary vemos que la variable `apto_profesional` tiene relación negativa con el precio, lo cual no creemos lógico, por esto vamos a eliminar esta variable y volver a entrenar nuestro modelo"
   ]
  },
  {
   "cell_type": "code",
   "execution_count": 527,
   "metadata": {},
   "outputs": [],
   "source": [
    "X_proc_esc_train.drop(['apto_profesional'], axis=1,inplace=True)\n",
    "X_proc_esc_test.drop(['apto_profesional'], axis=1,inplace=True)"
   ]
  },
  {
   "cell_type": "code",
   "execution_count": 528,
   "metadata": {},
   "outputs": [],
   "source": [
    "lm = sm.OLS(y_train,X_proc_esc_train).fit()"
   ]
  },
  {
   "cell_type": "code",
   "execution_count": 529,
   "metadata": {},
   "outputs": [
    {
     "name": "stdout",
     "output_type": "stream",
     "text": [
      "                            OLS Regression Results                            \n",
      "==============================================================================\n",
      "Dep. Variable:                  price   R-squared:                       0.620\n",
      "Model:                            OLS   Adj. R-squared:                  0.619\n",
      "Method:                 Least Squares   F-statistic:                     3443.\n",
      "Date:                Thu, 14 Jan 2021   Prob (F-statistic):               0.00\n",
      "Time:                        15:02:28   Log-Likelihood:            -1.2752e+05\n",
      "No. Observations:               16914   AIC:                         2.551e+05\n",
      "Df Residuals:                   16905   BIC:                         2.551e+05\n",
      "Df Model:                           8                                         \n",
      "Covariance Type:            nonrobust                                         \n",
      "====================================================================================\n",
      "                       coef    std err          t      P>|t|      [0.025      0.975]\n",
      "------------------------------------------------------------------------------------\n",
      "const             2566.3396      3.500    733.231      0.000    2559.479    2573.200\n",
      "m2_total_clean_3    83.7648      3.606     23.231      0.000      76.697      90.832\n",
      "amenities           50.6089      3.627     13.955      0.000      43.500      57.718\n",
      "x0_si               49.6865      3.674     13.525      0.000      42.486      56.887\n",
      "x1_balcon          -33.2723      3.733     -8.913      0.000     -40.589     -25.955\n",
      "x1_patio           -38.6806      3.715    -10.411      0.000     -45.963     -31.398\n",
      "x2_bajo           -538.0379      3.957   -135.963      0.000    -545.794    -530.281\n",
      "x2_medio          -417.7554      3.961   -105.459      0.000    -425.520    -409.991\n",
      "x2_medio_bajo     -248.8986      3.692    -67.408      0.000    -256.136    -241.661\n",
      "==============================================================================\n",
      "Omnibus:                    12517.396   Durbin-Watson:                   1.995\n",
      "Prob(Omnibus):                  0.000   Jarque-Bera (JB):           308289.481\n",
      "Skew:                           3.331   Prob(JB):                         0.00\n",
      "Kurtosis:                      22.826   Cond. No.                         1.80\n",
      "==============================================================================\n",
      "\n",
      "Warnings:\n",
      "[1] Standard Errors assume that the covariance matrix of the errors is correctly specified.\n"
     ]
    }
   ],
   "source": [
    "print(lm.summary())"
   ]
  },
  {
   "cell_type": "code",
   "execution_count": 530,
   "metadata": {},
   "outputs": [
    {
     "name": "stdout",
     "output_type": "stream",
     "text": [
      "explained_variance:  0.6286\n",
      "mean_squared_log_error:  0.017\n",
      "r2:  0.6271\n",
      "MAE:  255.4576\n",
      "MSE:  190386.2139\n",
      "RMSE:  436.3327\n"
     ]
    }
   ],
   "source": [
    "y_pred = lm.predict(X_proc_esc_test)\n",
    "regression_results(y_test, y_pred)"
   ]
  },
  {
   "cell_type": "code",
   "execution_count": 531,
   "metadata": {},
   "outputs": [
    {
     "data": {
      "text/html": [
       "<div>\n",
       "<style scoped>\n",
       "    .dataframe tbody tr th:only-of-type {\n",
       "        vertical-align: middle;\n",
       "    }\n",
       "\n",
       "    .dataframe tbody tr th {\n",
       "        vertical-align: top;\n",
       "    }\n",
       "\n",
       "    .dataframe thead th {\n",
       "        text-align: right;\n",
       "    }\n",
       "</style>\n",
       "<table border=\"1\" class=\"dataframe\">\n",
       "  <thead>\n",
       "    <tr style=\"text-align: right;\">\n",
       "      <th></th>\n",
       "      <th>Var</th>\n",
       "      <th>Vif</th>\n",
       "    </tr>\n",
       "  </thead>\n",
       "  <tbody>\n",
       "    <tr>\n",
       "      <th>5</th>\n",
       "      <td>x2_bajo</td>\n",
       "      <td>1.28</td>\n",
       "    </tr>\n",
       "    <tr>\n",
       "      <th>6</th>\n",
       "      <td>x2_medio</td>\n",
       "      <td>1.28</td>\n",
       "    </tr>\n",
       "    <tr>\n",
       "      <th>3</th>\n",
       "      <td>x1_balcon</td>\n",
       "      <td>1.14</td>\n",
       "    </tr>\n",
       "    <tr>\n",
       "      <th>4</th>\n",
       "      <td>x1_patio</td>\n",
       "      <td>1.13</td>\n",
       "    </tr>\n",
       "    <tr>\n",
       "      <th>7</th>\n",
       "      <td>x2_medio_bajo</td>\n",
       "      <td>1.11</td>\n",
       "    </tr>\n",
       "    <tr>\n",
       "      <th>2</th>\n",
       "      <td>x0_si</td>\n",
       "      <td>1.10</td>\n",
       "    </tr>\n",
       "    <tr>\n",
       "      <th>1</th>\n",
       "      <td>amenities</td>\n",
       "      <td>1.07</td>\n",
       "    </tr>\n",
       "    <tr>\n",
       "      <th>0</th>\n",
       "      <td>m2_total_clean_3</td>\n",
       "      <td>1.06</td>\n",
       "    </tr>\n",
       "  </tbody>\n",
       "</table>\n",
       "</div>"
      ],
      "text/plain": [
       "                Var   Vif\n",
       "5           x2_bajo  1.28\n",
       "6          x2_medio  1.28\n",
       "3         x1_balcon  1.14\n",
       "4          x1_patio  1.13\n",
       "7     x2_medio_bajo  1.11\n",
       "2             x0_si  1.10\n",
       "1         amenities  1.07\n",
       "0  m2_total_clean_3  1.06"
      ]
     },
     "execution_count": 531,
     "metadata": {},
     "output_type": "execute_result"
    }
   ],
   "source": [
    "vif_cal(X_proc_esc_train,\"const\")"
   ]
  },
  {
   "cell_type": "code",
   "execution_count": 532,
   "metadata": {},
   "outputs": [
    {
     "data": {
      "text/plain": [
       "(7249,)"
      ]
     },
     "execution_count": 532,
     "metadata": {},
     "output_type": "execute_result"
    }
   ],
   "source": [
    "y_pred = lm.predict(X_proc_esc_test)\n",
    "y_pred.shape"
   ]
  },
  {
   "cell_type": "code",
   "execution_count": 533,
   "metadata": {},
   "outputs": [
    {
     "data": {
      "text/plain": [
       "Text(0, 0.5, 'precio por metro 2')"
      ]
     },
     "execution_count": 533,
     "metadata": {},
     "output_type": "execute_result"
    },
    {
     "data": {
      "image/png": "[encoded data removed]",
      "text/plain": [
       "<Figure size 432x288 with 1 Axes>"
      ]
     },
     "metadata": {
      "needs_background": "light"
     },
     "output_type": "display_data"
    }
   ],
   "source": [
    "# Actual and Predicted\n",
    "c = [i for i in range(1,7250,1)] # generamos el indíce \n",
    "fig = plt.figure() \n",
    "plt.plot(c,y_test, color=\"blue\", linewidth=2.5, linestyle=\"-\") #Plotting Actual\n",
    "plt.plot(c,y_pred, color=\"red\",  linewidth=2.5, linestyle=\"-\") #Plotting predicted\n",
    "fig.suptitle('Actual and Predicted', fontsize=20)              # Plot heading \n",
    "plt.xlabel('Index', fontsize=18)                               # X-label\n",
    "plt.ylabel('precio por metro 2', fontsize=16)                       # Y-label"
   ]
  },
  {
   "cell_type": "code",
   "execution_count": 534,
   "metadata": {},
   "outputs": [
    {
     "data": {
      "text/plain": [
       "Text(0, 0.5, 'ytest-ypred')"
      ]
     },
     "execution_count": 534,
     "metadata": {},
     "output_type": "execute_result"
    },
    {
     "data": {
      "image/png": "[encoded data removed]",
      "text/plain": [
       "<Figure size 432x288 with 1 Axes>"
      ]
     },
     "metadata": {
      "needs_background": "light"
     },
     "output_type": "display_data"
    }
   ],
   "source": [
    "# Error terms\n",
    "c = [i for i in range(1,7250,1)]\n",
    "fig = plt.figure()\n",
    "plt.plot(c,y_test-y_pred, color=\"blue\", linewidth=2.5, linestyle=\"-\")\n",
    "fig.suptitle('Error Terms', fontsize=20)              # Plot heading \n",
    "plt.xlabel('Index', fontsize=18)                      # X-label\n",
    "plt.ylabel('ytest-ypred', fontsize=16)                # Y-label"
   ]
  },
  {
   "cell_type": "code",
   "execution_count": 535,
   "metadata": {},
   "outputs": [
    {
     "data": {
      "text/plain": [
       "Text(0, 0.5, 'y_pred')"
      ]
     },
     "execution_count": 535,
     "metadata": {},
     "output_type": "execute_result"
    },
    {
     "data": {
      "image/png": "[encoded data removed]",
      "text/plain": [
       "<Figure size 432x288 with 1 Axes>"
      ]
     },
     "metadata": {
      "needs_background": "light"
     },
     "output_type": "display_data"
    }
   ],
   "source": [
    "# Plotting y_test and y_pred to understand the spread.\n",
    "fig = plt.figure()\n",
    "plt.scatter(y_test,y_pred)\n",
    "fig.suptitle('y_test vs y_pred', fontsize=20)              # Plot heading \n",
    "plt.xlabel('y_test', fontsize=18)                          # X-label\n",
    "plt.ylabel('y_pred', fontsize=16)                          # Y-label"
   ]
  },
  {
   "cell_type": "code",
   "execution_count": 536,
   "metadata": {},
   "outputs": [
    {
     "data": {
      "text/plain": [
       "Text(0, 0.5, 'Index')"
      ]
     },
     "execution_count": 536,
     "metadata": {},
     "output_type": "execute_result"
    },
    {
     "data": {
      "image/png": "[encoded data removed]",
      "text/plain": [
       "<Figure size 432x288 with 1 Axes>"
      ]
     },
     "metadata": {
      "needs_background": "light"
     },
     "output_type": "display_data"
    }
   ],
   "source": [
    "# Plotting the error terms to understand the distribution.\n",
    "fig = plt.figure()\n",
    "sns.distplot((y_test-y_pred),bins=50)\n",
    "fig.suptitle('Error Terms', fontsize=20)                  # Plot heading \n",
    "plt.xlabel('y_test-y_pred', fontsize=18)                  # X-label\n",
    "plt.ylabel('Index', fontsize=16)                          # Y-label"
   ]
  },
  {
   "cell_type": "markdown",
   "metadata": {},
   "source": [
    "### Aplicamos el modelo de Sklearn con Ridge y Lasso"
   ]
  },
  {
   "cell_type": "code",
   "execution_count": 537,
   "metadata": {},
   "outputs": [
    {
     "data": {
      "text/html": [
       "<div>\n",
       "<style scoped>\n",
       "    .dataframe tbody tr th:only-of-type {\n",
       "        vertical-align: middle;\n",
       "    }\n",
       "\n",
       "    .dataframe tbody tr th {\n",
       "        vertical-align: top;\n",
       "    }\n",
       "\n",
       "    .dataframe thead th {\n",
       "        text-align: right;\n",
       "    }\n",
       "</style>\n",
       "<table border=\"1\" class=\"dataframe\">\n",
       "  <thead>\n",
       "    <tr style=\"text-align: right;\">\n",
       "      <th></th>\n",
       "      <th>m2_total_clean_3</th>\n",
       "      <th>amenities</th>\n",
       "      <th>x0_si</th>\n",
       "      <th>x1_balcon</th>\n",
       "      <th>x1_patio</th>\n",
       "      <th>x2_bajo</th>\n",
       "      <th>x2_medio</th>\n",
       "      <th>x2_medio_bajo</th>\n",
       "    </tr>\n",
       "  </thead>\n",
       "  <tbody>\n",
       "    <tr>\n",
       "      <th>0</th>\n",
       "      <td>34.000000</td>\n",
       "      <td>6.0</td>\n",
       "      <td>0.0</td>\n",
       "      <td>1.0</td>\n",
       "      <td>0.0</td>\n",
       "      <td>0.0</td>\n",
       "      <td>0.0</td>\n",
       "      <td>0.0</td>\n",
       "    </tr>\n",
       "    <tr>\n",
       "      <th>1</th>\n",
       "      <td>65.000000</td>\n",
       "      <td>0.0</td>\n",
       "      <td>0.0</td>\n",
       "      <td>0.0</td>\n",
       "      <td>0.0</td>\n",
       "      <td>1.0</td>\n",
       "      <td>0.0</td>\n",
       "      <td>0.0</td>\n",
       "    </tr>\n",
       "    <tr>\n",
       "      <th>2</th>\n",
       "      <td>46.000000</td>\n",
       "      <td>0.0</td>\n",
       "      <td>1.0</td>\n",
       "      <td>1.0</td>\n",
       "      <td>0.0</td>\n",
       "      <td>0.0</td>\n",
       "      <td>0.0</td>\n",
       "      <td>0.0</td>\n",
       "    </tr>\n",
       "    <tr>\n",
       "      <th>3</th>\n",
       "      <td>45.000000</td>\n",
       "      <td>2.0</td>\n",
       "      <td>0.0</td>\n",
       "      <td>1.0</td>\n",
       "      <td>0.0</td>\n",
       "      <td>0.0</td>\n",
       "      <td>0.0</td>\n",
       "      <td>0.0</td>\n",
       "    </tr>\n",
       "    <tr>\n",
       "      <th>4</th>\n",
       "      <td>40.000000</td>\n",
       "      <td>0.0</td>\n",
       "      <td>0.0</td>\n",
       "      <td>0.0</td>\n",
       "      <td>1.0</td>\n",
       "      <td>0.0</td>\n",
       "      <td>1.0</td>\n",
       "      <td>0.0</td>\n",
       "    </tr>\n",
       "    <tr>\n",
       "      <th>...</th>\n",
       "      <td>...</td>\n",
       "      <td>...</td>\n",
       "      <td>...</td>\n",
       "      <td>...</td>\n",
       "      <td>...</td>\n",
       "      <td>...</td>\n",
       "      <td>...</td>\n",
       "      <td>...</td>\n",
       "    </tr>\n",
       "    <tr>\n",
       "      <th>7244</th>\n",
       "      <td>67.571429</td>\n",
       "      <td>5.0</td>\n",
       "      <td>1.0</td>\n",
       "      <td>1.0</td>\n",
       "      <td>0.0</td>\n",
       "      <td>0.0</td>\n",
       "      <td>1.0</td>\n",
       "      <td>0.0</td>\n",
       "    </tr>\n",
       "    <tr>\n",
       "      <th>7245</th>\n",
       "      <td>70.000000</td>\n",
       "      <td>2.0</td>\n",
       "      <td>1.0</td>\n",
       "      <td>1.0</td>\n",
       "      <td>0.0</td>\n",
       "      <td>0.0</td>\n",
       "      <td>1.0</td>\n",
       "      <td>0.0</td>\n",
       "    </tr>\n",
       "    <tr>\n",
       "      <th>7246</th>\n",
       "      <td>67.571429</td>\n",
       "      <td>0.0</td>\n",
       "      <td>0.0</td>\n",
       "      <td>0.0</td>\n",
       "      <td>0.0</td>\n",
       "      <td>0.0</td>\n",
       "      <td>1.0</td>\n",
       "      <td>0.0</td>\n",
       "    </tr>\n",
       "    <tr>\n",
       "      <th>7247</th>\n",
       "      <td>20.000000</td>\n",
       "      <td>0.0</td>\n",
       "      <td>0.0</td>\n",
       "      <td>0.0</td>\n",
       "      <td>0.0</td>\n",
       "      <td>0.0</td>\n",
       "      <td>0.0</td>\n",
       "      <td>0.0</td>\n",
       "    </tr>\n",
       "    <tr>\n",
       "      <th>7248</th>\n",
       "      <td>49.000000</td>\n",
       "      <td>3.0</td>\n",
       "      <td>0.0</td>\n",
       "      <td>1.0</td>\n",
       "      <td>0.0</td>\n",
       "      <td>0.0</td>\n",
       "      <td>1.0</td>\n",
       "      <td>0.0</td>\n",
       "    </tr>\n",
       "  </tbody>\n",
       "</table>\n",
       "<p>7249 rows × 8 columns</p>\n",
       "</div>"
      ],
      "text/plain": [
       "      m2_total_clean_3  amenities  x0_si  x1_balcon  x1_patio  x2_bajo  \\\n",
       "0            34.000000        6.0    0.0        1.0       0.0      0.0   \n",
       "1            65.000000        0.0    0.0        0.0       0.0      1.0   \n",
       "2            46.000000        0.0    1.0        1.0       0.0      0.0   \n",
       "3            45.000000        2.0    0.0        1.0       0.0      0.0   \n",
       "4            40.000000        0.0    0.0        0.0       1.0      0.0   \n",
       "...                ...        ...    ...        ...       ...      ...   \n",
       "7244         67.571429        5.0    1.0        1.0       0.0      0.0   \n",
       "7245         70.000000        2.0    1.0        1.0       0.0      0.0   \n",
       "7246         67.571429        0.0    0.0        0.0       0.0      0.0   \n",
       "7247         20.000000        0.0    0.0        0.0       0.0      0.0   \n",
       "7248         49.000000        3.0    0.0        1.0       0.0      0.0   \n",
       "\n",
       "      x2_medio  x2_medio_bajo  \n",
       "0          0.0            0.0  \n",
       "1          0.0            0.0  \n",
       "2          0.0            0.0  \n",
       "3          0.0            0.0  \n",
       "4          1.0            0.0  \n",
       "...        ...            ...  \n",
       "7244       1.0            0.0  \n",
       "7245       1.0            0.0  \n",
       "7246       1.0            0.0  \n",
       "7247       0.0            0.0  \n",
       "7248       1.0            0.0  \n",
       "\n",
       "[7249 rows x 8 columns]"
      ]
     },
     "execution_count": 537,
     "metadata": {},
     "output_type": "execute_result"
    }
   ],
   "source": [
    "X_proc_test.drop(['x1_terraza','apto_profesional','expenses_ok','amb_clean_final'], axis=1,inplace=True)\n",
    "X_proc_test"
   ]
  },
  {
   "cell_type": "code",
   "execution_count": 538,
   "metadata": {},
   "outputs": [
    {
     "data": {
      "text/html": [
       "<div>\n",
       "<style scoped>\n",
       "    .dataframe tbody tr th:only-of-type {\n",
       "        vertical-align: middle;\n",
       "    }\n",
       "\n",
       "    .dataframe tbody tr th {\n",
       "        vertical-align: top;\n",
       "    }\n",
       "\n",
       "    .dataframe thead th {\n",
       "        text-align: right;\n",
       "    }\n",
       "</style>\n",
       "<table border=\"1\" class=\"dataframe\">\n",
       "  <thead>\n",
       "    <tr style=\"text-align: right;\">\n",
       "      <th></th>\n",
       "      <th>m2_total_clean_3</th>\n",
       "      <th>amenities</th>\n",
       "      <th>x0_si</th>\n",
       "      <th>x1_balcon</th>\n",
       "      <th>x1_patio</th>\n",
       "      <th>x2_bajo</th>\n",
       "      <th>x2_medio</th>\n",
       "      <th>x2_medio_bajo</th>\n",
       "    </tr>\n",
       "  </thead>\n",
       "  <tbody>\n",
       "    <tr>\n",
       "      <th>0</th>\n",
       "      <td>64.000000</td>\n",
       "      <td>4.0</td>\n",
       "      <td>0.0</td>\n",
       "      <td>1.0</td>\n",
       "      <td>0.0</td>\n",
       "      <td>0.0</td>\n",
       "      <td>0.0</td>\n",
       "      <td>0.0</td>\n",
       "    </tr>\n",
       "    <tr>\n",
       "      <th>1</th>\n",
       "      <td>90.000000</td>\n",
       "      <td>6.0</td>\n",
       "      <td>0.0</td>\n",
       "      <td>1.0</td>\n",
       "      <td>0.0</td>\n",
       "      <td>0.0</td>\n",
       "      <td>0.0</td>\n",
       "      <td>0.0</td>\n",
       "    </tr>\n",
       "    <tr>\n",
       "      <th>2</th>\n",
       "      <td>65.000000</td>\n",
       "      <td>0.0</td>\n",
       "      <td>1.0</td>\n",
       "      <td>1.0</td>\n",
       "      <td>0.0</td>\n",
       "      <td>0.0</td>\n",
       "      <td>0.0</td>\n",
       "      <td>0.0</td>\n",
       "    </tr>\n",
       "    <tr>\n",
       "      <th>3</th>\n",
       "      <td>67.571429</td>\n",
       "      <td>0.0</td>\n",
       "      <td>0.0</td>\n",
       "      <td>1.0</td>\n",
       "      <td>0.0</td>\n",
       "      <td>0.0</td>\n",
       "      <td>1.0</td>\n",
       "      <td>0.0</td>\n",
       "    </tr>\n",
       "    <tr>\n",
       "      <th>4</th>\n",
       "      <td>92.000000</td>\n",
       "      <td>5.0</td>\n",
       "      <td>1.0</td>\n",
       "      <td>1.0</td>\n",
       "      <td>0.0</td>\n",
       "      <td>0.0</td>\n",
       "      <td>0.0</td>\n",
       "      <td>0.0</td>\n",
       "    </tr>\n",
       "    <tr>\n",
       "      <th>...</th>\n",
       "      <td>...</td>\n",
       "      <td>...</td>\n",
       "      <td>...</td>\n",
       "      <td>...</td>\n",
       "      <td>...</td>\n",
       "      <td>...</td>\n",
       "      <td>...</td>\n",
       "      <td>...</td>\n",
       "    </tr>\n",
       "    <tr>\n",
       "      <th>16909</th>\n",
       "      <td>40.000000</td>\n",
       "      <td>0.0</td>\n",
       "      <td>0.0</td>\n",
       "      <td>1.0</td>\n",
       "      <td>0.0</td>\n",
       "      <td>0.0</td>\n",
       "      <td>0.0</td>\n",
       "      <td>1.0</td>\n",
       "    </tr>\n",
       "    <tr>\n",
       "      <th>16910</th>\n",
       "      <td>32.000000</td>\n",
       "      <td>0.0</td>\n",
       "      <td>0.0</td>\n",
       "      <td>0.0</td>\n",
       "      <td>0.0</td>\n",
       "      <td>0.0</td>\n",
       "      <td>0.0</td>\n",
       "      <td>1.0</td>\n",
       "    </tr>\n",
       "    <tr>\n",
       "      <th>16911</th>\n",
       "      <td>82.000000</td>\n",
       "      <td>1.0</td>\n",
       "      <td>0.0</td>\n",
       "      <td>0.0</td>\n",
       "      <td>1.0</td>\n",
       "      <td>0.0</td>\n",
       "      <td>0.0</td>\n",
       "      <td>0.0</td>\n",
       "    </tr>\n",
       "    <tr>\n",
       "      <th>16912</th>\n",
       "      <td>42.000000</td>\n",
       "      <td>5.0</td>\n",
       "      <td>0.0</td>\n",
       "      <td>1.0</td>\n",
       "      <td>0.0</td>\n",
       "      <td>0.0</td>\n",
       "      <td>0.0</td>\n",
       "      <td>0.0</td>\n",
       "    </tr>\n",
       "    <tr>\n",
       "      <th>16913</th>\n",
       "      <td>83.000000</td>\n",
       "      <td>1.0</td>\n",
       "      <td>1.0</td>\n",
       "      <td>1.0</td>\n",
       "      <td>0.0</td>\n",
       "      <td>0.0</td>\n",
       "      <td>0.0</td>\n",
       "      <td>0.0</td>\n",
       "    </tr>\n",
       "  </tbody>\n",
       "</table>\n",
       "<p>16914 rows × 8 columns</p>\n",
       "</div>"
      ],
      "text/plain": [
       "       m2_total_clean_3  amenities  x0_si  x1_balcon  x1_patio  x2_bajo  \\\n",
       "0             64.000000        4.0    0.0        1.0       0.0      0.0   \n",
       "1             90.000000        6.0    0.0        1.0       0.0      0.0   \n",
       "2             65.000000        0.0    1.0        1.0       0.0      0.0   \n",
       "3             67.571429        0.0    0.0        1.0       0.0      0.0   \n",
       "4             92.000000        5.0    1.0        1.0       0.0      0.0   \n",
       "...                 ...        ...    ...        ...       ...      ...   \n",
       "16909         40.000000        0.0    0.0        1.0       0.0      0.0   \n",
       "16910         32.000000        0.0    0.0        0.0       0.0      0.0   \n",
       "16911         82.000000        1.0    0.0        0.0       1.0      0.0   \n",
       "16912         42.000000        5.0    0.0        1.0       0.0      0.0   \n",
       "16913         83.000000        1.0    1.0        1.0       0.0      0.0   \n",
       "\n",
       "       x2_medio  x2_medio_bajo  \n",
       "0           0.0            0.0  \n",
       "1           0.0            0.0  \n",
       "2           0.0            0.0  \n",
       "3           1.0            0.0  \n",
       "4           0.0            0.0  \n",
       "...         ...            ...  \n",
       "16909       0.0            1.0  \n",
       "16910       0.0            1.0  \n",
       "16911       0.0            0.0  \n",
       "16912       0.0            0.0  \n",
       "16913       0.0            0.0  \n",
       "\n",
       "[16914 rows x 8 columns]"
      ]
     },
     "execution_count": 538,
     "metadata": {},
     "output_type": "execute_result"
    }
   ],
   "source": [
    "X_proc_train.drop(['x1_terraza','apto_profesional','expenses_ok','amb_clean_final'], axis=1,inplace=True)\n",
    "X_proc_train"
   ]
  },
  {
   "cell_type": "code",
   "execution_count": 1,
   "metadata": {},
   "outputs": [
    {
     "ename": "NameError",
     "evalue": "name 'linear_model' is not defined",
     "output_type": "error",
     "traceback": [
      "\u001b[1;31m---------------------------------------------------------------------------\u001b[0m",
      "\u001b[1;31mNameError\u001b[0m                                 Traceback (most recent call last)",
      "\u001b[1;32m<ipython-input-1-6277b3f525ac>\u001b[0m in \u001b[0;36m<module>\u001b[1;34m\u001b[0m\n\u001b[0;32m      1\u001b[0m \u001b[1;31m# X_train, X_test, y_train, y_test = train_test_split(X, y, test_size=0.3, random_state=10)\u001b[0m\u001b[1;33m\u001b[0m\u001b[1;33m\u001b[0m\u001b[1;33m\u001b[0m\u001b[0m\n\u001b[0;32m      2\u001b[0m \u001b[1;33m\u001b[0m\u001b[0m\n\u001b[1;32m----> 3\u001b[1;33m \u001b[0mlm\u001b[0m \u001b[1;33m=\u001b[0m \u001b[0mlinear_model\u001b[0m\u001b[1;33m.\u001b[0m\u001b[0mLinearRegression\u001b[0m\u001b[1;33m(\u001b[0m\u001b[0mnormalize\u001b[0m\u001b[1;33m=\u001b[0m\u001b[1;32mTrue\u001b[0m\u001b[1;33m)\u001b[0m\u001b[1;33m\u001b[0m\u001b[1;33m\u001b[0m\u001b[0m\n\u001b[0m\u001b[0;32m      4\u001b[0m \u001b[1;33m\u001b[0m\u001b[0m\n\u001b[0;32m      5\u001b[0m \u001b[0mmodel_1_2\u001b[0m \u001b[1;33m=\u001b[0m \u001b[0mlm\u001b[0m\u001b[1;33m.\u001b[0m\u001b[0mfit\u001b[0m\u001b[1;33m(\u001b[0m\u001b[0mX_proc_train\u001b[0m\u001b[1;33m,\u001b[0m \u001b[0my_train\u001b[0m\u001b[1;33m)\u001b[0m\u001b[1;33m\u001b[0m\u001b[1;33m\u001b[0m\u001b[0m\n",
      "\u001b[1;31mNameError\u001b[0m: name 'linear_model' is not defined"
     ]
    }
   ],
   "source": [
    "# X_train, X_test, y_train, y_test = train_test_split(X, y, test_size=0.3, random_state=10)\n",
    "\n",
    "lm = linear_model.LinearRegression(normalize=True)\n",
    "\n",
    "model_1_2 = lm.fit(X_proc_train, y_train)\n",
    "\n",
    "print('Score model_1:', model_1_2.score(X_proc_test, y_test))"
   ]
  },
  {
   "cell_type": "code",
   "execution_count": 540,
   "metadata": {},
   "outputs": [
    {
     "name": "stdout",
     "output_type": "stream",
     "text": [
      "explained_variance:  0.6286\n",
      "mean_squared_log_error:  0.0168\n",
      "r2:  0.6286\n",
      "MAE:  253.3462\n",
      "MSE:  189657.1074\n",
      "RMSE:  435.4964\n"
     ]
    }
   ],
   "source": [
    "y_pred = lm.predict(X_proc_test)\n",
    "regression_results(y_test, y_pred)"
   ]
  },
  {
   "cell_type": "code",
   "execution_count": 541,
   "metadata": {},
   "outputs": [
    {
     "name": "stdout",
     "output_type": "stream",
     "text": [
      "                  Coefficients\n",
      "m2_total_clean_3      1.281755\n",
      "amenities            29.977154\n",
      "x0_si               122.780900\n",
      "x1_balcon           -66.561445\n",
      "x1_patio           -139.480589\n",
      "x2_bajo           -1398.046100\n",
      "x2_medio           -869.210046\n",
      "x2_medio_bajo     -1032.415070\n"
     ]
    }
   ],
   "source": [
    "cdf = pd.DataFrame(lm.coef_, X_proc_train.columns, columns=['Coefficients'])\n",
    "print(cdf)"
   ]
  },
  {
   "cell_type": "code",
   "execution_count": null,
   "metadata": {},
   "outputs": [],
   "source": [
    "y_pred = lm.predict(X_proc_test)\n",
    "y_pred.shape"
   ]
  },
  {
   "cell_type": "code",
   "execution_count": 551,
   "metadata": {},
   "outputs": [
    {
     "name": "stdout",
     "output_type": "stream",
     "text": [
      "Score model_4: 0.6170369297815443\n"
     ]
    }
   ],
   "source": [
    "# Ahora entrenamos el modelo con todas las variables con Ridge:\n",
    "\n",
    "lm_ridge = linear_model.RidgeCV(alphas=np.linspace(0.1,100,100),\\\n",
    "                                        normalize=True, cv=5) \n",
    "# Definimos el rango de de búsqueda del hiperparametro explicitamente\n",
    "\n",
    "model_1_3 = lm_ridge.fit(X_proc_train, y_train)\n",
    "\n",
    "print('Score model_4:', model_1_3.score(X_proc_test, y_test))\n",
    "\n",
    "# ¿Mejoraron los resultados?"
   ]
  },
  {
   "cell_type": "code",
   "execution_count": 552,
   "metadata": {},
   "outputs": [
    {
     "name": "stdout",
     "output_type": "stream",
     "text": [
      "explained_variance:  0.6172\n",
      "mean_squared_log_error:  0.0173\n",
      "r2:  0.617\n",
      "MAE:  252.1619\n",
      "MSE:  195546.0682\n",
      "RMSE:  442.2059\n"
     ]
    }
   ],
   "source": [
    "y_pred = lm_ridge.predict(X_proc_test)\n",
    "regression_results(y_test, y_pred)"
   ]
  },
  {
   "cell_type": "code",
   "execution_count": 553,
   "metadata": {},
   "outputs": [
    {
     "name": "stdout",
     "output_type": "stream",
     "text": [
      "                  Coefficients\n",
      "m2_total_clean_3      1.242037\n",
      "amenities            35.316404\n",
      "x0_si               141.396026\n",
      "x1_balcon           -54.150606\n",
      "x1_patio           -151.647565\n",
      "x2_bajo           -1190.767766\n",
      "x2_medio           -719.220228\n",
      "x2_medio_bajo      -846.052564\n"
     ]
    }
   ],
   "source": [
    "cdf = pd.DataFrame(lm_ridge.coef_, X_proc_train.columns, columns=['Coefficients'])\n",
    "print(cdf)"
   ]
  },
  {
   "cell_type": "code",
   "execution_count": 549,
   "metadata": {},
   "outputs": [
    {
     "name": "stdout",
     "output_type": "stream",
     "text": [
      "Score model_5: 0.627408621054519\n"
     ]
    }
   ],
   "source": [
    "# Ahora entrenamos el modelo con todas las variables con Lasso:\n",
    "\n",
    "lm_lasso = linear_model.LassoCV(alphas=np.linspace(0.1,100,100),\n",
    "#                                 [0.00001, 0.00005, 0.0001, 0.0005, 0.001, 0.005, 0.01,\\\n",
    "#                                         0.05, 0.1, 1, 5, 10, 15, 25],\\\n",
    "                                        normalize=True, cv=5)\n",
    "\n",
    "model_1_4 = lm_lasso.fit(X_proc_train, y_train)\n",
    "\n",
    "print('Score model_5:', model_1_4.score(X_proc_test, y_test))"
   ]
  },
  {
   "cell_type": "code",
   "execution_count": 545,
   "metadata": {},
   "outputs": [
    {
     "name": "stdout",
     "output_type": "stream",
     "text": [
      "explained_variance:  0.6275\n",
      "mean_squared_log_error:  0.0164\n",
      "r2:  0.6274\n",
      "MAE:  246.3125\n",
      "MSE:  190250.1438\n",
      "RMSE:  436.1767\n"
     ]
    }
   ],
   "source": [
    "y_pred = lm_lasso.predict(X_proc_test)\n",
    "regression_results(y_test, y_pred)"
   ]
  },
  {
   "cell_type": "code",
   "execution_count": 550,
   "metadata": {},
   "outputs": [
    {
     "name": "stdout",
     "output_type": "stream",
     "text": [
      "                  Coefficients\n",
      "m2_total_clean_3      1.126192\n",
      "amenities            24.895734\n",
      "x0_si               100.068744\n",
      "x1_balcon           -21.121609\n",
      "x1_patio            -74.754190\n",
      "x2_bajo           -1343.581389\n",
      "x2_medio           -823.382381\n",
      "x2_medio_bajo      -957.146000\n"
     ]
    }
   ],
   "source": [
    "cdf = pd.DataFrame(lm_lasso.coef_, X_proc_train.columns, columns=['Coefficients'])\n",
    "print(cdf)"
   ]
  },
  {
   "cell_type": "code",
   "execution_count": null,
   "metadata": {},
   "outputs": [],
   "source": []
  },
  {
   "cell_type": "markdown",
   "metadata": {},
   "source": [
    "## Modelo final "
   ]
  },
  {
   "cell_type": "markdown",
   "metadata": {},
   "source": [
    "El modelo final deberia ser el de LinearRegression tiene mas R2 y menos RMSE"
   ]
  },
  {
   "cell_type": "code",
   "execution_count": 546,
   "metadata": {},
   "outputs": [
    {
     "name": "stdout",
     "output_type": "stream",
     "text": [
      "explained_variance:  0.6286\n",
      "mean_squared_log_error:  0.0168\n",
      "r2:  0.6286\n",
      "MAE:  253.3462\n",
      "MSE:  189657.1074\n",
      "RMSE:  435.4964\n"
     ]
    }
   ],
   "source": [
    "lm = linear_model.LinearRegression(normalize=True)\n",
    "model_final = lm.fit(X_proc_train, y_train)\n",
    "y_pred = lm.predict(X_proc_test)\n",
    "regression_results(y_test, y_pred)\n"
   ]
  },
  {
   "cell_type": "code",
   "execution_count": 547,
   "metadata": {},
   "outputs": [
    {
     "name": "stdout",
     "output_type": "stream",
     "text": [
      "                  Coefficients\n",
      "m2_total_clean_3      1.281755\n",
      "amenities            29.977154\n",
      "x0_si               122.780900\n",
      "x1_balcon           -66.561445\n",
      "x1_patio           -139.480589\n",
      "x2_bajo           -1398.046100\n",
      "x2_medio           -869.210046\n",
      "x2_medio_bajo     -1032.415070\n"
     ]
    }
   ],
   "source": [
    "coeficientes = pd.DataFrame(lm.coef_, X_proc_train.columns, columns=['Coefficients'])\n",
    "print(cdf)"
   ]
  }
 ],
 "metadata": {
  "kernelspec": {
   "display_name": "Python 3",
   "language": "python",
   "name": "python3"
  },
  "language_info": {
   "codemirror_mode": {
    "name": "ipython",
    "version": 3
   },
   "file_extension": ".py",
   "mimetype": "text/x-python",
   "name": "python",
   "nbconvert_exporter": "python",
   "pygments_lexer": "ipython3",
   "version": "3.7.9"
  }
 },
 "nbformat": 4,
 "nbformat_minor": 4
}
